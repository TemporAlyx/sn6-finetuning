{
 "cells": [
  {
   "cell_type": "code",
   "execution_count": 1,
   "metadata": {},
   "outputs": [],
   "source": [
    "import json\n",
    "import time\n",
    "import os\n",
    "import numpy as np\n",
    "\n",
    "from cortexsubsetloader import CortexSubsetLoader"
   ]
  },
  {
   "cell_type": "code",
   "execution_count": 2,
   "metadata": {},
   "outputs": [
    {
     "name": "stdout",
     "output_type": "stream",
     "text": [
      "found 8 datasets, comprised of 0 samples\n",
      "most recent dataset is 686\n"
     ]
    }
   ],
   "source": [
    "past_datasets = []\n",
    "data_loc = 'data'\n",
    "datasets = os.listdir(data_loc)\n",
    "most_recent = 0\n",
    "for f in datasets:\n",
    "    if 'cortex_' in f and '.json' in f:\n",
    "        version = int(f.split('cortex_')[-1].split('_')[0].replace('e', ''))\n",
    "        if version > most_recent:\n",
    "            most_recent = version\n",
    "        past_datasets.append(f'{data_loc}/{f}')\n",
    "\n",
    "def load_old_data(past_datasets):\n",
    "    global most_recent, agg_old_data\n",
    "    agg_old_data = []\n",
    "    for dataset in past_datasets:\n",
    "        with open(dataset, 'r') as f:\n",
    "            agg_old_data = agg_old_data + json.load(f)\n",
    "    return agg_old_data\n",
    "\n",
    "agg_old_data = [] # load_old_data(past_datasets)\n",
    "saveable_dataset = []\n",
    "version_num = most_recent + 1\n",
    "\n",
    "def save_dataset(version, data, reload_agg=True):\n",
    "    global past_datasets, agg_old_data\n",
    "    save_len = (len(data))\n",
    "    with open(f'data/cortex_{version}_{save_len}.json', 'w') as f:\n",
    "        json.dump(data[-save_len:], f)\n",
    "    past_datasets.append(f'data/cortex_{version}_{save_len}.json')\n",
    "    if reload_agg: agg_old_data = load_old_data(past_datasets)\n",
    "    print(f'Saved {save_len} samples to data/cortex_{version}_{save_len}.json')\n",
    "\n",
    "\n",
    "print(f\"found {len(past_datasets)} datasets, comprised of {len(agg_old_data)} samples\")\n",
    "print(f\"most recent dataset is {most_recent}\")"
   ]
  },
  {
   "cell_type": "code",
   "execution_count": 3,
   "metadata": {},
   "outputs": [],
   "source": [
    "def make_new_eval_set(size=512):\n",
    "    global version_num\n",
    "    eval_set = []\n",
    "    cortex_subset_loader = CortexSubsetLoader(latest=True, random_seed = None, max_samples=2560, steps=1, progress=True, running=True,\n",
    "                    retry_limit=5, page_size=400, retry_delay=5)\n",
    "    for prompt, response in cortex_subset_loader.buffer:\n",
    "            new = {\"instruction\": prompt, \"response\": response}\n",
    "            if new not in saveable_dataset and new not in agg_old_data and new not in eval_set:\n",
    "                eval_set.append(new)\n",
    "    eval_set = np.array(eval_set)[np.random.permutation(len(eval_set))].tolist()\n",
    "\n",
    "    if len(eval_set) > size:\n",
    "         save_dataset('e'+str(version_num), eval_set[:size])\n",
    "         version_num += 1\n",
    "    else:\n",
    "        print(f\"only found {len(eval_set)} new samples, not saving\")\n",
    "\n",
    "\n",
    "def create_new_datasets(num_new=1, size=2048*4, sleep_minutes=4, max_samples_per_step=1024, ignore_old=False, steps=1):\n",
    "    global version_num, saveable_dataset\n",
    "    datasets_so_far = 0\n",
    "    while datasets_so_far < num_new:\n",
    "        cortex_subset_loader = CortexSubsetLoader(latest=True, random_seed = None, max_samples=max_samples_per_step, steps=steps, \n",
    "                                        progress=True, running=True, retry_limit=5, page_size=400, retry_delay=5)\n",
    "        print(\"samples collected:\",len(cortex_subset_loader.buffer))\n",
    "        current_size = len(saveable_dataset)\n",
    "        for prompt, response in cortex_subset_loader.buffer:\n",
    "            new = {\"instruction\": prompt, \"response\": response}\n",
    "            if new not in saveable_dataset:\n",
    "                if ignore_old or new not in agg_old_data:\n",
    "                    saveable_dataset.append(new)\n",
    "        samples_added = len(saveable_dataset) - current_size\n",
    "        print(\"samples collected:\",len(cortex_subset_loader.buffer), \"\\tdeduped samples added:\", samples_added)\n",
    "        saveable_dataset = np.array(saveable_dataset)\n",
    "        sp = np.random.permutation(len(saveable_dataset))\n",
    "        saveable_dataset = saveable_dataset[sp].tolist()\n",
    "        print(len(saveable_dataset))\n",
    "\n",
    "        if len(saveable_dataset) >= size:\n",
    "            save_dataset(version_num, saveable_dataset[:size], reload_agg=not ignore_old)\n",
    "            version_num += 1\n",
    "            saveable_dataset = saveable_dataset[size:]\n",
    "            datasets_so_far += 1\n",
    "\n",
    "        if datasets_so_far < num_new:\n",
    "            time.sleep(sleep_minutes * 60)"
   ]
  },
  {
   "cell_type": "code",
   "execution_count": 4,
   "metadata": {},
   "outputs": [
    {
     "name": "stderr",
     "output_type": "stream",
     "text": [
      "                                                   \r"
     ]
    },
    {
     "data": {
      "text/plain": [
       "<cortexsubsetloader.CortexSubsetLoader at 0x73493feab9a0>"
      ]
     },
     "execution_count": 4,
     "metadata": {},
     "output_type": "execute_result"
    }
   ],
   "source": [
    "data = []\n",
    "CortexSubsetLoader(latest=True, random_seed = None, max_samples=512, steps=1, \n",
    "                                        progress=True, running=True, retry_limit=5, page_size=400, retry_delay=5, ignore_list=data)"
   ]
  },
  {
   "cell_type": "code",
   "execution_count": 6,
   "metadata": {},
   "outputs": [
    {
     "name": "stderr",
     "output_type": "stream",
     "text": [
      "                                                    \r"
     ]
    },
    {
     "name": "stdout",
     "output_type": "stream",
     "text": [
      "Did not collect 2560, only got 2318\n",
      "Saved 512 samples to data/cortex_e687_512.json\n"
     ]
    }
   ],
   "source": [
    "make_new_eval_set(size=512)"
   ]
  },
  {
   "cell_type": "code",
   "execution_count": 22,
   "metadata": {},
   "outputs": [
    {
     "name": "stderr",
     "output_type": "stream",
     "text": [
      "                                                    \r"
     ]
    },
    {
     "name": "stdout",
     "output_type": "stream",
     "text": [
      "Did not collect 4096, only got 2036\n",
      "samples collected: 2036\n",
      "samples collected: 2036 \tdeduped samples added: 2036\n",
      "2036\n"
     ]
    },
    {
     "ename": "KeyboardInterrupt",
     "evalue": "",
     "output_type": "error",
     "traceback": [
      "\u001b[0;31m---------------------------------------------------------------------------\u001b[0m",
      "\u001b[0;31mKeyboardInterrupt\u001b[0m                         Traceback (most recent call last)",
      "Cell \u001b[0;32mIn[22], line 1\u001b[0m\n\u001b[0;32m----> 1\u001b[0m \u001b[43mcreate_new_datasets\u001b[49m\u001b[43m(\u001b[49m\u001b[43mnum_new\u001b[49m\u001b[38;5;241;43m=\u001b[39;49m\u001b[38;5;241;43m48\u001b[39;49m\u001b[43m,\u001b[49m\u001b[43m \u001b[49m\u001b[43msize\u001b[49m\u001b[38;5;241;43m=\u001b[39;49m\u001b[38;5;241;43m8192\u001b[39;49m\u001b[38;5;241;43m+\u001b[39;49m\u001b[38;5;241;43m512\u001b[39;49m\u001b[43m,\u001b[49m\u001b[43m \u001b[49m\u001b[43mmax_samples_per_step\u001b[49m\u001b[38;5;241;43m=\u001b[39;49m\u001b[38;5;241;43m4096\u001b[39;49m\u001b[43m,\u001b[49m\u001b[43m \u001b[49m\u001b[43mignore_old\u001b[49m\u001b[38;5;241;43m=\u001b[39;49m\u001b[38;5;28;43;01mTrue\u001b[39;49;00m\u001b[43m,\u001b[49m\u001b[43m \u001b[49m\u001b[43msleep_minutes\u001b[49m\u001b[38;5;241;43m=\u001b[39;49m\u001b[38;5;241;43m5\u001b[39;49m\u001b[43m,\u001b[49m\u001b[43m \u001b[49m\u001b[43msteps\u001b[49m\u001b[38;5;241;43m=\u001b[39;49m\u001b[38;5;241;43m1\u001b[39;49m\u001b[43m)\u001b[49m\n",
      "Cell \u001b[0;32mIn[3], line 46\u001b[0m, in \u001b[0;36mcreate_new_datasets\u001b[0;34m(num_new, size, sleep_minutes, max_samples_per_step, ignore_old, steps)\u001b[0m\n\u001b[1;32m     43\u001b[0m     datasets_so_far \u001b[38;5;241m+\u001b[39m\u001b[38;5;241m=\u001b[39m \u001b[38;5;241m1\u001b[39m\n\u001b[1;32m     45\u001b[0m \u001b[38;5;28;01mif\u001b[39;00m datasets_so_far \u001b[38;5;241m<\u001b[39m num_new:\n\u001b[0;32m---> 46\u001b[0m     \u001b[43mtime\u001b[49m\u001b[38;5;241;43m.\u001b[39;49m\u001b[43msleep\u001b[49m\u001b[43m(\u001b[49m\u001b[43msleep_minutes\u001b[49m\u001b[43m \u001b[49m\u001b[38;5;241;43m*\u001b[39;49m\u001b[43m \u001b[49m\u001b[38;5;241;43m60\u001b[39;49m\u001b[43m)\u001b[49m\n",
      "\u001b[0;31mKeyboardInterrupt\u001b[0m: "
     ]
    }
   ],
   "source": [
    "create_new_datasets(num_new=48, size=8192+512, max_samples_per_step=4096, ignore_old=True, sleep_minutes=5, steps=1)"
   ]
  },
  {
   "cell_type": "code",
   "execution_count": 7,
   "metadata": {},
   "outputs": [
    {
     "name": "stderr",
     "output_type": "stream",
     "text": [
      "                                                    \r"
     ]
    },
    {
     "name": "stdout",
     "output_type": "stream",
     "text": [
      "Did not collect 3072, only got 2376\n",
      "samples collected: 2376\n",
      "samples collected: 2376 \tdeduped samples added: 160\n",
      "2591\n"
     ]
    },
    {
     "name": "stderr",
     "output_type": "stream",
     "text": [
      "                                                    \r"
     ]
    },
    {
     "name": "stdout",
     "output_type": "stream",
     "text": [
      "Did not collect 3072, only got 2205\n",
      "samples collected: 2205\n",
      "samples collected: 2205 \tdeduped samples added: 425\n",
      "3016\n"
     ]
    },
    {
     "name": "stderr",
     "output_type": "stream",
     "text": [
      "                                                    \r"
     ]
    },
    {
     "name": "stdout",
     "output_type": "stream",
     "text": [
      "Did not collect 3072, only got 2213\n",
      "samples collected: 2213\n",
      "samples collected: 2213 \tdeduped samples added: 219\n",
      "3235\n"
     ]
    },
    {
     "name": "stderr",
     "output_type": "stream",
     "text": [
      "                                                    \r"
     ]
    },
    {
     "name": "stdout",
     "output_type": "stream",
     "text": [
      "Did not collect 3072, only got 2170\n",
      "samples collected: 2170\n",
      "samples collected: 2170 \tdeduped samples added: 176\n",
      "3411\n"
     ]
    },
    {
     "name": "stderr",
     "output_type": "stream",
     "text": [
      "                                                    \r"
     ]
    },
    {
     "name": "stdout",
     "output_type": "stream",
     "text": [
      "Did not collect 3072, only got 2189\n",
      "samples collected: 2189\n",
      "samples collected: 2189 \tdeduped samples added: 195\n",
      "3606\n"
     ]
    },
    {
     "name": "stderr",
     "output_type": "stream",
     "text": [
      "                                                    \r"
     ]
    },
    {
     "name": "stdout",
     "output_type": "stream",
     "text": [
      "Did not collect 3072, only got 1994\n",
      "samples collected: 1994\n",
      "samples collected: 1994 \tdeduped samples added: 0\n",
      "3606\n"
     ]
    },
    {
     "name": "stderr",
     "output_type": "stream",
     "text": [
      "                                                    \r"
     ]
    },
    {
     "name": "stdout",
     "output_type": "stream",
     "text": [
      "Did not collect 3072, only got 1979\n",
      "samples collected: 1979\n",
      "samples collected: 1979 \tdeduped samples added: 218\n",
      "3824\n"
     ]
    },
    {
     "name": "stderr",
     "output_type": "stream",
     "text": [
      "                                                    \r"
     ]
    },
    {
     "name": "stdout",
     "output_type": "stream",
     "text": [
      "Did not collect 3072, only got 2188\n",
      "samples collected: 2188\n",
      "samples collected: 2188 \tdeduped samples added: 424\n",
      "4248\n"
     ]
    },
    {
     "name": "stderr",
     "output_type": "stream",
     "text": [
      "                                                    \r"
     ]
    },
    {
     "name": "stdout",
     "output_type": "stream",
     "text": [
      "Did not collect 3072, only got 2166\n",
      "samples collected: 2166\n",
      "samples collected: 2166 \tdeduped samples added: 619\n",
      "4867\n"
     ]
    },
    {
     "name": "stderr",
     "output_type": "stream",
     "text": [
      "                                                    \r"
     ]
    },
    {
     "name": "stdout",
     "output_type": "stream",
     "text": [
      "Did not collect 3072, only got 2218\n",
      "samples collected: 2218\n",
      "samples collected: 2218 \tdeduped samples added: 671\n",
      "5538\n"
     ]
    },
    {
     "name": "stderr",
     "output_type": "stream",
     "text": [
      "                                                    \r"
     ]
    },
    {
     "name": "stdout",
     "output_type": "stream",
     "text": [
      "Did not collect 3072, only got 2003\n",
      "samples collected: 2003\n",
      "samples collected: 2003 \tdeduped samples added: 455\n",
      "5993\n"
     ]
    },
    {
     "name": "stderr",
     "output_type": "stream",
     "text": [
      "                                                    \r"
     ]
    },
    {
     "name": "stdout",
     "output_type": "stream",
     "text": [
      "Did not collect 3072, only got 2458\n",
      "samples collected: 2458\n",
      "samples collected: 2458 \tdeduped samples added: 686\n",
      "6679\n"
     ]
    },
    {
     "name": "stderr",
     "output_type": "stream",
     "text": [
      "                                                    \r"
     ]
    },
    {
     "name": "stdout",
     "output_type": "stream",
     "text": [
      "Did not collect 3072, only got 2015\n",
      "samples collected: 2015\n",
      "samples collected: 2015 \tdeduped samples added: 232\n",
      "6911\n"
     ]
    },
    {
     "name": "stderr",
     "output_type": "stream",
     "text": [
      "                                                    \r"
     ]
    },
    {
     "name": "stdout",
     "output_type": "stream",
     "text": [
      "Did not collect 3072, only got 2232\n",
      "samples collected: 2232\n",
      "samples collected: 2232 \tdeduped samples added: 446\n",
      "7357\n"
     ]
    },
    {
     "name": "stderr",
     "output_type": "stream",
     "text": [
      "                                                    \r"
     ]
    },
    {
     "name": "stdout",
     "output_type": "stream",
     "text": [
      "Did not collect 3072, only got 2237\n",
      "samples collected: 2237\n",
      "samples collected: 2237 \tdeduped samples added: 664\n",
      "8021\n"
     ]
    },
    {
     "name": "stderr",
     "output_type": "stream",
     "text": [
      "                                                    \r"
     ]
    },
    {
     "name": "stdout",
     "output_type": "stream",
     "text": [
      "Did not collect 3072, only got 2241\n",
      "samples collected: 2241\n",
      "samples collected: 2241 \tdeduped samples added: 666\n",
      "8687\n",
      "Saved 8656 samples to data/cortex_587_8656.json\n"
     ]
    },
    {
     "name": "stderr",
     "output_type": "stream",
     "text": [
      "                                                    \r"
     ]
    },
    {
     "name": "stdout",
     "output_type": "stream",
     "text": [
      "Did not collect 3072, only got 2216\n",
      "samples collected: 2216\n",
      "samples collected: 2216 \tdeduped samples added: 2212\n",
      "2243\n"
     ]
    },
    {
     "name": "stderr",
     "output_type": "stream",
     "text": [
      "                                                    \r"
     ]
    },
    {
     "name": "stdout",
     "output_type": "stream",
     "text": [
      "Did not collect 3072, only got 2013\n",
      "samples collected: 2013\n",
      "samples collected: 2013 \tdeduped samples added: 222\n",
      "2465\n"
     ]
    },
    {
     "name": "stderr",
     "output_type": "stream",
     "text": [
      "                                                    \r"
     ]
    },
    {
     "name": "stdout",
     "output_type": "stream",
     "text": [
      "Did not collect 3072, only got 2013\n",
      "samples collected: 2013\n",
      "samples collected: 2013 \tdeduped samples added: 0\n",
      "2465\n"
     ]
    },
    {
     "name": "stderr",
     "output_type": "stream",
     "text": [
      "                                                    \r"
     ]
    },
    {
     "name": "stdout",
     "output_type": "stream",
     "text": [
      "Did not collect 3072, only got 2211\n",
      "samples collected: 2211\n",
      "samples collected: 2211 \tdeduped samples added: 198\n",
      "2663\n"
     ]
    },
    {
     "name": "stderr",
     "output_type": "stream",
     "text": [
      "                                                    \r"
     ]
    },
    {
     "name": "stdout",
     "output_type": "stream",
     "text": [
      "Did not collect 3072, only got 2211\n",
      "samples collected: 2211\n",
      "samples collected: 2211 \tdeduped samples added: 195\n",
      "2858\n"
     ]
    },
    {
     "name": "stderr",
     "output_type": "stream",
     "text": [
      "                                                    \r"
     ]
    },
    {
     "name": "stdout",
     "output_type": "stream",
     "text": [
      "Did not collect 3072, only got 2013\n",
      "samples collected: 2013\n",
      "samples collected: 2013 \tdeduped samples added: 0\n",
      "2858\n"
     ]
    },
    {
     "name": "stderr",
     "output_type": "stream",
     "text": [
      "                                                    \r"
     ]
    },
    {
     "name": "stdout",
     "output_type": "stream",
     "text": [
      "Did not collect 3072, only got 2447\n",
      "samples collected: 2447\n",
      "samples collected: 2447 \tdeduped samples added: 434\n",
      "3292\n"
     ]
    },
    {
     "name": "stderr",
     "output_type": "stream",
     "text": [
      "                                                    \r"
     ]
    },
    {
     "name": "stdout",
     "output_type": "stream",
     "text": [
      "Did not collect 3072, only got 1973\n",
      "samples collected: 1973\n",
      "samples collected: 1973 \tdeduped samples added: 183\n",
      "3475\n"
     ]
    },
    {
     "name": "stderr",
     "output_type": "stream",
     "text": [
      "                                                    \r"
     ]
    },
    {
     "name": "stdout",
     "output_type": "stream",
     "text": [
      "Did not collect 3072, only got 2189\n",
      "samples collected: 2189\n",
      "samples collected: 2189 \tdeduped samples added: 399\n",
      "3874\n"
     ]
    },
    {
     "name": "stderr",
     "output_type": "stream",
     "text": [
      "                                                    \r"
     ]
    },
    {
     "name": "stdout",
     "output_type": "stream",
     "text": [
      "Did not collect 3072, only got 2165\n",
      "samples collected: 2165\n",
      "samples collected: 2165 \tdeduped samples added: 372\n",
      "4246\n"
     ]
    },
    {
     "name": "stderr",
     "output_type": "stream",
     "text": [
      "                                                    \r"
     ]
    },
    {
     "name": "stdout",
     "output_type": "stream",
     "text": [
      "Did not collect 3072, only got 2219\n",
      "samples collected: 2219\n",
      "samples collected: 2219 \tdeduped samples added: 427\n",
      "4673\n"
     ]
    },
    {
     "name": "stderr",
     "output_type": "stream",
     "text": [
      "                                                    \r"
     ]
    },
    {
     "name": "stdout",
     "output_type": "stream",
     "text": [
      "Did not collect 3072, only got 2387\n",
      "samples collected: 2387\n",
      "samples collected: 2387 \tdeduped samples added: 596\n",
      "5269\n"
     ]
    },
    {
     "name": "stderr",
     "output_type": "stream",
     "text": [
      "                                                    \r"
     ]
    },
    {
     "name": "stdout",
     "output_type": "stream",
     "text": [
      "Did not collect 3072, only got 2609\n",
      "samples collected: 2609\n",
      "samples collected: 2609 \tdeduped samples added: 609\n",
      "5878\n"
     ]
    },
    {
     "name": "stderr",
     "output_type": "stream",
     "text": [
      "                                                    \r"
     ]
    },
    {
     "name": "stdout",
     "output_type": "stream",
     "text": [
      "Did not collect 3072, only got 2199\n",
      "samples collected: 2199\n",
      "samples collected: 2199 \tdeduped samples added: 417\n",
      "6295\n"
     ]
    },
    {
     "name": "stderr",
     "output_type": "stream",
     "text": [
      "                                                    \r"
     ]
    },
    {
     "name": "stdout",
     "output_type": "stream",
     "text": [
      "Did not collect 3072, only got 2396\n",
      "samples collected: 2396\n",
      "samples collected: 2396 \tdeduped samples added: 612\n",
      "6907\n"
     ]
    },
    {
     "name": "stderr",
     "output_type": "stream",
     "text": [
      "                                                    \r"
     ]
    },
    {
     "name": "stdout",
     "output_type": "stream",
     "text": [
      "Did not collect 3072, only got 2407\n",
      "samples collected: 2407\n",
      "samples collected: 2407 \tdeduped samples added: 624\n",
      "7531\n"
     ]
    },
    {
     "name": "stderr",
     "output_type": "stream",
     "text": [
      "                                                    \r"
     ]
    },
    {
     "name": "stdout",
     "output_type": "stream",
     "text": [
      "Did not collect 3072, only got 2411\n",
      "samples collected: 2411\n",
      "samples collected: 2411 \tdeduped samples added: 606\n",
      "8137\n"
     ]
    },
    {
     "name": "stderr",
     "output_type": "stream",
     "text": [
      "                                                    \r"
     ]
    },
    {
     "name": "stdout",
     "output_type": "stream",
     "text": [
      "Did not collect 3072, only got 2570\n",
      "samples collected: 2570\n",
      "samples collected: 2570 \tdeduped samples added: 590\n",
      "8727\n",
      "Saved 8656 samples to data/cortex_588_8656.json\n"
     ]
    },
    {
     "name": "stderr",
     "output_type": "stream",
     "text": [
      "                                                    \r"
     ]
    },
    {
     "name": "stdout",
     "output_type": "stream",
     "text": [
      "Did not collect 3072, only got 2412\n",
      "samples collected: 2412\n",
      "samples collected: 2412 \tdeduped samples added: 2406\n",
      "2477\n"
     ]
    },
    {
     "name": "stderr",
     "output_type": "stream",
     "text": [
      "                                                    \r"
     ]
    },
    {
     "name": "stdout",
     "output_type": "stream",
     "text": [
      "Did not collect 3072, only got 2406\n",
      "samples collected: 2406\n",
      "samples collected: 2406 \tdeduped samples added: 203\n",
      "2680\n"
     ]
    },
    {
     "name": "stderr",
     "output_type": "stream",
     "text": [
      "                                                    \r"
     ]
    },
    {
     "name": "stdout",
     "output_type": "stream",
     "text": [
      "Did not collect 3072, only got 2414\n",
      "samples collected: 2414\n",
      "samples collected: 2414 \tdeduped samples added: 211\n",
      "2891\n"
     ]
    },
    {
     "name": "stderr",
     "output_type": "stream",
     "text": [
      "                                                    \r"
     ]
    },
    {
     "name": "stdout",
     "output_type": "stream",
     "text": [
      "Did not collect 3072, only got 2403\n",
      "samples collected: 2403\n",
      "samples collected: 2403 \tdeduped samples added: 197\n",
      "3088\n"
     ]
    },
    {
     "name": "stderr",
     "output_type": "stream",
     "text": [
      "                                                    \r"
     ]
    },
    {
     "name": "stdout",
     "output_type": "stream",
     "text": [
      "Did not collect 3072, only got 2421\n",
      "samples collected: 2421\n",
      "samples collected: 2421 \tdeduped samples added: 216\n",
      "3304\n"
     ]
    },
    {
     "name": "stderr",
     "output_type": "stream",
     "text": [
      "                                                    \r"
     ]
    },
    {
     "name": "stdout",
     "output_type": "stream",
     "text": [
      "Did not collect 3072, only got 2819\n",
      "samples collected: 2819\n",
      "samples collected: 2819 \tdeduped samples added: 616\n",
      "3920\n"
     ]
    },
    {
     "name": "stderr",
     "output_type": "stream",
     "text": [
      "                                                    \r"
     ]
    },
    {
     "name": "stdout",
     "output_type": "stream",
     "text": [
      "Did not collect 3072, only got 1999\n",
      "samples collected: 1999\n",
      "samples collected: 1999 \tdeduped samples added: 214\n",
      "4134\n"
     ]
    },
    {
     "name": "stderr",
     "output_type": "stream",
     "text": [
      "                                                    \r"
     ]
    },
    {
     "name": "stdout",
     "output_type": "stream",
     "text": [
      "Did not collect 3072, only got 2444\n",
      "samples collected: 2444\n",
      "samples collected: 2444 \tdeduped samples added: 659\n",
      "4793\n"
     ]
    },
    {
     "name": "stderr",
     "output_type": "stream",
     "text": [
      "                                                    \r"
     ]
    },
    {
     "name": "stdout",
     "output_type": "stream",
     "text": [
      "Did not collect 3072, only got 2209\n",
      "samples collected: 2209\n",
      "samples collected: 2209 \tdeduped samples added: 422\n",
      "5215\n"
     ]
    },
    {
     "name": "stderr",
     "output_type": "stream",
     "text": [
      "                                                    \r"
     ]
    },
    {
     "name": "stdout",
     "output_type": "stream",
     "text": [
      "Did not collect 3072, only got 2402\n",
      "samples collected: 2402\n",
      "samples collected: 2402 \tdeduped samples added: 616\n",
      "5831\n"
     ]
    },
    {
     "name": "stderr",
     "output_type": "stream",
     "text": [
      "                                                    \r"
     ]
    },
    {
     "name": "stdout",
     "output_type": "stream",
     "text": [
      "Did not collect 3072, only got 2833\n",
      "samples collected: 2833\n",
      "samples collected: 2833 \tdeduped samples added: 849\n",
      "6680\n"
     ]
    },
    {
     "name": "stderr",
     "output_type": "stream",
     "text": [
      "                                                    \r"
     ]
    },
    {
     "name": "stdout",
     "output_type": "stream",
     "text": [
      "Did not collect 3072, only got 2599\n",
      "samples collected: 2599\n",
      "samples collected: 2599 \tdeduped samples added: 619\n",
      "7299\n"
     ]
    },
    {
     "name": "stderr",
     "output_type": "stream",
     "text": [
      "                                                    \r"
     ]
    },
    {
     "name": "stdout",
     "output_type": "stream",
     "text": [
      "Did not collect 3072, only got 2416\n",
      "samples collected: 2416\n",
      "samples collected: 2416 \tdeduped samples added: 665\n",
      "7964\n"
     ]
    },
    {
     "name": "stderr",
     "output_type": "stream",
     "text": [
      "                                                    \r"
     ]
    },
    {
     "name": "stdout",
     "output_type": "stream",
     "text": [
      "Failed to fetch data, retrying. Attempt 1/5\n"
     ]
    },
    {
     "name": "stderr",
     "output_type": "stream",
     "text": [
      "                                                    \r"
     ]
    },
    {
     "name": "stdout",
     "output_type": "stream",
     "text": [
      "Did not collect 3072, only got 2175\n",
      "samples collected: 2175\n",
      "samples collected: 2175 \tdeduped samples added: 424\n",
      "8388\n"
     ]
    },
    {
     "name": "stderr",
     "output_type": "stream",
     "text": [
      "                                                    \r"
     ]
    },
    {
     "name": "stdout",
     "output_type": "stream",
     "text": [
      "Did not collect 3072, only got 2388\n",
      "samples collected: 2388\n",
      "samples collected: 2388 \tdeduped samples added: 647\n",
      "9035\n",
      "Saved 8656 samples to data/cortex_589_8656.json\n"
     ]
    },
    {
     "name": "stderr",
     "output_type": "stream",
     "text": [
      "                                                    \r"
     ]
    },
    {
     "name": "stdout",
     "output_type": "stream",
     "text": [
      "Did not collect 3072, only got 2402\n",
      "samples collected: 2402\n",
      "samples collected: 2402 \tdeduped samples added: 2350\n",
      "2729\n"
     ]
    },
    {
     "name": "stderr",
     "output_type": "stream",
     "text": [
      "                                                    \r"
     ]
    },
    {
     "name": "stdout",
     "output_type": "stream",
     "text": [
      "Did not collect 3072, only got 2170\n",
      "samples collected: 2170\n",
      "samples collected: 2170 \tdeduped samples added: 804\n",
      "3533\n"
     ]
    },
    {
     "name": "stderr",
     "output_type": "stream",
     "text": [
      "                                                    \r"
     ]
    },
    {
     "name": "stdout",
     "output_type": "stream",
     "text": [
      "Did not collect 3072, only got 2331\n",
      "samples collected: 2331\n",
      "samples collected: 2331 \tdeduped samples added: 988\n",
      "4521\n"
     ]
    },
    {
     "name": "stderr",
     "output_type": "stream",
     "text": [
      "                                                    \r"
     ]
    },
    {
     "name": "stdout",
     "output_type": "stream",
     "text": [
      "Did not collect 3072, only got 1954\n",
      "samples collected: 1954\n",
      "samples collected: 1954 \tdeduped samples added: 610\n",
      "5131\n"
     ]
    },
    {
     "name": "stderr",
     "output_type": "stream",
     "text": [
      "                                                    \r"
     ]
    },
    {
     "name": "stdout",
     "output_type": "stream",
     "text": [
      "Did not collect 3072, only got 2372\n",
      "samples collected: 2372\n",
      "samples collected: 2372 \tdeduped samples added: 1016\n",
      "6147\n"
     ]
    },
    {
     "name": "stderr",
     "output_type": "stream",
     "text": [
      "                                                    \r"
     ]
    },
    {
     "name": "stdout",
     "output_type": "stream",
     "text": [
      "Did not collect 3072, only got 2564\n",
      "samples collected: 2564\n",
      "samples collected: 2564 \tdeduped samples added: 1006\n",
      "7153\n"
     ]
    },
    {
     "name": "stderr",
     "output_type": "stream",
     "text": [
      "                                                    \r"
     ]
    },
    {
     "name": "stdout",
     "output_type": "stream",
     "text": [
      "Did not collect 3072, only got 2611\n",
      "samples collected: 2611\n",
      "samples collected: 2611 \tdeduped samples added: 859\n",
      "8012\n"
     ]
    },
    {
     "name": "stderr",
     "output_type": "stream",
     "text": [
      "                                                    \r"
     ]
    },
    {
     "name": "stdout",
     "output_type": "stream",
     "text": [
      "Did not collect 3072, only got 2389\n",
      "samples collected: 2389\n",
      "samples collected: 2389 \tdeduped samples added: 612\n",
      "8624\n"
     ]
    },
    {
     "name": "stderr",
     "output_type": "stream",
     "text": [
      "                                                    \r"
     ]
    },
    {
     "name": "stdout",
     "output_type": "stream",
     "text": [
      "Did not collect 3072, only got 2191\n",
      "samples collected: 2191\n",
      "samples collected: 2191 \tdeduped samples added: 657\n",
      "9281\n",
      "Saved 8656 samples to data/cortex_590_8656.json\n"
     ]
    },
    {
     "name": "stderr",
     "output_type": "stream",
     "text": [
      "                                                    \r"
     ]
    },
    {
     "name": "stdout",
     "output_type": "stream",
     "text": [
      "Did not collect 3072, only got 2190\n",
      "samples collected: 2190\n",
      "samples collected: 2190 \tdeduped samples added: 2086\n",
      "2711\n"
     ]
    },
    {
     "name": "stderr",
     "output_type": "stream",
     "text": [
      "                                                    \r"
     ]
    },
    {
     "name": "stdout",
     "output_type": "stream",
     "text": [
      "Did not collect 3072, only got 2402\n",
      "samples collected: 2402\n",
      "samples collected: 2402 \tdeduped samples added: 866\n",
      "3577\n"
     ]
    },
    {
     "name": "stderr",
     "output_type": "stream",
     "text": [
      "                                                    \r"
     ]
    },
    {
     "name": "stdout",
     "output_type": "stream",
     "text": [
      "Did not collect 3072, only got 2167\n",
      "samples collected: 2167\n",
      "samples collected: 2167 \tdeduped samples added: 633\n",
      "4210\n"
     ]
    },
    {
     "name": "stderr",
     "output_type": "stream",
     "text": [
      "                                                    \r"
     ]
    },
    {
     "name": "stdout",
     "output_type": "stream",
     "text": [
      "Did not collect 3072, only got 1962\n",
      "samples collected: 1962\n",
      "samples collected: 1962 \tdeduped samples added: 428\n",
      "4638\n"
     ]
    },
    {
     "name": "stderr",
     "output_type": "stream",
     "text": [
      "                                                    \r"
     ]
    },
    {
     "name": "stdout",
     "output_type": "stream",
     "text": [
      "Did not collect 3072, only got 1950\n",
      "samples collected: 1950\n",
      "samples collected: 1950 \tdeduped samples added: 413\n",
      "5051\n"
     ]
    },
    {
     "name": "stderr",
     "output_type": "stream",
     "text": [
      "                                                    \r"
     ]
    },
    {
     "name": "stdout",
     "output_type": "stream",
     "text": [
      "Did not collect 3072, only got 1534\n",
      "samples collected: 1534\n",
      "samples collected: 1534 \tdeduped samples added: 0\n",
      "5051\n"
     ]
    },
    {
     "name": "stderr",
     "output_type": "stream",
     "text": [
      "                                                    \r"
     ]
    },
    {
     "name": "stdout",
     "output_type": "stream",
     "text": [
      "Did not collect 3072, only got 1756\n",
      "samples collected: 1756\n",
      "samples collected: 1756 \tdeduped samples added: 222\n",
      "5273\n"
     ]
    },
    {
     "name": "stderr",
     "output_type": "stream",
     "text": [
      "                                                    \r"
     ]
    },
    {
     "name": "stdout",
     "output_type": "stream",
     "text": [
      "Did not collect 3072, only got 1925\n",
      "samples collected: 1925\n",
      "samples collected: 1925 \tdeduped samples added: 387\n",
      "5660\n"
     ]
    },
    {
     "name": "stderr",
     "output_type": "stream",
     "text": [
      "                                                    \r"
     ]
    },
    {
     "name": "stdout",
     "output_type": "stream",
     "text": [
      "Did not collect 3072, only got 1746\n",
      "samples collected: 1746\n",
      "samples collected: 1746 \tdeduped samples added: 212\n",
      "5872\n"
     ]
    },
    {
     "name": "stderr",
     "output_type": "stream",
     "text": [
      "                                                    \r"
     ]
    },
    {
     "name": "stdout",
     "output_type": "stream",
     "text": [
      "Did not collect 3072, only got 1956\n",
      "samples collected: 1956\n",
      "samples collected: 1956 \tdeduped samples added: 422\n",
      "6294\n"
     ]
    },
    {
     "name": "stderr",
     "output_type": "stream",
     "text": [
      "                                                    \r"
     ]
    },
    {
     "name": "stdout",
     "output_type": "stream",
     "text": [
      "Did not collect 3072, only got 1958\n",
      "samples collected: 1958\n",
      "samples collected: 1958 \tdeduped samples added: 422\n",
      "6716\n"
     ]
    },
    {
     "name": "stderr",
     "output_type": "stream",
     "text": [
      "                                                    \r"
     ]
    },
    {
     "name": "stdout",
     "output_type": "stream",
     "text": [
      "Did not collect 3072, only got 2159\n",
      "samples collected: 2159\n",
      "samples collected: 2159 \tdeduped samples added: 622\n",
      "7338\n"
     ]
    },
    {
     "name": "stderr",
     "output_type": "stream",
     "text": [
      "                                                    \r"
     ]
    },
    {
     "name": "stdout",
     "output_type": "stream",
     "text": [
      "Did not collect 3072, only got 1973\n",
      "samples collected: 1973\n",
      "samples collected: 1973 \tdeduped samples added: 221\n",
      "7559\n"
     ]
    },
    {
     "name": "stderr",
     "output_type": "stream",
     "text": [
      "                                                    \r"
     ]
    },
    {
     "name": "stdout",
     "output_type": "stream",
     "text": [
      "Did not collect 3072, only got 2163\n",
      "samples collected: 2163\n",
      "samples collected: 2163 \tdeduped samples added: 410\n",
      "7969\n"
     ]
    },
    {
     "name": "stderr",
     "output_type": "stream",
     "text": [
      "                                                    \r"
     ]
    },
    {
     "name": "stdout",
     "output_type": "stream",
     "text": [
      "Did not collect 3072, only got 1972\n",
      "samples collected: 1972\n",
      "samples collected: 1972 \tdeduped samples added: 217\n",
      "8186\n"
     ]
    },
    {
     "name": "stderr",
     "output_type": "stream",
     "text": [
      "                                                    \r"
     ]
    },
    {
     "name": "stdout",
     "output_type": "stream",
     "text": [
      "Did not collect 3072, only got 2183\n",
      "samples collected: 2183\n",
      "samples collected: 2183 \tdeduped samples added: 430\n",
      "8616\n"
     ]
    },
    {
     "name": "stderr",
     "output_type": "stream",
     "text": [
      "                                                    \r"
     ]
    },
    {
     "name": "stdout",
     "output_type": "stream",
     "text": [
      "Did not collect 3072, only got 2175\n",
      "samples collected: 2175\n",
      "samples collected: 2175 \tdeduped samples added: 422\n",
      "9038\n",
      "Saved 8656 samples to data/cortex_591_8656.json\n"
     ]
    },
    {
     "name": "stderr",
     "output_type": "stream",
     "text": [
      "                                                    \r"
     ]
    },
    {
     "name": "stdout",
     "output_type": "stream",
     "text": [
      "Did not collect 3072, only got 1752\n",
      "samples collected: 1752\n",
      "samples collected: 1752 \tdeduped samples added: 1674\n",
      "2056\n"
     ]
    },
    {
     "name": "stderr",
     "output_type": "stream",
     "text": [
      "                                                    \r"
     ]
    },
    {
     "name": "stdout",
     "output_type": "stream",
     "text": [
      "Did not collect 3072, only got 2160\n",
      "samples collected: 2160\n",
      "samples collected: 2160 \tdeduped samples added: 408\n",
      "2464\n"
     ]
    },
    {
     "name": "stderr",
     "output_type": "stream",
     "text": [
      "                                                    \r"
     ]
    },
    {
     "name": "stdout",
     "output_type": "stream",
     "text": [
      "Did not collect 3072, only got 2158\n",
      "samples collected: 2158\n",
      "samples collected: 2158 \tdeduped samples added: 402\n",
      "2866\n"
     ]
    },
    {
     "name": "stderr",
     "output_type": "stream",
     "text": [
      "                                                    \r"
     ]
    },
    {
     "name": "stdout",
     "output_type": "stream",
     "text": [
      "Did not collect 3072, only got 2163\n",
      "samples collected: 2163\n",
      "samples collected: 2163 \tdeduped samples added: 212\n",
      "3078\n"
     ]
    },
    {
     "name": "stderr",
     "output_type": "stream",
     "text": [
      "                                                    \r"
     ]
    },
    {
     "name": "stdout",
     "output_type": "stream",
     "text": [
      "Did not collect 3072, only got 2124\n",
      "samples collected: 2124\n",
      "samples collected: 2124 \tdeduped samples added: 370\n",
      "3448\n"
     ]
    },
    {
     "name": "stderr",
     "output_type": "stream",
     "text": [
      "                                                    \r"
     ]
    },
    {
     "name": "stdout",
     "output_type": "stream",
     "text": [
      "Did not collect 3072, only got 2185\n",
      "samples collected: 2185\n",
      "samples collected: 2185 \tdeduped samples added: 432\n",
      "3880\n"
     ]
    },
    {
     "name": "stderr",
     "output_type": "stream",
     "text": [
      "                                                    \r"
     ]
    },
    {
     "name": "stdout",
     "output_type": "stream",
     "text": [
      "Did not collect 3072, only got 1752\n",
      "samples collected: 1752\n",
      "samples collected: 1752 \tdeduped samples added: 0\n",
      "3880\n"
     ]
    },
    {
     "name": "stderr",
     "output_type": "stream",
     "text": [
      "                                                    \r"
     ]
    },
    {
     "name": "stdout",
     "output_type": "stream",
     "text": [
      "Did not collect 3072, only got 2155\n",
      "samples collected: 2155\n",
      "samples collected: 2155 \tdeduped samples added: 400\n",
      "4280\n"
     ]
    },
    {
     "name": "stderr",
     "output_type": "stream",
     "text": [
      "                                                    \r"
     ]
    },
    {
     "name": "stdout",
     "output_type": "stream",
     "text": [
      "Did not collect 3072, only got 1968\n",
      "samples collected: 1968\n",
      "samples collected: 1968 \tdeduped samples added: 0\n",
      "4280\n"
     ]
    },
    {
     "name": "stderr",
     "output_type": "stream",
     "text": [
      "                                                    \r"
     ]
    },
    {
     "name": "stdout",
     "output_type": "stream",
     "text": [
      "Did not collect 3072, only got 2394\n",
      "samples collected: 2394\n",
      "samples collected: 2394 \tdeduped samples added: 423\n",
      "4703\n"
     ]
    },
    {
     "name": "stderr",
     "output_type": "stream",
     "text": [
      "                                                    \r"
     ]
    },
    {
     "name": "stdout",
     "output_type": "stream",
     "text": [
      "Did not collect 3072, only got 2392\n",
      "samples collected: 2392\n",
      "samples collected: 2392 \tdeduped samples added: 422\n",
      "5125\n"
     ]
    },
    {
     "name": "stderr",
     "output_type": "stream",
     "text": [
      "                                                    \r"
     ]
    },
    {
     "name": "stdout",
     "output_type": "stream",
     "text": [
      "Did not collect 3072, only got 2375\n",
      "samples collected: 2375\n",
      "samples collected: 2375 \tdeduped samples added: 405\n",
      "5530\n"
     ]
    },
    {
     "name": "stderr",
     "output_type": "stream",
     "text": [
      "                                                    \r"
     ]
    },
    {
     "name": "stdout",
     "output_type": "stream",
     "text": [
      "Did not collect 3072, only got 2380\n",
      "samples collected: 2380\n",
      "samples collected: 2380 \tdeduped samples added: 410\n",
      "5940\n"
     ]
    },
    {
     "name": "stderr",
     "output_type": "stream",
     "text": [
      "                                                    \r"
     ]
    },
    {
     "name": "stdout",
     "output_type": "stream",
     "text": [
      "Did not collect 3072, only got 2383\n",
      "samples collected: 2383\n",
      "samples collected: 2383 \tdeduped samples added: 411\n",
      "6351\n"
     ]
    },
    {
     "name": "stderr",
     "output_type": "stream",
     "text": [
      "                                                    \r"
     ]
    },
    {
     "name": "stdout",
     "output_type": "stream",
     "text": [
      "Did not collect 3072, only got 2601\n",
      "samples collected: 2601\n",
      "samples collected: 2601 \tdeduped samples added: 630\n",
      "6981\n"
     ]
    },
    {
     "name": "stderr",
     "output_type": "stream",
     "text": [
      "                                                    \r"
     ]
    },
    {
     "name": "stdout",
     "output_type": "stream",
     "text": [
      "Did not collect 3072, only got 2398\n",
      "samples collected: 2398\n",
      "samples collected: 2398 \tdeduped samples added: 642\n",
      "7623\n"
     ]
    },
    {
     "name": "stderr",
     "output_type": "stream",
     "text": [
      "                                                    \r"
     ]
    },
    {
     "name": "stdout",
     "output_type": "stream",
     "text": [
      "Did not collect 3072, only got 2368\n",
      "samples collected: 2368\n",
      "samples collected: 2368 \tdeduped samples added: 615\n",
      "8238\n"
     ]
    },
    {
     "name": "stderr",
     "output_type": "stream",
     "text": [
      "                                                    \r"
     ]
    },
    {
     "name": "stdout",
     "output_type": "stream",
     "text": [
      "Did not collect 3072, only got 2589\n",
      "samples collected: 2589\n",
      "samples collected: 2589 \tdeduped samples added: 628\n",
      "8866\n",
      "Saved 8656 samples to data/cortex_592_8656.json\n"
     ]
    },
    {
     "name": "stderr",
     "output_type": "stream",
     "text": [
      "                                                    \r"
     ]
    },
    {
     "name": "stdout",
     "output_type": "stream",
     "text": [
      "Did not collect 3072, only got 2386\n",
      "samples collected: 2386\n",
      "samples collected: 2386 \tdeduped samples added: 2335\n",
      "2545\n"
     ]
    },
    {
     "name": "stderr",
     "output_type": "stream",
     "text": [
      "                                                    \r"
     ]
    },
    {
     "name": "stdout",
     "output_type": "stream",
     "text": [
      "Did not collect 3072, only got 2369\n",
      "samples collected: 2369\n",
      "samples collected: 2369 \tdeduped samples added: 405\n",
      "2950\n"
     ]
    },
    {
     "name": "stderr",
     "output_type": "stream",
     "text": [
      "                                                    \r"
     ]
    },
    {
     "name": "stdout",
     "output_type": "stream",
     "text": [
      "Did not collect 3072, only got 2353\n",
      "samples collected: 2353\n",
      "samples collected: 2353 \tdeduped samples added: 386\n",
      "3336\n"
     ]
    },
    {
     "name": "stderr",
     "output_type": "stream",
     "text": [
      "                                                    \r"
     ]
    },
    {
     "name": "stdout",
     "output_type": "stream",
     "text": [
      "Did not collect 3072, only got 2346\n",
      "samples collected: 2346\n",
      "samples collected: 2346 \tdeduped samples added: 172\n",
      "3508\n"
     ]
    },
    {
     "name": "stderr",
     "output_type": "stream",
     "text": [
      "                                                    \r"
     ]
    },
    {
     "name": "stdout",
     "output_type": "stream",
     "text": [
      "Did not collect 3072, only got 2291\n",
      "samples collected: 2291\n",
      "samples collected: 2291 \tdeduped samples added: 113\n",
      "3621\n"
     ]
    },
    {
     "name": "stderr",
     "output_type": "stream",
     "text": [
      "                                                    \r"
     ]
    },
    {
     "name": "stdout",
     "output_type": "stream",
     "text": [
      "Did not collect 3072, only got 2385\n",
      "samples collected: 2385\n",
      "samples collected: 2385 \tdeduped samples added: 211\n",
      "3832\n"
     ]
    },
    {
     "name": "stderr",
     "output_type": "stream",
     "text": [
      "                                                    \r"
     ]
    },
    {
     "name": "stdout",
     "output_type": "stream",
     "text": [
      "Did not collect 3072, only got 2404\n",
      "samples collected: 2404\n",
      "samples collected: 2404 \tdeduped samples added: 230\n",
      "4062\n"
     ]
    },
    {
     "name": "stderr",
     "output_type": "stream",
     "text": [
      "                                                    \r"
     ]
    },
    {
     "name": "stdout",
     "output_type": "stream",
     "text": [
      "Did not collect 3072, only got 2584\n",
      "samples collected: 2584\n",
      "samples collected: 2584 \tdeduped samples added: 407\n",
      "4469\n"
     ]
    },
    {
     "name": "stderr",
     "output_type": "stream",
     "text": [
      "                                                    \r"
     ]
    },
    {
     "name": "stdout",
     "output_type": "stream",
     "text": [
      "Did not collect 3072, only got 2387\n",
      "samples collected: 2387\n",
      "samples collected: 2387 \tdeduped samples added: 213\n",
      "4682\n"
     ]
    },
    {
     "name": "stderr",
     "output_type": "stream",
     "text": [
      "                                                    \r"
     ]
    },
    {
     "name": "stdout",
     "output_type": "stream",
     "text": [
      "Did not collect 3072, only got 2371\n",
      "samples collected: 2371\n",
      "samples collected: 2371 \tdeduped samples added: 404\n",
      "5086\n"
     ]
    },
    {
     "name": "stderr",
     "output_type": "stream",
     "text": [
      "                                                    \r"
     ]
    },
    {
     "name": "stdout",
     "output_type": "stream",
     "text": [
      "Did not collect 3072, only got 2373\n",
      "samples collected: 2373\n",
      "samples collected: 2373 \tdeduped samples added: 409\n",
      "5495\n"
     ]
    },
    {
     "name": "stderr",
     "output_type": "stream",
     "text": [
      "                                                    \r"
     ]
    },
    {
     "name": "stdout",
     "output_type": "stream",
     "text": [
      "Did not collect 3072, only got 2380\n",
      "samples collected: 2380\n",
      "samples collected: 2380 \tdeduped samples added: 416\n",
      "5911\n"
     ]
    },
    {
     "name": "stderr",
     "output_type": "stream",
     "text": [
      "                                                    \r"
     ]
    },
    {
     "name": "stdout",
     "output_type": "stream",
     "text": [
      "Did not collect 3072, only got 2174\n",
      "samples collected: 2174\n",
      "samples collected: 2174 \tdeduped samples added: 209\n",
      "6120\n"
     ]
    },
    {
     "name": "stderr",
     "output_type": "stream",
     "text": [
      "                                                    \r"
     ]
    },
    {
     "name": "stdout",
     "output_type": "stream",
     "text": [
      "Did not collect 3072, only got 2187\n",
      "samples collected: 2187\n",
      "samples collected: 2187 \tdeduped samples added: 218\n",
      "6338\n"
     ]
    },
    {
     "name": "stderr",
     "output_type": "stream",
     "text": [
      "                                                    \r"
     ]
    },
    {
     "name": "stdout",
     "output_type": "stream",
     "text": [
      "Did not collect 3072, only got 2356\n",
      "samples collected: 2356\n",
      "samples collected: 2356 \tdeduped samples added: 387\n",
      "6725\n"
     ]
    },
    {
     "name": "stderr",
     "output_type": "stream",
     "text": [
      "                                                    \r"
     ]
    },
    {
     "name": "stdout",
     "output_type": "stream",
     "text": [
      "Did not collect 3072, only got 2594\n",
      "samples collected: 2594\n",
      "samples collected: 2594 \tdeduped samples added: 629\n",
      "7354\n"
     ]
    },
    {
     "name": "stderr",
     "output_type": "stream",
     "text": [
      "                                                    \r"
     ]
    },
    {
     "name": "stdout",
     "output_type": "stream",
     "text": [
      "Did not collect 3072, only got 2569\n",
      "samples collected: 2569\n",
      "samples collected: 2569 \tdeduped samples added: 397\n",
      "7751\n"
     ]
    },
    {
     "name": "stderr",
     "output_type": "stream",
     "text": [
      "                                                    \r"
     ]
    },
    {
     "name": "stdout",
     "output_type": "stream",
     "text": [
      "Did not collect 3072, only got 2170\n",
      "samples collected: 2170\n",
      "samples collected: 2170 \tdeduped samples added: 0\n",
      "7751\n"
     ]
    },
    {
     "name": "stderr",
     "output_type": "stream",
     "text": [
      "                                                    \r"
     ]
    },
    {
     "name": "stdout",
     "output_type": "stream",
     "text": [
      "Did not collect 3072, only got 2524\n",
      "samples collected: 2524\n",
      "samples collected: 2524 \tdeduped samples added: 354\n",
      "8105\n"
     ]
    },
    {
     "name": "stderr",
     "output_type": "stream",
     "text": [
      "                                                    \r"
     ]
    },
    {
     "name": "stdout",
     "output_type": "stream",
     "text": [
      "Did not collect 3072, only got 2806\n",
      "samples collected: 2806\n",
      "samples collected: 2806 \tdeduped samples added: 635\n",
      "8740\n",
      "Saved 8656 samples to data/cortex_593_8656.json\n"
     ]
    },
    {
     "name": "stderr",
     "output_type": "stream",
     "text": [
      "                                                    \r"
     ]
    },
    {
     "name": "stdout",
     "output_type": "stream",
     "text": [
      "Did not collect 3072, only got 2774\n",
      "samples collected: 2774\n",
      "samples collected: 2774 \tdeduped samples added: 2747\n",
      "2831\n"
     ]
    },
    {
     "name": "stderr",
     "output_type": "stream",
     "text": [
      "                                                    \r"
     ]
    },
    {
     "name": "stdout",
     "output_type": "stream",
     "text": [
      "Did not collect 3072, only got 2790\n",
      "samples collected: 2790\n",
      "samples collected: 2790 \tdeduped samples added: 620\n",
      "3451\n"
     ]
    },
    {
     "name": "stderr",
     "output_type": "stream",
     "text": [
      "                                                    \r"
     ]
    },
    {
     "name": "stdout",
     "output_type": "stream",
     "text": [
      "Did not collect 3072, only got 2597\n",
      "samples collected: 2597\n",
      "samples collected: 2597 \tdeduped samples added: 220\n",
      "3671\n"
     ]
    },
    {
     "name": "stderr",
     "output_type": "stream",
     "text": [
      "                                                    \r"
     ]
    },
    {
     "name": "stdout",
     "output_type": "stream",
     "text": [
      "Did not collect 3072, only got 3012\n",
      "samples collected: 3012\n",
      "samples collected: 3012 \tdeduped samples added: 628\n",
      "4299\n"
     ]
    },
    {
     "name": "stderr",
     "output_type": "stream",
     "text": [
      "                                                    \r"
     ]
    },
    {
     "name": "stdout",
     "output_type": "stream",
     "text": [
      "Did not collect 3072, only got 2583\n",
      "samples collected: 2583\n",
      "samples collected: 2583 \tdeduped samples added: 206\n",
      "4505\n"
     ]
    },
    {
     "name": "stderr",
     "output_type": "stream",
     "text": [
      "                                                    \r"
     ]
    },
    {
     "name": "stdout",
     "output_type": "stream",
     "text": [
      "Did not collect 3072, only got 2602\n",
      "samples collected: 2602\n",
      "samples collected: 2602 \tdeduped samples added: 224\n",
      "4729\n"
     ]
    },
    {
     "name": "stderr",
     "output_type": "stream",
     "text": [
      "                                                    \r"
     ]
    },
    {
     "name": "stdout",
     "output_type": "stream",
     "text": [
      "Did not collect 3072, only got 2377\n",
      "samples collected: 2377\n",
      "samples collected: 2377 \tdeduped samples added: 0\n",
      "4729\n"
     ]
    },
    {
     "name": "stderr",
     "output_type": "stream",
     "text": [
      "                                                    \r"
     ]
    },
    {
     "name": "stdout",
     "output_type": "stream",
     "text": [
      "Did not collect 3072, only got 2575\n",
      "samples collected: 2575\n",
      "samples collected: 2575 \tdeduped samples added: 198\n",
      "4927\n"
     ]
    },
    {
     "name": "stderr",
     "output_type": "stream",
     "text": [
      "                                                    \r"
     ]
    },
    {
     "name": "stdout",
     "output_type": "stream",
     "text": [
      "Did not collect 3072, only got 2772\n",
      "samples collected: 2772\n",
      "samples collected: 2772 \tdeduped samples added: 391\n",
      "5318\n"
     ]
    },
    {
     "name": "stderr",
     "output_type": "stream",
     "text": [
      "                                                    \r"
     ]
    },
    {
     "name": "stdout",
     "output_type": "stream",
     "text": [
      "Did not collect 3072, only got 2801\n",
      "samples collected: 2801\n",
      "samples collected: 2801 \tdeduped samples added: 202\n",
      "5520\n"
     ]
    },
    {
     "name": "stderr",
     "output_type": "stream",
     "text": [
      "                                                    \r"
     ]
    },
    {
     "name": "stdout",
     "output_type": "stream",
     "text": [
      "Did not collect 3072, only got 3026\n",
      "samples collected: 3026\n",
      "samples collected: 3026 \tdeduped samples added: 428\n",
      "5948\n"
     ]
    },
    {
     "name": "stderr",
     "output_type": "stream",
     "text": [
      "                                                    \r"
     ]
    },
    {
     "name": "stdout",
     "output_type": "stream",
     "text": [
      "Did not collect 3072, only got 2994\n",
      "samples collected: 2994\n",
      "samples collected: 2994 \tdeduped samples added: 179\n",
      "6127\n"
     ]
    },
    {
     "name": "stderr",
     "output_type": "stream",
     "text": [
      "                                                    \r"
     ]
    },
    {
     "name": "stdout",
     "output_type": "stream",
     "text": [
      "Did not collect 3072, only got 3018\n",
      "samples collected: 3018\n",
      "samples collected: 3018 \tdeduped samples added: 205\n",
      "6332\n"
     ]
    },
    {
     "name": "stderr",
     "output_type": "stream",
     "text": [
      "                                                    \r"
     ]
    },
    {
     "name": "stdout",
     "output_type": "stream",
     "text": [
      "Did not collect 3072, only got 2998\n",
      "samples collected: 2998\n",
      "samples collected: 2998 \tdeduped samples added: 184\n",
      "6516\n"
     ]
    },
    {
     "name": "stderr",
     "output_type": "stream",
     "text": [
      "                                                    \r"
     ]
    },
    {
     "name": "stdout",
     "output_type": "stream",
     "text": [
      "Did not collect 3072, only got 3028\n",
      "samples collected: 3028\n",
      "samples collected: 3028 \tdeduped samples added: 68\n",
      "6584\n"
     ]
    },
    {
     "name": "stderr",
     "output_type": "stream",
     "text": [
      "                                                    \r"
     ]
    },
    {
     "name": "stdout",
     "output_type": "stream",
     "text": [
      "Did not collect 3072, only got 2987\n",
      "samples collected: 2987\n",
      "samples collected: 2987 \tdeduped samples added: 174\n",
      "6758\n"
     ]
    },
    {
     "name": "stderr",
     "output_type": "stream",
     "text": [
      "                                                    \r"
     ]
    },
    {
     "name": "stdout",
     "output_type": "stream",
     "text": [
      "Did not collect 3072, only got 3020\n",
      "samples collected: 3020\n",
      "samples collected: 3020 \tdeduped samples added: 206\n",
      "6964\n"
     ]
    },
    {
     "name": "stderr",
     "output_type": "stream",
     "text": [
      "                                                    \r"
     ]
    },
    {
     "name": "stdout",
     "output_type": "stream",
     "text": [
      "Did not collect 3072, only got 3028\n",
      "samples collected: 3028\n",
      "samples collected: 3028 \tdeduped samples added: 0\n",
      "6964\n"
     ]
    },
    {
     "name": "stderr",
     "output_type": "stream",
     "text": [
      "                                                    \r"
     ]
    },
    {
     "name": "stdout",
     "output_type": "stream",
     "text": [
      "Did not collect 3072, only got 3030\n",
      "samples collected: 3030\n",
      "samples collected: 3030 \tdeduped samples added: 218\n",
      "7182\n"
     ]
    },
    {
     "name": "stderr",
     "output_type": "stream",
     "text": [
      "                                                    \r"
     ]
    },
    {
     "name": "stdout",
     "output_type": "stream",
     "text": [
      "Did not collect 3072, only got 2811\n",
      "samples collected: 2811\n",
      "samples collected: 2811 \tdeduped samples added: 0\n",
      "7182\n"
     ]
    },
    {
     "name": "stderr",
     "output_type": "stream",
     "text": [
      "                                                    \r"
     ]
    },
    {
     "name": "stdout",
     "output_type": "stream",
     "text": [
      "samples collected: 3072\n",
      "samples collected: 3072 \tdeduped samples added: 362\n",
      "7544\n"
     ]
    },
    {
     "name": "stderr",
     "output_type": "stream",
     "text": [
      "                                                    \r"
     ]
    },
    {
     "name": "stdout",
     "output_type": "stream",
     "text": [
      "samples collected: 3072\n",
      "samples collected: 3072 \tdeduped samples added: 408\n",
      "7952\n"
     ]
    },
    {
     "name": "stderr",
     "output_type": "stream",
     "text": [
      "                                                    \r"
     ]
    },
    {
     "name": "stdout",
     "output_type": "stream",
     "text": [
      "samples collected: 3072\n",
      "samples collected: 3072 \tdeduped samples added: 370\n",
      "8322\n"
     ]
    },
    {
     "name": "stderr",
     "output_type": "stream",
     "text": [
      "                                                    \r"
     ]
    },
    {
     "name": "stdout",
     "output_type": "stream",
     "text": [
      "samples collected: 3072\n",
      "samples collected: 3072 \tdeduped samples added: 508\n",
      "8830\n",
      "Saved 8656 samples to data/cortex_594_8656.json\n"
     ]
    },
    {
     "name": "stderr",
     "output_type": "stream",
     "text": [
      "                                                    \r"
     ]
    },
    {
     "name": "stdout",
     "output_type": "stream",
     "text": [
      "samples collected: 3072\n",
      "samples collected: 3072 \tdeduped samples added: 3022\n",
      "3196\n"
     ]
    },
    {
     "name": "stderr",
     "output_type": "stream",
     "text": [
      "                                                    \r"
     ]
    },
    {
     "name": "stdout",
     "output_type": "stream",
     "text": [
      "samples collected: 3072\n",
      "samples collected: 3072 \tdeduped samples added: 1323\n",
      "4519\n"
     ]
    },
    {
     "name": "stderr",
     "output_type": "stream",
     "text": [
      "                                                    \r"
     ]
    },
    {
     "name": "stdout",
     "output_type": "stream",
     "text": [
      "samples collected: 3072\n",
      "samples collected: 3072 \tdeduped samples added: 670\n",
      "5189\n"
     ]
    },
    {
     "name": "stderr",
     "output_type": "stream",
     "text": [
      "                                                    \r"
     ]
    },
    {
     "name": "stdout",
     "output_type": "stream",
     "text": [
      "samples collected: 3072\n",
      "samples collected: 3072 \tdeduped samples added: 426\n",
      "5615\n"
     ]
    },
    {
     "name": "stderr",
     "output_type": "stream",
     "text": [
      "                                                    \r"
     ]
    },
    {
     "name": "stdout",
     "output_type": "stream",
     "text": [
      "samples collected: 3072\n",
      "samples collected: 3072 \tdeduped samples added: 404\n",
      "6019\n"
     ]
    },
    {
     "name": "stderr",
     "output_type": "stream",
     "text": [
      "                                                    \r"
     ]
    },
    {
     "name": "stdout",
     "output_type": "stream",
     "text": [
      "samples collected: 3072\n",
      "samples collected: 3072 \tdeduped samples added: 432\n",
      "6451\n"
     ]
    },
    {
     "name": "stderr",
     "output_type": "stream",
     "text": [
      "                                                    \r"
     ]
    },
    {
     "name": "stdout",
     "output_type": "stream",
     "text": [
      "samples collected: 3072\n",
      "samples collected: 3072 \tdeduped samples added: 0\n",
      "6451\n"
     ]
    },
    {
     "name": "stderr",
     "output_type": "stream",
     "text": [
      "                                                    \r"
     ]
    },
    {
     "name": "stdout",
     "output_type": "stream",
     "text": [
      "samples collected: 3072\n",
      "samples collected: 3072 \tdeduped samples added: 207\n",
      "6658\n"
     ]
    },
    {
     "name": "stderr",
     "output_type": "stream",
     "text": [
      "                                                    \r"
     ]
    },
    {
     "name": "stdout",
     "output_type": "stream",
     "text": [
      "samples collected: 3072\n",
      "samples collected: 3072 \tdeduped samples added: 639\n",
      "7297\n"
     ]
    },
    {
     "name": "stderr",
     "output_type": "stream",
     "text": [
      "                                                    \r"
     ]
    },
    {
     "name": "stdout",
     "output_type": "stream",
     "text": [
      "samples collected: 3072\n",
      "samples collected: 3072 \tdeduped samples added: 302\n",
      "7599\n"
     ]
    },
    {
     "name": "stderr",
     "output_type": "stream",
     "text": [
      "                                                    \r"
     ]
    },
    {
     "name": "stdout",
     "output_type": "stream",
     "text": [
      "samples collected: 3072\n",
      "samples collected: 3072 \tdeduped samples added: 390\n",
      "7989\n"
     ]
    },
    {
     "name": "stderr",
     "output_type": "stream",
     "text": [
      "                                                    \r"
     ]
    },
    {
     "name": "stdout",
     "output_type": "stream",
     "text": [
      "samples collected: 3072\n",
      "samples collected: 3072 \tdeduped samples added: 635\n",
      "8624\n"
     ]
    },
    {
     "name": "stderr",
     "output_type": "stream",
     "text": [
      "                                                    \r"
     ]
    },
    {
     "name": "stdout",
     "output_type": "stream",
     "text": [
      "samples collected: 3072\n",
      "samples collected: 3072 \tdeduped samples added: 647\n",
      "9271\n",
      "Saved 8656 samples to data/cortex_595_8656.json\n"
     ]
    },
    {
     "name": "stderr",
     "output_type": "stream",
     "text": [
      "                                                    \r"
     ]
    },
    {
     "name": "stdout",
     "output_type": "stream",
     "text": [
      "samples collected: 3072\n",
      "samples collected: 3072 \tdeduped samples added: 2901\n",
      "3516\n"
     ]
    },
    {
     "name": "stderr",
     "output_type": "stream",
     "text": [
      "                                                    \r"
     ]
    },
    {
     "name": "stdout",
     "output_type": "stream",
     "text": [
      "samples collected: 3072\n",
      "samples collected: 3072 \tdeduped samples added: 984\n",
      "4500\n"
     ]
    },
    {
     "name": "stderr",
     "output_type": "stream",
     "text": [
      "                                                    \r"
     ]
    },
    {
     "name": "stdout",
     "output_type": "stream",
     "text": [
      "samples collected: 3072\n",
      "samples collected: 3072 \tdeduped samples added: 717\n",
      "5217\n"
     ]
    },
    {
     "name": "stderr",
     "output_type": "stream",
     "text": [
      "                                                    \r"
     ]
    },
    {
     "name": "stdout",
     "output_type": "stream",
     "text": [
      "samples collected: 3072\n",
      "samples collected: 3072 \tdeduped samples added: 0\n",
      "5217\n"
     ]
    },
    {
     "name": "stderr",
     "output_type": "stream",
     "text": [
      "                                                    \r"
     ]
    },
    {
     "name": "stdout",
     "output_type": "stream",
     "text": [
      "samples collected: 3072\n",
      "samples collected: 3072 \tdeduped samples added: 190\n",
      "5407\n"
     ]
    },
    {
     "name": "stderr",
     "output_type": "stream",
     "text": [
      "                                                    \r"
     ]
    },
    {
     "name": "stdout",
     "output_type": "stream",
     "text": [
      "samples collected: 3072\n",
      "samples collected: 3072 \tdeduped samples added: 232\n",
      "5639\n"
     ]
    },
    {
     "name": "stderr",
     "output_type": "stream",
     "text": [
      "                                                    \r"
     ]
    },
    {
     "name": "stdout",
     "output_type": "stream",
     "text": [
      "samples collected: 3072\n",
      "samples collected: 3072 \tdeduped samples added: 196\n",
      "5835\n"
     ]
    },
    {
     "name": "stderr",
     "output_type": "stream",
     "text": [
      "                                                    \r"
     ]
    },
    {
     "name": "stdout",
     "output_type": "stream",
     "text": [
      "samples collected: 3072\n",
      "samples collected: 3072 \tdeduped samples added: 70\n",
      "5905\n"
     ]
    },
    {
     "name": "stderr",
     "output_type": "stream",
     "text": [
      "                                                    \r"
     ]
    },
    {
     "name": "stdout",
     "output_type": "stream",
     "text": [
      "samples collected: 3072\n",
      "samples collected: 3072 \tdeduped samples added: 77\n",
      "5982\n"
     ]
    },
    {
     "name": "stderr",
     "output_type": "stream",
     "text": [
      "                                                    \r"
     ]
    },
    {
     "name": "stdout",
     "output_type": "stream",
     "text": [
      "samples collected: 3072\n",
      "samples collected: 3072 \tdeduped samples added: 362\n",
      "6344\n"
     ]
    },
    {
     "name": "stderr",
     "output_type": "stream",
     "text": [
      "                                                    \r"
     ]
    },
    {
     "name": "stdout",
     "output_type": "stream",
     "text": [
      "samples collected: 3072\n",
      "samples collected: 3072 \tdeduped samples added: 393\n",
      "6737\n"
     ]
    },
    {
     "name": "stderr",
     "output_type": "stream",
     "text": [
      "                                                    \r"
     ]
    },
    {
     "name": "stdout",
     "output_type": "stream",
     "text": [
      "samples collected: 3072\n",
      "samples collected: 3072 \tdeduped samples added: 436\n",
      "7173\n"
     ]
    },
    {
     "name": "stderr",
     "output_type": "stream",
     "text": [
      "                                                    \r"
     ]
    },
    {
     "name": "stdout",
     "output_type": "stream",
     "text": [
      "samples collected: 3072\n",
      "samples collected: 3072 \tdeduped samples added: 62\n",
      "7235\n"
     ]
    },
    {
     "name": "stderr",
     "output_type": "stream",
     "text": [
      "                                                    \r"
     ]
    },
    {
     "name": "stdout",
     "output_type": "stream",
     "text": [
      "samples collected: 3072\n",
      "samples collected: 3072 \tdeduped samples added: 210\n",
      "7445\n"
     ]
    },
    {
     "name": "stderr",
     "output_type": "stream",
     "text": [
      "                                                    \r"
     ]
    },
    {
     "name": "stdout",
     "output_type": "stream",
     "text": [
      "samples collected: 3072\n",
      "samples collected: 3072 \tdeduped samples added: 397\n",
      "7842\n"
     ]
    },
    {
     "name": "stderr",
     "output_type": "stream",
     "text": [
      "                                                    \r"
     ]
    },
    {
     "name": "stdout",
     "output_type": "stream",
     "text": [
      "samples collected: 3072\n",
      "samples collected: 3072 \tdeduped samples added: 385\n",
      "8227\n"
     ]
    },
    {
     "name": "stderr",
     "output_type": "stream",
     "text": [
      "                                                    \r"
     ]
    },
    {
     "name": "stdout",
     "output_type": "stream",
     "text": [
      "samples collected: 3072\n",
      "samples collected: 3072 \tdeduped samples added: 216\n",
      "8443\n"
     ]
    },
    {
     "name": "stderr",
     "output_type": "stream",
     "text": [
      "                                                    \r"
     ]
    },
    {
     "name": "stdout",
     "output_type": "stream",
     "text": [
      "samples collected: 3072\n",
      "samples collected: 3072 \tdeduped samples added: 199\n",
      "8642\n"
     ]
    },
    {
     "name": "stderr",
     "output_type": "stream",
     "text": [
      "                                                    \r"
     ]
    },
    {
     "name": "stdout",
     "output_type": "stream",
     "text": [
      "samples collected: 3072\n",
      "samples collected: 3072 \tdeduped samples added: 194\n",
      "8836\n",
      "Saved 8656 samples to data/cortex_596_8656.json\n"
     ]
    },
    {
     "name": "stderr",
     "output_type": "stream",
     "text": [
      "                                                    \r"
     ]
    },
    {
     "name": "stdout",
     "output_type": "stream",
     "text": [
      "samples collected: 3072\n",
      "samples collected: 3072 \tdeduped samples added: 3004\n",
      "3184\n"
     ]
    },
    {
     "name": "stderr",
     "output_type": "stream",
     "text": [
      "                                                    \r"
     ]
    },
    {
     "name": "stdout",
     "output_type": "stream",
     "text": [
      "samples collected: 3072\n",
      "samples collected: 3072 \tdeduped samples added: 1738\n",
      "4922\n"
     ]
    },
    {
     "name": "stderr",
     "output_type": "stream",
     "text": [
      "                                                    \r"
     ]
    },
    {
     "name": "stdout",
     "output_type": "stream",
     "text": [
      "samples collected: 3072\n",
      "samples collected: 3072 \tdeduped samples added: 742\n",
      "5664\n"
     ]
    },
    {
     "name": "stderr",
     "output_type": "stream",
     "text": [
      "                                                    \r"
     ]
    },
    {
     "name": "stdout",
     "output_type": "stream",
     "text": [
      "samples collected: 3072\n",
      "samples collected: 3072 \tdeduped samples added: 0\n",
      "5664\n"
     ]
    },
    {
     "name": "stderr",
     "output_type": "stream",
     "text": [
      "                                                    \r"
     ]
    },
    {
     "name": "stdout",
     "output_type": "stream",
     "text": [
      "samples collected: 3072\n",
      "samples collected: 3072 \tdeduped samples added: 223\n",
      "5887\n"
     ]
    },
    {
     "name": "stderr",
     "output_type": "stream",
     "text": [
      "                                                    \r"
     ]
    },
    {
     "name": "stdout",
     "output_type": "stream",
     "text": [
      "samples collected: 3072\n",
      "samples collected: 3072 \tdeduped samples added: 354\n",
      "6241\n"
     ]
    },
    {
     "name": "stderr",
     "output_type": "stream",
     "text": [
      "                                                    \r"
     ]
    },
    {
     "name": "stdout",
     "output_type": "stream",
     "text": [
      "samples collected: 3072\n",
      "samples collected: 3072 \tdeduped samples added: 217\n",
      "6458\n"
     ]
    },
    {
     "name": "stderr",
     "output_type": "stream",
     "text": [
      "                                                    \r"
     ]
    },
    {
     "name": "stdout",
     "output_type": "stream",
     "text": [
      "samples collected: 3072\n",
      "samples collected: 3072 \tdeduped samples added: 0\n",
      "6458\n"
     ]
    },
    {
     "name": "stderr",
     "output_type": "stream",
     "text": [
      "                                                    \r"
     ]
    },
    {
     "name": "stdout",
     "output_type": "stream",
     "text": [
      "samples collected: 3072\n",
      "samples collected: 3072 \tdeduped samples added: 169\n",
      "6627\n"
     ]
    },
    {
     "name": "stderr",
     "output_type": "stream",
     "text": [
      "                                                    \r"
     ]
    },
    {
     "name": "stdout",
     "output_type": "stream",
     "text": [
      "samples collected: 3072\n",
      "samples collected: 3072 \tdeduped samples added: 225\n",
      "6852\n"
     ]
    },
    {
     "name": "stderr",
     "output_type": "stream",
     "text": [
      "                                                    \r"
     ]
    },
    {
     "name": "stdout",
     "output_type": "stream",
     "text": [
      "samples collected: 3072\n",
      "samples collected: 3072 \tdeduped samples added: 213\n",
      "7065\n"
     ]
    },
    {
     "name": "stderr",
     "output_type": "stream",
     "text": [
      "                                                    \r"
     ]
    },
    {
     "name": "stdout",
     "output_type": "stream",
     "text": [
      "samples collected: 3072\n",
      "samples collected: 3072 \tdeduped samples added: 0\n",
      "7065\n"
     ]
    },
    {
     "name": "stderr",
     "output_type": "stream",
     "text": [
      "                                                    \r"
     ]
    },
    {
     "name": "stdout",
     "output_type": "stream",
     "text": [
      "samples collected: 3072\n",
      "samples collected: 3072 \tdeduped samples added: 309\n",
      "7374\n"
     ]
    },
    {
     "name": "stderr",
     "output_type": "stream",
     "text": [
      "                                                    \r"
     ]
    },
    {
     "name": "stdout",
     "output_type": "stream",
     "text": [
      "samples collected: 3072\n",
      "samples collected: 3072 \tdeduped samples added: 611\n",
      "7985\n"
     ]
    },
    {
     "name": "stderr",
     "output_type": "stream",
     "text": [
      "                                                    \r"
     ]
    },
    {
     "name": "stdout",
     "output_type": "stream",
     "text": [
      "samples collected: 3072\n",
      "samples collected: 3072 \tdeduped samples added: 357\n",
      "8342\n"
     ]
    },
    {
     "name": "stderr",
     "output_type": "stream",
     "text": [
      "                                                    \r"
     ]
    },
    {
     "name": "stdout",
     "output_type": "stream",
     "text": [
      "samples collected: 3072\n",
      "samples collected: 3072 \tdeduped samples added: 191\n",
      "8533\n"
     ]
    },
    {
     "name": "stderr",
     "output_type": "stream",
     "text": [
      "                                                    \r"
     ]
    },
    {
     "name": "stdout",
     "output_type": "stream",
     "text": [
      "samples collected: 3072\n",
      "samples collected: 3072 \tdeduped samples added: 334\n",
      "8867\n",
      "Saved 8656 samples to data/cortex_597_8656.json\n"
     ]
    },
    {
     "name": "stderr",
     "output_type": "stream",
     "text": [
      "                                                    \r"
     ]
    },
    {
     "name": "stdout",
     "output_type": "stream",
     "text": [
      "samples collected: 3072\n",
      "samples collected: 3072 \tdeduped samples added: 2989\n",
      "3200\n"
     ]
    },
    {
     "name": "stderr",
     "output_type": "stream",
     "text": [
      "                                                    \r"
     ]
    },
    {
     "name": "stdout",
     "output_type": "stream",
     "text": [
      "samples collected: 3072\n",
      "samples collected: 3072 \tdeduped samples added: 1670\n",
      "4870\n"
     ]
    },
    {
     "name": "stderr",
     "output_type": "stream",
     "text": [
      "                                                    \r"
     ]
    },
    {
     "name": "stdout",
     "output_type": "stream",
     "text": [
      "samples collected: 3072\n",
      "samples collected: 3072 \tdeduped samples added: 831\n",
      "5701\n"
     ]
    },
    {
     "name": "stderr",
     "output_type": "stream",
     "text": [
      "                                                    \r"
     ]
    },
    {
     "name": "stdout",
     "output_type": "stream",
     "text": [
      "samples collected: 3072\n",
      "samples collected: 3072 \tdeduped samples added: 202\n",
      "5903\n"
     ]
    },
    {
     "name": "stderr",
     "output_type": "stream",
     "text": [
      "                                                    \r"
     ]
    },
    {
     "name": "stdout",
     "output_type": "stream",
     "text": [
      "samples collected: 3072\n",
      "samples collected: 3072 \tdeduped samples added: 0\n",
      "5903\n"
     ]
    },
    {
     "name": "stderr",
     "output_type": "stream",
     "text": [
      "                                                    \r"
     ]
    },
    {
     "name": "stdout",
     "output_type": "stream",
     "text": [
      "samples collected: 3072\n",
      "samples collected: 3072 \tdeduped samples added: 211\n",
      "6114\n"
     ]
    },
    {
     "name": "stderr",
     "output_type": "stream",
     "text": [
      "                                                    \r"
     ]
    },
    {
     "name": "stdout",
     "output_type": "stream",
     "text": [
      "samples collected: 3072\n",
      "samples collected: 3072 \tdeduped samples added: 0\n",
      "6114\n"
     ]
    },
    {
     "name": "stderr",
     "output_type": "stream",
     "text": [
      "                                                    \r"
     ]
    },
    {
     "name": "stdout",
     "output_type": "stream",
     "text": [
      "samples collected: 3072\n",
      "samples collected: 3072 \tdeduped samples added: 438\n",
      "6552\n"
     ]
    },
    {
     "name": "stderr",
     "output_type": "stream",
     "text": [
      "                                                    \r"
     ]
    },
    {
     "name": "stdout",
     "output_type": "stream",
     "text": [
      "samples collected: 3072\n",
      "samples collected: 3072 \tdeduped samples added: 394\n",
      "6946\n"
     ]
    },
    {
     "name": "stderr",
     "output_type": "stream",
     "text": [
      "                                                    \r"
     ]
    },
    {
     "name": "stdout",
     "output_type": "stream",
     "text": [
      "samples collected: 3072\n",
      "samples collected: 3072 \tdeduped samples added: 212\n",
      "7158\n"
     ]
    },
    {
     "name": "stderr",
     "output_type": "stream",
     "text": [
      "                                                    \r"
     ]
    },
    {
     "name": "stdout",
     "output_type": "stream",
     "text": [
      "samples collected: 3072\n",
      "samples collected: 3072 \tdeduped samples added: 216\n",
      "7374\n"
     ]
    },
    {
     "name": "stderr",
     "output_type": "stream",
     "text": [
      "                                                    \r"
     ]
    },
    {
     "name": "stdout",
     "output_type": "stream",
     "text": [
      "samples collected: 3072\n",
      "samples collected: 3072 \tdeduped samples added: 300\n",
      "7674\n"
     ]
    },
    {
     "name": "stderr",
     "output_type": "stream",
     "text": [
      "                                                    \r"
     ]
    },
    {
     "name": "stdout",
     "output_type": "stream",
     "text": [
      "samples collected: 3072\n",
      "samples collected: 3072 \tdeduped samples added: 217\n",
      "7891\n"
     ]
    },
    {
     "name": "stderr",
     "output_type": "stream",
     "text": [
      "                                                    \r"
     ]
    },
    {
     "name": "stdout",
     "output_type": "stream",
     "text": [
      "samples collected: 3072\n",
      "samples collected: 3072 \tdeduped samples added: 220\n",
      "8111\n"
     ]
    },
    {
     "name": "stderr",
     "output_type": "stream",
     "text": [
      "                                                    \r"
     ]
    },
    {
     "name": "stdout",
     "output_type": "stream",
     "text": [
      "samples collected: 3072\n",
      "samples collected: 3072 \tdeduped samples added: 232\n",
      "8343\n"
     ]
    },
    {
     "name": "stderr",
     "output_type": "stream",
     "text": [
      "                                                    \r"
     ]
    },
    {
     "name": "stdout",
     "output_type": "stream",
     "text": [
      "samples collected: 3072\n",
      "samples collected: 3072 \tdeduped samples added: 660\n",
      "9003\n",
      "Saved 8656 samples to data/cortex_598_8656.json\n"
     ]
    },
    {
     "name": "stderr",
     "output_type": "stream",
     "text": [
      "                                                    \r"
     ]
    },
    {
     "name": "stdout",
     "output_type": "stream",
     "text": [
      "samples collected: 3072\n",
      "samples collected: 3072 \tdeduped samples added: 2967\n",
      "3314\n"
     ]
    },
    {
     "name": "stderr",
     "output_type": "stream",
     "text": [
      "                                                    \r"
     ]
    },
    {
     "name": "stdout",
     "output_type": "stream",
     "text": [
      "samples collected: 3072\n",
      "samples collected: 3072 \tdeduped samples added: 1879\n",
      "5193\n"
     ]
    },
    {
     "name": "stderr",
     "output_type": "stream",
     "text": [
      "                                                    \r"
     ]
    },
    {
     "name": "stdout",
     "output_type": "stream",
     "text": [
      "samples collected: 3072\n",
      "samples collected: 3072 \tdeduped samples added: 1022\n",
      "6215\n"
     ]
    },
    {
     "name": "stderr",
     "output_type": "stream",
     "text": [
      "                                                    \r"
     ]
    },
    {
     "name": "stdout",
     "output_type": "stream",
     "text": [
      "samples collected: 3072\n",
      "samples collected: 3072 \tdeduped samples added: 1024\n",
      "7239\n"
     ]
    },
    {
     "name": "stderr",
     "output_type": "stream",
     "text": [
      "                                                    \r"
     ]
    },
    {
     "name": "stdout",
     "output_type": "stream",
     "text": [
      "samples collected: 3072\n",
      "samples collected: 3072 \tdeduped samples added: 656\n",
      "7895\n"
     ]
    },
    {
     "name": "stderr",
     "output_type": "stream",
     "text": [
      "                                                    \r"
     ]
    },
    {
     "name": "stdout",
     "output_type": "stream",
     "text": [
      "samples collected: 3072\n",
      "samples collected: 3072 \tdeduped samples added: 195\n",
      "8090\n"
     ]
    },
    {
     "name": "stderr",
     "output_type": "stream",
     "text": [
      "                                                    \r"
     ]
    },
    {
     "name": "stdout",
     "output_type": "stream",
     "text": [
      "samples collected: 3072\n",
      "samples collected: 3072 \tdeduped samples added: 436\n",
      "8526\n"
     ]
    },
    {
     "name": "stderr",
     "output_type": "stream",
     "text": [
      "                                                    \r"
     ]
    },
    {
     "name": "stdout",
     "output_type": "stream",
     "text": [
      "samples collected: 3072\n",
      "samples collected: 3072 \tdeduped samples added: 0\n",
      "8526\n"
     ]
    },
    {
     "name": "stderr",
     "output_type": "stream",
     "text": [
      "                                                    \r"
     ]
    },
    {
     "name": "stdout",
     "output_type": "stream",
     "text": [
      "samples collected: 3072\n",
      "samples collected: 3072 \tdeduped samples added: 208\n",
      "8734\n",
      "Saved 8656 samples to data/cortex_599_8656.json\n"
     ]
    },
    {
     "name": "stderr",
     "output_type": "stream",
     "text": [
      "                                                    \r"
     ]
    },
    {
     "name": "stdout",
     "output_type": "stream",
     "text": [
      "samples collected: 3072\n",
      "samples collected: 3072 \tdeduped samples added: 3041\n",
      "3119\n"
     ]
    },
    {
     "name": "stderr",
     "output_type": "stream",
     "text": [
      "                                                    \r"
     ]
    },
    {
     "name": "stdout",
     "output_type": "stream",
     "text": [
      "samples collected: 3072\n",
      "samples collected: 3072 \tdeduped samples added: 1616\n",
      "4735\n"
     ]
    },
    {
     "name": "stderr",
     "output_type": "stream",
     "text": [
      "                                                    \r"
     ]
    },
    {
     "name": "stdout",
     "output_type": "stream",
     "text": [
      "samples collected: 3072\n",
      "samples collected: 3072 \tdeduped samples added: 968\n",
      "5703\n"
     ]
    },
    {
     "name": "stderr",
     "output_type": "stream",
     "text": [
      "                                                    \r"
     ]
    },
    {
     "name": "stdout",
     "output_type": "stream",
     "text": [
      "samples collected: 3072\n",
      "samples collected: 3072 \tdeduped samples added: 282\n",
      "5985\n"
     ]
    },
    {
     "name": "stderr",
     "output_type": "stream",
     "text": [
      "                                                    \r"
     ]
    },
    {
     "name": "stdout",
     "output_type": "stream",
     "text": [
      "samples collected: 3072\n",
      "samples collected: 3072 \tdeduped samples added: 511\n",
      "6496\n"
     ]
    },
    {
     "name": "stderr",
     "output_type": "stream",
     "text": [
      "                                                    \r"
     ]
    },
    {
     "name": "stdout",
     "output_type": "stream",
     "text": [
      "samples collected: 3072\n",
      "samples collected: 3072 \tdeduped samples added: 231\n",
      "6727\n"
     ]
    },
    {
     "name": "stderr",
     "output_type": "stream",
     "text": [
      "                                                    \r"
     ]
    },
    {
     "name": "stdout",
     "output_type": "stream",
     "text": [
      "samples collected: 3072\n",
      "samples collected: 3072 \tdeduped samples added: 427\n",
      "7154\n"
     ]
    },
    {
     "name": "stderr",
     "output_type": "stream",
     "text": [
      "                                                    \r"
     ]
    },
    {
     "name": "stdout",
     "output_type": "stream",
     "text": [
      "samples collected: 3072\n",
      "samples collected: 3072 \tdeduped samples added: 650\n",
      "7804\n"
     ]
    },
    {
     "name": "stderr",
     "output_type": "stream",
     "text": [
      "                                                    \r"
     ]
    },
    {
     "name": "stdout",
     "output_type": "stream",
     "text": [
      "samples collected: 3072\n",
      "samples collected: 3072 \tdeduped samples added: 211\n",
      "8015\n"
     ]
    },
    {
     "name": "stderr",
     "output_type": "stream",
     "text": [
      "                                                    \r"
     ]
    },
    {
     "name": "stdout",
     "output_type": "stream",
     "text": [
      "samples collected: 3072\n",
      "samples collected: 3072 \tdeduped samples added: 0\n",
      "8015\n"
     ]
    },
    {
     "name": "stderr",
     "output_type": "stream",
     "text": [
      "                                                    \r"
     ]
    },
    {
     "name": "stdout",
     "output_type": "stream",
     "text": [
      "samples collected: 3072\n",
      "samples collected: 3072 \tdeduped samples added: 230\n",
      "8245\n"
     ]
    },
    {
     "name": "stderr",
     "output_type": "stream",
     "text": [
      "                                                    \r"
     ]
    },
    {
     "name": "stdout",
     "output_type": "stream",
     "text": [
      "samples collected: 3072\n",
      "samples collected: 3072 \tdeduped samples added: 69\n",
      "8314\n"
     ]
    },
    {
     "name": "stderr",
     "output_type": "stream",
     "text": [
      "                                                    \r"
     ]
    },
    {
     "name": "stdout",
     "output_type": "stream",
     "text": [
      "samples collected: 3072\n",
      "samples collected: 3072 \tdeduped samples added: 213\n",
      "8527\n"
     ]
    },
    {
     "name": "stderr",
     "output_type": "stream",
     "text": [
      "                                                    \r"
     ]
    },
    {
     "name": "stdout",
     "output_type": "stream",
     "text": [
      "samples collected: 3072\n",
      "samples collected: 3072 \tdeduped samples added: 0\n",
      "8527\n"
     ]
    },
    {
     "name": "stderr",
     "output_type": "stream",
     "text": [
      "                                                    \r"
     ]
    },
    {
     "name": "stdout",
     "output_type": "stream",
     "text": [
      "samples collected: 3072\n",
      "samples collected: 3072 \tdeduped samples added: 425\n",
      "8952\n",
      "Saved 8656 samples to data/cortex_600_8656.json\n"
     ]
    },
    {
     "name": "stderr",
     "output_type": "stream",
     "text": [
      "                                                    \r"
     ]
    },
    {
     "name": "stdout",
     "output_type": "stream",
     "text": [
      "samples collected: 3072\n",
      "samples collected: 3072 \tdeduped samples added: 2967\n",
      "3263\n"
     ]
    },
    {
     "name": "stderr",
     "output_type": "stream",
     "text": [
      "                                                    \r"
     ]
    },
    {
     "name": "stdout",
     "output_type": "stream",
     "text": [
      "samples collected: 3072\n",
      "samples collected: 3072 \tdeduped samples added: 1646\n",
      "4909\n"
     ]
    },
    {
     "name": "stderr",
     "output_type": "stream",
     "text": [
      "                                                    \r"
     ]
    },
    {
     "name": "stdout",
     "output_type": "stream",
     "text": [
      "samples collected: 3072\n",
      "samples collected: 3072 \tdeduped samples added: 1236\n",
      "6145\n"
     ]
    },
    {
     "name": "stderr",
     "output_type": "stream",
     "text": [
      "                                                    \r"
     ]
    },
    {
     "name": "stdout",
     "output_type": "stream",
     "text": [
      "samples collected: 3072\n",
      "samples collected: 3072 \tdeduped samples added: 211\n",
      "6356\n"
     ]
    },
    {
     "name": "stderr",
     "output_type": "stream",
     "text": [
      "                                                    \r"
     ]
    },
    {
     "name": "stdout",
     "output_type": "stream",
     "text": [
      "samples collected: 3072\n",
      "samples collected: 3072 \tdeduped samples added: 1003\n",
      "7359\n"
     ]
    },
    {
     "name": "stderr",
     "output_type": "stream",
     "text": [
      "                                                    \r"
     ]
    },
    {
     "name": "stdout",
     "output_type": "stream",
     "text": [
      "samples collected: 3072\n",
      "samples collected: 3072 \tdeduped samples added: 406\n",
      "7765\n"
     ]
    },
    {
     "name": "stderr",
     "output_type": "stream",
     "text": [
      "                                                    \r"
     ]
    },
    {
     "name": "stdout",
     "output_type": "stream",
     "text": [
      "samples collected: 3072\n",
      "samples collected: 3072 \tdeduped samples added: 200\n",
      "7965\n"
     ]
    },
    {
     "name": "stderr",
     "output_type": "stream",
     "text": [
      "                                                    \r"
     ]
    },
    {
     "name": "stdout",
     "output_type": "stream",
     "text": [
      "samples collected: 3072\n",
      "samples collected: 3072 \tdeduped samples added: 173\n",
      "8138\n"
     ]
    },
    {
     "name": "stderr",
     "output_type": "stream",
     "text": [
      "                                                    \r"
     ]
    },
    {
     "name": "stdout",
     "output_type": "stream",
     "text": [
      "samples collected: 3072\n",
      "samples collected: 3072 \tdeduped samples added: 187\n",
      "8325\n"
     ]
    },
    {
     "name": "stderr",
     "output_type": "stream",
     "text": [
      "                                                    \r"
     ]
    },
    {
     "name": "stdout",
     "output_type": "stream",
     "text": [
      "samples collected: 3072\n",
      "samples collected: 3072 \tdeduped samples added: 172\n",
      "8497\n"
     ]
    },
    {
     "name": "stderr",
     "output_type": "stream",
     "text": [
      "                                                    \r"
     ]
    },
    {
     "name": "stdout",
     "output_type": "stream",
     "text": [
      "samples collected: 3072\n",
      "samples collected: 3072 \tdeduped samples added: 0\n",
      "8497\n"
     ]
    },
    {
     "name": "stderr",
     "output_type": "stream",
     "text": [
      "                                                    \r"
     ]
    },
    {
     "name": "stdout",
     "output_type": "stream",
     "text": [
      "samples collected: 3072\n",
      "samples collected: 3072 \tdeduped samples added: 423\n",
      "8920\n",
      "Saved 8656 samples to data/cortex_601_8656.json\n"
     ]
    },
    {
     "name": "stderr",
     "output_type": "stream",
     "text": [
      "                                                    \r"
     ]
    },
    {
     "name": "stdout",
     "output_type": "stream",
     "text": [
      "samples collected: 3072\n",
      "samples collected: 3072 \tdeduped samples added: 2982\n",
      "3246\n"
     ]
    },
    {
     "name": "stderr",
     "output_type": "stream",
     "text": [
      "                                                    \r"
     ]
    },
    {
     "name": "stdout",
     "output_type": "stream",
     "text": [
      "samples collected: 3072\n",
      "samples collected: 3072 \tdeduped samples added: 1779\n",
      "5025\n"
     ]
    },
    {
     "name": "stderr",
     "output_type": "stream",
     "text": [
      "                                                    \r"
     ]
    },
    {
     "name": "stdout",
     "output_type": "stream",
     "text": [
      "samples collected: 3072\n",
      "samples collected: 3072 \tdeduped samples added: 1951\n",
      "6976\n"
     ]
    },
    {
     "name": "stderr",
     "output_type": "stream",
     "text": [
      "                                                    \r"
     ]
    },
    {
     "name": "stdout",
     "output_type": "stream",
     "text": [
      "samples collected: 3072\n",
      "samples collected: 3072 \tdeduped samples added: 508\n",
      "7484\n"
     ]
    },
    {
     "name": "stderr",
     "output_type": "stream",
     "text": [
      "                                                    \r"
     ]
    },
    {
     "name": "stdout",
     "output_type": "stream",
     "text": [
      "samples collected: 3072\n",
      "samples collected: 3072 \tdeduped samples added: 794\n",
      "8278\n"
     ]
    },
    {
     "name": "stderr",
     "output_type": "stream",
     "text": [
      "                                                    \r"
     ]
    },
    {
     "name": "stdout",
     "output_type": "stream",
     "text": [
      "samples collected: 3072\n",
      "samples collected: 3072 \tdeduped samples added: 401\n",
      "8679\n",
      "Saved 8656 samples to data/cortex_602_8656.json\n"
     ]
    },
    {
     "name": "stderr",
     "output_type": "stream",
     "text": [
      "                                                    \r"
     ]
    },
    {
     "name": "stdout",
     "output_type": "stream",
     "text": [
      "samples collected: 3072\n",
      "samples collected: 3072 \tdeduped samples added: 3055\n",
      "3078\n"
     ]
    },
    {
     "name": "stderr",
     "output_type": "stream",
     "text": [
      "                                                    \r"
     ]
    },
    {
     "name": "stdout",
     "output_type": "stream",
     "text": [
      "samples collected: 3072\n",
      "samples collected: 3072 \tdeduped samples added: 1739\n",
      "4817\n"
     ]
    },
    {
     "name": "stderr",
     "output_type": "stream",
     "text": [
      "                                                    \r"
     ]
    },
    {
     "name": "stdout",
     "output_type": "stream",
     "text": [
      "samples collected: 3072\n",
      "samples collected: 3072 \tdeduped samples added: 1888\n",
      "6705\n"
     ]
    },
    {
     "name": "stderr",
     "output_type": "stream",
     "text": [
      "                                                    \r"
     ]
    },
    {
     "name": "stdout",
     "output_type": "stream",
     "text": [
      "samples collected: 3072\n",
      "samples collected: 3072 \tdeduped samples added: 853\n",
      "7558\n"
     ]
    },
    {
     "name": "stderr",
     "output_type": "stream",
     "text": [
      "                                                    \r"
     ]
    },
    {
     "name": "stdout",
     "output_type": "stream",
     "text": [
      "samples collected: 3072\n",
      "samples collected: 3072 \tdeduped samples added: 206\n",
      "7764\n"
     ]
    },
    {
     "name": "stderr",
     "output_type": "stream",
     "text": [
      "                                                    \r"
     ]
    },
    {
     "name": "stdout",
     "output_type": "stream",
     "text": [
      "samples collected: 3072\n",
      "samples collected: 3072 \tdeduped samples added: 644\n",
      "8408\n"
     ]
    },
    {
     "name": "stderr",
     "output_type": "stream",
     "text": [
      "                                                    \r"
     ]
    },
    {
     "name": "stdout",
     "output_type": "stream",
     "text": [
      "samples collected: 3072\n",
      "samples collected: 3072 \tdeduped samples added: 414\n",
      "8822\n",
      "Saved 8656 samples to data/cortex_603_8656.json\n"
     ]
    },
    {
     "name": "stderr",
     "output_type": "stream",
     "text": [
      "                                                    \r"
     ]
    },
    {
     "name": "stdout",
     "output_type": "stream",
     "text": [
      "samples collected: 3072\n",
      "samples collected: 3072 \tdeduped samples added: 3023\n",
      "3189\n"
     ]
    },
    {
     "name": "stderr",
     "output_type": "stream",
     "text": [
      "                                                    \r"
     ]
    },
    {
     "name": "stdout",
     "output_type": "stream",
     "text": [
      "samples collected: 3072\n",
      "samples collected: 3072 \tdeduped samples added: 1895\n",
      "5084\n"
     ]
    },
    {
     "name": "stderr",
     "output_type": "stream",
     "text": [
      "                                                    \r"
     ]
    },
    {
     "name": "stdout",
     "output_type": "stream",
     "text": [
      "samples collected: 3072\n",
      "samples collected: 3072 \tdeduped samples added: 1240\n",
      "6324\n"
     ]
    },
    {
     "name": "stderr",
     "output_type": "stream",
     "text": [
      "                                                    \r"
     ]
    },
    {
     "name": "stdout",
     "output_type": "stream",
     "text": [
      "samples collected: 3072\n",
      "samples collected: 3072 \tdeduped samples added: 1021\n",
      "7345\n"
     ]
    },
    {
     "name": "stderr",
     "output_type": "stream",
     "text": [
      "                                                    \r"
     ]
    },
    {
     "name": "stdout",
     "output_type": "stream",
     "text": [
      "samples collected: 3072\n",
      "samples collected: 3072 \tdeduped samples added: 642\n",
      "7987\n"
     ]
    },
    {
     "name": "stderr",
     "output_type": "stream",
     "text": [
      "                                                    \r"
     ]
    },
    {
     "name": "stdout",
     "output_type": "stream",
     "text": [
      "samples collected: 3072\n",
      "samples collected: 3072 \tdeduped samples added: 224\n",
      "8211\n"
     ]
    },
    {
     "name": "stderr",
     "output_type": "stream",
     "text": [
      "                                                    \r"
     ]
    },
    {
     "name": "stdout",
     "output_type": "stream",
     "text": [
      "samples collected: 3072\n",
      "samples collected: 3072 \tdeduped samples added: 426\n",
      "8637\n"
     ]
    },
    {
     "name": "stderr",
     "output_type": "stream",
     "text": [
      "                                                    \r"
     ]
    },
    {
     "name": "stdout",
     "output_type": "stream",
     "text": [
      "samples collected: 3072\n",
      "samples collected: 3072 \tdeduped samples added: 185\n",
      "8822\n",
      "Saved 8656 samples to data/cortex_604_8656.json\n"
     ]
    },
    {
     "name": "stderr",
     "output_type": "stream",
     "text": [
      "                                                    \r"
     ]
    },
    {
     "name": "stdout",
     "output_type": "stream",
     "text": [
      "samples collected: 3072\n",
      "samples collected: 3072 \tdeduped samples added: 3008\n",
      "3174\n"
     ]
    },
    {
     "name": "stderr",
     "output_type": "stream",
     "text": [
      "                                                    \r"
     ]
    },
    {
     "name": "stdout",
     "output_type": "stream",
     "text": [
      "samples collected: 3072\n",
      "samples collected: 3072 \tdeduped samples added: 2097\n",
      "5271\n"
     ]
    },
    {
     "name": "stderr",
     "output_type": "stream",
     "text": [
      "                                                    \r"
     ]
    },
    {
     "name": "stdout",
     "output_type": "stream",
     "text": [
      "samples collected: 3072\n",
      "samples collected: 3072 \tdeduped samples added: 1707\n",
      "6978\n"
     ]
    },
    {
     "name": "stderr",
     "output_type": "stream",
     "text": [
      "                                                    \r"
     ]
    },
    {
     "name": "stdout",
     "output_type": "stream",
     "text": [
      "samples collected: 3072\n",
      "samples collected: 3072 \tdeduped samples added: 229\n",
      "7207\n"
     ]
    },
    {
     "name": "stderr",
     "output_type": "stream",
     "text": [
      "                                                    \r"
     ]
    },
    {
     "name": "stdout",
     "output_type": "stream",
     "text": [
      "samples collected: 3072\n",
      "samples collected: 3072 \tdeduped samples added: 1473\n",
      "8680\n",
      "Saved 8656 samples to data/cortex_605_8656.json\n"
     ]
    },
    {
     "name": "stderr",
     "output_type": "stream",
     "text": [
      "                                                    \r"
     ]
    },
    {
     "name": "stdout",
     "output_type": "stream",
     "text": [
      "samples collected: 3072\n",
      "samples collected: 3072 \tdeduped samples added: 3057\n",
      "3081\n"
     ]
    },
    {
     "name": "stderr",
     "output_type": "stream",
     "text": [
      "                                                    \r"
     ]
    },
    {
     "name": "stdout",
     "output_type": "stream",
     "text": [
      "samples collected: 3072\n",
      "samples collected: 3072 \tdeduped samples added: 2216\n",
      "5297\n"
     ]
    },
    {
     "name": "stderr",
     "output_type": "stream",
     "text": [
      "                                                    \r"
     ]
    },
    {
     "name": "stdout",
     "output_type": "stream",
     "text": [
      "samples collected: 3072\n",
      "samples collected: 3072 \tdeduped samples added: 678\n",
      "5975\n"
     ]
    },
    {
     "name": "stderr",
     "output_type": "stream",
     "text": [
      "                                                    \r"
     ]
    },
    {
     "name": "stdout",
     "output_type": "stream",
     "text": [
      "samples collected: 3072\n",
      "samples collected: 3072 \tdeduped samples added: 1083\n",
      "7058\n"
     ]
    },
    {
     "name": "stderr",
     "output_type": "stream",
     "text": [
      "                                                    \r"
     ]
    },
    {
     "name": "stdout",
     "output_type": "stream",
     "text": [
      "samples collected: 3072\n",
      "samples collected: 3072 \tdeduped samples added: 1221\n",
      "8279\n"
     ]
    },
    {
     "name": "stderr",
     "output_type": "stream",
     "text": [
      "                                                    \r"
     ]
    },
    {
     "name": "stdout",
     "output_type": "stream",
     "text": [
      "samples collected: 3072\n",
      "samples collected: 3072 \tdeduped samples added: 826\n",
      "9105\n",
      "Saved 8656 samples to data/cortex_606_8656.json\n"
     ]
    },
    {
     "name": "stderr",
     "output_type": "stream",
     "text": [
      "                                                    \r"
     ]
    },
    {
     "name": "stdout",
     "output_type": "stream",
     "text": [
      "samples collected: 3072\n",
      "samples collected: 3072 \tdeduped samples added: 2941\n",
      "3390\n"
     ]
    },
    {
     "name": "stderr",
     "output_type": "stream",
     "text": [
      "                                                    \r"
     ]
    },
    {
     "name": "stdout",
     "output_type": "stream",
     "text": [
      "samples collected: 3072\n",
      "samples collected: 3072 \tdeduped samples added: 2087\n",
      "5477\n"
     ]
    },
    {
     "name": "stderr",
     "output_type": "stream",
     "text": [
      "                                                    \r"
     ]
    },
    {
     "name": "stdout",
     "output_type": "stream",
     "text": [
      "samples collected: 3072\n",
      "samples collected: 3072 \tdeduped samples added: 2015\n",
      "7492\n"
     ]
    },
    {
     "name": "stderr",
     "output_type": "stream",
     "text": [
      "                                                    \r"
     ]
    },
    {
     "name": "stdout",
     "output_type": "stream",
     "text": [
      "Did not collect 3072, only got 2443\n",
      "samples collected: 2443\n",
      "samples collected: 2443 \tdeduped samples added: 1069\n",
      "8561\n"
     ]
    },
    {
     "name": "stderr",
     "output_type": "stream",
     "text": [
      "                                                    \r"
     ]
    },
    {
     "name": "stdout",
     "output_type": "stream",
     "text": [
      "Did not collect 3072, only got 2421\n",
      "samples collected: 2421\n",
      "samples collected: 2421 \tdeduped samples added: 649\n",
      "9210\n",
      "Saved 8656 samples to data/cortex_607_8656.json\n"
     ]
    },
    {
     "name": "stderr",
     "output_type": "stream",
     "text": [
      "                                                    \r"
     ]
    },
    {
     "name": "stdout",
     "output_type": "stream",
     "text": [
      "Did not collect 3072, only got 2201\n",
      "samples collected: 2201\n",
      "samples collected: 2201 \tdeduped samples added: 2061\n",
      "2615\n"
     ]
    },
    {
     "name": "stderr",
     "output_type": "stream",
     "text": [
      "                                                    \r"
     ]
    },
    {
     "name": "stdout",
     "output_type": "stream",
     "text": [
      "Did not collect 3072, only got 2405\n",
      "samples collected: 2405\n",
      "samples collected: 2405 \tdeduped samples added: 415\n",
      "3030\n"
     ]
    },
    {
     "name": "stderr",
     "output_type": "stream",
     "text": [
      "                                                    \r"
     ]
    },
    {
     "name": "stdout",
     "output_type": "stream",
     "text": [
      "Did not collect 3072, only got 2220\n",
      "samples collected: 2220\n",
      "samples collected: 2220 \tdeduped samples added: 232\n",
      "3262\n"
     ]
    },
    {
     "name": "stderr",
     "output_type": "stream",
     "text": [
      "                                                    \r"
     ]
    },
    {
     "name": "stdout",
     "output_type": "stream",
     "text": [
      "Did not collect 3072, only got 2215\n",
      "samples collected: 2215\n",
      "samples collected: 2215 \tdeduped samples added: 227\n",
      "3489\n"
     ]
    },
    {
     "name": "stderr",
     "output_type": "stream",
     "text": [
      "                                                    \r"
     ]
    },
    {
     "name": "stdout",
     "output_type": "stream",
     "text": [
      "Did not collect 3072, only got 2399\n",
      "samples collected: 2399\n",
      "samples collected: 2399 \tdeduped samples added: 409\n",
      "3898\n"
     ]
    },
    {
     "name": "stderr",
     "output_type": "stream",
     "text": [
      "                                                    \r"
     ]
    },
    {
     "name": "stdout",
     "output_type": "stream",
     "text": [
      "Did not collect 3072, only got 2209\n",
      "samples collected: 2209\n",
      "samples collected: 2209 \tdeduped samples added: 445\n",
      "4343\n"
     ]
    },
    {
     "name": "stderr",
     "output_type": "stream",
     "text": [
      "                                                    \r"
     ]
    },
    {
     "name": "stdout",
     "output_type": "stream",
     "text": [
      "Did not collect 3072, only got 2165\n",
      "samples collected: 2165\n",
      "samples collected: 2165 \tdeduped samples added: 401\n",
      "4744\n"
     ]
    },
    {
     "name": "stderr",
     "output_type": "stream",
     "text": [
      "                                                    \r"
     ]
    },
    {
     "name": "stdout",
     "output_type": "stream",
     "text": [
      "Did not collect 3072, only got 2619\n",
      "samples collected: 2619\n",
      "samples collected: 2619 \tdeduped samples added: 652\n",
      "5396\n"
     ]
    },
    {
     "name": "stderr",
     "output_type": "stream",
     "text": [
      "                                                    \r"
     ]
    },
    {
     "name": "stdout",
     "output_type": "stream",
     "text": [
      "Did not collect 3072, only got 2418\n",
      "samples collected: 2418\n",
      "samples collected: 2418 \tdeduped samples added: 455\n",
      "5851\n"
     ]
    },
    {
     "name": "stderr",
     "output_type": "stream",
     "text": [
      "                                                    \r"
     ]
    },
    {
     "name": "stdout",
     "output_type": "stream",
     "text": [
      "Did not collect 3072, only got 1976\n",
      "samples collected: 1976\n",
      "samples collected: 1976 \tdeduped samples added: 456\n",
      "6307\n"
     ]
    },
    {
     "name": "stderr",
     "output_type": "stream",
     "text": [
      "                                                    \r"
     ]
    },
    {
     "name": "stdout",
     "output_type": "stream",
     "text": [
      "Did not collect 3072, only got 1973\n",
      "samples collected: 1973\n",
      "samples collected: 1973 \tdeduped samples added: 225\n",
      "6532\n"
     ]
    },
    {
     "name": "stderr",
     "output_type": "stream",
     "text": [
      "                                                    \r"
     ]
    },
    {
     "name": "stdout",
     "output_type": "stream",
     "text": [
      "Did not collect 3072, only got 2206\n",
      "samples collected: 2206\n",
      "samples collected: 2206 \tdeduped samples added: 449\n",
      "6981\n"
     ]
    },
    {
     "name": "stderr",
     "output_type": "stream",
     "text": [
      "                                                    \r"
     ]
    },
    {
     "name": "stdout",
     "output_type": "stream",
     "text": [
      "Did not collect 3072, only got 2117\n",
      "samples collected: 2117\n",
      "samples collected: 2117 \tdeduped samples added: 369\n",
      "7350\n"
     ]
    },
    {
     "name": "stderr",
     "output_type": "stream",
     "text": [
      "                                                    \r"
     ]
    },
    {
     "name": "stdout",
     "output_type": "stream",
     "text": [
      "Did not collect 3072, only got 1958\n",
      "samples collected: 1958\n",
      "samples collected: 1958 \tdeduped samples added: 210\n",
      "7560\n"
     ]
    },
    {
     "name": "stderr",
     "output_type": "stream",
     "text": [
      "                                                    \r"
     ]
    },
    {
     "name": "stdout",
     "output_type": "stream",
     "text": [
      "Did not collect 3072, only got 2202\n",
      "samples collected: 2202\n",
      "samples collected: 2202 \tdeduped samples added: 453\n",
      "8013\n"
     ]
    },
    {
     "name": "stderr",
     "output_type": "stream",
     "text": [
      "                                                    \r"
     ]
    },
    {
     "name": "stdout",
     "output_type": "stream",
     "text": [
      "Did not collect 3072, only got 2408\n",
      "samples collected: 2408\n",
      "samples collected: 2408 \tdeduped samples added: 657\n",
      "8670\n",
      "Saved 8656 samples to data/cortex_608_8656.json\n"
     ]
    },
    {
     "name": "stderr",
     "output_type": "stream",
     "text": [
      "                                                    \r"
     ]
    },
    {
     "name": "stdout",
     "output_type": "stream",
     "text": [
      "Did not collect 3072, only got 2155\n",
      "samples collected: 2155\n",
      "samples collected: 2155 \tdeduped samples added: 2155\n",
      "2169\n"
     ]
    },
    {
     "name": "stderr",
     "output_type": "stream",
     "text": [
      "                                                    \r"
     ]
    },
    {
     "name": "stdout",
     "output_type": "stream",
     "text": [
      "Did not collect 3072, only got 2206\n",
      "samples collected: 2206\n",
      "samples collected: 2206 \tdeduped samples added: 661\n",
      "2830\n"
     ]
    },
    {
     "name": "stderr",
     "output_type": "stream",
     "text": [
      "                                                    \r"
     ]
    },
    {
     "name": "stdout",
     "output_type": "stream",
     "text": [
      "Did not collect 3072, only got 1989\n",
      "samples collected: 1989\n",
      "samples collected: 1989 \tdeduped samples added: 446\n",
      "3276\n"
     ]
    },
    {
     "name": "stderr",
     "output_type": "stream",
     "text": [
      "                                                    \r"
     ]
    },
    {
     "name": "stdout",
     "output_type": "stream",
     "text": [
      "Did not collect 3072, only got 1996\n",
      "samples collected: 1996\n",
      "samples collected: 1996 \tdeduped samples added: 453\n",
      "3729\n"
     ]
    },
    {
     "name": "stderr",
     "output_type": "stream",
     "text": [
      "                                                    \r"
     ]
    },
    {
     "name": "stdout",
     "output_type": "stream",
     "text": [
      "Did not collect 3072, only got 1767\n",
      "samples collected: 1767\n",
      "samples collected: 1767 \tdeduped samples added: 0\n",
      "3729\n"
     ]
    },
    {
     "name": "stderr",
     "output_type": "stream",
     "text": [
      "                                                    \r"
     ]
    },
    {
     "name": "stdout",
     "output_type": "stream",
     "text": [
      "Did not collect 3072, only got 2206\n",
      "samples collected: 2206\n",
      "samples collected: 2206 \tdeduped samples added: 437\n",
      "4166\n"
     ]
    },
    {
     "name": "stderr",
     "output_type": "stream",
     "text": [
      "                                                    \r"
     ]
    },
    {
     "name": "stdout",
     "output_type": "stream",
     "text": [
      "Did not collect 3072, only got 2173\n",
      "samples collected: 2173\n",
      "samples collected: 2173 \tdeduped samples added: 403\n",
      "4569\n"
     ]
    },
    {
     "name": "stderr",
     "output_type": "stream",
     "text": [
      "                                                    \r"
     ]
    },
    {
     "name": "stdout",
     "output_type": "stream",
     "text": [
      "Did not collect 3072, only got 2198\n",
      "samples collected: 2198\n",
      "samples collected: 2198 \tdeduped samples added: 198\n",
      "4767\n"
     ]
    },
    {
     "name": "stderr",
     "output_type": "stream",
     "text": [
      "                                                    \r"
     ]
    },
    {
     "name": "stdout",
     "output_type": "stream",
     "text": [
      "Did not collect 3072, only got 2197\n",
      "samples collected: 2197\n",
      "samples collected: 2197 \tdeduped samples added: 194\n",
      "4961\n"
     ]
    },
    {
     "name": "stderr",
     "output_type": "stream",
     "text": [
      "                                                    \r"
     ]
    },
    {
     "name": "stdout",
     "output_type": "stream",
     "text": [
      "Did not collect 3072, only got 2188\n",
      "samples collected: 2188\n",
      "samples collected: 2188 \tdeduped samples added: 189\n",
      "5150\n"
     ]
    },
    {
     "name": "stderr",
     "output_type": "stream",
     "text": [
      "                                                    \r"
     ]
    },
    {
     "name": "stdout",
     "output_type": "stream",
     "text": [
      "Did not collect 3072, only got 2667\n",
      "samples collected: 2667\n",
      "samples collected: 2667 \tdeduped samples added: 667\n",
      "5817\n"
     ]
    },
    {
     "name": "stderr",
     "output_type": "stream",
     "text": [
      "                                                    \r"
     ]
    },
    {
     "name": "stdout",
     "output_type": "stream",
     "text": [
      "Did not collect 3072, only got 2624\n",
      "samples collected: 2624\n",
      "samples collected: 2624 \tdeduped samples added: 622\n",
      "6439\n"
     ]
    },
    {
     "name": "stderr",
     "output_type": "stream",
     "text": [
      "                                                    \r"
     ]
    },
    {
     "name": "stdout",
     "output_type": "stream",
     "text": [
      "Did not collect 3072, only got 1977\n",
      "samples collected: 1977\n",
      "samples collected: 1977 \tdeduped samples added: 445\n",
      "6884\n"
     ]
    },
    {
     "name": "stderr",
     "output_type": "stream",
     "text": [
      "                                                    \r"
     ]
    },
    {
     "name": "stdout",
     "output_type": "stream",
     "text": [
      "Did not collect 3072, only got 2175\n",
      "samples collected: 2175\n",
      "samples collected: 2175 \tdeduped samples added: 642\n",
      "7526\n"
     ]
    },
    {
     "name": "stderr",
     "output_type": "stream",
     "text": [
      "                                                    \r"
     ]
    },
    {
     "name": "stdout",
     "output_type": "stream",
     "text": [
      "Did not collect 3072, only got 2175\n",
      "samples collected: 2175\n",
      "samples collected: 2175 \tdeduped samples added: 652\n",
      "8178\n"
     ]
    },
    {
     "name": "stderr",
     "output_type": "stream",
     "text": [
      "                                                    \r"
     ]
    },
    {
     "name": "stdout",
     "output_type": "stream",
     "text": [
      "Did not collect 3072, only got 2169\n",
      "samples collected: 2169\n",
      "samples collected: 2169 \tdeduped samples added: 647\n",
      "8825\n",
      "Saved 8656 samples to data/cortex_609_8656.json\n"
     ]
    },
    {
     "name": "stderr",
     "output_type": "stream",
     "text": [
      "                                                    \r"
     ]
    },
    {
     "name": "stdout",
     "output_type": "stream",
     "text": [
      "Did not collect 3072, only got 1907\n",
      "samples collected: 1907\n",
      "samples collected: 1907 \tdeduped samples added: 1878\n",
      "2047\n"
     ]
    },
    {
     "name": "stderr",
     "output_type": "stream",
     "text": [
      "                                                    \r"
     ]
    },
    {
     "name": "stdout",
     "output_type": "stream",
     "text": [
      "Did not collect 3072, only got 1956\n",
      "samples collected: 1956\n",
      "samples collected: 1956 \tdeduped samples added: 435\n",
      "2482\n"
     ]
    },
    {
     "name": "stderr",
     "output_type": "stream",
     "text": [
      "                                                    \r"
     ]
    },
    {
     "name": "stdout",
     "output_type": "stream",
     "text": [
      "Did not collect 3072, only got 1744\n",
      "samples collected: 1744\n",
      "samples collected: 1744 \tdeduped samples added: 0\n",
      "2482\n"
     ]
    },
    {
     "name": "stderr",
     "output_type": "stream",
     "text": [
      "                                                    \r"
     ]
    },
    {
     "name": "stdout",
     "output_type": "stream",
     "text": [
      "Did not collect 3072, only got 1911\n",
      "samples collected: 1911\n",
      "samples collected: 1911 \tdeduped samples added: 166\n",
      "2648\n"
     ]
    },
    {
     "name": "stderr",
     "output_type": "stream",
     "text": [
      "                                                    \r"
     ]
    },
    {
     "name": "stdout",
     "output_type": "stream",
     "text": [
      "Did not collect 3072, only got 1944\n",
      "samples collected: 1944\n",
      "samples collected: 1944 \tdeduped samples added: 198\n",
      "2846\n"
     ]
    },
    {
     "name": "stderr",
     "output_type": "stream",
     "text": [
      "                                                    \r"
     ]
    },
    {
     "name": "stdout",
     "output_type": "stream",
     "text": [
      "Did not collect 3072, only got 1953\n",
      "samples collected: 1953\n",
      "samples collected: 1953 \tdeduped samples added: 209\n",
      "3055\n"
     ]
    },
    {
     "name": "stderr",
     "output_type": "stream",
     "text": [
      "                                                    \r"
     ]
    },
    {
     "name": "stdout",
     "output_type": "stream",
     "text": [
      "Did not collect 3072, only got 2194\n",
      "samples collected: 2194\n",
      "samples collected: 2194 \tdeduped samples added: 450\n",
      "3505\n"
     ]
    },
    {
     "name": "stderr",
     "output_type": "stream",
     "text": [
      "                                                    \r"
     ]
    },
    {
     "name": "stdout",
     "output_type": "stream",
     "text": [
      "Did not collect 3072, only got 2392\n",
      "samples collected: 2392\n",
      "samples collected: 2392 \tdeduped samples added: 647\n",
      "4152\n"
     ]
    },
    {
     "name": "stderr",
     "output_type": "stream",
     "text": [
      "                                                    \r"
     ]
    },
    {
     "name": "stdout",
     "output_type": "stream",
     "text": [
      "Did not collect 3072, only got 2612\n",
      "samples collected: 2612\n",
      "samples collected: 2612 \tdeduped samples added: 865\n",
      "5017\n"
     ]
    },
    {
     "name": "stderr",
     "output_type": "stream",
     "text": [
      "                                                    \r"
     ]
    },
    {
     "name": "stdout",
     "output_type": "stream",
     "text": [
      "Did not collect 3072, only got 2877\n",
      "samples collected: 2877\n",
      "samples collected: 2877 \tdeduped samples added: 906\n",
      "5923\n"
     ]
    },
    {
     "name": "stderr",
     "output_type": "stream",
     "text": [
      "                                                    \r"
     ]
    },
    {
     "name": "stdout",
     "output_type": "stream",
     "text": [
      "Did not collect 3072, only got 2657\n",
      "samples collected: 2657\n",
      "samples collected: 2657 \tdeduped samples added: 676\n",
      "6599\n"
     ]
    },
    {
     "name": "stderr",
     "output_type": "stream",
     "text": [
      "                                                    \r"
     ]
    },
    {
     "name": "stdout",
     "output_type": "stream",
     "text": [
      "Did not collect 3072, only got 2424\n",
      "samples collected: 2424\n",
      "samples collected: 2424 \tdeduped samples added: 206\n",
      "6805\n"
     ]
    },
    {
     "name": "stderr",
     "output_type": "stream",
     "text": [
      "                                                    \r"
     ]
    },
    {
     "name": "stdout",
     "output_type": "stream",
     "text": [
      "Did not collect 3072, only got 2429\n",
      "samples collected: 2429\n",
      "samples collected: 2429 \tdeduped samples added: 214\n",
      "7019\n"
     ]
    },
    {
     "name": "stderr",
     "output_type": "stream",
     "text": [
      "                                                    \r"
     ]
    },
    {
     "name": "stdout",
     "output_type": "stream",
     "text": [
      "Did not collect 3072, only got 2441\n",
      "samples collected: 2441\n",
      "samples collected: 2441 \tdeduped samples added: 226\n",
      "7245\n"
     ]
    },
    {
     "name": "stderr",
     "output_type": "stream",
     "text": [
      "                                                    \r"
     ]
    },
    {
     "name": "stdout",
     "output_type": "stream",
     "text": [
      "Did not collect 3072, only got 2448\n",
      "samples collected: 2448\n",
      "samples collected: 2448 \tdeduped samples added: 233\n",
      "7478\n"
     ]
    },
    {
     "name": "stderr",
     "output_type": "stream",
     "text": [
      "                                                    \r"
     ]
    },
    {
     "name": "stdout",
     "output_type": "stream",
     "text": [
      "Did not collect 3072, only got 2651\n",
      "samples collected: 2651\n",
      "samples collected: 2651 \tdeduped samples added: 431\n",
      "7909\n"
     ]
    },
    {
     "name": "stderr",
     "output_type": "stream",
     "text": [
      "                                                    \r"
     ]
    },
    {
     "name": "stdout",
     "output_type": "stream",
     "text": [
      "Did not collect 3072, only got 2448\n",
      "samples collected: 2448\n",
      "samples collected: 2448 \tdeduped samples added: 0\n",
      "7909\n"
     ]
    },
    {
     "name": "stderr",
     "output_type": "stream",
     "text": [
      "                                                    \r"
     ]
    },
    {
     "name": "stdout",
     "output_type": "stream",
     "text": [
      "Did not collect 3072, only got 2881\n",
      "samples collected: 2881\n",
      "samples collected: 2881 \tdeduped samples added: 661\n",
      "8570\n"
     ]
    },
    {
     "name": "stderr",
     "output_type": "stream",
     "text": [
      "                                                    \r"
     ]
    },
    {
     "name": "stdout",
     "output_type": "stream",
     "text": [
      "Did not collect 3072, only got 2404\n",
      "samples collected: 2404\n",
      "samples collected: 2404 \tdeduped samples added: 408\n",
      "8978\n",
      "Saved 8656 samples to data/cortex_610_8656.json\n"
     ]
    },
    {
     "name": "stderr",
     "output_type": "stream",
     "text": [
      "                                                    \r"
     ]
    },
    {
     "name": "stdout",
     "output_type": "stream",
     "text": [
      "Did not collect 3072, only got 2436\n",
      "samples collected: 2436\n",
      "samples collected: 2436 \tdeduped samples added: 2357\n",
      "2679\n"
     ]
    },
    {
     "name": "stderr",
     "output_type": "stream",
     "text": [
      "                                                    \r"
     ]
    },
    {
     "name": "stdout",
     "output_type": "stream",
     "text": [
      "Did not collect 3072, only got 2828\n",
      "samples collected: 2828\n",
      "samples collected: 2828 \tdeduped samples added: 392\n",
      "3071\n"
     ]
    },
    {
     "name": "stderr",
     "output_type": "stream",
     "text": [
      "                                                    \r"
     ]
    },
    {
     "name": "stdout",
     "output_type": "stream",
     "text": [
      "Did not collect 3072, only got 2628\n",
      "samples collected: 2628\n",
      "samples collected: 2628 \tdeduped samples added: 424\n",
      "3495\n"
     ]
    },
    {
     "name": "stderr",
     "output_type": "stream",
     "text": [
      "                                                    \r"
     ]
    },
    {
     "name": "stdout",
     "output_type": "stream",
     "text": [
      "Did not collect 3072, only got 2642\n",
      "samples collected: 2642\n",
      "samples collected: 2642 \tdeduped samples added: 436\n",
      "3931\n"
     ]
    },
    {
     "name": "stderr",
     "output_type": "stream",
     "text": [
      "                                                    \r"
     ]
    },
    {
     "name": "stdout",
     "output_type": "stream",
     "text": [
      "Did not collect 3072, only got 2388\n",
      "samples collected: 2388\n",
      "samples collected: 2388 \tdeduped samples added: 183\n",
      "4114\n"
     ]
    },
    {
     "name": "stderr",
     "output_type": "stream",
     "text": [
      "                                                    \r"
     ]
    },
    {
     "name": "stdout",
     "output_type": "stream",
     "text": [
      "Did not collect 3072, only got 2437\n",
      "samples collected: 2437\n",
      "samples collected: 2437 \tdeduped samples added: 233\n",
      "4347\n"
     ]
    },
    {
     "name": "stderr",
     "output_type": "stream",
     "text": [
      "                                                    \r"
     ]
    },
    {
     "name": "stdout",
     "output_type": "stream",
     "text": [
      "Did not collect 3072, only got 2204\n",
      "samples collected: 2204\n",
      "samples collected: 2204 \tdeduped samples added: 0\n",
      "4347\n"
     ]
    },
    {
     "name": "stderr",
     "output_type": "stream",
     "text": [
      "                                                    \r"
     ]
    },
    {
     "name": "stdout",
     "output_type": "stream",
     "text": [
      "Did not collect 3072, only got 2609\n",
      "samples collected: 2609\n",
      "samples collected: 2609 \tdeduped samples added: 404\n",
      "4751\n"
     ]
    },
    {
     "name": "stderr",
     "output_type": "stream",
     "text": [
      "                                                    \r"
     ]
    },
    {
     "name": "stdout",
     "output_type": "stream",
     "text": [
      "Did not collect 3072, only got 2618\n",
      "samples collected: 2618\n",
      "samples collected: 2618 \tdeduped samples added: 411\n",
      "5162\n"
     ]
    },
    {
     "name": "stderr",
     "output_type": "stream",
     "text": [
      "                                                    \r"
     ]
    },
    {
     "name": "stdout",
     "output_type": "stream",
     "text": [
      "Did not collect 3072, only got 2635\n",
      "samples collected: 2635\n",
      "samples collected: 2635 \tdeduped samples added: 431\n",
      "5593\n"
     ]
    },
    {
     "name": "stderr",
     "output_type": "stream",
     "text": [
      "                                                    \r"
     ]
    },
    {
     "name": "stdout",
     "output_type": "stream",
     "text": [
      "Did not collect 3072, only got 2601\n",
      "samples collected: 2601\n",
      "samples collected: 2601 \tdeduped samples added: 622\n",
      "6215\n"
     ]
    },
    {
     "name": "stderr",
     "output_type": "stream",
     "text": [
      "                                                    \r"
     ]
    },
    {
     "name": "stdout",
     "output_type": "stream",
     "text": [
      "Did not collect 3072, only got 2414\n",
      "samples collected: 2414\n",
      "samples collected: 2414 \tdeduped samples added: 436\n",
      "6651\n"
     ]
    },
    {
     "name": "stderr",
     "output_type": "stream",
     "text": [
      "                                                    \r"
     ]
    },
    {
     "name": "stdout",
     "output_type": "stream",
     "text": [
      "Did not collect 3072, only got 2393\n",
      "samples collected: 2393\n",
      "samples collected: 2393 \tdeduped samples added: 202\n",
      "6853\n"
     ]
    },
    {
     "name": "stderr",
     "output_type": "stream",
     "text": [
      "                                                    \r"
     ]
    },
    {
     "name": "stdout",
     "output_type": "stream",
     "text": [
      "Did not collect 3072, only got 2632\n",
      "samples collected: 2632\n",
      "samples collected: 2632 \tdeduped samples added: 440\n",
      "7293\n"
     ]
    },
    {
     "name": "stderr",
     "output_type": "stream",
     "text": [
      "                                                    \r"
     ]
    },
    {
     "name": "stdout",
     "output_type": "stream",
     "text": [
      "Did not collect 3072, only got 2398\n",
      "samples collected: 2398\n",
      "samples collected: 2398 \tdeduped samples added: 207\n",
      "7500\n"
     ]
    },
    {
     "name": "stderr",
     "output_type": "stream",
     "text": [
      "                                                    \r"
     ]
    },
    {
     "name": "stdout",
     "output_type": "stream",
     "text": [
      "Did not collect 3072, only got 2626\n",
      "samples collected: 2626\n",
      "samples collected: 2626 \tdeduped samples added: 226\n",
      "7726\n"
     ]
    },
    {
     "name": "stderr",
     "output_type": "stream",
     "text": [
      "                                                    \r"
     ]
    },
    {
     "name": "stdout",
     "output_type": "stream",
     "text": [
      "Did not collect 3072, only got 2398\n",
      "samples collected: 2398\n",
      "samples collected: 2398 \tdeduped samples added: 0\n",
      "7726\n"
     ]
    },
    {
     "name": "stderr",
     "output_type": "stream",
     "text": [
      "                                                    \r"
     ]
    },
    {
     "name": "stdout",
     "output_type": "stream",
     "text": [
      "Did not collect 3072, only got 2615\n",
      "samples collected: 2615\n",
      "samples collected: 2615 \tdeduped samples added: 214\n",
      "7940\n"
     ]
    },
    {
     "name": "stderr",
     "output_type": "stream",
     "text": [
      "                                                    \r"
     ]
    },
    {
     "name": "stdout",
     "output_type": "stream",
     "text": [
      "Did not collect 3072, only got 2575\n",
      "samples collected: 2575\n",
      "samples collected: 2575 \tdeduped samples added: 408\n",
      "8348\n"
     ]
    },
    {
     "name": "stderr",
     "output_type": "stream",
     "text": [
      "                                                    \r"
     ]
    },
    {
     "name": "stdout",
     "output_type": "stream",
     "text": [
      "Did not collect 3072, only got 2373\n",
      "samples collected: 2373\n",
      "samples collected: 2373 \tdeduped samples added: 207\n",
      "8555\n"
     ]
    },
    {
     "name": "stderr",
     "output_type": "stream",
     "text": [
      "                                                    \r"
     ]
    },
    {
     "name": "stdout",
     "output_type": "stream",
     "text": [
      "Did not collect 3072, only got 2842\n",
      "samples collected: 2842\n",
      "samples collected: 2842 \tdeduped samples added: 675\n",
      "9230\n",
      "Saved 8656 samples to data/cortex_611_8656.json\n"
     ]
    },
    {
     "name": "stderr",
     "output_type": "stream",
     "text": [
      "                                                    \r"
     ]
    },
    {
     "name": "stdout",
     "output_type": "stream",
     "text": [
      "Did not collect 3072, only got 2586\n",
      "samples collected: 2586\n",
      "samples collected: 2586 \tdeduped samples added: 2465\n",
      "3039\n"
     ]
    },
    {
     "name": "stderr",
     "output_type": "stream",
     "text": [
      "                                                    \r"
     ]
    },
    {
     "name": "stdout",
     "output_type": "stream",
     "text": [
      "Did not collect 3072, only got 2586\n",
      "samples collected: 2586\n",
      "samples collected: 2586 \tdeduped samples added: 633\n",
      "3672\n"
     ]
    },
    {
     "name": "stderr",
     "output_type": "stream",
     "text": [
      "                                                    \r"
     ]
    },
    {
     "name": "stdout",
     "output_type": "stream",
     "text": [
      "Did not collect 3072, only got 2134\n",
      "samples collected: 2134\n",
      "samples collected: 2134 \tdeduped samples added: 418\n",
      "4090\n"
     ]
    },
    {
     "name": "stderr",
     "output_type": "stream",
     "text": [
      "                                                    \r"
     ]
    },
    {
     "name": "stdout",
     "output_type": "stream",
     "text": [
      "Did not collect 3072, only got 2398\n",
      "samples collected: 2398\n",
      "samples collected: 2398 \tdeduped samples added: 665\n",
      "4755\n"
     ]
    },
    {
     "name": "stderr",
     "output_type": "stream",
     "text": [
      "                                                    \r"
     ]
    },
    {
     "name": "stdout",
     "output_type": "stream",
     "text": [
      "Did not collect 3072, only got 2349\n",
      "samples collected: 2349\n",
      "samples collected: 2349 \tdeduped samples added: 613\n",
      "5368\n"
     ]
    },
    {
     "name": "stderr",
     "output_type": "stream",
     "text": [
      "                                                    \r"
     ]
    },
    {
     "name": "stdout",
     "output_type": "stream",
     "text": [
      "Did not collect 3072, only got 2391\n",
      "samples collected: 2391\n",
      "samples collected: 2391 \tdeduped samples added: 657\n",
      "6025\n"
     ]
    },
    {
     "name": "stderr",
     "output_type": "stream",
     "text": [
      "                                                    \r"
     ]
    },
    {
     "name": "stdout",
     "output_type": "stream",
     "text": [
      "Did not collect 3072, only got 2603\n",
      "samples collected: 2603\n",
      "samples collected: 2603 \tdeduped samples added: 644\n",
      "6669\n"
     ]
    },
    {
     "name": "stderr",
     "output_type": "stream",
     "text": [
      "                                                    \r"
     ]
    },
    {
     "name": "stdout",
     "output_type": "stream",
     "text": [
      "Did not collect 3072, only got 2619\n",
      "samples collected: 2619\n",
      "samples collected: 2619 \tdeduped samples added: 445\n",
      "7114\n"
     ]
    },
    {
     "name": "stderr",
     "output_type": "stream",
     "text": [
      "                                                    \r"
     ]
    },
    {
     "name": "stdout",
     "output_type": "stream",
     "text": [
      "Did not collect 3072, only got 2615\n",
      "samples collected: 2615\n",
      "samples collected: 2615 \tdeduped samples added: 211\n",
      "7325\n"
     ]
    },
    {
     "name": "stderr",
     "output_type": "stream",
     "text": [
      "                                                    \r"
     ]
    },
    {
     "name": "stdout",
     "output_type": "stream",
     "text": [
      "Did not collect 3072, only got 2850\n",
      "samples collected: 2850\n",
      "samples collected: 2850 \tdeduped samples added: 448\n",
      "7773\n"
     ]
    },
    {
     "name": "stderr",
     "output_type": "stream",
     "text": [
      "                                                    \r"
     ]
    },
    {
     "name": "stdout",
     "output_type": "stream",
     "text": [
      "Did not collect 3072, only got 2427\n",
      "samples collected: 2427\n",
      "samples collected: 2427 \tdeduped samples added: 234\n",
      "8007\n"
     ]
    },
    {
     "name": "stderr",
     "output_type": "stream",
     "text": [
      "                                                    \r"
     ]
    },
    {
     "name": "stdout",
     "output_type": "stream",
     "text": [
      "Did not collect 3072, only got 2853\n",
      "samples collected: 2853\n",
      "samples collected: 2853 \tdeduped samples added: 426\n",
      "8433\n"
     ]
    },
    {
     "name": "stderr",
     "output_type": "stream",
     "text": [
      "                                                    \r"
     ]
    },
    {
     "name": "stdout",
     "output_type": "stream",
     "text": [
      "Did not collect 3072, only got 2396\n",
      "samples collected: 2396\n",
      "samples collected: 2396 \tdeduped samples added: 429\n",
      "8862\n",
      "Saved 8656 samples to data/cortex_612_8656.json\n"
     ]
    },
    {
     "name": "stderr",
     "output_type": "stream",
     "text": [
      "                                                    \r"
     ]
    },
    {
     "name": "stdout",
     "output_type": "stream",
     "text": [
      "Did not collect 3072, only got 2620\n",
      "samples collected: 2620\n",
      "samples collected: 2620 \tdeduped samples added: 2571\n",
      "2777\n"
     ]
    },
    {
     "name": "stderr",
     "output_type": "stream",
     "text": [
      "                                                    \r"
     ]
    },
    {
     "name": "stdout",
     "output_type": "stream",
     "text": [
      "Did not collect 3072, only got 2645\n",
      "samples collected: 2645\n",
      "samples collected: 2645 \tdeduped samples added: 893\n",
      "3670\n"
     ]
    },
    {
     "name": "stderr",
     "output_type": "stream",
     "text": [
      "                                                    \r"
     ]
    },
    {
     "name": "stdout",
     "output_type": "stream",
     "text": [
      "Did not collect 3072, only got 2198\n",
      "samples collected: 2198\n",
      "samples collected: 2198 \tdeduped samples added: 448\n",
      "4118\n"
     ]
    },
    {
     "name": "stderr",
     "output_type": "stream",
     "text": [
      "                                                    \r"
     ]
    },
    {
     "name": "stdout",
     "output_type": "stream",
     "text": [
      "Did not collect 3072, only got 2410\n",
      "samples collected: 2410\n",
      "samples collected: 2410 \tdeduped samples added: 659\n",
      "4777\n"
     ]
    },
    {
     "name": "stderr",
     "output_type": "stream",
     "text": [
      "                                                    \r"
     ]
    },
    {
     "name": "stdout",
     "output_type": "stream",
     "text": [
      "Did not collect 3072, only got 2630\n",
      "samples collected: 2630\n",
      "samples collected: 2630 \tdeduped samples added: 662\n",
      "5439\n"
     ]
    },
    {
     "name": "stderr",
     "output_type": "stream",
     "text": [
      "                                                    \r"
     ]
    },
    {
     "name": "stdout",
     "output_type": "stream",
     "text": [
      "Did not collect 3072, only got 2409\n",
      "samples collected: 2409\n",
      "samples collected: 2409 \tdeduped samples added: 441\n",
      "5880\n"
     ]
    },
    {
     "name": "stderr",
     "output_type": "stream",
     "text": [
      "                                                    \r"
     ]
    },
    {
     "name": "stdout",
     "output_type": "stream",
     "text": [
      "Did not collect 3072, only got 2614\n",
      "samples collected: 2614\n",
      "samples collected: 2614 \tdeduped samples added: 361\n",
      "6241\n"
     ]
    },
    {
     "name": "stderr",
     "output_type": "stream",
     "text": [
      "                                                    \r"
     ]
    },
    {
     "name": "stdout",
     "output_type": "stream",
     "text": [
      "Did not collect 3072, only got 2584\n",
      "samples collected: 2584\n",
      "samples collected: 2584 \tdeduped samples added: 404\n",
      "6645\n"
     ]
    },
    {
     "name": "stderr",
     "output_type": "stream",
     "text": [
      "                                                    \r"
     ]
    },
    {
     "name": "stdout",
     "output_type": "stream",
     "text": [
      "Did not collect 3072, only got 2619\n",
      "samples collected: 2619\n",
      "samples collected: 2619 \tdeduped samples added: 439\n",
      "7084\n"
     ]
    },
    {
     "name": "stderr",
     "output_type": "stream",
     "text": [
      "                                                    \r"
     ]
    },
    {
     "name": "stdout",
     "output_type": "stream",
     "text": [
      "Did not collect 3072, only got 2820\n",
      "samples collected: 2820\n",
      "samples collected: 2820 \tdeduped samples added: 406\n",
      "7490\n"
     ]
    },
    {
     "name": "stderr",
     "output_type": "stream",
     "text": [
      "                                                    \r"
     ]
    },
    {
     "name": "stdout",
     "output_type": "stream",
     "text": [
      "Did not collect 3072, only got 2599\n",
      "samples collected: 2599\n",
      "samples collected: 2599 \tdeduped samples added: 330\n",
      "7820\n"
     ]
    },
    {
     "name": "stderr",
     "output_type": "stream",
     "text": [
      "                                                    \r"
     ]
    },
    {
     "name": "stdout",
     "output_type": "stream",
     "text": [
      "Did not collect 3072, only got 2608\n",
      "samples collected: 2608\n",
      "samples collected: 2608 \tdeduped samples added: 419\n",
      "8239\n"
     ]
    },
    {
     "name": "stderr",
     "output_type": "stream",
     "text": [
      "                                                    \r"
     ]
    },
    {
     "name": "stdout",
     "output_type": "stream",
     "text": [
      "Did not collect 3072, only got 2415\n",
      "samples collected: 2415\n",
      "samples collected: 2415 \tdeduped samples added: 228\n",
      "8467\n"
     ]
    },
    {
     "name": "stderr",
     "output_type": "stream",
     "text": [
      "                                                    \r"
     ]
    },
    {
     "name": "stdout",
     "output_type": "stream",
     "text": [
      "Did not collect 3072, only got 2640\n",
      "samples collected: 2640\n",
      "samples collected: 2640 \tdeduped samples added: 438\n",
      "8905\n",
      "Saved 8656 samples to data/cortex_613_8656.json\n"
     ]
    },
    {
     "name": "stderr",
     "output_type": "stream",
     "text": [
      "                                                    \r"
     ]
    },
    {
     "name": "stdout",
     "output_type": "stream",
     "text": [
      "Did not collect 3072, only got 2638\n",
      "samples collected: 2638\n",
      "samples collected: 2638 \tdeduped samples added: 2582\n",
      "2831\n"
     ]
    },
    {
     "name": "stderr",
     "output_type": "stream",
     "text": [
      "                                                    \r"
     ]
    },
    {
     "name": "stdout",
     "output_type": "stream",
     "text": [
      "Did not collect 3072, only got 2426\n",
      "samples collected: 2426\n",
      "samples collected: 2426 \tdeduped samples added: 0\n",
      "2831\n"
     ]
    },
    {
     "name": "stderr",
     "output_type": "stream",
     "text": [
      "                                                    \r"
     ]
    },
    {
     "name": "stdout",
     "output_type": "stream",
     "text": [
      "Did not collect 3072, only got 2634\n",
      "samples collected: 2634\n",
      "samples collected: 2634 \tdeduped samples added: 207\n",
      "3038\n"
     ]
    },
    {
     "name": "stderr",
     "output_type": "stream",
     "text": [
      "                                                    \r"
     ]
    },
    {
     "name": "stdout",
     "output_type": "stream",
     "text": [
      "Did not collect 3072, only got 2632\n",
      "samples collected: 2632\n",
      "samples collected: 2632 \tdeduped samples added: 206\n",
      "3244\n"
     ]
    },
    {
     "name": "stderr",
     "output_type": "stream",
     "text": [
      "                                                    \r"
     ]
    },
    {
     "name": "stdout",
     "output_type": "stream",
     "text": [
      "Did not collect 3072, only got 2623\n",
      "samples collected: 2623\n",
      "samples collected: 2623 \tdeduped samples added: 401\n",
      "3645\n"
     ]
    },
    {
     "name": "stderr",
     "output_type": "stream",
     "text": [
      "                                                    \r"
     ]
    },
    {
     "name": "stdout",
     "output_type": "stream",
     "text": [
      "Did not collect 3072, only got 2418\n",
      "samples collected: 2418\n",
      "samples collected: 2418 \tdeduped samples added: 199\n",
      "3844\n"
     ]
    },
    {
     "name": "stderr",
     "output_type": "stream",
     "text": [
      "                                                    \r"
     ]
    },
    {
     "name": "stdout",
     "output_type": "stream",
     "text": [
      "Did not collect 3072, only got 3061\n",
      "samples collected: 3061\n",
      "samples collected: 3061 \tdeduped samples added: 842\n",
      "4686\n"
     ]
    },
    {
     "name": "stderr",
     "output_type": "stream",
     "text": [
      "                                                    \r"
     ]
    },
    {
     "name": "stdout",
     "output_type": "stream",
     "text": [
      "Did not collect 3072, only got 2389\n",
      "samples collected: 2389\n",
      "samples collected: 2389 \tdeduped samples added: 397\n",
      "5083\n"
     ]
    },
    {
     "name": "stderr",
     "output_type": "stream",
     "text": [
      "                                                    \r"
     ]
    },
    {
     "name": "stdout",
     "output_type": "stream",
     "text": [
      "Did not collect 3072, only got 2429\n",
      "samples collected: 2429\n",
      "samples collected: 2429 \tdeduped samples added: 438\n",
      "5521\n"
     ]
    },
    {
     "name": "stderr",
     "output_type": "stream",
     "text": [
      "                                                    \r"
     ]
    },
    {
     "name": "stdout",
     "output_type": "stream",
     "text": [
      "Did not collect 3072, only got 2569\n",
      "samples collected: 2569\n",
      "samples collected: 2569 \tdeduped samples added: 593\n",
      "6114\n"
     ]
    },
    {
     "name": "stderr",
     "output_type": "stream",
     "text": [
      "                                                    \r"
     ]
    },
    {
     "name": "stdout",
     "output_type": "stream",
     "text": [
      "Did not collect 3072, only got 2406\n",
      "samples collected: 2406\n",
      "samples collected: 2406 \tdeduped samples added: 644\n",
      "6758\n"
     ]
    },
    {
     "name": "stderr",
     "output_type": "stream",
     "text": [
      "                                                    \r"
     ]
    },
    {
     "name": "stdout",
     "output_type": "stream",
     "text": [
      "Did not collect 3072, only got 2164\n",
      "samples collected: 2164\n",
      "samples collected: 2164 \tdeduped samples added: 405\n",
      "7163\n"
     ]
    },
    {
     "name": "stderr",
     "output_type": "stream",
     "text": [
      "                                                    \r"
     ]
    },
    {
     "name": "stdout",
     "output_type": "stream",
     "text": [
      "Did not collect 3072, only got 2415\n",
      "samples collected: 2415\n",
      "samples collected: 2415 \tdeduped samples added: 668\n",
      "7831\n"
     ]
    },
    {
     "name": "stderr",
     "output_type": "stream",
     "text": [
      "                                                    \r"
     ]
    },
    {
     "name": "stdout",
     "output_type": "stream",
     "text": [
      "Did not collect 3072, only got 2426\n",
      "samples collected: 2426\n",
      "samples collected: 2426 \tdeduped samples added: 679\n",
      "8510\n"
     ]
    },
    {
     "name": "stderr",
     "output_type": "stream",
     "text": [
      "                                                    \r"
     ]
    },
    {
     "name": "stdout",
     "output_type": "stream",
     "text": [
      "Did not collect 3072, only got 2193\n",
      "samples collected: 2193\n",
      "samples collected: 2193 \tdeduped samples added: 447\n",
      "8957\n",
      "Saved 8656 samples to data/cortex_614_8656.json\n"
     ]
    },
    {
     "name": "stderr",
     "output_type": "stream",
     "text": [
      "                                                    \r"
     ]
    },
    {
     "name": "stdout",
     "output_type": "stream",
     "text": [
      "Did not collect 3072, only got 2176\n",
      "samples collected: 2176\n",
      "samples collected: 2176 \tdeduped samples added: 2098\n",
      "2399\n"
     ]
    },
    {
     "name": "stderr",
     "output_type": "stream",
     "text": [
      "                                                    \r"
     ]
    },
    {
     "name": "stdout",
     "output_type": "stream",
     "text": [
      "Did not collect 3072, only got 1972\n",
      "samples collected: 1972\n",
      "samples collected: 1972 \tdeduped samples added: 0\n",
      "2399\n"
     ]
    },
    {
     "name": "stderr",
     "output_type": "stream",
     "text": [
      "                                                    \r"
     ]
    },
    {
     "name": "stdout",
     "output_type": "stream",
     "text": [
      "Did not collect 3072, only got 2374\n",
      "samples collected: 2374\n",
      "samples collected: 2374 \tdeduped samples added: 401\n",
      "2800\n"
     ]
    },
    {
     "name": "stderr",
     "output_type": "stream",
     "text": [
      "                                                    \r"
     ]
    },
    {
     "name": "stdout",
     "output_type": "stream",
     "text": [
      "Did not collect 3072, only got 1985\n",
      "samples collected: 1985\n",
      "samples collected: 1985 \tdeduped samples added: 228\n",
      "3028\n"
     ]
    },
    {
     "name": "stderr",
     "output_type": "stream",
     "text": [
      "                                                    \r"
     ]
    },
    {
     "name": "stdout",
     "output_type": "stream",
     "text": [
      "Did not collect 3072, only got 2189\n",
      "samples collected: 2189\n",
      "samples collected: 2189 \tdeduped samples added: 433\n",
      "3461\n"
     ]
    },
    {
     "name": "stderr",
     "output_type": "stream",
     "text": [
      "                                                    \r"
     ]
    },
    {
     "name": "stdout",
     "output_type": "stream",
     "text": [
      "Did not collect 3072, only got 2208\n",
      "samples collected: 2208\n",
      "samples collected: 2208 \tdeduped samples added: 221\n",
      "3682\n"
     ]
    },
    {
     "name": "stderr",
     "output_type": "stream",
     "text": [
      "                                                    \r"
     ]
    },
    {
     "name": "stdout",
     "output_type": "stream",
     "text": [
      "Did not collect 3072, only got 1986\n",
      "samples collected: 1986\n",
      "samples collected: 1986 \tdeduped samples added: 0\n",
      "3682\n"
     ]
    },
    {
     "name": "stderr",
     "output_type": "stream",
     "text": [
      "                                                    \r"
     ]
    },
    {
     "name": "stdout",
     "output_type": "stream",
     "text": [
      "Did not collect 3072, only got 2203\n",
      "samples collected: 2203\n",
      "samples collected: 2203 \tdeduped samples added: 217\n",
      "3899\n"
     ]
    },
    {
     "name": "stderr",
     "output_type": "stream",
     "text": [
      "                                                    \r"
     ]
    },
    {
     "name": "stdout",
     "output_type": "stream",
     "text": [
      "Did not collect 3072, only got 2202\n",
      "samples collected: 2202\n",
      "samples collected: 2202 \tdeduped samples added: 210\n",
      "4109\n"
     ]
    },
    {
     "name": "stderr",
     "output_type": "stream",
     "text": [
      "                                                    \r"
     ]
    },
    {
     "name": "stdout",
     "output_type": "stream",
     "text": [
      "Did not collect 3072, only got 1986\n",
      "samples collected: 1986\n",
      "samples collected: 1986 \tdeduped samples added: 0\n",
      "4109\n"
     ]
    },
    {
     "name": "stderr",
     "output_type": "stream",
     "text": [
      "                                                    \r"
     ]
    },
    {
     "name": "stdout",
     "output_type": "stream",
     "text": [
      "Did not collect 3072, only got 2214\n",
      "samples collected: 2214\n",
      "samples collected: 2214 \tdeduped samples added: 220\n",
      "4329\n"
     ]
    },
    {
     "name": "stderr",
     "output_type": "stream",
     "text": [
      "                                                    \r"
     ]
    },
    {
     "name": "stdout",
     "output_type": "stream",
     "text": [
      "Did not collect 3072, only got 2192\n",
      "samples collected: 2192\n",
      "samples collected: 2192 \tdeduped samples added: 195\n",
      "4524\n"
     ]
    },
    {
     "name": "stderr",
     "output_type": "stream",
     "text": [
      "                                                    \r"
     ]
    },
    {
     "name": "stdout",
     "output_type": "stream",
     "text": [
      "Did not collect 3072, only got 2419\n",
      "samples collected: 2419\n",
      "samples collected: 2419 \tdeduped samples added: 428\n",
      "4952\n"
     ]
    },
    {
     "name": "stderr",
     "output_type": "stream",
     "text": [
      "                                                    \r"
     ]
    },
    {
     "name": "stdout",
     "output_type": "stream",
     "text": [
      "Did not collect 3072, only got 2420\n",
      "samples collected: 2420\n",
      "samples collected: 2420 \tdeduped samples added: 429\n",
      "5381\n"
     ]
    },
    {
     "name": "stderr",
     "output_type": "stream",
     "text": [
      "                                                    \r"
     ]
    },
    {
     "name": "stdout",
     "output_type": "stream",
     "text": [
      "Did not collect 3072, only got 2636\n",
      "samples collected: 2636\n",
      "samples collected: 2636 \tdeduped samples added: 416\n",
      "5797\n"
     ]
    },
    {
     "name": "stderr",
     "output_type": "stream",
     "text": [
      "                                                    \r"
     ]
    },
    {
     "name": "stdout",
     "output_type": "stream",
     "text": [
      "Did not collect 3072, only got 2357\n",
      "samples collected: 2357\n",
      "samples collected: 2357 \tdeduped samples added: 370\n",
      "6167\n"
     ]
    },
    {
     "name": "stderr",
     "output_type": "stream",
     "text": [
      "                                                    \r"
     ]
    },
    {
     "name": "stdout",
     "output_type": "stream",
     "text": [
      "Did not collect 3072, only got 2208\n",
      "samples collected: 2208\n",
      "samples collected: 2208 \tdeduped samples added: 226\n",
      "6393\n"
     ]
    },
    {
     "name": "stderr",
     "output_type": "stream",
     "text": [
      "                                                    \r"
     ]
    },
    {
     "name": "stdout",
     "output_type": "stream",
     "text": [
      "Did not collect 3072, only got 2431\n",
      "samples collected: 2431\n",
      "samples collected: 2431 \tdeduped samples added: 439\n",
      "6832\n"
     ]
    },
    {
     "name": "stderr",
     "output_type": "stream",
     "text": [
      "                                                    \r"
     ]
    },
    {
     "name": "stdout",
     "output_type": "stream",
     "text": [
      "Did not collect 3072, only got 2420\n",
      "samples collected: 2420\n",
      "samples collected: 2420 \tdeduped samples added: 153\n",
      "6985\n"
     ]
    },
    {
     "name": "stderr",
     "output_type": "stream",
     "text": [
      "                                                    \r"
     ]
    },
    {
     "name": "stdout",
     "output_type": "stream",
     "text": [
      "Did not collect 3072, only got 2407\n",
      "samples collected: 2407\n",
      "samples collected: 2407 \tdeduped samples added: 198\n",
      "7183\n"
     ]
    },
    {
     "name": "stderr",
     "output_type": "stream",
     "text": [
      "                                                    \r"
     ]
    },
    {
     "name": "stdout",
     "output_type": "stream",
     "text": [
      "Did not collect 3072, only got 2207\n",
      "samples collected: 2207\n",
      "samples collected: 2207 \tdeduped samples added: 0\n",
      "7183\n"
     ]
    },
    {
     "name": "stderr",
     "output_type": "stream",
     "text": [
      "                                                    \r"
     ]
    },
    {
     "name": "stdout",
     "output_type": "stream",
     "text": [
      "Did not collect 3072, only got 2403\n",
      "samples collected: 2403\n",
      "samples collected: 2403 \tdeduped samples added: 196\n",
      "7379\n"
     ]
    },
    {
     "name": "stderr",
     "output_type": "stream",
     "text": [
      "                                                    \r"
     ]
    },
    {
     "name": "stdout",
     "output_type": "stream",
     "text": [
      "Did not collect 3072, only got 2427\n",
      "samples collected: 2427\n",
      "samples collected: 2427 \tdeduped samples added: 216\n",
      "7595\n"
     ]
    },
    {
     "name": "stderr",
     "output_type": "stream",
     "text": [
      "                                                    \r"
     ]
    },
    {
     "name": "stdout",
     "output_type": "stream",
     "text": [
      "Did not collect 3072, only got 2411\n",
      "samples collected: 2411\n",
      "samples collected: 2411 \tdeduped samples added: 193\n",
      "7788\n"
     ]
    },
    {
     "name": "stderr",
     "output_type": "stream",
     "text": [
      "                                                    \r"
     ]
    },
    {
     "name": "stdout",
     "output_type": "stream",
     "text": [
      "Did not collect 3072, only got 2415\n",
      "samples collected: 2415\n",
      "samples collected: 2415 \tdeduped samples added: 206\n",
      "7994\n"
     ]
    },
    {
     "name": "stderr",
     "output_type": "stream",
     "text": [
      "                                                    \r"
     ]
    },
    {
     "name": "stdout",
     "output_type": "stream",
     "text": [
      "Did not collect 3072, only got 2640\n",
      "samples collected: 2640\n",
      "samples collected: 2640 \tdeduped samples added: 394\n",
      "8388\n"
     ]
    },
    {
     "name": "stderr",
     "output_type": "stream",
     "text": [
      "                                                    \r"
     ]
    },
    {
     "name": "stdout",
     "output_type": "stream",
     "text": [
      "Did not collect 3072, only got 2404\n",
      "samples collected: 2404\n",
      "samples collected: 2404 \tdeduped samples added: 387\n",
      "8775\n",
      "Saved 8656 samples to data/cortex_615_8656.json\n"
     ]
    },
    {
     "name": "stderr",
     "output_type": "stream",
     "text": [
      "                                                    \r"
     ]
    },
    {
     "name": "stdout",
     "output_type": "stream",
     "text": [
      "Did not collect 3072, only got 2422\n",
      "samples collected: 2422\n",
      "samples collected: 2422 \tdeduped samples added: 2389\n",
      "2508\n"
     ]
    },
    {
     "name": "stderr",
     "output_type": "stream",
     "text": [
      "                                                    \r"
     ]
    },
    {
     "name": "stdout",
     "output_type": "stream",
     "text": [
      "Did not collect 3072, only got 2209\n",
      "samples collected: 2209\n",
      "samples collected: 2209 \tdeduped samples added: 224\n",
      "2732\n"
     ]
    },
    {
     "name": "stderr",
     "output_type": "stream",
     "text": [
      "                                                    \r"
     ]
    },
    {
     "name": "stdout",
     "output_type": "stream",
     "text": [
      "Did not collect 3072, only got 2403\n",
      "samples collected: 2403\n",
      "samples collected: 2403 \tdeduped samples added: 416\n",
      "3148\n"
     ]
    },
    {
     "name": "stderr",
     "output_type": "stream",
     "text": [
      "                                                    \r"
     ]
    },
    {
     "name": "stdout",
     "output_type": "stream",
     "text": [
      "Did not collect 3072, only got 2421\n",
      "samples collected: 2421\n",
      "samples collected: 2421 \tdeduped samples added: 421\n",
      "3569\n"
     ]
    },
    {
     "name": "stderr",
     "output_type": "stream",
     "text": [
      "                                                    \r"
     ]
    },
    {
     "name": "stdout",
     "output_type": "stream",
     "text": [
      "Did not collect 3072, only got 2217\n",
      "samples collected: 2217\n",
      "samples collected: 2217 \tdeduped samples added: 232\n",
      "3801\n"
     ]
    },
    {
     "name": "stderr",
     "output_type": "stream",
     "text": [
      "                                                    \r"
     ]
    },
    {
     "name": "stdout",
     "output_type": "stream",
     "text": [
      "Did not collect 3072, only got 2416\n",
      "samples collected: 2416\n",
      "samples collected: 2416 \tdeduped samples added: 431\n",
      "4232\n"
     ]
    },
    {
     "name": "stderr",
     "output_type": "stream",
     "text": [
      "                                                    \r"
     ]
    },
    {
     "name": "stdout",
     "output_type": "stream",
     "text": [
      "Did not collect 3072, only got 2188\n",
      "samples collected: 2188\n",
      "samples collected: 2188 \tdeduped samples added: 193\n",
      "4425\n"
     ]
    },
    {
     "name": "stderr",
     "output_type": "stream",
     "text": [
      "                                                    \r"
     ]
    },
    {
     "name": "stdout",
     "output_type": "stream",
     "text": [
      "Did not collect 3072, only got 2180\n",
      "samples collected: 2180\n",
      "samples collected: 2180 \tdeduped samples added: 192\n",
      "4617\n"
     ]
    },
    {
     "name": "stderr",
     "output_type": "stream",
     "text": [
      "                                                    \r"
     ]
    },
    {
     "name": "stdout",
     "output_type": "stream",
     "text": [
      "Did not collect 3072, only got 2209\n",
      "samples collected: 2209\n",
      "samples collected: 2209 \tdeduped samples added: 223\n",
      "4840\n"
     ]
    },
    {
     "name": "stderr",
     "output_type": "stream",
     "text": [
      "                                                    \r"
     ]
    },
    {
     "name": "stdout",
     "output_type": "stream",
     "text": [
      "Did not collect 3072, only got 2399\n",
      "samples collected: 2399\n",
      "samples collected: 2399 \tdeduped samples added: 406\n",
      "5246\n"
     ]
    },
    {
     "name": "stderr",
     "output_type": "stream",
     "text": [
      "                                                    \r"
     ]
    },
    {
     "name": "stdout",
     "output_type": "stream",
     "text": [
      "Did not collect 3072, only got 2405\n",
      "samples collected: 2405\n",
      "samples collected: 2405 \tdeduped samples added: 397\n",
      "5643\n"
     ]
    },
    {
     "name": "stderr",
     "output_type": "stream",
     "text": [
      "                                                    \r"
     ]
    },
    {
     "name": "stdout",
     "output_type": "stream",
     "text": [
      "Did not collect 3072, only got 2224\n",
      "samples collected: 2224\n",
      "samples collected: 2224 \tdeduped samples added: 209\n",
      "5852\n"
     ]
    },
    {
     "name": "stderr",
     "output_type": "stream",
     "text": [
      "                                                    \r"
     ]
    },
    {
     "name": "stdout",
     "output_type": "stream",
     "text": [
      "Did not collect 3072, only got 2216\n",
      "samples collected: 2216\n",
      "samples collected: 2216 \tdeduped samples added: 211\n",
      "6063\n"
     ]
    },
    {
     "name": "stderr",
     "output_type": "stream",
     "text": [
      "                                                    \r"
     ]
    },
    {
     "name": "stdout",
     "output_type": "stream",
     "text": [
      "Did not collect 3072, only got 2217\n",
      "samples collected: 2217\n",
      "samples collected: 2217 \tdeduped samples added: 203\n",
      "6266\n"
     ]
    },
    {
     "name": "stderr",
     "output_type": "stream",
     "text": [
      "                                                    \r"
     ]
    },
    {
     "name": "stdout",
     "output_type": "stream",
     "text": [
      "Did not collect 3072, only got 2210\n",
      "samples collected: 2210\n",
      "samples collected: 2210 \tdeduped samples added: 69\n",
      "6335\n"
     ]
    },
    {
     "name": "stderr",
     "output_type": "stream",
     "text": [
      "                                                    \r"
     ]
    },
    {
     "name": "stdout",
     "output_type": "stream",
     "text": [
      "Did not collect 3072, only got 2205\n",
      "samples collected: 2205\n",
      "samples collected: 2205 \tdeduped samples added: 195\n",
      "6530\n"
     ]
    },
    {
     "name": "stderr",
     "output_type": "stream",
     "text": [
      "                                                    \r"
     ]
    },
    {
     "name": "stdout",
     "output_type": "stream",
     "text": [
      "Did not collect 3072, only got 2417\n",
      "samples collected: 2417\n",
      "samples collected: 2417 \tdeduped samples added: 412\n",
      "6942\n"
     ]
    },
    {
     "name": "stderr",
     "output_type": "stream",
     "text": [
      "                                                    \r"
     ]
    },
    {
     "name": "stdout",
     "output_type": "stream",
     "text": [
      "Did not collect 3072, only got 1984\n",
      "samples collected: 1984\n",
      "samples collected: 1984 \tdeduped samples added: 205\n",
      "7147\n"
     ]
    },
    {
     "name": "stderr",
     "output_type": "stream",
     "text": [
      "                                                    \r"
     ]
    },
    {
     "name": "stdout",
     "output_type": "stream",
     "text": [
      "Did not collect 3072, only got 2405\n",
      "samples collected: 2405\n",
      "samples collected: 2405 \tdeduped samples added: 625\n",
      "7772\n"
     ]
    },
    {
     "name": "stderr",
     "output_type": "stream",
     "text": [
      "                                                    \r"
     ]
    },
    {
     "name": "stdout",
     "output_type": "stream",
     "text": [
      "Did not collect 3072, only got 1754\n",
      "samples collected: 1754\n",
      "samples collected: 1754 \tdeduped samples added: 197\n",
      "7969\n"
     ]
    },
    {
     "name": "stderr",
     "output_type": "stream",
     "text": [
      "                                                    \r"
     ]
    },
    {
     "name": "stdout",
     "output_type": "stream",
     "text": [
      "Did not collect 3072, only got 1973\n",
      "samples collected: 1973\n",
      "samples collected: 1973 \tdeduped samples added: 418\n",
      "8387\n"
     ]
    },
    {
     "name": "stderr",
     "output_type": "stream",
     "text": [
      "                                                    \r"
     ]
    },
    {
     "name": "stdout",
     "output_type": "stream",
     "text": [
      "Did not collect 3072, only got 2205\n",
      "samples collected: 2205\n",
      "samples collected: 2205 \tdeduped samples added: 648\n",
      "9035\n",
      "Saved 8656 samples to data/cortex_616_8656.json\n"
     ]
    },
    {
     "name": "stderr",
     "output_type": "stream",
     "text": [
      "                                                    \r"
     ]
    },
    {
     "name": "stdout",
     "output_type": "stream",
     "text": [
      "Did not collect 3072, only got 2450\n",
      "samples collected: 2450\n",
      "samples collected: 2450 \tdeduped samples added: 2371\n",
      "2750\n"
     ]
    },
    {
     "name": "stderr",
     "output_type": "stream",
     "text": [
      "                                                    \r"
     ]
    },
    {
     "name": "stdout",
     "output_type": "stream",
     "text": [
      "Did not collect 3072, only got 2015\n",
      "samples collected: 2015\n",
      "samples collected: 2015 \tdeduped samples added: 440\n",
      "3190\n"
     ]
    },
    {
     "name": "stderr",
     "output_type": "stream",
     "text": [
      "                                                    \r"
     ]
    },
    {
     "name": "stdout",
     "output_type": "stream",
     "text": [
      "Did not collect 3072, only got 2188\n",
      "samples collected: 2188\n",
      "samples collected: 2188 \tdeduped samples added: 613\n",
      "3803\n"
     ]
    },
    {
     "name": "stderr",
     "output_type": "stream",
     "text": [
      "                                                    \r"
     ]
    },
    {
     "name": "stdout",
     "output_type": "stream",
     "text": [
      "Did not collect 3072, only got 2387\n",
      "samples collected: 2387\n",
      "samples collected: 2387 \tdeduped samples added: 799\n",
      "4602\n"
     ]
    },
    {
     "name": "stderr",
     "output_type": "stream",
     "text": [
      "                                                    \r"
     ]
    },
    {
     "name": "stdout",
     "output_type": "stream",
     "text": [
      "Did not collect 3072, only got 2248\n",
      "samples collected: 2248\n",
      "samples collected: 2248 \tdeduped samples added: 673\n",
      "5275\n"
     ]
    },
    {
     "name": "stderr",
     "output_type": "stream",
     "text": [
      "                                                    \r"
     ]
    },
    {
     "name": "stdout",
     "output_type": "stream",
     "text": [
      "Did not collect 3072, only got 2004\n",
      "samples collected: 2004\n",
      "samples collected: 2004 \tdeduped samples added: 405\n",
      "5680\n"
     ]
    },
    {
     "name": "stderr",
     "output_type": "stream",
     "text": [
      "                                                    \r"
     ]
    },
    {
     "name": "stdout",
     "output_type": "stream",
     "text": [
      "Did not collect 3072, only got 2431\n",
      "samples collected: 2431\n",
      "samples collected: 2431 \tdeduped samples added: 824\n",
      "6504\n"
     ]
    },
    {
     "name": "stderr",
     "output_type": "stream",
     "text": [
      "                                                    \r"
     ]
    },
    {
     "name": "stdout",
     "output_type": "stream",
     "text": [
      "Did not collect 3072, only got 1996\n",
      "samples collected: 1996\n",
      "samples collected: 1996 \tdeduped samples added: 290\n",
      "6794\n"
     ]
    },
    {
     "name": "stderr",
     "output_type": "stream",
     "text": [
      "                                                    \r"
     ]
    },
    {
     "name": "stdout",
     "output_type": "stream",
     "text": [
      "Did not collect 3072, only got 2449\n",
      "samples collected: 2449\n",
      "samples collected: 2449 \tdeduped samples added: 857\n",
      "7651\n"
     ]
    },
    {
     "name": "stderr",
     "output_type": "stream",
     "text": [
      "                                                    \r"
     ]
    },
    {
     "name": "stdout",
     "output_type": "stream",
     "text": [
      "Did not collect 3072, only got 2232\n",
      "samples collected: 2232\n",
      "samples collected: 2232 \tdeduped samples added: 425\n",
      "8076\n"
     ]
    },
    {
     "name": "stderr",
     "output_type": "stream",
     "text": [
      "                                                    \r"
     ]
    },
    {
     "name": "stdout",
     "output_type": "stream",
     "text": [
      "Did not collect 3072, only got 2184\n",
      "samples collected: 2184\n",
      "samples collected: 2184 \tdeduped samples added: 608\n",
      "8684\n",
      "Saved 8656 samples to data/cortex_617_8656.json\n"
     ]
    },
    {
     "name": "stderr",
     "output_type": "stream",
     "text": [
      "                                                    \r"
     ]
    },
    {
     "name": "stdout",
     "output_type": "stream",
     "text": [
      "Did not collect 3072, only got 2640\n",
      "samples collected: 2640\n",
      "samples collected: 2640 \tdeduped samples added: 2628\n",
      "2656\n"
     ]
    },
    {
     "name": "stderr",
     "output_type": "stream",
     "text": [
      "                                                    \r"
     ]
    },
    {
     "name": "stdout",
     "output_type": "stream",
     "text": [
      "Did not collect 3072, only got 2451\n",
      "samples collected: 2451\n",
      "samples collected: 2451 \tdeduped samples added: 894\n",
      "3550\n"
     ]
    },
    {
     "name": "stderr",
     "output_type": "stream",
     "text": [
      "                                                    \r"
     ]
    },
    {
     "name": "stdout",
     "output_type": "stream",
     "text": [
      "Did not collect 3072, only got 2220\n",
      "samples collected: 2220\n",
      "samples collected: 2220 \tdeduped samples added: 522\n",
      "4072\n"
     ]
    },
    {
     "name": "stderr",
     "output_type": "stream",
     "text": [
      "                                                    \r"
     ]
    },
    {
     "name": "stdout",
     "output_type": "stream",
     "text": [
      "Did not collect 3072, only got 2455\n",
      "samples collected: 2455\n",
      "samples collected: 2455 \tdeduped samples added: 879\n",
      "4951\n"
     ]
    },
    {
     "name": "stderr",
     "output_type": "stream",
     "text": [
      "                                                    \r"
     ]
    },
    {
     "name": "stdout",
     "output_type": "stream",
     "text": [
      "Did not collect 3072, only got 2195\n",
      "samples collected: 2195\n",
      "samples collected: 2195 \tdeduped samples added: 637\n",
      "5588\n"
     ]
    },
    {
     "name": "stderr",
     "output_type": "stream",
     "text": [
      "                                                    \r"
     ]
    },
    {
     "name": "stdout",
     "output_type": "stream",
     "text": [
      "Did not collect 3072, only got 2006\n",
      "samples collected: 2006\n",
      "samples collected: 2006 \tdeduped samples added: 451\n",
      "6039\n"
     ]
    },
    {
     "name": "stderr",
     "output_type": "stream",
     "text": [
      "                                                    \r"
     ]
    },
    {
     "name": "stdout",
     "output_type": "stream",
     "text": [
      "Did not collect 3072, only got 2234\n",
      "samples collected: 2234\n",
      "samples collected: 2234 \tdeduped samples added: 678\n",
      "6717\n"
     ]
    },
    {
     "name": "stderr",
     "output_type": "stream",
     "text": [
      "                                                    \r"
     ]
    },
    {
     "name": "stdout",
     "output_type": "stream",
     "text": [
      "Did not collect 3072, only got 2003\n",
      "samples collected: 2003\n",
      "samples collected: 2003 \tdeduped samples added: 391\n",
      "7108\n"
     ]
    },
    {
     "name": "stderr",
     "output_type": "stream",
     "text": [
      "                                                    \r"
     ]
    },
    {
     "name": "stdout",
     "output_type": "stream",
     "text": [
      "Did not collect 3072, only got 1791\n",
      "samples collected: 1791\n",
      "samples collected: 1791 \tdeduped samples added: 236\n",
      "7344\n"
     ]
    },
    {
     "name": "stderr",
     "output_type": "stream",
     "text": [
      "                                                    \r"
     ]
    },
    {
     "name": "stdout",
     "output_type": "stream",
     "text": [
      "Did not collect 3072, only got 1729\n",
      "samples collected: 1729\n",
      "samples collected: 1729 \tdeduped samples added: 174\n",
      "7518\n"
     ]
    },
    {
     "name": "stderr",
     "output_type": "stream",
     "text": [
      "                                                    \r"
     ]
    },
    {
     "name": "stdout",
     "output_type": "stream",
     "text": [
      "Did not collect 3072, only got 1961\n",
      "samples collected: 1961\n",
      "samples collected: 1961 \tdeduped samples added: 396\n",
      "7914\n"
     ]
    },
    {
     "name": "stderr",
     "output_type": "stream",
     "text": [
      "                                                    \r"
     ]
    },
    {
     "name": "stdout",
     "output_type": "stream",
     "text": [
      "Did not collect 3072, only got 2192\n",
      "samples collected: 2192\n",
      "samples collected: 2192 \tdeduped samples added: 383\n",
      "8297\n"
     ]
    },
    {
     "name": "stderr",
     "output_type": "stream",
     "text": [
      "                                                    \r"
     ]
    },
    {
     "name": "stdout",
     "output_type": "stream",
     "text": [
      "Did not collect 3072, only got 2212\n",
      "samples collected: 2212\n",
      "samples collected: 2212 \tdeduped samples added: 654\n",
      "8951\n",
      "Saved 8656 samples to data/cortex_618_8656.json\n"
     ]
    },
    {
     "name": "stderr",
     "output_type": "stream",
     "text": [
      "                                                    \r"
     ]
    },
    {
     "name": "stdout",
     "output_type": "stream",
     "text": [
      "Did not collect 3072, only got 2202\n",
      "samples collected: 2202\n",
      "samples collected: 2202 \tdeduped samples added: 2155\n",
      "2450\n"
     ]
    },
    {
     "name": "stderr",
     "output_type": "stream",
     "text": [
      "                                                    \r"
     ]
    },
    {
     "name": "stdout",
     "output_type": "stream",
     "text": [
      "Did not collect 3072, only got 2211\n",
      "samples collected: 2211\n",
      "samples collected: 2211 \tdeduped samples added: 623\n",
      "3073\n"
     ]
    },
    {
     "name": "stderr",
     "output_type": "stream",
     "text": [
      "                                                    \r"
     ]
    },
    {
     "name": "stdout",
     "output_type": "stream",
     "text": [
      "Did not collect 3072, only got 2197\n",
      "samples collected: 2197\n",
      "samples collected: 2197 \tdeduped samples added: 872\n",
      "3945\n"
     ]
    },
    {
     "name": "stderr",
     "output_type": "stream",
     "text": [
      "                                                    \r"
     ]
    },
    {
     "name": "stdout",
     "output_type": "stream",
     "text": [
      "Did not collect 3072, only got 2459\n",
      "samples collected: 2459\n",
      "samples collected: 2459 \tdeduped samples added: 1101\n",
      "5046\n"
     ]
    },
    {
     "name": "stderr",
     "output_type": "stream",
     "text": [
      "                                                    \r"
     ]
    },
    {
     "name": "stdout",
     "output_type": "stream",
     "text": [
      "Did not collect 3072, only got 1990\n",
      "samples collected: 1990\n",
      "samples collected: 1990 \tdeduped samples added: 878\n",
      "5924\n"
     ]
    },
    {
     "name": "stderr",
     "output_type": "stream",
     "text": [
      "                                                    \r"
     ]
    },
    {
     "name": "stdout",
     "output_type": "stream",
     "text": [
      "Did not collect 3072, only got 1749\n",
      "samples collected: 1749\n",
      "samples collected: 1749 \tdeduped samples added: 422\n",
      "6346\n"
     ]
    },
    {
     "name": "stderr",
     "output_type": "stream",
     "text": [
      "                                                    \r"
     ]
    },
    {
     "name": "stdout",
     "output_type": "stream",
     "text": [
      "Did not collect 3072, only got 1783\n",
      "samples collected: 1783\n",
      "samples collected: 1783 \tdeduped samples added: 442\n",
      "6788\n"
     ]
    },
    {
     "name": "stderr",
     "output_type": "stream",
     "text": [
      "                                                    \r"
     ]
    },
    {
     "name": "stdout",
     "output_type": "stream",
     "text": [
      "Did not collect 3072, only got 1541\n",
      "samples collected: 1541\n",
      "samples collected: 1541 \tdeduped samples added: 217\n",
      "7005\n"
     ]
    },
    {
     "name": "stderr",
     "output_type": "stream",
     "text": [
      "                                                    \r"
     ]
    },
    {
     "name": "stdout",
     "output_type": "stream",
     "text": [
      "Did not collect 3072, only got 1769\n",
      "samples collected: 1769\n",
      "samples collected: 1769 \tdeduped samples added: 444\n",
      "7449\n"
     ]
    },
    {
     "name": "stderr",
     "output_type": "stream",
     "text": [
      "                                                    \r"
     ]
    },
    {
     "name": "stdout",
     "output_type": "stream",
     "text": [
      "Did not collect 3072, only got 1764\n",
      "samples collected: 1764\n",
      "samples collected: 1764 \tdeduped samples added: 436\n",
      "7885\n"
     ]
    },
    {
     "name": "stderr",
     "output_type": "stream",
     "text": [
      "                                                    \r"
     ]
    },
    {
     "name": "stdout",
     "output_type": "stream",
     "text": [
      "Did not collect 3072, only got 1970\n",
      "samples collected: 1970\n",
      "samples collected: 1970 \tdeduped samples added: 642\n",
      "8527\n"
     ]
    },
    {
     "name": "stderr",
     "output_type": "stream",
     "text": [
      "                                                    \r"
     ]
    },
    {
     "name": "stdout",
     "output_type": "stream",
     "text": [
      "Did not collect 3072, only got 1323\n",
      "samples collected: 1323\n",
      "samples collected: 1323 \tdeduped samples added: 0\n",
      "8527\n"
     ]
    },
    {
     "name": "stderr",
     "output_type": "stream",
     "text": [
      "                                                    \r"
     ]
    },
    {
     "name": "stdout",
     "output_type": "stream",
     "text": [
      "Did not collect 3072, only got 1925\n",
      "samples collected: 1925\n",
      "samples collected: 1925 \tdeduped samples added: 498\n",
      "9025\n",
      "Saved 8656 samples to data/cortex_619_8656.json\n"
     ]
    },
    {
     "name": "stderr",
     "output_type": "stream",
     "text": [
      "                                                    \r"
     ]
    },
    {
     "name": "stdout",
     "output_type": "stream",
     "text": [
      "Did not collect 3072, only got 1981\n",
      "samples collected: 1981\n",
      "samples collected: 1981 \tdeduped samples added: 1926\n",
      "2295\n"
     ]
    },
    {
     "name": "stderr",
     "output_type": "stream",
     "text": [
      "                                                    \r"
     ]
    },
    {
     "name": "stdout",
     "output_type": "stream",
     "text": [
      "Did not collect 3072, only got 1752\n",
      "samples collected: 1752\n",
      "samples collected: 1752 \tdeduped samples added: 606\n",
      "2901\n"
     ]
    },
    {
     "name": "stderr",
     "output_type": "stream",
     "text": [
      "                                                    \r"
     ]
    },
    {
     "name": "stdout",
     "output_type": "stream",
     "text": [
      "Did not collect 3072, only got 1760\n",
      "samples collected: 1760\n",
      "samples collected: 1760 \tdeduped samples added: 231\n",
      "3132\n"
     ]
    },
    {
     "name": "stderr",
     "output_type": "stream",
     "text": [
      "                                                    \r"
     ]
    },
    {
     "name": "stdout",
     "output_type": "stream",
     "text": [
      "Did not collect 3072, only got 1759\n",
      "samples collected: 1759\n",
      "samples collected: 1759 \tdeduped samples added: 336\n",
      "3468\n"
     ]
    },
    {
     "name": "stderr",
     "output_type": "stream",
     "text": [
      "                                                    \r"
     ]
    },
    {
     "name": "stdout",
     "output_type": "stream",
     "text": [
      "Did not collect 3072, only got 1723\n",
      "samples collected: 1723\n",
      "samples collected: 1723 \tdeduped samples added: 321\n",
      "3789\n"
     ]
    },
    {
     "name": "stderr",
     "output_type": "stream",
     "text": [
      "                                                    \r"
     ]
    },
    {
     "name": "stdout",
     "output_type": "stream",
     "text": [
      "Did not collect 3072, only got 1735\n",
      "samples collected: 1735\n",
      "samples collected: 1735 \tdeduped samples added: 225\n",
      "4014\n"
     ]
    },
    {
     "name": "stderr",
     "output_type": "stream",
     "text": [
      "                                                    \r"
     ]
    },
    {
     "name": "stdout",
     "output_type": "stream",
     "text": [
      "Did not collect 3072, only got 1542\n",
      "samples collected: 1542\n",
      "samples collected: 1542 \tdeduped samples added: 151\n",
      "4165\n"
     ]
    },
    {
     "name": "stderr",
     "output_type": "stream",
     "text": [
      "                                                    \r"
     ]
    },
    {
     "name": "stdout",
     "output_type": "stream",
     "text": [
      "Did not collect 3072, only got 1542\n",
      "samples collected: 1542\n",
      "samples collected: 1542 \tdeduped samples added: 0\n",
      "4165\n"
     ]
    },
    {
     "name": "stderr",
     "output_type": "stream",
     "text": [
      "                                                    \r"
     ]
    },
    {
     "name": "stdout",
     "output_type": "stream",
     "text": [
      "Did not collect 3072, only got 1762\n",
      "samples collected: 1762\n",
      "samples collected: 1762 \tdeduped samples added: 305\n",
      "4470\n"
     ]
    },
    {
     "name": "stderr",
     "output_type": "stream",
     "text": [
      "                                                    \r"
     ]
    },
    {
     "name": "stdout",
     "output_type": "stream",
     "text": [
      "Did not collect 3072, only got 1329\n",
      "samples collected: 1329\n",
      "samples collected: 1329 \tdeduped samples added: 232\n",
      "4702\n"
     ]
    },
    {
     "name": "stderr",
     "output_type": "stream",
     "text": [
      "                                                    \r"
     ]
    },
    {
     "name": "stdout",
     "output_type": "stream",
     "text": [
      "Did not collect 3072, only got 1313\n",
      "samples collected: 1313\n",
      "samples collected: 1313 \tdeduped samples added: 12\n",
      "4714\n"
     ]
    },
    {
     "name": "stderr",
     "output_type": "stream",
     "text": [
      "                                                    \r"
     ]
    },
    {
     "name": "stdout",
     "output_type": "stream",
     "text": [
      "Did not collect 3072, only got 1767\n",
      "samples collected: 1767\n",
      "samples collected: 1767 \tdeduped samples added: 670\n",
      "5384\n"
     ]
    },
    {
     "name": "stderr",
     "output_type": "stream",
     "text": [
      "                                                    \r"
     ]
    },
    {
     "name": "stdout",
     "output_type": "stream",
     "text": [
      "Did not collect 3072, only got 1938\n",
      "samples collected: 1938\n",
      "samples collected: 1938 \tdeduped samples added: 602\n",
      "5986\n"
     ]
    },
    {
     "name": "stderr",
     "output_type": "stream",
     "text": [
      "                                                    \r"
     ]
    },
    {
     "name": "stdout",
     "output_type": "stream",
     "text": [
      "Did not collect 3072, only got 1984\n",
      "samples collected: 1984\n",
      "samples collected: 1984 \tdeduped samples added: 618\n",
      "6604\n"
     ]
    },
    {
     "name": "stderr",
     "output_type": "stream",
     "text": [
      "                                                    \r"
     ]
    },
    {
     "name": "stdout",
     "output_type": "stream",
     "text": [
      "Did not collect 3072, only got 2184\n",
      "samples collected: 2184\n",
      "samples collected: 2184 \tdeduped samples added: 784\n",
      "7388\n"
     ]
    },
    {
     "name": "stderr",
     "output_type": "stream",
     "text": [
      "                                                    \r"
     ]
    },
    {
     "name": "stdout",
     "output_type": "stream",
     "text": [
      "Did not collect 3072, only got 1949\n",
      "samples collected: 1949\n",
      "samples collected: 1949 \tdeduped samples added: 441\n",
      "7829\n"
     ]
    },
    {
     "name": "stderr",
     "output_type": "stream",
     "text": [
      "                                                    \r"
     ]
    },
    {
     "name": "stdout",
     "output_type": "stream",
     "text": [
      "Did not collect 3072, only got 1947\n",
      "samples collected: 1947\n",
      "samples collected: 1947 \tdeduped samples added: 322\n",
      "8151\n"
     ]
    },
    {
     "name": "stderr",
     "output_type": "stream",
     "text": [
      "                                                    \r"
     ]
    },
    {
     "name": "stdout",
     "output_type": "stream",
     "text": [
      "Did not collect 3072, only got 1963\n",
      "samples collected: 1963\n",
      "samples collected: 1963 \tdeduped samples added: 411\n",
      "8562\n"
     ]
    },
    {
     "name": "stderr",
     "output_type": "stream",
     "text": [
      "                                                    \r"
     ]
    },
    {
     "name": "stdout",
     "output_type": "stream",
     "text": [
      "Did not collect 3072, only got 2130\n",
      "samples collected: 2130\n",
      "samples collected: 2130 \tdeduped samples added: 391\n",
      "8953\n",
      "Saved 8656 samples to data/cortex_620_8656.json\n"
     ]
    },
    {
     "name": "stderr",
     "output_type": "stream",
     "text": [
      "                                                    \r"
     ]
    },
    {
     "name": "stdout",
     "output_type": "stream",
     "text": [
      "Did not collect 3072, only got 1937\n",
      "samples collected: 1937\n",
      "samples collected: 1937 \tdeduped samples added: 1889\n",
      "2186\n"
     ]
    },
    {
     "name": "stderr",
     "output_type": "stream",
     "text": [
      "                                                    \r"
     ]
    },
    {
     "name": "stdout",
     "output_type": "stream",
     "text": [
      "Did not collect 3072, only got 1741\n",
      "samples collected: 1741\n",
      "samples collected: 1741 \tdeduped samples added: 334\n",
      "2520\n"
     ]
    },
    {
     "name": "stderr",
     "output_type": "stream",
     "text": [
      "                                                    \r"
     ]
    },
    {
     "name": "stdout",
     "output_type": "stream",
     "text": [
      "Did not collect 3072, only got 1937\n",
      "samples collected: 1937\n",
      "samples collected: 1937 \tdeduped samples added: 344\n",
      "2864\n"
     ]
    },
    {
     "name": "stderr",
     "output_type": "stream",
     "text": [
      "                                                    \r"
     ]
    },
    {
     "name": "stdout",
     "output_type": "stream",
     "text": [
      "Did not collect 3072, only got 1931\n",
      "samples collected: 1931\n",
      "samples collected: 1931 \tdeduped samples added: 283\n",
      "3147\n"
     ]
    },
    {
     "name": "stderr",
     "output_type": "stream",
     "text": [
      "                                                    \r"
     ]
    },
    {
     "name": "stdout",
     "output_type": "stream",
     "text": [
      "Did not collect 3072, only got 1956\n",
      "samples collected: 1956\n",
      "samples collected: 1956 \tdeduped samples added: 373\n",
      "3520\n"
     ]
    },
    {
     "name": "stderr",
     "output_type": "stream",
     "text": [
      "                                                    \r"
     ]
    },
    {
     "name": "stdout",
     "output_type": "stream",
     "text": [
      "Did not collect 3072, only got 1960\n",
      "samples collected: 1960\n",
      "samples collected: 1960 \tdeduped samples added: 327\n",
      "3847\n"
     ]
    },
    {
     "name": "stderr",
     "output_type": "stream",
     "text": [
      "                                                    \r"
     ]
    },
    {
     "name": "stdout",
     "output_type": "stream",
     "text": [
      "Did not collect 3072, only got 1734\n",
      "samples collected: 1734\n",
      "samples collected: 1734 \tdeduped samples added: 197\n",
      "4044\n"
     ]
    },
    {
     "name": "stderr",
     "output_type": "stream",
     "text": [
      "                                                    \r"
     ]
    },
    {
     "name": "stdout",
     "output_type": "stream",
     "text": [
      "Did not collect 3072, only got 2191\n",
      "samples collected: 2191\n",
      "samples collected: 2191 \tdeduped samples added: 517\n",
      "4561\n"
     ]
    },
    {
     "name": "stderr",
     "output_type": "stream",
     "text": [
      "                                                    \r"
     ]
    },
    {
     "name": "stdout",
     "output_type": "stream",
     "text": [
      "Did not collect 3072, only got 2199\n",
      "samples collected: 2199\n",
      "samples collected: 2199 \tdeduped samples added: 650\n",
      "5211\n"
     ]
    },
    {
     "name": "stderr",
     "output_type": "stream",
     "text": [
      "                                                    \r"
     ]
    },
    {
     "name": "stdout",
     "output_type": "stream",
     "text": [
      "Did not collect 3072, only got 2174\n",
      "samples collected: 2174\n",
      "samples collected: 2174 \tdeduped samples added: 634\n",
      "5845\n"
     ]
    },
    {
     "name": "stderr",
     "output_type": "stream",
     "text": [
      "                                                    \r"
     ]
    },
    {
     "name": "stdout",
     "output_type": "stream",
     "text": [
      "Did not collect 3072, only got 2162\n",
      "samples collected: 2162\n",
      "samples collected: 2162 \tdeduped samples added: 413\n",
      "6258\n"
     ]
    },
    {
     "name": "stderr",
     "output_type": "stream",
     "text": [
      "                                                    \r"
     ]
    },
    {
     "name": "stdout",
     "output_type": "stream",
     "text": [
      "Did not collect 3072, only got 2181\n",
      "samples collected: 2181\n",
      "samples collected: 2181 \tdeduped samples added: 432\n",
      "6690\n"
     ]
    },
    {
     "name": "stderr",
     "output_type": "stream",
     "text": [
      "                                                    \r"
     ]
    },
    {
     "name": "stdout",
     "output_type": "stream",
     "text": [
      "Did not collect 3072, only got 2380\n",
      "samples collected: 2380\n",
      "samples collected: 2380 \tdeduped samples added: 636\n",
      "7326\n"
     ]
    },
    {
     "name": "stderr",
     "output_type": "stream",
     "text": [
      "                                                    \r"
     ]
    },
    {
     "name": "stdout",
     "output_type": "stream",
     "text": [
      "Did not collect 3072, only got 2363\n",
      "samples collected: 2363\n",
      "samples collected: 2363 \tdeduped samples added: 617\n",
      "7943\n"
     ]
    },
    {
     "name": "stderr",
     "output_type": "stream",
     "text": [
      "                                                    \r"
     ]
    },
    {
     "name": "stdout",
     "output_type": "stream",
     "text": [
      "Did not collect 3072, only got 2356\n",
      "samples collected: 2356\n",
      "samples collected: 2356 \tdeduped samples added: 571\n",
      "8514\n"
     ]
    },
    {
     "name": "stderr",
     "output_type": "stream",
     "text": [
      "                                                    \r"
     ]
    },
    {
     "name": "stdout",
     "output_type": "stream",
     "text": [
      "Did not collect 3072, only got 2632\n",
      "samples collected: 2632\n",
      "samples collected: 2632 \tdeduped samples added: 797\n",
      "9311\n",
      "Saved 8656 samples to data/cortex_621_8656.json\n"
     ]
    },
    {
     "name": "stderr",
     "output_type": "stream",
     "text": [
      "                                                    \r"
     ]
    },
    {
     "name": "stdout",
     "output_type": "stream",
     "text": [
      "Did not collect 3072, only got 2141\n",
      "samples collected: 2141\n",
      "samples collected: 2141 \tdeduped samples added: 2010\n",
      "2665\n"
     ]
    },
    {
     "name": "stderr",
     "output_type": "stream",
     "text": [
      "                                                    \r"
     ]
    },
    {
     "name": "stdout",
     "output_type": "stream",
     "text": [
      "Did not collect 3072, only got 2396\n",
      "samples collected: 2396\n",
      "samples collected: 2396 \tdeduped samples added: 453\n",
      "3118\n"
     ]
    },
    {
     "name": "stderr",
     "output_type": "stream",
     "text": [
      "                                                    \r"
     ]
    },
    {
     "name": "stdout",
     "output_type": "stream",
     "text": [
      "Did not collect 3072, only got 2388\n",
      "samples collected: 2388\n",
      "samples collected: 2388 \tdeduped samples added: 282\n",
      "3400\n"
     ]
    },
    {
     "name": "stderr",
     "output_type": "stream",
     "text": [
      "                                                    \r"
     ]
    },
    {
     "name": "stdout",
     "output_type": "stream",
     "text": [
      "Did not collect 3072, only got 2366\n",
      "samples collected: 2366\n",
      "samples collected: 2366 \tdeduped samples added: 276\n",
      "3676\n"
     ]
    },
    {
     "name": "stderr",
     "output_type": "stream",
     "text": [
      "                                                    \r"
     ]
    },
    {
     "name": "stdout",
     "output_type": "stream",
     "text": [
      "Did not collect 3072, only got 2377\n",
      "samples collected: 2377\n",
      "samples collected: 2377 \tdeduped samples added: 354\n",
      "4030\n"
     ]
    },
    {
     "name": "stderr",
     "output_type": "stream",
     "text": [
      "                                                    \r"
     ]
    },
    {
     "name": "stdout",
     "output_type": "stream",
     "text": [
      "Did not collect 3072, only got 2185\n",
      "samples collected: 2185\n",
      "samples collected: 2185 \tdeduped samples added: 229\n",
      "4259\n"
     ]
    },
    {
     "name": "stderr",
     "output_type": "stream",
     "text": [
      "                                                    \r"
     ]
    },
    {
     "name": "stdout",
     "output_type": "stream",
     "text": [
      "Did not collect 3072, only got 2156\n",
      "samples collected: 2156\n",
      "samples collected: 2156 \tdeduped samples added: 199\n",
      "4458\n"
     ]
    },
    {
     "name": "stderr",
     "output_type": "stream",
     "text": [
      "                                                    \r"
     ]
    },
    {
     "name": "stdout",
     "output_type": "stream",
     "text": [
      "Did not collect 3072, only got 2408\n",
      "samples collected: 2408\n",
      "samples collected: 2408 \tdeduped samples added: 451\n",
      "4909\n"
     ]
    },
    {
     "name": "stderr",
     "output_type": "stream",
     "text": [
      "                                                    \r"
     ]
    },
    {
     "name": "stdout",
     "output_type": "stream",
     "text": [
      "Did not collect 3072, only got 2160\n",
      "samples collected: 2160\n",
      "samples collected: 2160 \tdeduped samples added: 421\n",
      "5330\n"
     ]
    },
    {
     "name": "stderr",
     "output_type": "stream",
     "text": [
      "                                                    \r"
     ]
    },
    {
     "name": "stdout",
     "output_type": "stream",
     "text": [
      "Did not collect 3072, only got 2371\n",
      "samples collected: 2371\n",
      "samples collected: 2371 \tdeduped samples added: 626\n",
      "5956\n"
     ]
    },
    {
     "name": "stderr",
     "output_type": "stream",
     "text": [
      "                                                    \r"
     ]
    },
    {
     "name": "stdout",
     "output_type": "stream",
     "text": [
      "Did not collect 3072, only got 2641\n",
      "samples collected: 2641\n",
      "samples collected: 2641 \tdeduped samples added: 862\n",
      "6818\n"
     ]
    },
    {
     "name": "stderr",
     "output_type": "stream",
     "text": [
      "                                                    \r"
     ]
    },
    {
     "name": "stdout",
     "output_type": "stream",
     "text": [
      "Did not collect 3072, only got 2616\n",
      "samples collected: 2616\n",
      "samples collected: 2616 \tdeduped samples added: 652\n",
      "7470\n"
     ]
    },
    {
     "name": "stderr",
     "output_type": "stream",
     "text": [
      "                                                    \r"
     ]
    },
    {
     "name": "stdout",
     "output_type": "stream",
     "text": [
      "Did not collect 3072, only got 1729\n",
      "samples collected: 1729\n",
      "samples collected: 1729 \tdeduped samples added: 0\n",
      "7470\n"
     ]
    },
    {
     "name": "stderr",
     "output_type": "stream",
     "text": [
      "                                                    \r"
     ]
    },
    {
     "name": "stdout",
     "output_type": "stream",
     "text": [
      "Did not collect 3072, only got 2403\n",
      "samples collected: 2403\n",
      "samples collected: 2403 \tdeduped samples added: 673\n",
      "8143\n"
     ]
    },
    {
     "name": "stderr",
     "output_type": "stream",
     "text": [
      "                                                    \r"
     ]
    },
    {
     "name": "stdout",
     "output_type": "stream",
     "text": [
      "Did not collect 3072, only got 2166\n",
      "samples collected: 2166\n",
      "samples collected: 2166 \tdeduped samples added: 430\n",
      "8573\n"
     ]
    },
    {
     "name": "stderr",
     "output_type": "stream",
     "text": [
      "                                                    \r"
     ]
    },
    {
     "name": "stdout",
     "output_type": "stream",
     "text": [
      "Did not collect 3072, only got 2198\n",
      "samples collected: 2198\n",
      "samples collected: 2198 \tdeduped samples added: 434\n",
      "9007\n",
      "Saved 8656 samples to data/cortex_622_8656.json\n"
     ]
    },
    {
     "name": "stderr",
     "output_type": "stream",
     "text": [
      "                                                    \r"
     ]
    },
    {
     "name": "stdout",
     "output_type": "stream",
     "text": [
      "Did not collect 3072, only got 2184\n",
      "samples collected: 2184\n",
      "samples collected: 2184 \tdeduped samples added: 2110\n",
      "2461\n"
     ]
    },
    {
     "name": "stderr",
     "output_type": "stream",
     "text": [
      "                                                    \r"
     ]
    },
    {
     "name": "stdout",
     "output_type": "stream",
     "text": [
      "Did not collect 3072, only got 1983\n",
      "samples collected: 1983\n",
      "samples collected: 1983 \tdeduped samples added: 0\n",
      "2461\n"
     ]
    },
    {
     "name": "stderr",
     "output_type": "stream",
     "text": [
      "                                                    \r"
     ]
    },
    {
     "name": "stdout",
     "output_type": "stream",
     "text": [
      "Did not collect 3072, only got 2187\n",
      "samples collected: 2187\n",
      "samples collected: 2187 \tdeduped samples added: 203\n",
      "2664\n"
     ]
    },
    {
     "name": "stderr",
     "output_type": "stream",
     "text": [
      "                                                    \r"
     ]
    },
    {
     "name": "stdout",
     "output_type": "stream",
     "text": [
      "Did not collect 3072, only got 2151\n",
      "samples collected: 2151\n",
      "samples collected: 2151 \tdeduped samples added: 48\n",
      "2712\n"
     ]
    },
    {
     "name": "stderr",
     "output_type": "stream",
     "text": [
      "                                                    \r"
     ]
    },
    {
     "name": "stdout",
     "output_type": "stream",
     "text": [
      "Did not collect 3072, only got 1763\n",
      "samples collected: 1763\n",
      "samples collected: 1763 \tdeduped samples added: 0\n",
      "2712\n"
     ]
    },
    {
     "name": "stderr",
     "output_type": "stream",
     "text": [
      "                                                    \r"
     ]
    },
    {
     "name": "stdout",
     "output_type": "stream",
     "text": [
      "Did not collect 3072, only got 1961\n",
      "samples collected: 1961\n",
      "samples collected: 1961 \tdeduped samples added: 121\n",
      "2833\n"
     ]
    },
    {
     "name": "stderr",
     "output_type": "stream",
     "text": [
      "                                                    \r"
     ]
    },
    {
     "name": "stdout",
     "output_type": "stream",
     "text": [
      "Did not collect 3072, only got 2198\n",
      "samples collected: 2198\n",
      "samples collected: 2198 \tdeduped samples added: 400\n",
      "3233\n"
     ]
    },
    {
     "name": "stderr",
     "output_type": "stream",
     "text": [
      "                                                    \r"
     ]
    },
    {
     "name": "stdout",
     "output_type": "stream",
     "text": [
      "Did not collect 3072, only got 2169\n",
      "samples collected: 2169\n",
      "samples collected: 2169 \tdeduped samples added: 500\n",
      "3733\n"
     ]
    },
    {
     "name": "stderr",
     "output_type": "stream",
     "text": [
      "                                                    \r"
     ]
    },
    {
     "name": "stdout",
     "output_type": "stream",
     "text": [
      "Did not collect 3072, only got 2419\n",
      "samples collected: 2419\n",
      "samples collected: 2419 \tdeduped samples added: 480\n",
      "4213\n"
     ]
    },
    {
     "name": "stderr",
     "output_type": "stream",
     "text": [
      "                                                    \r"
     ]
    },
    {
     "name": "stdout",
     "output_type": "stream",
     "text": [
      "Did not collect 3072, only got 2202\n",
      "samples collected: 2202\n",
      "samples collected: 2202 \tdeduped samples added: 292\n",
      "4505\n"
     ]
    },
    {
     "name": "stderr",
     "output_type": "stream",
     "text": [
      "                                                    \r"
     ]
    },
    {
     "name": "stdout",
     "output_type": "stream",
     "text": [
      "Did not collect 3072, only got 2201\n",
      "samples collected: 2201\n",
      "samples collected: 2201 \tdeduped samples added: 375\n",
      "4880\n"
     ]
    },
    {
     "name": "stderr",
     "output_type": "stream",
     "text": [
      "                                                    \r"
     ]
    },
    {
     "name": "stdout",
     "output_type": "stream",
     "text": [
      "Did not collect 3072, only got 1765\n",
      "samples collected: 1765\n",
      "samples collected: 1765 \tdeduped samples added: 0\n",
      "4880\n"
     ]
    },
    {
     "name": "stderr",
     "output_type": "stream",
     "text": [
      "                                                    \r"
     ]
    },
    {
     "name": "stdout",
     "output_type": "stream",
     "text": [
      "Did not collect 3072, only got 2225\n",
      "samples collected: 2225\n",
      "samples collected: 2225 \tdeduped samples added: 525\n",
      "5405\n"
     ]
    },
    {
     "name": "stderr",
     "output_type": "stream",
     "text": [
      "                                                    \r"
     ]
    },
    {
     "name": "stdout",
     "output_type": "stream",
     "text": [
      "Did not collect 3072, only got 2224\n",
      "samples collected: 2224\n",
      "samples collected: 2224 \tdeduped samples added: 236\n",
      "5641\n"
     ]
    },
    {
     "name": "stderr",
     "output_type": "stream",
     "text": [
      "                                                    \r"
     ]
    },
    {
     "name": "stdout",
     "output_type": "stream",
     "text": [
      "Did not collect 3072, only got 2426\n",
      "samples collected: 2426\n",
      "samples collected: 2426 \tdeduped samples added: 874\n",
      "6515\n"
     ]
    },
    {
     "name": "stderr",
     "output_type": "stream",
     "text": [
      "                                                    \r"
     ]
    },
    {
     "name": "stdout",
     "output_type": "stream",
     "text": [
      "Did not collect 3072, only got 2357\n",
      "samples collected: 2357\n",
      "samples collected: 2357 \tdeduped samples added: 762\n",
      "7277\n"
     ]
    },
    {
     "name": "stderr",
     "output_type": "stream",
     "text": [
      "                                                    \r"
     ]
    },
    {
     "name": "stdout",
     "output_type": "stream",
     "text": [
      "Did not collect 3072, only got 2454\n",
      "samples collected: 2454\n",
      "samples collected: 2454 \tdeduped samples added: 831\n",
      "8108\n"
     ]
    },
    {
     "name": "stderr",
     "output_type": "stream",
     "text": [
      "                                                    \r"
     ]
    },
    {
     "name": "stdout",
     "output_type": "stream",
     "text": [
      "Did not collect 3072, only got 2378\n",
      "samples collected: 2378\n",
      "samples collected: 2378 \tdeduped samples added: 990\n",
      "9098\n",
      "Saved 8656 samples to data/cortex_623_8656.json\n"
     ]
    },
    {
     "name": "stderr",
     "output_type": "stream",
     "text": [
      "                                                    \r"
     ]
    },
    {
     "name": "stdout",
     "output_type": "stream",
     "text": [
      "Did not collect 3072, only got 1994\n",
      "samples collected: 1994\n",
      "samples collected: 1994 \tdeduped samples added: 1920\n",
      "2362\n"
     ]
    },
    {
     "name": "stderr",
     "output_type": "stream",
     "text": [
      "                                                    \r"
     ]
    },
    {
     "name": "stdout",
     "output_type": "stream",
     "text": [
      "Did not collect 3072, only got 1968\n",
      "samples collected: 1968\n",
      "samples collected: 1968 \tdeduped samples added: 194\n",
      "2556\n"
     ]
    },
    {
     "name": "stderr",
     "output_type": "stream",
     "text": [
      "                                                    \r"
     ]
    },
    {
     "name": "stdout",
     "output_type": "stream",
     "text": [
      "Did not collect 3072, only got 2200\n",
      "samples collected: 2200\n",
      "samples collected: 2200 \tdeduped samples added: 322\n",
      "2878\n"
     ]
    },
    {
     "name": "stderr",
     "output_type": "stream",
     "text": [
      "                                                    \r"
     ]
    },
    {
     "name": "stdout",
     "output_type": "stream",
     "text": [
      "Did not collect 3072, only got 2178\n",
      "samples collected: 2178\n",
      "samples collected: 2178 \tdeduped samples added: 143\n",
      "3021\n"
     ]
    },
    {
     "name": "stderr",
     "output_type": "stream",
     "text": [
      "                                                    \r"
     ]
    },
    {
     "name": "stdout",
     "output_type": "stream",
     "text": [
      "Did not collect 3072, only got 1982\n",
      "samples collected: 1982\n",
      "samples collected: 1982 \tdeduped samples added: 0\n",
      "3021\n"
     ]
    },
    {
     "name": "stderr",
     "output_type": "stream",
     "text": [
      "                                                    \r"
     ]
    },
    {
     "name": "stdout",
     "output_type": "stream",
     "text": [
      "Did not collect 3072, only got 2177\n",
      "samples collected: 2177\n",
      "samples collected: 2177 \tdeduped samples added: 5\n",
      "3026\n"
     ]
    },
    {
     "name": "stderr",
     "output_type": "stream",
     "text": [
      "                                                    \r"
     ]
    },
    {
     "name": "stdout",
     "output_type": "stream",
     "text": [
      "Did not collect 3072, only got 2202\n",
      "samples collected: 2202\n",
      "samples collected: 2202 \tdeduped samples added: 215\n",
      "3241\n"
     ]
    },
    {
     "name": "stderr",
     "output_type": "stream",
     "text": [
      "                                                    \r"
     ]
    },
    {
     "name": "stdout",
     "output_type": "stream",
     "text": [
      "Did not collect 3072, only got 2210\n",
      "samples collected: 2210\n",
      "samples collected: 2210 \tdeduped samples added: 214\n",
      "3455\n"
     ]
    },
    {
     "name": "stderr",
     "output_type": "stream",
     "text": [
      "                                                    \r"
     ]
    },
    {
     "name": "stdout",
     "output_type": "stream",
     "text": [
      "Did not collect 3072, only got 2405\n",
      "samples collected: 2405\n",
      "samples collected: 2405 \tdeduped samples added: 413\n",
      "3868\n"
     ]
    },
    {
     "name": "stderr",
     "output_type": "stream",
     "text": [
      "                                                    \r"
     ]
    },
    {
     "name": "stdout",
     "output_type": "stream",
     "text": [
      "Did not collect 3072, only got 1960\n",
      "samples collected: 1960\n",
      "samples collected: 1960 \tdeduped samples added: 180\n",
      "4048\n"
     ]
    },
    {
     "name": "stderr",
     "output_type": "stream",
     "text": [
      "                                                    \r"
     ]
    },
    {
     "name": "stdout",
     "output_type": "stream",
     "text": [
      "Did not collect 3072, only got 2376\n",
      "samples collected: 2376\n",
      "samples collected: 2376 \tdeduped samples added: 596\n",
      "4644\n"
     ]
    },
    {
     "name": "stderr",
     "output_type": "stream",
     "text": [
      "                                                    \r"
     ]
    },
    {
     "name": "stdout",
     "output_type": "stream",
     "text": [
      "Did not collect 3072, only got 1304\n",
      "samples collected: 1304\n",
      "samples collected: 1304 \tdeduped samples added: 221\n",
      "4865\n"
     ]
    },
    {
     "name": "stderr",
     "output_type": "stream",
     "text": [
      "                                                    \r"
     ]
    },
    {
     "name": "stdout",
     "output_type": "stream",
     "text": [
      "Did not collect 3072, only got 1941\n",
      "samples collected: 1941\n",
      "samples collected: 1941 \tdeduped samples added: 841\n",
      "5706\n"
     ]
    },
    {
     "name": "stderr",
     "output_type": "stream",
     "text": [
      "                                                    \r"
     ]
    },
    {
     "name": "stdout",
     "output_type": "stream",
     "text": [
      "Did not collect 3072, only got 1685\n",
      "samples collected: 1685\n",
      "samples collected: 1685 \tdeduped samples added: 347\n",
      "6053\n"
     ]
    },
    {
     "name": "stderr",
     "output_type": "stream",
     "text": [
      "                                                    \r"
     ]
    },
    {
     "name": "stdout",
     "output_type": "stream",
     "text": [
      "Did not collect 3072, only got 1731\n",
      "samples collected: 1731\n",
      "samples collected: 1731 \tdeduped samples added: 438\n",
      "6491\n"
     ]
    },
    {
     "name": "stderr",
     "output_type": "stream",
     "text": [
      "                                                    \r"
     ]
    },
    {
     "name": "stdout",
     "output_type": "stream",
     "text": [
      "Did not collect 3072, only got 1730\n",
      "samples collected: 1730\n",
      "samples collected: 1730 \tdeduped samples added: 434\n",
      "6925\n"
     ]
    },
    {
     "name": "stderr",
     "output_type": "stream",
     "text": [
      "                                                    \r"
     ]
    },
    {
     "name": "stdout",
     "output_type": "stream",
     "text": [
      "Did not collect 3072, only got 1917\n",
      "samples collected: 1917\n",
      "samples collected: 1917 \tdeduped samples added: 606\n",
      "7531\n"
     ]
    },
    {
     "name": "stderr",
     "output_type": "stream",
     "text": [
      "                                                    \r"
     ]
    },
    {
     "name": "stdout",
     "output_type": "stream",
     "text": [
      "Did not collect 3072, only got 1663\n",
      "samples collected: 1663\n",
      "samples collected: 1663 \tdeduped samples added: 370\n",
      "7901\n"
     ]
    },
    {
     "name": "stderr",
     "output_type": "stream",
     "text": [
      "                                                    \r"
     ]
    },
    {
     "name": "stdout",
     "output_type": "stream",
     "text": [
      "Did not collect 3072, only got 1915\n",
      "samples collected: 1915\n",
      "samples collected: 1915 \tdeduped samples added: 406\n",
      "8307\n"
     ]
    },
    {
     "name": "stderr",
     "output_type": "stream",
     "text": [
      "                                                    \r"
     ]
    },
    {
     "name": "stdout",
     "output_type": "stream",
     "text": [
      "Did not collect 3072, only got 2148\n",
      "samples collected: 2148\n",
      "samples collected: 2148 \tdeduped samples added: 636\n",
      "8943\n",
      "Saved 8656 samples to data/cortex_624_8656.json\n"
     ]
    },
    {
     "name": "stderr",
     "output_type": "stream",
     "text": [
      "                                                    \r"
     ]
    },
    {
     "name": "stdout",
     "output_type": "stream",
     "text": [
      "Did not collect 3072, only got 1743\n",
      "samples collected: 1743\n",
      "samples collected: 1743 \tdeduped samples added: 1690\n",
      "1977\n"
     ]
    },
    {
     "name": "stderr",
     "output_type": "stream",
     "text": [
      "                                                    \r"
     ]
    },
    {
     "name": "stdout",
     "output_type": "stream",
     "text": [
      "Did not collect 3072, only got 1957\n",
      "samples collected: 1957\n",
      "samples collected: 1957 \tdeduped samples added: 653\n",
      "2630\n"
     ]
    },
    {
     "name": "stderr",
     "output_type": "stream",
     "text": [
      "                                                    \r"
     ]
    },
    {
     "name": "stdout",
     "output_type": "stream",
     "text": [
      "Did not collect 3072, only got 1926\n",
      "samples collected: 1926\n",
      "samples collected: 1926 \tdeduped samples added: 580\n",
      "3210\n"
     ]
    },
    {
     "name": "stderr",
     "output_type": "stream",
     "text": [
      "                                                    \r"
     ]
    },
    {
     "name": "stdout",
     "output_type": "stream",
     "text": [
      "Did not collect 3072, only got 1962\n",
      "samples collected: 1962\n",
      "samples collected: 1962 \tdeduped samples added: 649\n",
      "3859\n"
     ]
    },
    {
     "name": "stderr",
     "output_type": "stream",
     "text": [
      "                                                    \r"
     ]
    },
    {
     "name": "stdout",
     "output_type": "stream",
     "text": [
      "Did not collect 3072, only got 1898\n",
      "samples collected: 1898\n",
      "samples collected: 1898 \tdeduped samples added: 591\n",
      "4450\n"
     ]
    },
    {
     "name": "stderr",
     "output_type": "stream",
     "text": [
      "                                                    \r"
     ]
    },
    {
     "name": "stdout",
     "output_type": "stream",
     "text": [
      "Did not collect 3072, only got 2185\n",
      "samples collected: 2185\n",
      "samples collected: 2185 \tdeduped samples added: 664\n",
      "5114\n"
     ]
    },
    {
     "name": "stderr",
     "output_type": "stream",
     "text": [
      "                                                    \r"
     ]
    },
    {
     "name": "stdout",
     "output_type": "stream",
     "text": [
      "Did not collect 3072, only got 1738\n",
      "samples collected: 1738\n",
      "samples collected: 1738 \tdeduped samples added: 393\n",
      "5507\n"
     ]
    },
    {
     "name": "stderr",
     "output_type": "stream",
     "text": [
      "                                                    \r"
     ]
    },
    {
     "name": "stdout",
     "output_type": "stream",
     "text": [
      "Did not collect 3072, only got 1736\n",
      "samples collected: 1736\n",
      "samples collected: 1736 \tdeduped samples added: 212\n",
      "5719\n"
     ]
    },
    {
     "name": "stderr",
     "output_type": "stream",
     "text": [
      "                                                    \r"
     ]
    },
    {
     "name": "stdout",
     "output_type": "stream",
     "text": [
      "Did not collect 3072, only got 1522\n",
      "samples collected: 1522\n",
      "samples collected: 1522 \tdeduped samples added: 222\n",
      "5941\n"
     ]
    },
    {
     "name": "stderr",
     "output_type": "stream",
     "text": [
      "                                                    \r"
     ]
    },
    {
     "name": "stdout",
     "output_type": "stream",
     "text": [
      "Did not collect 3072, only got 1735\n",
      "samples collected: 1735\n",
      "samples collected: 1735 \tdeduped samples added: 328\n",
      "6269\n"
     ]
    },
    {
     "name": "stderr",
     "output_type": "stream",
     "text": [
      "                                                    \r"
     ]
    },
    {
     "name": "stdout",
     "output_type": "stream",
     "text": [
      "Did not collect 3072, only got 1523\n",
      "samples collected: 1523\n",
      "samples collected: 1523 \tdeduped samples added: 158\n",
      "6427\n"
     ]
    }
   ],
   "source": [
    "create_new_datasets(num_new=48, size=8144+512, max_samples_per_step=3072, ignore_old=True, sleep_minutes=5)"
   ]
  },
  {
   "cell_type": "code",
   "execution_count": null,
   "metadata": {},
   "outputs": [
    {
     "name": "stderr",
     "output_type": "stream",
     "text": [
      "                                                    \r"
     ]
    },
    {
     "name": "stdout",
     "output_type": "stream",
     "text": [
      "samples collected: 1600\n",
      "samples collected: 1600 \tdeduped samples added: 1600\n",
      "1600\n"
     ]
    },
    {
     "name": "stderr",
     "output_type": "stream",
     "text": [
      "                                                    \r"
     ]
    },
    {
     "name": "stdout",
     "output_type": "stream",
     "text": [
      "samples collected: 1600\n",
      "samples collected: 1600 \tdeduped samples added: 1190\n",
      "2790\n"
     ]
    },
    {
     "name": "stderr",
     "output_type": "stream",
     "text": [
      "                                                    \r"
     ]
    },
    {
     "name": "stdout",
     "output_type": "stream",
     "text": [
      "Did not collect 1600, only got 1483\n",
      "samples collected: 1483\n",
      "samples collected: 1483 \tdeduped samples added: 860\n",
      "3650\n"
     ]
    },
    {
     "name": "stderr",
     "output_type": "stream",
     "text": [
      "                                                   \r"
     ]
    },
    {
     "name": "stdout",
     "output_type": "stream",
     "text": [
      "samples collected: 1600\n",
      "samples collected: 1600 \tdeduped samples added: 1174\n",
      "4824\n"
     ]
    },
    {
     "name": "stderr",
     "output_type": "stream",
     "text": [
      "                                                    \r"
     ]
    },
    {
     "name": "stdout",
     "output_type": "stream",
     "text": [
      "samples collected: 1600\n",
      "samples collected: 1600 \tdeduped samples added: 1181\n",
      "6005\n"
     ]
    },
    {
     "name": "stderr",
     "output_type": "stream",
     "text": [
      "                                                    \r"
     ]
    },
    {
     "name": "stdout",
     "output_type": "stream",
     "text": [
      "Did not collect 1600, only got 1478\n",
      "samples collected: 1478\n",
      "samples collected: 1478 \tdeduped samples added: 841\n",
      "6846\n",
      "Saved 6656 samples to data/cortex_481_6656.json\n"
     ]
    },
    {
     "name": "stderr",
     "output_type": "stream",
     "text": [
      "                                                    \r"
     ]
    },
    {
     "name": "stdout",
     "output_type": "stream",
     "text": [
      "samples collected: 1600\n",
      "samples collected: 1600 \tdeduped samples added: 1589\n",
      "1779\n"
     ]
    },
    {
     "name": "stderr",
     "output_type": "stream",
     "text": [
      "                                                    \r"
     ]
    },
    {
     "name": "stdout",
     "output_type": "stream",
     "text": [
      "samples collected: 1600\n",
      "samples collected: 1600 \tdeduped samples added: 1160\n",
      "2939\n"
     ]
    },
    {
     "name": "stderr",
     "output_type": "stream",
     "text": [
      "                                                    \r"
     ]
    },
    {
     "name": "stdout",
     "output_type": "stream",
     "text": [
      "samples collected: 1600\n",
      "samples collected: 1600 \tdeduped samples added: 1187\n",
      "4126\n"
     ]
    },
    {
     "name": "stderr",
     "output_type": "stream",
     "text": [
      "                                                    \r"
     ]
    },
    {
     "name": "stdout",
     "output_type": "stream",
     "text": [
      "samples collected: 1600\n",
      "samples collected: 1600 \tdeduped samples added: 1186\n",
      "5312\n"
     ]
    },
    {
     "name": "stderr",
     "output_type": "stream",
     "text": [
      "                                                    \r"
     ]
    },
    {
     "name": "stdout",
     "output_type": "stream",
     "text": [
      "samples collected: 1600\n",
      "samples collected: 1600 \tdeduped samples added: 1180\n",
      "6492\n"
     ]
    },
    {
     "name": "stderr",
     "output_type": "stream",
     "text": [
      "                                                    \r"
     ]
    },
    {
     "name": "stdout",
     "output_type": "stream",
     "text": [
      "samples collected: 1600\n",
      "samples collected: 1600 \tdeduped samples added: 1044\n",
      "7536\n",
      "Saved 6656 samples to data/cortex_482_6656.json\n"
     ]
    },
    {
     "name": "stderr",
     "output_type": "stream",
     "text": [
      "                                                    \r"
     ]
    },
    {
     "name": "stdout",
     "output_type": "stream",
     "text": [
      "samples collected: 1600\n",
      "samples collected: 1600 \tdeduped samples added: 1560\n",
      "2440\n"
     ]
    },
    {
     "name": "stderr",
     "output_type": "stream",
     "text": [
      "                                                    \r"
     ]
    },
    {
     "name": "stdout",
     "output_type": "stream",
     "text": [
      "samples collected: 1600\n",
      "samples collected: 1600 \tdeduped samples added: 1189\n",
      "3629\n"
     ]
    },
    {
     "name": "stderr",
     "output_type": "stream",
     "text": [
      "                                                    \r"
     ]
    },
    {
     "name": "stdout",
     "output_type": "stream",
     "text": [
      "samples collected: 1600\n",
      "samples collected: 1600 \tdeduped samples added: 1163\n",
      "4792\n"
     ]
    },
    {
     "name": "stderr",
     "output_type": "stream",
     "text": [
      "                                                    \r"
     ]
    },
    {
     "name": "stdout",
     "output_type": "stream",
     "text": [
      "samples collected: 1600\n",
      "samples collected: 1600 \tdeduped samples added: 1188\n",
      "5980\n"
     ]
    },
    {
     "name": "stderr",
     "output_type": "stream",
     "text": [
      "                                                    \r"
     ]
    },
    {
     "name": "stdout",
     "output_type": "stream",
     "text": [
      "samples collected: 1600\n",
      "samples collected: 1600 \tdeduped samples added: 1000\n",
      "6980\n",
      "Saved 6656 samples to data/cortex_483_6656.json\n"
     ]
    },
    {
     "name": "stderr",
     "output_type": "stream",
     "text": [
      "                                                    \r"
     ]
    },
    {
     "name": "stdout",
     "output_type": "stream",
     "text": [
      "samples collected: 1600\n",
      "samples collected: 1600 \tdeduped samples added: 1575\n",
      "1899\n"
     ]
    },
    {
     "name": "stderr",
     "output_type": "stream",
     "text": [
      "                                                    \r"
     ]
    },
    {
     "name": "stdout",
     "output_type": "stream",
     "text": [
      "samples collected: 1600\n",
      "samples collected: 1600 \tdeduped samples added: 1159\n",
      "3058\n"
     ]
    },
    {
     "name": "stderr",
     "output_type": "stream",
     "text": [
      "                                                    \r"
     ]
    },
    {
     "name": "stdout",
     "output_type": "stream",
     "text": [
      "samples collected: 1600\n",
      "samples collected: 1600 \tdeduped samples added: 1194\n",
      "4252\n"
     ]
    },
    {
     "name": "stderr",
     "output_type": "stream",
     "text": [
      "                                                    \r"
     ]
    },
    {
     "name": "stdout",
     "output_type": "stream",
     "text": [
      "Did not collect 1600, only got 1440\n",
      "samples collected: 1440\n",
      "samples collected: 1440 \tdeduped samples added: 669\n",
      "4921\n"
     ]
    },
    {
     "name": "stderr",
     "output_type": "stream",
     "text": [
      "                                                    \r"
     ]
    },
    {
     "name": "stdout",
     "output_type": "stream",
     "text": [
      "samples collected: 1600\n",
      "samples collected: 1600 \tdeduped samples added: 996\n",
      "5917\n"
     ]
    },
    {
     "name": "stderr",
     "output_type": "stream",
     "text": [
      "                                                    \r"
     ]
    },
    {
     "name": "stdout",
     "output_type": "stream",
     "text": [
      "samples collected: 1600\n",
      "samples collected: 1600 \tdeduped samples added: 995\n",
      "6912\n",
      "Saved 6656 samples to data/cortex_484_6656.json\n"
     ]
    },
    {
     "name": "stderr",
     "output_type": "stream",
     "text": [
      "                                                    \r"
     ]
    },
    {
     "name": "stdout",
     "output_type": "stream",
     "text": [
      "samples collected: 1600\n",
      "samples collected: 1600 \tdeduped samples added: 1569\n",
      "1825\n"
     ]
    },
    {
     "name": "stderr",
     "output_type": "stream",
     "text": [
      "                                                    \r"
     ]
    },
    {
     "name": "stdout",
     "output_type": "stream",
     "text": [
      "samples collected: 1600\n",
      "samples collected: 1600 \tdeduped samples added: 985\n",
      "2810\n"
     ]
    },
    {
     "name": "stderr",
     "output_type": "stream",
     "text": [
      "                                                    \r"
     ]
    },
    {
     "name": "stdout",
     "output_type": "stream",
     "text": [
      "samples collected: 1600\n",
      "samples collected: 1600 \tdeduped samples added: 929\n",
      "3739\n"
     ]
    },
    {
     "name": "stderr",
     "output_type": "stream",
     "text": [
      "                                                    \r"
     ]
    },
    {
     "name": "stdout",
     "output_type": "stream",
     "text": [
      "samples collected: 1600\n",
      "samples collected: 1600 \tdeduped samples added: 977\n",
      "4716\n"
     ]
    },
    {
     "name": "stderr",
     "output_type": "stream",
     "text": [
      "                                                    \r"
     ]
    },
    {
     "name": "stdout",
     "output_type": "stream",
     "text": [
      "samples collected: 1600\n",
      "samples collected: 1600 \tdeduped samples added: 905\n",
      "5621\n"
     ]
    },
    {
     "name": "stderr",
     "output_type": "stream",
     "text": [
      "                                                    \r"
     ]
    },
    {
     "name": "stdout",
     "output_type": "stream",
     "text": [
      "samples collected: 1600\n",
      "samples collected: 1600 \tdeduped samples added: 977\n",
      "6598\n"
     ]
    },
    {
     "name": "stderr",
     "output_type": "stream",
     "text": [
      "                                                    \r"
     ]
    },
    {
     "name": "stdout",
     "output_type": "stream",
     "text": [
      "samples collected: 1600\n",
      "samples collected: 1600 \tdeduped samples added: 984\n",
      "7582\n",
      "Saved 6656 samples to data/cortex_485_6656.json\n"
     ]
    },
    {
     "name": "stderr",
     "output_type": "stream",
     "text": [
      "                                                    \r"
     ]
    },
    {
     "name": "stdout",
     "output_type": "stream",
     "text": [
      "samples collected: 1600\n",
      "samples collected: 1600 \tdeduped samples added: 1509\n",
      "2435\n"
     ]
    },
    {
     "name": "stderr",
     "output_type": "stream",
     "text": [
      "                                                    \r"
     ]
    },
    {
     "name": "stdout",
     "output_type": "stream",
     "text": [
      "samples collected: 1600\n",
      "samples collected: 1600 \tdeduped samples added: 773\n",
      "3208\n"
     ]
    },
    {
     "name": "stderr",
     "output_type": "stream",
     "text": [
      "                                                    \r"
     ]
    },
    {
     "name": "stdout",
     "output_type": "stream",
     "text": [
      "samples collected: 1600\n",
      "samples collected: 1600 \tdeduped samples added: 948\n",
      "4156\n"
     ]
    },
    {
     "name": "stderr",
     "output_type": "stream",
     "text": [
      "                                                    \r"
     ]
    },
    {
     "name": "stdout",
     "output_type": "stream",
     "text": [
      "samples collected: 1600\n",
      "samples collected: 1600 \tdeduped samples added: 765\n",
      "4921\n"
     ]
    },
    {
     "name": "stderr",
     "output_type": "stream",
     "text": [
      "                                                    \r"
     ]
    },
    {
     "name": "stdout",
     "output_type": "stream",
     "text": [
      "samples collected: 1600\n",
      "samples collected: 1600 \tdeduped samples added: 771\n",
      "5692\n"
     ]
    },
    {
     "name": "stderr",
     "output_type": "stream",
     "text": [
      "                                                    \r"
     ]
    },
    {
     "name": "stdout",
     "output_type": "stream",
     "text": [
      "samples collected: 1600\n",
      "samples collected: 1600 \tdeduped samples added: 776\n",
      "6468\n"
     ]
    },
    {
     "name": "stderr",
     "output_type": "stream",
     "text": [
      "                                                    \r"
     ]
    },
    {
     "name": "stdout",
     "output_type": "stream",
     "text": [
      "samples collected: 1600\n",
      "samples collected: 1600 \tdeduped samples added: 774\n",
      "7242\n",
      "Saved 6656 samples to data/cortex_486_6656.json\n"
     ]
    },
    {
     "name": "stderr",
     "output_type": "stream",
     "text": [
      "                                                    \r"
     ]
    },
    {
     "name": "stdout",
     "output_type": "stream",
     "text": [
      "samples collected: 1600\n",
      "samples collected: 1600 \tdeduped samples added: 1536\n",
      "2122\n"
     ]
    },
    {
     "name": "stderr",
     "output_type": "stream",
     "text": [
      "                                                    \r"
     ]
    },
    {
     "name": "stdout",
     "output_type": "stream",
     "text": [
      "samples collected: 1600\n",
      "samples collected: 1600 \tdeduped samples added: 603\n",
      "2725\n"
     ]
    },
    {
     "name": "stderr",
     "output_type": "stream",
     "text": [
      "                                                    \r"
     ]
    },
    {
     "name": "stdout",
     "output_type": "stream",
     "text": [
      "samples collected: 1600\n",
      "samples collected: 1600 \tdeduped samples added: 555\n",
      "3280\n"
     ]
    },
    {
     "name": "stderr",
     "output_type": "stream",
     "text": [
      "                                                    \r"
     ]
    },
    {
     "name": "stdout",
     "output_type": "stream",
     "text": [
      "samples collected: 1600\n",
      "samples collected: 1600 \tdeduped samples added: 568\n",
      "3848\n"
     ]
    },
    {
     "name": "stderr",
     "output_type": "stream",
     "text": [
      "                                                   \r"
     ]
    },
    {
     "name": "stdout",
     "output_type": "stream",
     "text": [
      "samples collected: 1600\n",
      "samples collected: 1600 \tdeduped samples added: 615\n",
      "4463\n"
     ]
    },
    {
     "name": "stderr",
     "output_type": "stream",
     "text": [
      "                                                    \r"
     ]
    },
    {
     "name": "stdout",
     "output_type": "stream",
     "text": [
      "samples collected: 1600\n",
      "samples collected: 1600 \tdeduped samples added: 566\n",
      "5029\n"
     ]
    },
    {
     "name": "stderr",
     "output_type": "stream",
     "text": [
      "                                                    \r"
     ]
    },
    {
     "name": "stdout",
     "output_type": "stream",
     "text": [
      "samples collected: 1600\n",
      "samples collected: 1600 \tdeduped samples added: 566\n",
      "5595\n"
     ]
    },
    {
     "name": "stderr",
     "output_type": "stream",
     "text": [
      "                                                   \r"
     ]
    },
    {
     "name": "stdout",
     "output_type": "stream",
     "text": [
      "samples collected: 1600\n",
      "samples collected: 1600 \tdeduped samples added: 628\n",
      "6223\n"
     ]
    },
    {
     "name": "stderr",
     "output_type": "stream",
     "text": [
      "                                                    \r"
     ]
    },
    {
     "name": "stdout",
     "output_type": "stream",
     "text": [
      "samples collected: 1600\n",
      "samples collected: 1600 \tdeduped samples added: 565\n",
      "6788\n",
      "Saved 6656 samples to data/cortex_487_6656.json\n"
     ]
    },
    {
     "name": "stderr",
     "output_type": "stream",
     "text": [
      "                                                   \r"
     ]
    },
    {
     "name": "stdout",
     "output_type": "stream",
     "text": [
      "samples collected: 1600\n",
      "samples collected: 1600 \tdeduped samples added: 1580\n",
      "1712\n"
     ]
    },
    {
     "name": "stderr",
     "output_type": "stream",
     "text": [
      "                                                    \r"
     ]
    },
    {
     "name": "stdout",
     "output_type": "stream",
     "text": [
      "samples collected: 1600\n",
      "samples collected: 1600 \tdeduped samples added: 633\n",
      "2345\n"
     ]
    },
    {
     "name": "stderr",
     "output_type": "stream",
     "text": [
      "                                                    \r"
     ]
    },
    {
     "name": "stdout",
     "output_type": "stream",
     "text": [
      "samples collected: 1600\n",
      "samples collected: 1600 \tdeduped samples added: 567\n",
      "2912\n"
     ]
    },
    {
     "name": "stderr",
     "output_type": "stream",
     "text": [
      "                                                   \r"
     ]
    },
    {
     "name": "stdout",
     "output_type": "stream",
     "text": [
      "samples collected: 1600\n",
      "samples collected: 1600 \tdeduped samples added: 638\n",
      "3550\n"
     ]
    },
    {
     "name": "stderr",
     "output_type": "stream",
     "text": [
      "                                                    \r"
     ]
    },
    {
     "name": "stdout",
     "output_type": "stream",
     "text": [
      "samples collected: 1600\n",
      "samples collected: 1600 \tdeduped samples added: 562\n",
      "4112\n"
     ]
    },
    {
     "name": "stderr",
     "output_type": "stream",
     "text": [
      "                                                   \r"
     ]
    },
    {
     "name": "stdout",
     "output_type": "stream",
     "text": [
      "samples collected: 1600\n",
      "samples collected: 1600 \tdeduped samples added: 628\n",
      "4740\n"
     ]
    },
    {
     "name": "stderr",
     "output_type": "stream",
     "text": [
      "                                                    \r"
     ]
    },
    {
     "name": "stdout",
     "output_type": "stream",
     "text": [
      "samples collected: 1600\n",
      "samples collected: 1600 \tdeduped samples added: 565\n",
      "5305\n"
     ]
    },
    {
     "name": "stderr",
     "output_type": "stream",
     "text": [
      "                                                    \r"
     ]
    },
    {
     "name": "stdout",
     "output_type": "stream",
     "text": [
      "samples collected: 1600\n",
      "samples collected: 1600 \tdeduped samples added: 567\n",
      "5872\n"
     ]
    },
    {
     "name": "stderr",
     "output_type": "stream",
     "text": [
      "                                                   \r"
     ]
    },
    {
     "name": "stdout",
     "output_type": "stream",
     "text": [
      "samples collected: 1600\n",
      "samples collected: 1600 \tdeduped samples added: 628\n",
      "6500\n"
     ]
    },
    {
     "name": "stderr",
     "output_type": "stream",
     "text": [
      "                                                    \r"
     ]
    },
    {
     "name": "stdout",
     "output_type": "stream",
     "text": [
      "samples collected: 1600\n",
      "samples collected: 1600 \tdeduped samples added: 565\n",
      "7065\n",
      "Saved 6656 samples to data/cortex_488_6656.json\n"
     ]
    },
    {
     "name": "stderr",
     "output_type": "stream",
     "text": [
      "                                                    \r"
     ]
    },
    {
     "name": "stdout",
     "output_type": "stream",
     "text": [
      "samples collected: 1600\n",
      "samples collected: 1600 \tdeduped samples added: 1543\n",
      "1952\n"
     ]
    },
    {
     "name": "stderr",
     "output_type": "stream",
     "text": [
      "                                                    \r"
     ]
    },
    {
     "name": "stdout",
     "output_type": "stream",
     "text": [
      "samples collected: 1600\n",
      "samples collected: 1600 \tdeduped samples added: 600\n",
      "2552\n"
     ]
    },
    {
     "name": "stderr",
     "output_type": "stream",
     "text": [
      "                                                   \r"
     ]
    },
    {
     "name": "stdout",
     "output_type": "stream",
     "text": [
      "samples collected: 1600\n",
      "samples collected: 1600 \tdeduped samples added: 635\n",
      "3187\n"
     ]
    },
    {
     "name": "stderr",
     "output_type": "stream",
     "text": [
      "                                                    \r"
     ]
    },
    {
     "name": "stdout",
     "output_type": "stream",
     "text": [
      "samples collected: 1600\n",
      "samples collected: 1600 \tdeduped samples added: 562\n",
      "3749\n"
     ]
    },
    {
     "name": "stderr",
     "output_type": "stream",
     "text": [
      "                                                    \r"
     ]
    },
    {
     "name": "stdout",
     "output_type": "stream",
     "text": [
      "samples collected: 1600\n",
      "samples collected: 1600 \tdeduped samples added: 622\n",
      "4371\n"
     ]
    },
    {
     "name": "stderr",
     "output_type": "stream",
     "text": [
      "                                                    \r"
     ]
    },
    {
     "name": "stdout",
     "output_type": "stream",
     "text": [
      "Did not collect 1600, only got 1479\n",
      "samples collected: 1479\n",
      "samples collected: 1479 \tdeduped samples added: 706\n",
      "5077\n"
     ]
    },
    {
     "name": "stderr",
     "output_type": "stream",
     "text": [
      "                                                   \r"
     ]
    },
    {
     "name": "stdout",
     "output_type": "stream",
     "text": [
      "Failed to fetch data, retrying. Attempt 1/5\n"
     ]
    },
    {
     "name": "stderr",
     "output_type": "stream",
     "text": [
      "                                                    \r"
     ]
    },
    {
     "name": "stdout",
     "output_type": "stream",
     "text": [
      "samples collected: 1600\n",
      "samples collected: 1600 \tdeduped samples added: 777\n",
      "5854\n"
     ]
    },
    {
     "name": "stderr",
     "output_type": "stream",
     "text": [
      "                                                    \r"
     ]
    },
    {
     "name": "stdout",
     "output_type": "stream",
     "text": [
      "samples collected: 1600\n",
      "samples collected: 1600 \tdeduped samples added: 782\n",
      "6636\n"
     ]
    },
    {
     "name": "stderr",
     "output_type": "stream",
     "text": [
      "                                                    \r"
     ]
    },
    {
     "name": "stdout",
     "output_type": "stream",
     "text": [
      "samples collected: 1600\n",
      "samples collected: 1600 \tdeduped samples added: 767\n",
      "7403\n",
      "Saved 6656 samples to data/cortex_489_6656.json\n"
     ]
    },
    {
     "name": "stderr",
     "output_type": "stream",
     "text": [
      "                                                   \r"
     ]
    },
    {
     "name": "stdout",
     "output_type": "stream",
     "text": [
      "samples collected: 1600\n",
      "samples collected: 1600 \tdeduped samples added: 1525\n",
      "2272\n"
     ]
    },
    {
     "name": "stderr",
     "output_type": "stream",
     "text": [
      "                                                   \r"
     ]
    },
    {
     "name": "stdout",
     "output_type": "stream",
     "text": [
      "samples collected: 1600\n",
      "samples collected: 1600 \tdeduped samples added: 878\n",
      "3150\n"
     ]
    },
    {
     "name": "stderr",
     "output_type": "stream",
     "text": [
      "                                                    \r"
     ]
    },
    {
     "name": "stdout",
     "output_type": "stream",
     "text": [
      "samples collected: 1600\n",
      "samples collected: 1600 \tdeduped samples added: 1024\n",
      "4174\n"
     ]
    },
    {
     "name": "stderr",
     "output_type": "stream",
     "text": [
      "                                                    \r"
     ]
    },
    {
     "name": "stdout",
     "output_type": "stream",
     "text": [
      "samples collected: 1600\n",
      "samples collected: 1600 \tdeduped samples added: 1002\n",
      "5176\n"
     ]
    },
    {
     "name": "stderr",
     "output_type": "stream",
     "text": [
      "                                                    \r"
     ]
    },
    {
     "name": "stdout",
     "output_type": "stream",
     "text": [
      "samples collected: 1600\n",
      "samples collected: 1600 \tdeduped samples added: 750\n",
      "5926\n"
     ]
    },
    {
     "name": "stderr",
     "output_type": "stream",
     "text": [
      "                                                   \r"
     ]
    },
    {
     "name": "stdout",
     "output_type": "stream",
     "text": [
      "samples collected: 1600\n",
      "samples collected: 1600 \tdeduped samples added: 635\n",
      "6561\n"
     ]
    },
    {
     "name": "stderr",
     "output_type": "stream",
     "text": [
      "                                                    \r"
     ]
    },
    {
     "name": "stdout",
     "output_type": "stream",
     "text": [
      "samples collected: 1600\n",
      "samples collected: 1600 \tdeduped samples added: 754\n",
      "7315\n",
      "Saved 6656 samples to data/cortex_490_6656.json\n"
     ]
    },
    {
     "name": "stderr",
     "output_type": "stream",
     "text": [
      "                                                   \r"
     ]
    },
    {
     "name": "stdout",
     "output_type": "stream",
     "text": [
      "samples collected: 1600\n",
      "samples collected: 1600 \tdeduped samples added: 1527\n",
      "2186\n"
     ]
    },
    {
     "name": "stderr",
     "output_type": "stream",
     "text": [
      "                                                   \r"
     ]
    },
    {
     "name": "stdout",
     "output_type": "stream",
     "text": [
      "samples collected: 1600\n",
      "samples collected: 1600 \tdeduped samples added: 812\n",
      "2998\n"
     ]
    },
    {
     "name": "stderr",
     "output_type": "stream",
     "text": [
      "                                                    \r"
     ]
    },
    {
     "name": "stdout",
     "output_type": "stream",
     "text": [
      "samples collected: 1600\n",
      "samples collected: 1600 \tdeduped samples added: 796\n",
      "3794\n"
     ]
    },
    {
     "name": "stderr",
     "output_type": "stream",
     "text": [
      "                                                    \r"
     ]
    },
    {
     "name": "stdout",
     "output_type": "stream",
     "text": [
      "samples collected: 1600\n",
      "samples collected: 1600 \tdeduped samples added: 752\n",
      "4546\n"
     ]
    },
    {
     "name": "stderr",
     "output_type": "stream",
     "text": [
      "                                                    \r"
     ]
    },
    {
     "name": "stdout",
     "output_type": "stream",
     "text": [
      "samples collected: 1600\n",
      "samples collected: 1600 \tdeduped samples added: 758\n",
      "5304\n"
     ]
    },
    {
     "name": "stderr",
     "output_type": "stream",
     "text": [
      "                                                   \r"
     ]
    },
    {
     "name": "stdout",
     "output_type": "stream",
     "text": [
      "samples collected: 1600\n",
      "samples collected: 1600 \tdeduped samples added: 600\n",
      "5904\n"
     ]
    },
    {
     "name": "stderr",
     "output_type": "stream",
     "text": [
      "                                                   \r"
     ]
    },
    {
     "name": "stdout",
     "output_type": "stream",
     "text": [
      "samples collected: 1600\n",
      "samples collected: 1600 \tdeduped samples added: 663\n",
      "6567\n"
     ]
    },
    {
     "name": "stderr",
     "output_type": "stream",
     "text": [
      "                                                    \r"
     ]
    },
    {
     "name": "stdout",
     "output_type": "stream",
     "text": [
      "samples collected: 1600\n",
      "samples collected: 1600 \tdeduped samples added: 583\n",
      "7150\n",
      "Saved 6656 samples to data/cortex_491_6656.json\n"
     ]
    },
    {
     "name": "stderr",
     "output_type": "stream",
     "text": [
      "                                                    \r"
     ]
    },
    {
     "name": "stdout",
     "output_type": "stream",
     "text": [
      "samples collected: 1600\n",
      "samples collected: 1600 \tdeduped samples added: 1538\n",
      "2032\n"
     ]
    },
    {
     "name": "stderr",
     "output_type": "stream",
     "text": [
      "                                                    \r"
     ]
    },
    {
     "name": "stdout",
     "output_type": "stream",
     "text": [
      "Did not collect 1600, only got 1429\n",
      "samples collected: 1429\n",
      "samples collected: 1429 \tdeduped samples added: 415\n",
      "2447\n"
     ]
    },
    {
     "name": "stderr",
     "output_type": "stream",
     "text": [
      "                                                    \r"
     ]
    },
    {
     "name": "stdout",
     "output_type": "stream",
     "text": [
      "samples collected: 1600\n",
      "samples collected: 1600 \tdeduped samples added: 594\n",
      "3041\n"
     ]
    },
    {
     "name": "stderr",
     "output_type": "stream",
     "text": [
      "                                                   \r"
     ]
    },
    {
     "name": "stdout",
     "output_type": "stream",
     "text": [
      "samples collected: 1600\n",
      "samples collected: 1600 \tdeduped samples added: 618\n",
      "3659\n"
     ]
    },
    {
     "name": "stderr",
     "output_type": "stream",
     "text": [
      "                                                   \r"
     ]
    },
    {
     "name": "stdout",
     "output_type": "stream",
     "text": [
      "samples collected: 1600\n",
      "samples collected: 1600 \tdeduped samples added: 642\n",
      "4301\n"
     ]
    },
    {
     "name": "stderr",
     "output_type": "stream",
     "text": [
      "                                                   \r"
     ]
    },
    {
     "name": "stdout",
     "output_type": "stream",
     "text": [
      "samples collected: 1600\n",
      "samples collected: 1600 \tdeduped samples added: 622\n",
      "4923\n"
     ]
    },
    {
     "name": "stderr",
     "output_type": "stream",
     "text": [
      "                                                    \r"
     ]
    },
    {
     "name": "stdout",
     "output_type": "stream",
     "text": [
      "samples collected: 1600\n",
      "samples collected: 1600 \tdeduped samples added: 591\n",
      "5514\n"
     ]
    },
    {
     "name": "stderr",
     "output_type": "stream",
     "text": [
      "                                                    \r"
     ]
    },
    {
     "name": "stdout",
     "output_type": "stream",
     "text": [
      "samples collected: 1600\n",
      "samples collected: 1600 \tdeduped samples added: 594\n",
      "6108\n"
     ]
    },
    {
     "name": "stderr",
     "output_type": "stream",
     "text": [
      "                                                   \r"
     ]
    },
    {
     "name": "stdout",
     "output_type": "stream",
     "text": [
      "samples collected: 1600\n",
      "samples collected: 1600 \tdeduped samples added: 621\n",
      "6729\n",
      "Saved 6656 samples to data/cortex_492_6656.json\n"
     ]
    },
    {
     "name": "stderr",
     "output_type": "stream",
     "text": [
      "                                                    \r"
     ]
    },
    {
     "name": "stdout",
     "output_type": "stream",
     "text": [
      "samples collected: 1600\n",
      "samples collected: 1600 \tdeduped samples added: 1595\n",
      "1668\n"
     ]
    },
    {
     "name": "stderr",
     "output_type": "stream",
     "text": [
      "                                                    \r"
     ]
    },
    {
     "name": "stdout",
     "output_type": "stream",
     "text": [
      "samples collected: 1600\n",
      "samples collected: 1600 \tdeduped samples added: 582\n",
      "2250\n"
     ]
    },
    {
     "name": "stderr",
     "output_type": "stream",
     "text": [
      "                                                    \r"
     ]
    },
    {
     "name": "stdout",
     "output_type": "stream",
     "text": [
      "samples collected: 1600\n",
      "samples collected: 1600 \tdeduped samples added: 593\n",
      "2843\n"
     ]
    },
    {
     "name": "stderr",
     "output_type": "stream",
     "text": [
      "                                                    \r"
     ]
    },
    {
     "name": "stdout",
     "output_type": "stream",
     "text": [
      "samples collected: 1600\n",
      "samples collected: 1600 \tdeduped samples added: 418\n",
      "3261\n"
     ]
    },
    {
     "name": "stderr",
     "output_type": "stream",
     "text": [
      "                                                   \r"
     ]
    },
    {
     "name": "stdout",
     "output_type": "stream",
     "text": [
      "samples collected: 1600\n",
      "samples collected: 1600 \tdeduped samples added: 637\n",
      "3898\n"
     ]
    },
    {
     "name": "stderr",
     "output_type": "stream",
     "text": [
      "                                                    \r"
     ]
    },
    {
     "name": "stdout",
     "output_type": "stream",
     "text": [
      "samples collected: 1600\n",
      "samples collected: 1600 \tdeduped samples added: 578\n",
      "4476\n"
     ]
    },
    {
     "name": "stderr",
     "output_type": "stream",
     "text": [
      "                                                   \r"
     ]
    },
    {
     "name": "stdout",
     "output_type": "stream",
     "text": [
      "samples collected: 1600\n",
      "samples collected: 1600 \tdeduped samples added: 622\n",
      "5098\n"
     ]
    },
    {
     "name": "stderr",
     "output_type": "stream",
     "text": [
      "                                                   \r"
     ]
    },
    {
     "name": "stdout",
     "output_type": "stream",
     "text": [
      "samples collected: 1600\n",
      "samples collected: 1600 \tdeduped samples added: 628\n",
      "5726\n"
     ]
    },
    {
     "name": "stderr",
     "output_type": "stream",
     "text": [
      "                                                    \r"
     ]
    },
    {
     "name": "stdout",
     "output_type": "stream",
     "text": [
      "samples collected: 1600\n",
      "samples collected: 1600 \tdeduped samples added: 592\n",
      "6318\n"
     ]
    },
    {
     "name": "stderr",
     "output_type": "stream",
     "text": [
      "                                                    \r"
     ]
    },
    {
     "name": "stdout",
     "output_type": "stream",
     "text": [
      "samples collected: 1600\n",
      "samples collected: 1600 \tdeduped samples added: 594\n",
      "6912\n",
      "Saved 6656 samples to data/cortex_493_6656.json\n"
     ]
    },
    {
     "name": "stderr",
     "output_type": "stream",
     "text": [
      "                                                    \r"
     ]
    },
    {
     "name": "stdout",
     "output_type": "stream",
     "text": [
      "samples collected: 1600\n",
      "samples collected: 1600 \tdeduped samples added: 1564\n",
      "1820\n"
     ]
    },
    {
     "name": "stderr",
     "output_type": "stream",
     "text": [
      "                                                   \r"
     ]
    },
    {
     "name": "stdout",
     "output_type": "stream",
     "text": [
      "samples collected: 1600\n",
      "samples collected: 1600 \tdeduped samples added: 613\n",
      "2433\n"
     ]
    },
    {
     "name": "stderr",
     "output_type": "stream",
     "text": [
      "                                                   \r"
     ]
    },
    {
     "name": "stdout",
     "output_type": "stream",
     "text": [
      "samples collected: 1600\n",
      "samples collected: 1600 \tdeduped samples added: 601\n",
      "3034\n"
     ]
    },
    {
     "name": "stderr",
     "output_type": "stream",
     "text": [
      "                                                   \r"
     ]
    },
    {
     "name": "stdout",
     "output_type": "stream",
     "text": [
      "samples collected: 1600\n",
      "samples collected: 1600 \tdeduped samples added: 604\n",
      "3638\n"
     ]
    },
    {
     "name": "stderr",
     "output_type": "stream",
     "text": [
      "                                                    \r"
     ]
    },
    {
     "name": "stdout",
     "output_type": "stream",
     "text": [
      "samples collected: 1600\n",
      "samples collected: 1600 \tdeduped samples added: 593\n",
      "4231\n"
     ]
    },
    {
     "name": "stderr",
     "output_type": "stream",
     "text": [
      "                                                   \r"
     ]
    },
    {
     "name": "stdout",
     "output_type": "stream",
     "text": [
      "samples collected: 1600\n",
      "samples collected: 1600 \tdeduped samples added: 624\n",
      "4855\n"
     ]
    },
    {
     "name": "stderr",
     "output_type": "stream",
     "text": [
      "                                                    \r"
     ]
    },
    {
     "name": "stdout",
     "output_type": "stream",
     "text": [
      "samples collected: 1600\n",
      "samples collected: 1600 \tdeduped samples added: 588\n",
      "5443\n"
     ]
    },
    {
     "name": "stderr",
     "output_type": "stream",
     "text": [
      "                                                    \r"
     ]
    },
    {
     "name": "stdout",
     "output_type": "stream",
     "text": [
      "samples collected: 1600\n",
      "samples collected: 1600 \tdeduped samples added: 594\n",
      "6037\n"
     ]
    },
    {
     "name": "stderr",
     "output_type": "stream",
     "text": [
      "                                                   \r"
     ]
    },
    {
     "name": "stdout",
     "output_type": "stream",
     "text": [
      "samples collected: 1600\n",
      "samples collected: 1600 \tdeduped samples added: 601\n",
      "6638\n"
     ]
    },
    {
     "name": "stderr",
     "output_type": "stream",
     "text": [
      "                                                    \r"
     ]
    },
    {
     "name": "stdout",
     "output_type": "stream",
     "text": [
      "samples collected: 1600\n",
      "samples collected: 1600 \tdeduped samples added: 595\n",
      "7233\n",
      "Saved 6656 samples to data/cortex_494_6656.json\n"
     ]
    },
    {
     "name": "stderr",
     "output_type": "stream",
     "text": [
      "                                                   \r"
     ]
    },
    {
     "name": "stdout",
     "output_type": "stream",
     "text": [
      "samples collected: 1600\n",
      "samples collected: 1600 \tdeduped samples added: 1517\n",
      "2094\n"
     ]
    },
    {
     "name": "stderr",
     "output_type": "stream",
     "text": [
      "                                                   \r"
     ]
    },
    {
     "name": "stdout",
     "output_type": "stream",
     "text": [
      "samples collected: 1600\n",
      "samples collected: 1600 \tdeduped samples added: 619\n",
      "2713\n"
     ]
    },
    {
     "name": "stderr",
     "output_type": "stream",
     "text": [
      "                                                    \r"
     ]
    },
    {
     "name": "stdout",
     "output_type": "stream",
     "text": [
      "samples collected: 1600\n",
      "samples collected: 1600 \tdeduped samples added: 611\n",
      "3324\n"
     ]
    },
    {
     "name": "stderr",
     "output_type": "stream",
     "text": [
      "                                                   \r"
     ]
    },
    {
     "name": "stdout",
     "output_type": "stream",
     "text": [
      "samples collected: 1600\n",
      "samples collected: 1600 \tdeduped samples added: 645\n",
      "3969\n"
     ]
    },
    {
     "name": "stderr",
     "output_type": "stream",
     "text": [
      "                                                   \r"
     ]
    },
    {
     "name": "stdout",
     "output_type": "stream",
     "text": [
      "samples collected: 1600\n",
      "samples collected: 1600 \tdeduped samples added: 639\n",
      "4608\n"
     ]
    },
    {
     "name": "stderr",
     "output_type": "stream",
     "text": [
      "                                                    \r"
     ]
    },
    {
     "name": "stdout",
     "output_type": "stream",
     "text": [
      "samples collected: 1600\n",
      "samples collected: 1600 \tdeduped samples added: 593\n",
      "5201\n"
     ]
    },
    {
     "name": "stderr",
     "output_type": "stream",
     "text": [
      "                                                   \r"
     ]
    },
    {
     "name": "stdout",
     "output_type": "stream",
     "text": [
      "samples collected: 1600\n",
      "samples collected: 1600 \tdeduped samples added: 600\n",
      "5801\n"
     ]
    },
    {
     "name": "stderr",
     "output_type": "stream",
     "text": [
      "                                                    \r"
     ]
    },
    {
     "name": "stdout",
     "output_type": "stream",
     "text": [
      "samples collected: 1600\n",
      "samples collected: 1600 \tdeduped samples added: 594\n",
      "6395\n"
     ]
    },
    {
     "name": "stderr",
     "output_type": "stream",
     "text": [
      "                                                    \r"
     ]
    },
    {
     "name": "stdout",
     "output_type": "stream",
     "text": [
      "samples collected: 1600\n",
      "samples collected: 1600 \tdeduped samples added: 587\n",
      "6982\n",
      "Saved 6656 samples to data/cortex_495_6656.json\n"
     ]
    },
    {
     "name": "stderr",
     "output_type": "stream",
     "text": [
      "                                                    \r"
     ]
    },
    {
     "name": "stdout",
     "output_type": "stream",
     "text": [
      "samples collected: 1600\n",
      "samples collected: 1600 \tdeduped samples added: 1553\n",
      "1879\n"
     ]
    },
    {
     "name": "stderr",
     "output_type": "stream",
     "text": [
      "                                                   \r"
     ]
    },
    {
     "name": "stdout",
     "output_type": "stream",
     "text": [
      "samples collected: 1600\n",
      "samples collected: 1600 \tdeduped samples added: 594\n",
      "2473\n"
     ]
    },
    {
     "name": "stderr",
     "output_type": "stream",
     "text": [
      "                                                   \r"
     ]
    },
    {
     "name": "stdout",
     "output_type": "stream",
     "text": [
      "samples collected: 1600\n",
      "samples collected: 1600 \tdeduped samples added: 633\n",
      "3106\n"
     ]
    },
    {
     "name": "stderr",
     "output_type": "stream",
     "text": [
      "                                                    \r"
     ]
    },
    {
     "name": "stdout",
     "output_type": "stream",
     "text": [
      "samples collected: 1600\n",
      "samples collected: 1600 \tdeduped samples added: 590\n",
      "3696\n"
     ]
    },
    {
     "name": "stderr",
     "output_type": "stream",
     "text": [
      "                                                   \r"
     ]
    },
    {
     "name": "stdout",
     "output_type": "stream",
     "text": [
      "samples collected: 1600\n",
      "samples collected: 1600 \tdeduped samples added: 798\n",
      "4494\n"
     ]
    },
    {
     "name": "stderr",
     "output_type": "stream",
     "text": [
      "                                                   \r"
     ]
    },
    {
     "name": "stdout",
     "output_type": "stream",
     "text": [
      "samples collected: 1600\n",
      "samples collected: 1600 \tdeduped samples added: 848\n",
      "5342\n"
     ]
    },
    {
     "name": "stderr",
     "output_type": "stream",
     "text": [
      "                                                   \r"
     ]
    },
    {
     "name": "stdout",
     "output_type": "stream",
     "text": [
      "samples collected: 1600\n",
      "samples collected: 1600 \tdeduped samples added: 649\n",
      "5991\n"
     ]
    },
    {
     "name": "stderr",
     "output_type": "stream",
     "text": [
      "                                                   \r"
     ]
    },
    {
     "name": "stdout",
     "output_type": "stream",
     "text": [
      "samples collected: 1600\n",
      "samples collected: 1600 \tdeduped samples added: 634\n",
      "6625\n"
     ]
    },
    {
     "name": "stderr",
     "output_type": "stream",
     "text": [
      "                                                    \r"
     ]
    },
    {
     "name": "stdout",
     "output_type": "stream",
     "text": [
      "samples collected: 1600\n",
      "samples collected: 1600 \tdeduped samples added: 587\n",
      "7212\n",
      "Saved 6656 samples to data/cortex_496_6656.json\n"
     ]
    },
    {
     "name": "stderr",
     "output_type": "stream",
     "text": [
      "                                                   \r"
     ]
    },
    {
     "name": "stdout",
     "output_type": "stream",
     "text": [
      "samples collected: 1600\n",
      "samples collected: 1600 \tdeduped samples added: 1525\n",
      "2081\n"
     ]
    },
    {
     "name": "stderr",
     "output_type": "stream",
     "text": [
      "                                                   \r"
     ]
    },
    {
     "name": "stdout",
     "output_type": "stream",
     "text": [
      "samples collected: 1600\n",
      "samples collected: 1600 \tdeduped samples added: 806\n",
      "2887\n"
     ]
    },
    {
     "name": "stderr",
     "output_type": "stream",
     "text": [
      "                                                   \r"
     ]
    },
    {
     "name": "stdout",
     "output_type": "stream",
     "text": [
      "samples collected: 1600\n",
      "samples collected: 1600 \tdeduped samples added: 762\n",
      "3649\n"
     ]
    },
    {
     "name": "stderr",
     "output_type": "stream",
     "text": [
      "                                                    \r"
     ]
    },
    {
     "name": "stdout",
     "output_type": "stream",
     "text": [
      "samples collected: 1600\n",
      "samples collected: 1600 \tdeduped samples added: 751\n",
      "4400\n"
     ]
    },
    {
     "name": "stderr",
     "output_type": "stream",
     "text": [
      "                                                   \r"
     ]
    },
    {
     "name": "stdout",
     "output_type": "stream",
     "text": [
      "samples collected: 1600\n",
      "samples collected: 1600 \tdeduped samples added: 554\n",
      "4954\n"
     ]
    },
    {
     "name": "stderr",
     "output_type": "stream",
     "text": [
      "                                                   \r"
     ]
    },
    {
     "name": "stdout",
     "output_type": "stream",
     "text": [
      "samples collected: 1600\n",
      "samples collected: 1600 \tdeduped samples added: 726\n",
      "5680\n"
     ]
    },
    {
     "name": "stderr",
     "output_type": "stream",
     "text": [
      "                                                    \r"
     ]
    },
    {
     "name": "stdout",
     "output_type": "stream",
     "text": [
      "samples collected: 1600\n",
      "samples collected: 1600 \tdeduped samples added: 756\n",
      "6436\n"
     ]
    },
    {
     "name": "stderr",
     "output_type": "stream",
     "text": [
      "                                                   \r"
     ]
    },
    {
     "name": "stdout",
     "output_type": "stream",
     "text": [
      "samples collected: 1600\n",
      "samples collected: 1600 \tdeduped samples added: 632\n",
      "7068\n",
      "Saved 6656 samples to data/cortex_497_6656.json\n"
     ]
    },
    {
     "name": "stderr",
     "output_type": "stream",
     "text": [
      "                                                   \r"
     ]
    },
    {
     "name": "stdout",
     "output_type": "stream",
     "text": [
      "samples collected: 1600\n",
      "samples collected: 1600 \tdeduped samples added: 1542\n",
      "1954\n"
     ]
    },
    {
     "name": "stderr",
     "output_type": "stream",
     "text": [
      "                                                   \r"
     ]
    },
    {
     "name": "stdout",
     "output_type": "stream",
     "text": [
      "samples collected: 1600\n",
      "samples collected: 1600 \tdeduped samples added: 584\n",
      "2538\n"
     ]
    },
    {
     "name": "stderr",
     "output_type": "stream",
     "text": [
      "                                                   \r"
     ]
    },
    {
     "name": "stdout",
     "output_type": "stream",
     "text": [
      "samples collected: 1600\n",
      "samples collected: 1600 \tdeduped samples added: 646\n",
      "3184\n"
     ]
    },
    {
     "name": "stderr",
     "output_type": "stream",
     "text": [
      "                                                    \r"
     ]
    },
    {
     "name": "stdout",
     "output_type": "stream",
     "text": [
      "Did not collect 1600, only got 1491\n",
      "samples collected: 1491\n",
      "samples collected: 1491 \tdeduped samples added: 427\n",
      "3611\n"
     ]
    },
    {
     "name": "stderr",
     "output_type": "stream",
     "text": [
      "                                                   \r"
     ]
    },
    {
     "name": "stdout",
     "output_type": "stream",
     "text": [
      "samples collected: 1600\n",
      "samples collected: 1600 \tdeduped samples added: 635\n",
      "4246\n"
     ]
    },
    {
     "name": "stderr",
     "output_type": "stream",
     "text": [
      "                                                   \r"
     ]
    },
    {
     "name": "stdout",
     "output_type": "stream",
     "text": [
      "samples collected: 1600\n",
      "samples collected: 1600 \tdeduped samples added: 601\n",
      "4847\n"
     ]
    },
    {
     "name": "stderr",
     "output_type": "stream",
     "text": [
      "                                                    \r"
     ]
    },
    {
     "name": "stdout",
     "output_type": "stream",
     "text": [
      "samples collected: 1600\n",
      "samples collected: 1600 \tdeduped samples added: 545\n",
      "5392\n"
     ]
    },
    {
     "name": "stderr",
     "output_type": "stream",
     "text": [
      "                                                    \r"
     ]
    },
    {
     "name": "stdout",
     "output_type": "stream",
     "text": [
      "samples collected: 1600\n",
      "samples collected: 1600 \tdeduped samples added: 541\n",
      "5933\n"
     ]
    },
    {
     "name": "stderr",
     "output_type": "stream",
     "text": [
      "                                                    \r"
     ]
    },
    {
     "name": "stdout",
     "output_type": "stream",
     "text": [
      "samples collected: 1600\n",
      "samples collected: 1600 \tdeduped samples added: 543\n",
      "6476\n"
     ]
    },
    {
     "name": "stderr",
     "output_type": "stream",
     "text": [
      "                                                    \r"
     ]
    },
    {
     "name": "stdout",
     "output_type": "stream",
     "text": [
      "samples collected: 1600\n",
      "samples collected: 1600 \tdeduped samples added: 536\n",
      "7012\n",
      "Saved 6656 samples to data/cortex_498_6656.json\n"
     ]
    },
    {
     "name": "stderr",
     "output_type": "stream",
     "text": [
      "                                                   \r"
     ]
    },
    {
     "name": "stdout",
     "output_type": "stream",
     "text": [
      "samples collected: 1600\n",
      "samples collected: 1600 \tdeduped samples added: 1544\n",
      "1900\n"
     ]
    },
    {
     "name": "stderr",
     "output_type": "stream",
     "text": [
      "                                                   \r"
     ]
    },
    {
     "name": "stdout",
     "output_type": "stream",
     "text": [
      "samples collected: 1600\n",
      "samples collected: 1600 \tdeduped samples added: 656\n",
      "2556\n"
     ]
    },
    {
     "name": "stderr",
     "output_type": "stream",
     "text": [
      "                                                   \r"
     ]
    },
    {
     "name": "stdout",
     "output_type": "stream",
     "text": [
      "samples collected: 1600\n",
      "samples collected: 1600 \tdeduped samples added: 624\n",
      "3180\n"
     ]
    },
    {
     "name": "stderr",
     "output_type": "stream",
     "text": [
      "                                                    \r"
     ]
    },
    {
     "name": "stdout",
     "output_type": "stream",
     "text": [
      "samples collected: 1600\n",
      "samples collected: 1600 \tdeduped samples added: 617\n",
      "3797\n"
     ]
    },
    {
     "name": "stderr",
     "output_type": "stream",
     "text": [
      "                                                   \r"
     ]
    },
    {
     "name": "stdout",
     "output_type": "stream",
     "text": [
      "samples collected: 1600\n",
      "samples collected: 1600 \tdeduped samples added: 600\n",
      "4397\n"
     ]
    },
    {
     "name": "stderr",
     "output_type": "stream",
     "text": [
      "                                                   \r"
     ]
    },
    {
     "name": "stdout",
     "output_type": "stream",
     "text": [
      "samples collected: 1600\n",
      "samples collected: 1600 \tdeduped samples added: 579\n",
      "4976\n"
     ]
    },
    {
     "name": "stderr",
     "output_type": "stream",
     "text": [
      "                                                    \r"
     ]
    },
    {
     "name": "stdout",
     "output_type": "stream",
     "text": [
      "samples collected: 1600\n",
      "samples collected: 1600 \tdeduped samples added: 574\n",
      "5550\n"
     ]
    },
    {
     "name": "stderr",
     "output_type": "stream",
     "text": [
      "                                                    \r"
     ]
    },
    {
     "name": "stdout",
     "output_type": "stream",
     "text": [
      "samples collected: 1600\n",
      "samples collected: 1600 \tdeduped samples added: 541\n",
      "6091\n"
     ]
    },
    {
     "name": "stderr",
     "output_type": "stream",
     "text": [
      "                                                   \r"
     ]
    },
    {
     "name": "stdout",
     "output_type": "stream",
     "text": [
      "samples collected: 1600\n",
      "samples collected: 1600 \tdeduped samples added: 623\n",
      "6714\n",
      "Saved 6656 samples to data/cortex_499_6656.json\n"
     ]
    },
    {
     "name": "stderr",
     "output_type": "stream",
     "text": [
      "                                                    \r"
     ]
    },
    {
     "name": "stdout",
     "output_type": "stream",
     "text": [
      "samples collected: 1600\n",
      "samples collected: 1600 \tdeduped samples added: 1596\n",
      "1654\n"
     ]
    },
    {
     "name": "stderr",
     "output_type": "stream",
     "text": [
      "                                                   \r"
     ]
    },
    {
     "name": "stdout",
     "output_type": "stream",
     "text": [
      "samples collected: 1600\n",
      "samples collected: 1600 \tdeduped samples added: 607\n",
      "2261\n"
     ]
    },
    {
     "name": "stderr",
     "output_type": "stream",
     "text": [
      "                                                   \r"
     ]
    },
    {
     "name": "stdout",
     "output_type": "stream",
     "text": [
      "samples collected: 1600\n",
      "samples collected: 1600 \tdeduped samples added: 550\n",
      "2811\n"
     ]
    },
    {
     "name": "stderr",
     "output_type": "stream",
     "text": [
      "                                                    \r"
     ]
    },
    {
     "name": "stdout",
     "output_type": "stream",
     "text": [
      "samples collected: 1600\n",
      "samples collected: 1600 \tdeduped samples added: 545\n",
      "3356\n"
     ]
    },
    {
     "name": "stderr",
     "output_type": "stream",
     "text": [
      "                                                    \r"
     ]
    },
    {
     "name": "stdout",
     "output_type": "stream",
     "text": [
      "samples collected: 1600\n",
      "samples collected: 1600 \tdeduped samples added: 595\n",
      "3951\n"
     ]
    },
    {
     "name": "stderr",
     "output_type": "stream",
     "text": [
      "                                                   \r"
     ]
    },
    {
     "name": "stdout",
     "output_type": "stream",
     "text": [
      "samples collected: 1600\n",
      "samples collected: 1600 \tdeduped samples added: 608\n",
      "4559\n"
     ]
    },
    {
     "name": "stderr",
     "output_type": "stream",
     "text": [
      "                                                    \r"
     ]
    },
    {
     "name": "stdout",
     "output_type": "stream",
     "text": [
      "samples collected: 1600\n",
      "samples collected: 1600 \tdeduped samples added: 544\n",
      "5103\n"
     ]
    },
    {
     "name": "stderr",
     "output_type": "stream",
     "text": [
      "                                                    \r"
     ]
    },
    {
     "name": "stdout",
     "output_type": "stream",
     "text": [
      "samples collected: 1600\n",
      "samples collected: 1600 \tdeduped samples added: 753\n",
      "5856\n"
     ]
    },
    {
     "name": "stderr",
     "output_type": "stream",
     "text": [
      "                                                   \r"
     ]
    },
    {
     "name": "stdout",
     "output_type": "stream",
     "text": [
      "samples collected: 1600\n",
      "samples collected: 1600 \tdeduped samples added: 823\n",
      "6679\n",
      "Saved 6656 samples to data/cortex_500_6656.json\n"
     ]
    },
    {
     "name": "stderr",
     "output_type": "stream",
     "text": [
      "                                                    \r"
     ]
    },
    {
     "name": "stdout",
     "output_type": "stream",
     "text": [
      "samples collected: 1600\n",
      "samples collected: 1600 \tdeduped samples added: 1598\n",
      "1621\n"
     ]
    },
    {
     "name": "stderr",
     "output_type": "stream",
     "text": [
      "                                                   \r"
     ]
    },
    {
     "name": "stdout",
     "output_type": "stream",
     "text": [
      "samples collected: 1600\n",
      "samples collected: 1600 \tdeduped samples added: 839\n",
      "2460\n"
     ]
    },
    {
     "name": "stderr",
     "output_type": "stream",
     "text": [
      "                                                    \r"
     ]
    },
    {
     "name": "stdout",
     "output_type": "stream",
     "text": [
      "samples collected: 1600\n",
      "samples collected: 1600 \tdeduped samples added: 737\n",
      "3197\n"
     ]
    },
    {
     "name": "stderr",
     "output_type": "stream",
     "text": [
      "                                                    \r"
     ]
    },
    {
     "name": "stdout",
     "output_type": "stream",
     "text": [
      "samples collected: 1600\n",
      "samples collected: 1600 \tdeduped samples added: 834\n",
      "4031\n"
     ]
    },
    {
     "name": "stderr",
     "output_type": "stream",
     "text": [
      "                                                    \r"
     ]
    },
    {
     "name": "stdout",
     "output_type": "stream",
     "text": [
      "samples collected: 1600\n",
      "samples collected: 1600 \tdeduped samples added: 759\n",
      "4790\n"
     ]
    },
    {
     "name": "stderr",
     "output_type": "stream",
     "text": [
      "                                                    \r"
     ]
    },
    {
     "name": "stdout",
     "output_type": "stream",
     "text": [
      "samples collected: 1600\n",
      "samples collected: 1600 \tdeduped samples added: 759\n",
      "5549\n"
     ]
    },
    {
     "name": "stderr",
     "output_type": "stream",
     "text": [
      "                                                    \r"
     ]
    },
    {
     "name": "stdout",
     "output_type": "stream",
     "text": [
      "samples collected: 1600\n",
      "samples collected: 1600 \tdeduped samples added: 760\n",
      "6309\n"
     ]
    },
    {
     "name": "stderr",
     "output_type": "stream",
     "text": [
      "                                                    \r"
     ]
    },
    {
     "name": "stdout",
     "output_type": "stream",
     "text": [
      "samples collected: 1600\n",
      "samples collected: 1600 \tdeduped samples added: 748\n",
      "7057\n",
      "Saved 6656 samples to data/cortex_501_6656.json\n"
     ]
    },
    {
     "name": "stderr",
     "output_type": "stream",
     "text": [
      "                                                    \r"
     ]
    },
    {
     "name": "stdout",
     "output_type": "stream",
     "text": [
      "samples collected: 1600\n",
      "samples collected: 1600 \tdeduped samples added: 1541\n",
      "1942\n"
     ]
    },
    {
     "name": "stderr",
     "output_type": "stream",
     "text": [
      "                                                    \r"
     ]
    },
    {
     "name": "stdout",
     "output_type": "stream",
     "text": [
      "samples collected: 1600\n",
      "samples collected: 1600 \tdeduped samples added: 747\n",
      "2689\n"
     ]
    },
    {
     "name": "stderr",
     "output_type": "stream",
     "text": [
      "                                                   \r"
     ]
    },
    {
     "name": "stdout",
     "output_type": "stream",
     "text": [
      "samples collected: 1600\n",
      "samples collected: 1600 \tdeduped samples added: 814\n",
      "3503\n"
     ]
    },
    {
     "name": "stderr",
     "output_type": "stream",
     "text": [
      "                                                    \r"
     ]
    },
    {
     "name": "stdout",
     "output_type": "stream",
     "text": [
      "samples collected: 1600\n",
      "samples collected: 1600 \tdeduped samples added: 755\n",
      "4258\n"
     ]
    },
    {
     "name": "stderr",
     "output_type": "stream",
     "text": [
      "                                                   \r"
     ]
    },
    {
     "name": "stdout",
     "output_type": "stream",
     "text": [
      "samples collected: 1600\n",
      "samples collected: 1600 \tdeduped samples added: 854\n",
      "5112\n"
     ]
    },
    {
     "name": "stderr",
     "output_type": "stream",
     "text": [
      "                                                    \r"
     ]
    },
    {
     "name": "stdout",
     "output_type": "stream",
     "text": [
      "samples collected: 1600\n",
      "samples collected: 1600 \tdeduped samples added: 754\n",
      "5866\n"
     ]
    },
    {
     "name": "stderr",
     "output_type": "stream",
     "text": [
      "                                                   \r"
     ]
    },
    {
     "name": "stdout",
     "output_type": "stream",
     "text": [
      "samples collected: 1600\n",
      "samples collected: 1600 \tdeduped samples added: 603\n",
      "6469\n"
     ]
    },
    {
     "name": "stderr",
     "output_type": "stream",
     "text": [
      "                                                    \r"
     ]
    },
    {
     "name": "stdout",
     "output_type": "stream",
     "text": [
      "samples collected: 1600\n",
      "samples collected: 1600 \tdeduped samples added: 752\n",
      "7221\n",
      "Saved 6656 samples to data/cortex_502_6656.json\n"
     ]
    },
    {
     "name": "stderr",
     "output_type": "stream",
     "text": [
      "                                                    \r"
     ]
    },
    {
     "name": "stdout",
     "output_type": "stream",
     "text": [
      "samples collected: 1600\n",
      "samples collected: 1600 \tdeduped samples added: 1531\n",
      "2096\n"
     ]
    },
    {
     "name": "stderr",
     "output_type": "stream",
     "text": [
      "                                                   \r"
     ]
    },
    {
     "name": "stdout",
     "output_type": "stream",
     "text": [
      "samples collected: 1600\n",
      "samples collected: 1600 \tdeduped samples added: 614\n",
      "2710\n"
     ]
    },
    {
     "name": "stderr",
     "output_type": "stream",
     "text": [
      "                                                    \r"
     ]
    },
    {
     "name": "stdout",
     "output_type": "stream",
     "text": [
      "samples collected: 1600\n",
      "samples collected: 1600 \tdeduped samples added: 564\n",
      "3274\n"
     ]
    },
    {
     "name": "stderr",
     "output_type": "stream",
     "text": [
      "                                                   \r"
     ]
    },
    {
     "name": "stdout",
     "output_type": "stream",
     "text": [
      "samples collected: 1600\n",
      "samples collected: 1600 \tdeduped samples added: 612\n",
      "3886\n"
     ]
    },
    {
     "name": "stderr",
     "output_type": "stream",
     "text": [
      "                                                    \r"
     ]
    },
    {
     "name": "stdout",
     "output_type": "stream",
     "text": [
      "samples collected: 1600\n",
      "samples collected: 1600 \tdeduped samples added: 563\n",
      "4449\n"
     ]
    },
    {
     "name": "stderr",
     "output_type": "stream",
     "text": [
      "                                                    \r"
     ]
    },
    {
     "name": "stdout",
     "output_type": "stream",
     "text": [
      "samples collected: 1600\n",
      "samples collected: 1600 \tdeduped samples added: 640\n",
      "5089\n"
     ]
    },
    {
     "name": "stderr",
     "output_type": "stream",
     "text": [
      "                                                   \r"
     ]
    },
    {
     "name": "stdout",
     "output_type": "stream",
     "text": [
      "samples collected: 1600\n",
      "samples collected: 1600 \tdeduped samples added: 772\n",
      "5861\n"
     ]
    },
    {
     "name": "stderr",
     "output_type": "stream",
     "text": [
      "                                                    \r"
     ]
    },
    {
     "name": "stdout",
     "output_type": "stream",
     "text": [
      "samples collected: 1600\n",
      "samples collected: 1600 \tdeduped samples added: 767\n",
      "6628\n"
     ]
    },
    {
     "name": "stderr",
     "output_type": "stream",
     "text": [
      "                                                    \r"
     ]
    },
    {
     "name": "stdout",
     "output_type": "stream",
     "text": [
      "samples collected: 1600\n",
      "samples collected: 1600 \tdeduped samples added: 767\n",
      "7395\n",
      "Saved 6656 samples to data/cortex_503_6656.json\n"
     ]
    },
    {
     "name": "stderr",
     "output_type": "stream",
     "text": [
      "                                                    \r"
     ]
    },
    {
     "name": "stdout",
     "output_type": "stream",
     "text": [
      "samples collected: 1600\n",
      "samples collected: 1600 \tdeduped samples added: 1514\n",
      "2253\n"
     ]
    },
    {
     "name": "stderr",
     "output_type": "stream",
     "text": [
      "                                                    \r"
     ]
    },
    {
     "name": "stdout",
     "output_type": "stream",
     "text": [
      "samples collected: 1600\n",
      "samples collected: 1600 \tdeduped samples added: 762\n",
      "3015\n"
     ]
    },
    {
     "name": "stderr",
     "output_type": "stream",
     "text": [
      "                                                    \r"
     ]
    },
    {
     "name": "stdout",
     "output_type": "stream",
     "text": [
      "samples collected: 1600\n",
      "samples collected: 1600 \tdeduped samples added: 606\n",
      "3621\n"
     ]
    },
    {
     "name": "stderr",
     "output_type": "stream",
     "text": [
      "                                                   \r"
     ]
    },
    {
     "name": "stdout",
     "output_type": "stream",
     "text": [
      "samples collected: 1600\n",
      "samples collected: 1600 \tdeduped samples added: 618\n",
      "4239\n"
     ]
    },
    {
     "name": "stderr",
     "output_type": "stream",
     "text": [
      "                                                    \r"
     ]
    },
    {
     "name": "stdout",
     "output_type": "stream",
     "text": [
      "samples collected: 1600\n",
      "samples collected: 1600 \tdeduped samples added: 607\n",
      "4846\n"
     ]
    },
    {
     "name": "stderr",
     "output_type": "stream",
     "text": [
      "                                                    \r"
     ]
    },
    {
     "name": "stdout",
     "output_type": "stream",
     "text": [
      "samples collected: 1600\n",
      "samples collected: 1600 \tdeduped samples added: 625\n",
      "5471\n"
     ]
    },
    {
     "name": "stderr",
     "output_type": "stream",
     "text": [
      "                                                    \r"
     ]
    },
    {
     "name": "stdout",
     "output_type": "stream",
     "text": [
      "samples collected: 1600\n",
      "samples collected: 1600 \tdeduped samples added: 617\n",
      "6088\n"
     ]
    },
    {
     "name": "stderr",
     "output_type": "stream",
     "text": [
      "                                                    \r"
     ]
    },
    {
     "name": "stdout",
     "output_type": "stream",
     "text": [
      "samples collected: 1600\n",
      "samples collected: 1600 \tdeduped samples added: 767\n",
      "6855\n",
      "Saved 6656 samples to data/cortex_504_6656.json\n"
     ]
    },
    {
     "name": "stderr",
     "output_type": "stream",
     "text": [
      "                                                    \r"
     ]
    },
    {
     "name": "stdout",
     "output_type": "stream",
     "text": [
      "samples collected: 1600\n",
      "samples collected: 1600 \tdeduped samples added: 1573\n",
      "1772\n"
     ]
    },
    {
     "name": "stderr",
     "output_type": "stream",
     "text": [
      "                                                    \r"
     ]
    },
    {
     "name": "stdout",
     "output_type": "stream",
     "text": [
      "samples collected: 1600\n",
      "samples collected: 1600 \tdeduped samples added: 828\n",
      "2600\n"
     ]
    },
    {
     "name": "stderr",
     "output_type": "stream",
     "text": [
      "                                                    \r"
     ]
    },
    {
     "name": "stdout",
     "output_type": "stream",
     "text": [
      "samples collected: 1600\n",
      "samples collected: 1600 \tdeduped samples added: 770\n",
      "3370\n"
     ]
    },
    {
     "name": "stderr",
     "output_type": "stream",
     "text": [
      "                                                    \r"
     ]
    },
    {
     "name": "stdout",
     "output_type": "stream",
     "text": [
      "samples collected: 1600\n",
      "samples collected: 1600 \tdeduped samples added: 768\n",
      "4138\n"
     ]
    },
    {
     "name": "stderr",
     "output_type": "stream",
     "text": [
      "                                                    \r"
     ]
    },
    {
     "name": "stdout",
     "output_type": "stream",
     "text": [
      "samples collected: 1600\n",
      "samples collected: 1600 \tdeduped samples added: 765\n",
      "4903\n"
     ]
    },
    {
     "name": "stderr",
     "output_type": "stream",
     "text": [
      "                                                    \r"
     ]
    },
    {
     "name": "stdout",
     "output_type": "stream",
     "text": [
      "samples collected: 1600\n",
      "samples collected: 1600 \tdeduped samples added: 766\n",
      "5669\n"
     ]
    },
    {
     "name": "stderr",
     "output_type": "stream",
     "text": [
      "                                                    \r"
     ]
    },
    {
     "name": "stdout",
     "output_type": "stream",
     "text": [
      "samples collected: 1600\n",
      "samples collected: 1600 \tdeduped samples added: 844\n",
      "6513\n"
     ]
    },
    {
     "name": "stderr",
     "output_type": "stream",
     "text": [
      "                                                    \r"
     ]
    },
    {
     "name": "stdout",
     "output_type": "stream",
     "text": [
      "samples collected: 1600\n",
      "samples collected: 1600 \tdeduped samples added: 815\n",
      "7328\n",
      "Saved 6656 samples to data/cortex_505_6656.json\n"
     ]
    },
    {
     "name": "stderr",
     "output_type": "stream",
     "text": [
      "                                                    \r"
     ]
    },
    {
     "name": "stdout",
     "output_type": "stream",
     "text": [
      "samples collected: 1600\n",
      "samples collected: 1600 \tdeduped samples added: 1521\n",
      "2193\n"
     ]
    },
    {
     "name": "stderr",
     "output_type": "stream",
     "text": [
      "                                                    \r"
     ]
    },
    {
     "name": "stdout",
     "output_type": "stream",
     "text": [
      "samples collected: 1600\n",
      "samples collected: 1600 \tdeduped samples added: 833\n",
      "3026\n"
     ]
    },
    {
     "name": "stderr",
     "output_type": "stream",
     "text": [
      "                                                    \r"
     ]
    },
    {
     "name": "stdout",
     "output_type": "stream",
     "text": [
      "samples collected: 1600\n",
      "samples collected: 1600 \tdeduped samples added: 820\n",
      "3846\n"
     ]
    },
    {
     "name": "stderr",
     "output_type": "stream",
     "text": [
      "                                                    \r"
     ]
    },
    {
     "name": "stdout",
     "output_type": "stream",
     "text": [
      "samples collected: 1600\n",
      "samples collected: 1600 \tdeduped samples added: 768\n",
      "4614\n"
     ]
    },
    {
     "name": "stderr",
     "output_type": "stream",
     "text": [
      "                                                    \r"
     ]
    },
    {
     "name": "stdout",
     "output_type": "stream",
     "text": [
      "samples collected: 1600\n",
      "samples collected: 1600 \tdeduped samples added: 553\n",
      "5167\n"
     ]
    },
    {
     "name": "stderr",
     "output_type": "stream",
     "text": [
      "                                                    \r"
     ]
    },
    {
     "name": "stdout",
     "output_type": "stream",
     "text": [
      "samples collected: 1600\n",
      "samples collected: 1600 \tdeduped samples added: 549\n",
      "5716\n"
     ]
    },
    {
     "name": "stderr",
     "output_type": "stream",
     "text": [
      "                                                   \r"
     ]
    },
    {
     "name": "stdout",
     "output_type": "stream",
     "text": [
      "samples collected: 1600\n",
      "samples collected: 1600 \tdeduped samples added: 620\n",
      "6336\n"
     ]
    },
    {
     "name": "stderr",
     "output_type": "stream",
     "text": [
      "                                                   \r"
     ]
    },
    {
     "name": "stdout",
     "output_type": "stream",
     "text": [
      "samples collected: 1600\n",
      "samples collected: 1600 \tdeduped samples added: 601\n",
      "6937\n",
      "Saved 6656 samples to data/cortex_506_6656.json\n"
     ]
    },
    {
     "name": "stderr",
     "output_type": "stream",
     "text": [
      "                                                    \r"
     ]
    },
    {
     "name": "stdout",
     "output_type": "stream",
     "text": [
      "samples collected: 1600\n",
      "samples collected: 1600 \tdeduped samples added: 1550\n",
      "1831\n"
     ]
    },
    {
     "name": "stderr",
     "output_type": "stream",
     "text": [
      "                                                   \r"
     ]
    },
    {
     "name": "stdout",
     "output_type": "stream",
     "text": [
      "samples collected: 1600\n",
      "samples collected: 1600 \tdeduped samples added: 628\n",
      "2459\n"
     ]
    },
    {
     "name": "stderr",
     "output_type": "stream",
     "text": [
      "                                                   \r"
     ]
    },
    {
     "name": "stdout",
     "output_type": "stream",
     "text": [
      "samples collected: 1600\n",
      "samples collected: 1600 \tdeduped samples added: 630\n",
      "3089\n"
     ]
    },
    {
     "name": "stderr",
     "output_type": "stream",
     "text": [
      "                                                   \r"
     ]
    },
    {
     "name": "stdout",
     "output_type": "stream",
     "text": [
      "samples collected: 1600\n",
      "samples collected: 1600 \tdeduped samples added: 608\n",
      "3697\n"
     ]
    },
    {
     "name": "stderr",
     "output_type": "stream",
     "text": [
      "                                                    \r"
     ]
    },
    {
     "name": "stdout",
     "output_type": "stream",
     "text": [
      "samples collected: 1600\n",
      "samples collected: 1600 \tdeduped samples added: 551\n",
      "4248\n"
     ]
    },
    {
     "name": "stderr",
     "output_type": "stream",
     "text": [
      "                                                    \r"
     ]
    },
    {
     "name": "stdout",
     "output_type": "stream",
     "text": [
      "samples collected: 1600\n",
      "samples collected: 1600 \tdeduped samples added: 552\n",
      "4800\n"
     ]
    },
    {
     "name": "stderr",
     "output_type": "stream",
     "text": [
      "                                                    \r"
     ]
    },
    {
     "name": "stdout",
     "output_type": "stream",
     "text": [
      "samples collected: 1600\n",
      "samples collected: 1600 \tdeduped samples added: 612\n",
      "5412\n"
     ]
    },
    {
     "name": "stderr",
     "output_type": "stream",
     "text": [
      "                                                   \r"
     ]
    },
    {
     "name": "stdout",
     "output_type": "stream",
     "text": [
      "samples collected: 1600\n",
      "samples collected: 1600 \tdeduped samples added: 641\n",
      "6053\n"
     ]
    },
    {
     "name": "stderr",
     "output_type": "stream",
     "text": [
      "                                                    \r"
     ]
    },
    {
     "name": "stdout",
     "output_type": "stream",
     "text": [
      "samples collected: 1600\n",
      "samples collected: 1600 \tdeduped samples added: 550\n",
      "6603\n"
     ]
    },
    {
     "name": "stderr",
     "output_type": "stream",
     "text": [
      "                                                    \r"
     ]
    },
    {
     "name": "stdout",
     "output_type": "stream",
     "text": [
      "samples collected: 1600\n",
      "samples collected: 1600 \tdeduped samples added: 551\n",
      "7154\n",
      "Saved 6656 samples to data/cortex_507_6656.json\n"
     ]
    },
    {
     "name": "stderr",
     "output_type": "stream",
     "text": [
      "                                                   \r"
     ]
    },
    {
     "name": "stdout",
     "output_type": "stream",
     "text": [
      "samples collected: 1600\n",
      "samples collected: 1600 \tdeduped samples added: 1532\n",
      "2030\n"
     ]
    },
    {
     "name": "stderr",
     "output_type": "stream",
     "text": [
      "                                                    \r"
     ]
    },
    {
     "name": "stdout",
     "output_type": "stream",
     "text": [
      "samples collected: 1600\n",
      "samples collected: 1600 \tdeduped samples added: 607\n",
      "2637\n"
     ]
    },
    {
     "name": "stderr",
     "output_type": "stream",
     "text": [
      "                                                   \r"
     ]
    },
    {
     "name": "stdout",
     "output_type": "stream",
     "text": [
      "samples collected: 1600\n",
      "samples collected: 1600 \tdeduped samples added: 597\n",
      "3234\n"
     ]
    },
    {
     "name": "stderr",
     "output_type": "stream",
     "text": [
      "                                                   \r"
     ]
    },
    {
     "name": "stdout",
     "output_type": "stream",
     "text": [
      "samples collected: 1600\n",
      "samples collected: 1600 \tdeduped samples added: 616\n",
      "3850\n"
     ]
    },
    {
     "name": "stderr",
     "output_type": "stream",
     "text": [
      "                                                    \r"
     ]
    },
    {
     "name": "stdout",
     "output_type": "stream",
     "text": [
      "samples collected: 1600\n",
      "samples collected: 1600 \tdeduped samples added: 554\n",
      "4404\n"
     ]
    },
    {
     "name": "stderr",
     "output_type": "stream",
     "text": [
      "                                                   \r"
     ]
    },
    {
     "name": "stdout",
     "output_type": "stream",
     "text": [
      "samples collected: 1600\n",
      "samples collected: 1600 \tdeduped samples added: 659\n",
      "5063\n"
     ]
    },
    {
     "name": "stderr",
     "output_type": "stream",
     "text": [
      "                                                    \r"
     ]
    },
    {
     "name": "stdout",
     "output_type": "stream",
     "text": [
      "samples collected: 1600\n",
      "samples collected: 1600 \tdeduped samples added: 554\n",
      "5617\n"
     ]
    },
    {
     "name": "stderr",
     "output_type": "stream",
     "text": [
      "                                                   \r"
     ]
    },
    {
     "name": "stdout",
     "output_type": "stream",
     "text": [
      "samples collected: 1600\n",
      "samples collected: 1600 \tdeduped samples added: 631\n",
      "6248\n"
     ]
    },
    {
     "name": "stderr",
     "output_type": "stream",
     "text": [
      "                                                    \r"
     ]
    },
    {
     "name": "stdout",
     "output_type": "stream",
     "text": [
      "samples collected: 1600\n",
      "samples collected: 1600 \tdeduped samples added: 554\n",
      "6802\n",
      "Saved 6656 samples to data/cortex_508_6656.json\n"
     ]
    },
    {
     "name": "stderr",
     "output_type": "stream",
     "text": [
      "                                                    \r"
     ]
    },
    {
     "name": "stdout",
     "output_type": "stream",
     "text": [
      "samples collected: 1600\n",
      "samples collected: 1600 \tdeduped samples added: 1570\n",
      "1716\n"
     ]
    },
    {
     "name": "stderr",
     "output_type": "stream",
     "text": [
      "                                                    \r"
     ]
    },
    {
     "name": "stdout",
     "output_type": "stream",
     "text": [
      "samples collected: 1600\n",
      "samples collected: 1600 \tdeduped samples added: 555\n",
      "2271\n"
     ]
    },
    {
     "name": "stderr",
     "output_type": "stream",
     "text": [
      "                                                   \r"
     ]
    },
    {
     "name": "stdout",
     "output_type": "stream",
     "text": [
      "samples collected: 1600\n",
      "samples collected: 1600 \tdeduped samples added: 677\n",
      "2948\n"
     ]
    },
    {
     "name": "stderr",
     "output_type": "stream",
     "text": [
      "                                                   \r"
     ]
    },
    {
     "name": "stdout",
     "output_type": "stream",
     "text": [
      "samples collected: 1600\n",
      "samples collected: 1600 \tdeduped samples added: 611\n",
      "3559\n"
     ]
    },
    {
     "name": "stderr",
     "output_type": "stream",
     "text": [
      "                                                   \r"
     ]
    },
    {
     "name": "stdout",
     "output_type": "stream",
     "text": [
      "samples collected: 1600\n",
      "samples collected: 1600 \tdeduped samples added: 614\n",
      "4173\n"
     ]
    },
    {
     "name": "stderr",
     "output_type": "stream",
     "text": [
      "                                                    \r"
     ]
    },
    {
     "name": "stdout",
     "output_type": "stream",
     "text": [
      "samples collected: 1600\n",
      "samples collected: 1600 \tdeduped samples added: 554\n",
      "4727\n"
     ]
    },
    {
     "name": "stderr",
     "output_type": "stream",
     "text": [
      "                                                    \r"
     ]
    },
    {
     "name": "stdout",
     "output_type": "stream",
     "text": [
      "samples collected: 1600\n",
      "samples collected: 1600 \tdeduped samples added: 556\n",
      "5283\n"
     ]
    },
    {
     "name": "stderr",
     "output_type": "stream",
     "text": [
      "                                                   \r"
     ]
    },
    {
     "name": "stdout",
     "output_type": "stream",
     "text": [
      "samples collected: 1600\n",
      "samples collected: 1600 \tdeduped samples added: 645\n",
      "5928\n"
     ]
    },
    {
     "name": "stderr",
     "output_type": "stream",
     "text": [
      "                                                    \r"
     ]
    },
    {
     "name": "stdout",
     "output_type": "stream",
     "text": [
      "samples collected: 1600\n",
      "samples collected: 1600 \tdeduped samples added: 554\n",
      "6482\n"
     ]
    },
    {
     "name": "stderr",
     "output_type": "stream",
     "text": [
      "                                                   \r"
     ]
    },
    {
     "name": "stdout",
     "output_type": "stream",
     "text": [
      "samples collected: 1600\n",
      "samples collected: 1600 \tdeduped samples added: 605\n",
      "7087\n",
      "Saved 6656 samples to data/cortex_509_6656.json\n"
     ]
    },
    {
     "name": "stderr",
     "output_type": "stream",
     "text": [
      "                                                   \r"
     ]
    },
    {
     "name": "stdout",
     "output_type": "stream",
     "text": [
      "samples collected: 1600\n",
      "samples collected: 1600 \tdeduped samples added: 1541\n",
      "1972\n"
     ]
    },
    {
     "name": "stderr",
     "output_type": "stream",
     "text": [
      "                                                    \r"
     ]
    },
    {
     "name": "stdout",
     "output_type": "stream",
     "text": [
      "samples collected: 1600\n",
      "samples collected: 1600 \tdeduped samples added: 610\n",
      "2582\n"
     ]
    },
    {
     "name": "stderr",
     "output_type": "stream",
     "text": [
      "                                                    \r"
     ]
    },
    {
     "name": "stdout",
     "output_type": "stream",
     "text": [
      "samples collected: 1600\n",
      "samples collected: 1600 \tdeduped samples added: 639\n",
      "3221\n"
     ]
    },
    {
     "name": "stderr",
     "output_type": "stream",
     "text": [
      "                                                    \r"
     ]
    },
    {
     "name": "stdout",
     "output_type": "stream",
     "text": [
      "samples collected: 1600\n",
      "samples collected: 1600 \tdeduped samples added: 770\n",
      "3991\n"
     ]
    },
    {
     "name": "stderr",
     "output_type": "stream",
     "text": [
      "                                                    \r"
     ]
    },
    {
     "name": "stdout",
     "output_type": "stream",
     "text": [
      "samples collected: 1600\n",
      "samples collected: 1600 \tdeduped samples added: 577\n",
      "4568\n"
     ]
    },
    {
     "name": "stderr",
     "output_type": "stream",
     "text": [
      "                                                   \r"
     ]
    },
    {
     "name": "stdout",
     "output_type": "stream",
     "text": [
      "samples collected: 1600\n",
      "samples collected: 1600 \tdeduped samples added: 670\n",
      "5238\n"
     ]
    },
    {
     "name": "stderr",
     "output_type": "stream",
     "text": [
      "                                                    \r"
     ]
    },
    {
     "name": "stdout",
     "output_type": "stream",
     "text": [
      "samples collected: 1600\n",
      "samples collected: 1600 \tdeduped samples added: 628\n",
      "5866\n"
     ]
    },
    {
     "name": "stderr",
     "output_type": "stream",
     "text": [
      "                                                    \r"
     ]
    },
    {
     "name": "stdout",
     "output_type": "stream",
     "text": [
      "samples collected: 1600\n",
      "samples collected: 1600 \tdeduped samples added: 768\n",
      "6634\n"
     ]
    },
    {
     "name": "stderr",
     "output_type": "stream",
     "text": [
      "                                                   \r"
     ]
    },
    {
     "name": "stdout",
     "output_type": "stream",
     "text": [
      "samples collected: 1600\n",
      "samples collected: 1600 \tdeduped samples added: 857\n",
      "7491\n",
      "Saved 6656 samples to data/cortex_510_6656.json\n"
     ]
    },
    {
     "name": "stderr",
     "output_type": "stream",
     "text": [
      "                                                    \r"
     ]
    },
    {
     "name": "stdout",
     "output_type": "stream",
     "text": [
      "Did not collect 1600, only got 1450\n",
      "samples collected: 1450\n",
      "samples collected: 1450 \tdeduped samples added: 1350\n",
      "2185\n"
     ]
    },
    {
     "name": "stderr",
     "output_type": "stream",
     "text": [
      "                                                    \r"
     ]
    },
    {
     "name": "stdout",
     "output_type": "stream",
     "text": [
      "samples collected: 1600\n",
      "samples collected: 1600 \tdeduped samples added: 771\n",
      "2956\n"
     ]
    },
    {
     "name": "stderr",
     "output_type": "stream",
     "text": [
      "                                                    \r"
     ]
    },
    {
     "name": "stdout",
     "output_type": "stream",
     "text": [
      "samples collected: 1600\n",
      "samples collected: 1600 \tdeduped samples added: 770\n",
      "3726\n"
     ]
    },
    {
     "name": "stderr",
     "output_type": "stream",
     "text": [
      "                                                   \r"
     ]
    },
    {
     "name": "stdout",
     "output_type": "stream",
     "text": [
      "samples collected: 1600\n",
      "samples collected: 1600 \tdeduped samples added: 855\n",
      "4581\n"
     ]
    },
    {
     "name": "stderr",
     "output_type": "stream",
     "text": [
      "                                                   \r"
     ]
    },
    {
     "name": "stdout",
     "output_type": "stream",
     "text": [
      "samples collected: 1600\n",
      "samples collected: 1600 \tdeduped samples added: 619\n",
      "5200\n"
     ]
    },
    {
     "name": "stderr",
     "output_type": "stream",
     "text": [
      "                                                   \r"
     ]
    },
    {
     "name": "stdout",
     "output_type": "stream",
     "text": [
      "samples collected: 1600\n",
      "samples collected: 1600 \tdeduped samples added: 605\n",
      "5805\n"
     ]
    },
    {
     "name": "stderr",
     "output_type": "stream",
     "text": [
      "                                                    \r"
     ]
    },
    {
     "name": "stdout",
     "output_type": "stream",
     "text": [
      "samples collected: 1600\n",
      "samples collected: 1600 \tdeduped samples added: 441\n",
      "6246\n"
     ]
    },
    {
     "name": "stderr",
     "output_type": "stream",
     "text": [
      "                                                    \r"
     ]
    },
    {
     "name": "stdout",
     "output_type": "stream",
     "text": [
      "samples collected: 1600\n",
      "samples collected: 1600 \tdeduped samples added: 548\n",
      "6794\n",
      "Saved 6656 samples to data/cortex_511_6656.json\n"
     ]
    },
    {
     "name": "stderr",
     "output_type": "stream",
     "text": [
      "                                                   \r"
     ]
    },
    {
     "name": "stdout",
     "output_type": "stream",
     "text": [
      "samples collected: 1600\n",
      "samples collected: 1600 \tdeduped samples added: 1577\n",
      "1715\n"
     ]
    },
    {
     "name": "stderr",
     "output_type": "stream",
     "text": [
      "                                                    \r"
     ]
    },
    {
     "name": "stdout",
     "output_type": "stream",
     "text": [
      "samples collected: 1600\n",
      "samples collected: 1600 \tdeduped samples added: 647\n",
      "2362\n"
     ]
    },
    {
     "name": "stderr",
     "output_type": "stream",
     "text": [
      "                                                   \r"
     ]
    },
    {
     "name": "stdout",
     "output_type": "stream",
     "text": [
      "samples collected: 1600\n",
      "samples collected: 1600 \tdeduped samples added: 578\n",
      "2940\n"
     ]
    },
    {
     "name": "stderr",
     "output_type": "stream",
     "text": [
      "                                                   \r"
     ]
    },
    {
     "name": "stdout",
     "output_type": "stream",
     "text": [
      "samples collected: 1600\n",
      "samples collected: 1600 \tdeduped samples added: 638\n",
      "3578\n"
     ]
    },
    {
     "name": "stderr",
     "output_type": "stream",
     "text": [
      "                                                   \r"
     ]
    },
    {
     "name": "stdout",
     "output_type": "stream",
     "text": [
      "samples collected: 1600\n",
      "samples collected: 1600 \tdeduped samples added: 641\n",
      "4219\n"
     ]
    },
    {
     "name": "stderr",
     "output_type": "stream",
     "text": [
      "                                                   \r"
     ]
    },
    {
     "name": "stdout",
     "output_type": "stream",
     "text": [
      "samples collected: 1600\n",
      "samples collected: 1600 \tdeduped samples added: 800\n",
      "5019\n"
     ]
    },
    {
     "name": "stderr",
     "output_type": "stream",
     "text": [
      "                                                   \r"
     ]
    },
    {
     "name": "stdout",
     "output_type": "stream",
     "text": [
      "samples collected: 1600\n",
      "samples collected: 1600 \tdeduped samples added: 804\n",
      "5823\n"
     ]
    },
    {
     "name": "stderr",
     "output_type": "stream",
     "text": [
      "                                                   \r"
     ]
    },
    {
     "name": "stdout",
     "output_type": "stream",
     "text": [
      "samples collected: 1600\n",
      "samples collected: 1600 \tdeduped samples added: 630\n",
      "6453\n"
     ]
    },
    {
     "name": "stderr",
     "output_type": "stream",
     "text": [
      "                                                    \r"
     ]
    },
    {
     "name": "stdout",
     "output_type": "stream",
     "text": [
      "samples collected: 1600\n",
      "samples collected: 1600 \tdeduped samples added: 544\n",
      "6997\n",
      "Saved 6656 samples to data/cortex_512_6656.json\n"
     ]
    },
    {
     "name": "stderr",
     "output_type": "stream",
     "text": [
      "                                                    \r"
     ]
    },
    {
     "name": "stdout",
     "output_type": "stream",
     "text": [
      "samples collected: 1600\n",
      "samples collected: 1600 \tdeduped samples added: 1564\n",
      "1905\n"
     ]
    },
    {
     "name": "stderr",
     "output_type": "stream",
     "text": [
      "                                                   \r"
     ]
    },
    {
     "name": "stdout",
     "output_type": "stream",
     "text": [
      "samples collected: 1600\n",
      "samples collected: 1600 \tdeduped samples added: 841\n",
      "2746\n"
     ]
    },
    {
     "name": "stderr",
     "output_type": "stream",
     "text": [
      "                                                   \r"
     ]
    },
    {
     "name": "stdout",
     "output_type": "stream",
     "text": [
      "samples collected: 1600\n",
      "samples collected: 1600 \tdeduped samples added: 823\n",
      "3569\n"
     ]
    },
    {
     "name": "stderr",
     "output_type": "stream",
     "text": [
      "                                                    \r"
     ]
    },
    {
     "name": "stdout",
     "output_type": "stream",
     "text": [
      "samples collected: 1600\n",
      "samples collected: 1600 \tdeduped samples added: 755\n",
      "4324\n"
     ]
    },
    {
     "name": "stderr",
     "output_type": "stream",
     "text": [
      "                                                    \r"
     ]
    },
    {
     "name": "stdout",
     "output_type": "stream",
     "text": [
      "samples collected: 1600\n",
      "samples collected: 1600 \tdeduped samples added: 754\n",
      "5078\n"
     ]
    },
    {
     "name": "stderr",
     "output_type": "stream",
     "text": [
      "                                                   \r"
     ]
    },
    {
     "name": "stdout",
     "output_type": "stream",
     "text": [
      "samples collected: 1600\n",
      "samples collected: 1600 \tdeduped samples added: 620\n",
      "5698\n"
     ]
    },
    {
     "name": "stderr",
     "output_type": "stream",
     "text": [
      "                                                   \r"
     ]
    },
    {
     "name": "stdout",
     "output_type": "stream",
     "text": [
      "samples collected: 1600\n",
      "samples collected: 1600 \tdeduped samples added: 631\n",
      "6329\n"
     ]
    },
    {
     "name": "stderr",
     "output_type": "stream",
     "text": [
      "                                                   \r"
     ]
    },
    {
     "name": "stdout",
     "output_type": "stream",
     "text": [
      "samples collected: 1600\n",
      "samples collected: 1600 \tdeduped samples added: 546\n",
      "6875\n",
      "Saved 6656 samples to data/cortex_513_6656.json\n"
     ]
    },
    {
     "name": "stderr",
     "output_type": "stream",
     "text": [
      "                                                   \r"
     ]
    },
    {
     "name": "stdout",
     "output_type": "stream",
     "text": [
      "samples collected: 1600\n",
      "samples collected: 1600 \tdeduped samples added: 1566\n",
      "1785\n"
     ]
    },
    {
     "name": "stderr",
     "output_type": "stream",
     "text": [
      "                                                    \r"
     ]
    },
    {
     "name": "stdout",
     "output_type": "stream",
     "text": [
      "samples collected: 1600\n",
      "samples collected: 1600 \tdeduped samples added: 568\n",
      "2353\n"
     ]
    },
    {
     "name": "stderr",
     "output_type": "stream",
     "text": [
      "                                                   \r"
     ]
    },
    {
     "name": "stdout",
     "output_type": "stream",
     "text": [
      "samples collected: 1600\n",
      "samples collected: 1600 \tdeduped samples added: 662\n",
      "3015\n"
     ]
    },
    {
     "name": "stderr",
     "output_type": "stream",
     "text": [
      "                                                   \r"
     ]
    },
    {
     "name": "stdout",
     "output_type": "stream",
     "text": [
      "samples collected: 1600\n",
      "samples collected: 1600 \tdeduped samples added: 578\n",
      "3593\n"
     ]
    },
    {
     "name": "stderr",
     "output_type": "stream",
     "text": [
      "                                                    \r"
     ]
    },
    {
     "name": "stdout",
     "output_type": "stream",
     "text": [
      "samples collected: 1600\n",
      "samples collected: 1600 \tdeduped samples added: 557\n",
      "4150\n"
     ]
    },
    {
     "name": "stderr",
     "output_type": "stream",
     "text": [
      "                                                    \r"
     ]
    },
    {
     "name": "stdout",
     "output_type": "stream",
     "text": [
      "samples collected: 1600\n",
      "samples collected: 1600 \tdeduped samples added: 555\n",
      "4705\n"
     ]
    },
    {
     "name": "stderr",
     "output_type": "stream",
     "text": [
      "                                                    \r"
     ]
    },
    {
     "name": "stdout",
     "output_type": "stream",
     "text": [
      "samples collected: 1600\n",
      "samples collected: 1600 \tdeduped samples added: 663\n",
      "5368\n"
     ]
    },
    {
     "name": "stderr",
     "output_type": "stream",
     "text": [
      "                                                    \r"
     ]
    },
    {
     "name": "stdout",
     "output_type": "stream",
     "text": [
      "samples collected: 1600\n",
      "samples collected: 1600 \tdeduped samples added: 768\n",
      "6136\n"
     ]
    },
    {
     "name": "stderr",
     "output_type": "stream",
     "text": [
      "                                                    \r"
     ]
    },
    {
     "name": "stdout",
     "output_type": "stream",
     "text": [
      "samples collected: 1600\n",
      "samples collected: 1600 \tdeduped samples added: 769\n",
      "6905\n",
      "Saved 6656 samples to data/cortex_514_6656.json\n"
     ]
    },
    {
     "name": "stderr",
     "output_type": "stream",
     "text": [
      "                                                    \r"
     ]
    },
    {
     "name": "stdout",
     "output_type": "stream",
     "text": [
      "samples collected: 1600\n",
      "samples collected: 1600 \tdeduped samples added: 1566\n",
      "1815\n"
     ]
    },
    {
     "name": "stderr",
     "output_type": "stream",
     "text": [
      "                                                    \r"
     ]
    },
    {
     "name": "stdout",
     "output_type": "stream",
     "text": [
      "samples collected: 1600\n",
      "samples collected: 1600 \tdeduped samples added: 769\n",
      "2584\n"
     ]
    },
    {
     "name": "stderr",
     "output_type": "stream",
     "text": [
      "                                                    \r"
     ]
    },
    {
     "name": "stdout",
     "output_type": "stream",
     "text": [
      "samples collected: 1600\n",
      "samples collected: 1600 \tdeduped samples added: 771\n",
      "3355\n"
     ]
    },
    {
     "name": "stderr",
     "output_type": "stream",
     "text": [
      "                                                    \r"
     ]
    },
    {
     "name": "stdout",
     "output_type": "stream",
     "text": [
      "samples collected: 1600\n",
      "samples collected: 1600 \tdeduped samples added: 767\n",
      "4122\n"
     ]
    },
    {
     "name": "stderr",
     "output_type": "stream",
     "text": [
      "                                                    \r"
     ]
    },
    {
     "name": "stdout",
     "output_type": "stream",
     "text": [
      "samples collected: 1600\n",
      "samples collected: 1600 \tdeduped samples added: 548\n",
      "4670\n"
     ]
    },
    {
     "name": "stderr",
     "output_type": "stream",
     "text": [
      "                                                    \r"
     ]
    },
    {
     "name": "stdout",
     "output_type": "stream",
     "text": [
      "samples collected: 1600\n",
      "samples collected: 1600 \tdeduped samples added: 547\n",
      "5217\n"
     ]
    },
    {
     "name": "stderr",
     "output_type": "stream",
     "text": [
      "                                                    \r"
     ]
    },
    {
     "name": "stdout",
     "output_type": "stream",
     "text": [
      "samples collected: 1600\n",
      "samples collected: 1600 \tdeduped samples added: 548\n",
      "5765\n"
     ]
    },
    {
     "name": "stderr",
     "output_type": "stream",
     "text": [
      "                                                    \r"
     ]
    },
    {
     "name": "stdout",
     "output_type": "stream",
     "text": [
      "samples collected: 1600\n",
      "samples collected: 1600 \tdeduped samples added: 535\n",
      "6300\n"
     ]
    },
    {
     "name": "stderr",
     "output_type": "stream",
     "text": [
      "                                                    \r"
     ]
    },
    {
     "name": "stdout",
     "output_type": "stream",
     "text": [
      "samples collected: 1600\n",
      "samples collected: 1600 \tdeduped samples added: 548\n",
      "6848\n",
      "Saved 6656 samples to data/cortex_515_6656.json\n"
     ]
    },
    {
     "name": "stderr",
     "output_type": "stream",
     "text": [
      "                                                    \r"
     ]
    },
    {
     "name": "stdout",
     "output_type": "stream",
     "text": [
      "samples collected: 1600\n",
      "samples collected: 1600 \tdeduped samples added: 1569\n",
      "1761\n"
     ]
    },
    {
     "name": "stderr",
     "output_type": "stream",
     "text": [
      "                                                    \r"
     ]
    },
    {
     "name": "stdout",
     "output_type": "stream",
     "text": [
      "samples collected: 1600\n",
      "samples collected: 1600 \tdeduped samples added: 549\n",
      "2310\n"
     ]
    },
    {
     "name": "stderr",
     "output_type": "stream",
     "text": [
      "                                                    \r"
     ]
    },
    {
     "name": "stdout",
     "output_type": "stream",
     "text": [
      "samples collected: 1600\n",
      "samples collected: 1600 \tdeduped samples added: 546\n",
      "2856\n"
     ]
    },
    {
     "name": "stderr",
     "output_type": "stream",
     "text": [
      "                                                    \r"
     ]
    },
    {
     "name": "stdout",
     "output_type": "stream",
     "text": [
      "samples collected: 1600\n",
      "samples collected: 1600 \tdeduped samples added: 549\n",
      "3405\n"
     ]
    },
    {
     "name": "stderr",
     "output_type": "stream",
     "text": [
      "                                                    \r"
     ]
    },
    {
     "name": "stdout",
     "output_type": "stream",
     "text": [
      "samples collected: 1600\n",
      "samples collected: 1600 \tdeduped samples added: 549\n",
      "3954\n"
     ]
    },
    {
     "name": "stderr",
     "output_type": "stream",
     "text": [
      "                                                    \r"
     ]
    },
    {
     "name": "stdout",
     "output_type": "stream",
     "text": [
      "samples collected: 1600\n",
      "samples collected: 1600 \tdeduped samples added: 576\n",
      "4530\n"
     ]
    },
    {
     "name": "stderr",
     "output_type": "stream",
     "text": [
      "                                                    \r"
     ]
    },
    {
     "name": "stdout",
     "output_type": "stream",
     "text": [
      "samples collected: 1600\n",
      "samples collected: 1600 \tdeduped samples added: 754\n",
      "5284\n"
     ]
    },
    {
     "name": "stderr",
     "output_type": "stream",
     "text": [
      "                                                    \r"
     ]
    },
    {
     "name": "stdout",
     "output_type": "stream",
     "text": [
      "samples collected: 1600\n",
      "samples collected: 1600 \tdeduped samples added: 550\n",
      "5834\n"
     ]
    },
    {
     "name": "stderr",
     "output_type": "stream",
     "text": [
      "                                                    \r"
     ]
    },
    {
     "name": "stdout",
     "output_type": "stream",
     "text": [
      "samples collected: 1600\n",
      "samples collected: 1600 \tdeduped samples added: 632\n",
      "6466\n"
     ]
    },
    {
     "name": "stderr",
     "output_type": "stream",
     "text": [
      "                                                    \r"
     ]
    },
    {
     "name": "stdout",
     "output_type": "stream",
     "text": [
      "samples collected: 1600\n",
      "samples collected: 1600 \tdeduped samples added: 760\n",
      "7226\n",
      "Saved 6656 samples to data/cortex_516_6656.json\n"
     ]
    },
    {
     "name": "stderr",
     "output_type": "stream",
     "text": [
      "                                                    \r"
     ]
    },
    {
     "name": "stdout",
     "output_type": "stream",
     "text": [
      "Did not collect 1600, only got 1476\n",
      "samples collected: 1476\n",
      "samples collected: 1476 \tdeduped samples added: 1422\n",
      "1992\n"
     ]
    },
    {
     "name": "stderr",
     "output_type": "stream",
     "text": [
      "                                                    \r"
     ]
    },
    {
     "name": "stdout",
     "output_type": "stream",
     "text": [
      "Did not collect 1600, only got 1487\n",
      "samples collected: 1487\n",
      "samples collected: 1487 \tdeduped samples added: 852\n",
      "2844\n"
     ]
    },
    {
     "name": "stderr",
     "output_type": "stream",
     "text": [
      "                                                    \r"
     ]
    },
    {
     "name": "stdout",
     "output_type": "stream",
     "text": [
      "Did not collect 1600, only got 1416\n",
      "samples collected: 1416\n",
      "samples collected: 1416 \tdeduped samples added: 783\n",
      "3627\n"
     ]
    },
    {
     "name": "stderr",
     "output_type": "stream",
     "text": [
      "                                                    \r"
     ]
    },
    {
     "name": "stdout",
     "output_type": "stream",
     "text": [
      "samples collected: 1600\n",
      "samples collected: 1600 \tdeduped samples added: 999\n",
      "4626\n"
     ]
    },
    {
     "name": "stderr",
     "output_type": "stream",
     "text": [
      "                                                    \r"
     ]
    },
    {
     "name": "stdout",
     "output_type": "stream",
     "text": [
      "samples collected: 1600\n",
      "samples collected: 1600 \tdeduped samples added: 1016\n",
      "5642\n"
     ]
    },
    {
     "name": "stderr",
     "output_type": "stream",
     "text": [
      "                                                    \r"
     ]
    },
    {
     "name": "stdout",
     "output_type": "stream",
     "text": [
      "Did not collect 1600, only got 1415\n",
      "samples collected: 1415\n",
      "samples collected: 1415 \tdeduped samples added: 579\n",
      "6221\n"
     ]
    },
    {
     "name": "stderr",
     "output_type": "stream",
     "text": [
      "                                                    \r"
     ]
    },
    {
     "name": "stdout",
     "output_type": "stream",
     "text": [
      "Did not collect 1600, only got 1490\n",
      "samples collected: 1490\n",
      "samples collected: 1490 \tdeduped samples added: 629\n",
      "6850\n",
      "Saved 6656 samples to data/cortex_517_6656.json\n"
     ]
    },
    {
     "name": "stderr",
     "output_type": "stream",
     "text": [
      "                                                    \r"
     ]
    },
    {
     "name": "stdout",
     "output_type": "stream",
     "text": [
      "samples collected: 1600\n",
      "samples collected: 1600 \tdeduped samples added: 1583\n",
      "1777\n"
     ]
    },
    {
     "name": "stderr",
     "output_type": "stream",
     "text": [
      "                                                    \r"
     ]
    },
    {
     "name": "stdout",
     "output_type": "stream",
     "text": [
      "samples collected: 1600\n",
      "samples collected: 1600 \tdeduped samples added: 778\n",
      "2555\n"
     ]
    },
    {
     "name": "stderr",
     "output_type": "stream",
     "text": [
      "                                                    \r"
     ]
    },
    {
     "name": "stdout",
     "output_type": "stream",
     "text": [
      "Did not collect 1600, only got 1472\n",
      "samples collected: 1472\n",
      "samples collected: 1472 \tdeduped samples added: 468\n",
      "3023\n"
     ]
    },
    {
     "name": "stderr",
     "output_type": "stream",
     "text": [
      "                                                    \r"
     ]
    },
    {
     "name": "stdout",
     "output_type": "stream",
     "text": [
      "samples collected: 1600\n",
      "samples collected: 1600 \tdeduped samples added: 601\n",
      "3624\n"
     ]
    },
    {
     "name": "stderr",
     "output_type": "stream",
     "text": [
      "                                                    \r"
     ]
    },
    {
     "name": "stdout",
     "output_type": "stream",
     "text": [
      "samples collected: 1600\n",
      "samples collected: 1600 \tdeduped samples added: 621\n",
      "4245\n"
     ]
    },
    {
     "name": "stderr",
     "output_type": "stream",
     "text": [
      "                                                    \r"
     ]
    },
    {
     "name": "stdout",
     "output_type": "stream",
     "text": [
      "samples collected: 1600\n",
      "samples collected: 1600 \tdeduped samples added: 767\n",
      "5012\n"
     ]
    },
    {
     "name": "stderr",
     "output_type": "stream",
     "text": [
      "                                                    \r"
     ]
    },
    {
     "name": "stdout",
     "output_type": "stream",
     "text": [
      "samples collected: 1600\n",
      "samples collected: 1600 \tdeduped samples added: 760\n",
      "5772\n"
     ]
    },
    {
     "name": "stderr",
     "output_type": "stream",
     "text": [
      "                                                    \r"
     ]
    },
    {
     "name": "stdout",
     "output_type": "stream",
     "text": [
      "Did not collect 1600, only got 1275\n",
      "samples collected: 1275\n",
      "samples collected: 1275 \tdeduped samples added: 430\n",
      "6202\n"
     ]
    },
    {
     "name": "stderr",
     "output_type": "stream",
     "text": [
      "                                                    \r"
     ]
    },
    {
     "name": "stdout",
     "output_type": "stream",
     "text": [
      "samples collected: 1600\n",
      "samples collected: 1600 \tdeduped samples added: 940\n",
      "7142\n",
      "Saved 6656 samples to data/cortex_518_6656.json\n"
     ]
    },
    {
     "name": "stderr",
     "output_type": "stream",
     "text": [
      "                                                    \r"
     ]
    },
    {
     "name": "stdout",
     "output_type": "stream",
     "text": [
      "samples collected: 1600\n",
      "samples collected: 1600 \tdeduped samples added: 1544\n",
      "2030\n"
     ]
    },
    {
     "name": "stderr",
     "output_type": "stream",
     "text": [
      "                                                    \r"
     ]
    },
    {
     "name": "stdout",
     "output_type": "stream",
     "text": [
      "samples collected: 1600\n",
      "samples collected: 1600 \tdeduped samples added: 857\n",
      "2887\n"
     ]
    },
    {
     "name": "stderr",
     "output_type": "stream",
     "text": [
      "                                                    \r"
     ]
    },
    {
     "name": "stdout",
     "output_type": "stream",
     "text": [
      "Did not collect 1600, only got 1448\n",
      "samples collected: 1448\n",
      "samples collected: 1448 \tdeduped samples added: 675\n",
      "3562\n"
     ]
    },
    {
     "name": "stderr",
     "output_type": "stream",
     "text": [
      "                                                    \r"
     ]
    },
    {
     "name": "stdout",
     "output_type": "stream",
     "text": [
      "Did not collect 1600, only got 1474\n",
      "samples collected: 1474\n",
      "samples collected: 1474 \tdeduped samples added: 629\n",
      "4191\n"
     ]
    },
    {
     "name": "stderr",
     "output_type": "stream",
     "text": [
      "                                                    \r"
     ]
    },
    {
     "name": "stdout",
     "output_type": "stream",
     "text": [
      "samples collected: 1600\n",
      "samples collected: 1600 \tdeduped samples added: 824\n",
      "5015\n"
     ]
    },
    {
     "name": "stderr",
     "output_type": "stream",
     "text": [
      "                                                    \r"
     ]
    },
    {
     "name": "stdout",
     "output_type": "stream",
     "text": [
      "Did not collect 1600, only got 1468\n",
      "samples collected: 1468\n",
      "samples collected: 1468 \tdeduped samples added: 623\n",
      "5638\n"
     ]
    },
    {
     "name": "stderr",
     "output_type": "stream",
     "text": [
      "                                                    \r"
     ]
    },
    {
     "name": "stdout",
     "output_type": "stream",
     "text": [
      "samples collected: 1600\n",
      "samples collected: 1600 \tdeduped samples added: 979\n",
      "6617\n"
     ]
    },
    {
     "name": "stderr",
     "output_type": "stream",
     "text": [
      "                                                    \r"
     ]
    },
    {
     "name": "stdout",
     "output_type": "stream",
     "text": [
      "Did not collect 1600, only got 1469\n",
      "samples collected: 1469\n",
      "samples collected: 1469 \tdeduped samples added: 622\n",
      "7239\n",
      "Saved 6656 samples to data/cortex_519_6656.json\n"
     ]
    },
    {
     "name": "stderr",
     "output_type": "stream",
     "text": [
      "                                                    \r"
     ]
    },
    {
     "name": "stdout",
     "output_type": "stream",
     "text": [
      "samples collected: 1600\n",
      "samples collected: 1600 \tdeduped samples added: 1524\n",
      "2107\n"
     ]
    },
    {
     "name": "stderr",
     "output_type": "stream",
     "text": [
      "                                                    \r"
     ]
    },
    {
     "name": "stdout",
     "output_type": "stream",
     "text": [
      "samples collected: 1600\n",
      "samples collected: 1600 \tdeduped samples added: 755\n",
      "2862\n"
     ]
    },
    {
     "name": "stderr",
     "output_type": "stream",
     "text": [
      "                                                    \r"
     ]
    },
    {
     "name": "stdout",
     "output_type": "stream",
     "text": [
      "samples collected: 1600\n",
      "samples collected: 1600 \tdeduped samples added: 768\n",
      "3630\n"
     ]
    },
    {
     "name": "stderr",
     "output_type": "stream",
     "text": [
      "                                                    \r"
     ]
    },
    {
     "name": "stdout",
     "output_type": "stream",
     "text": [
      "samples collected: 1600\n",
      "samples collected: 1600 \tdeduped samples added: 767\n",
      "4397\n"
     ]
    },
    {
     "name": "stderr",
     "output_type": "stream",
     "text": [
      "                                                    \r"
     ]
    },
    {
     "name": "stdout",
     "output_type": "stream",
     "text": [
      "samples collected: 1600\n",
      "samples collected: 1600 \tdeduped samples added: 559\n",
      "4956\n"
     ]
    },
    {
     "name": "stderr",
     "output_type": "stream",
     "text": [
      "                                                    \r"
     ]
    },
    {
     "name": "stdout",
     "output_type": "stream",
     "text": [
      "samples collected: 1600\n",
      "samples collected: 1600 \tdeduped samples added: 348\n",
      "5304\n"
     ]
    },
    {
     "name": "stderr",
     "output_type": "stream",
     "text": [
      "                                                    \r"
     ]
    },
    {
     "name": "stdout",
     "output_type": "stream",
     "text": [
      "Did not collect 1600, only got 1468\n",
      "samples collected: 1468\n",
      "samples collected: 1468 \tdeduped samples added: 263\n",
      "5567\n"
     ]
    },
    {
     "name": "stderr",
     "output_type": "stream",
     "text": [
      "                                                    \r"
     ]
    },
    {
     "name": "stdout",
     "output_type": "stream",
     "text": [
      "samples collected: 1600\n",
      "samples collected: 1600 \tdeduped samples added: 561\n",
      "6128\n"
     ]
    },
    {
     "name": "stderr",
     "output_type": "stream",
     "text": [
      "                                                    \r"
     ]
    },
    {
     "name": "stdout",
     "output_type": "stream",
     "text": [
      "Did not collect 1600, only got 1474\n",
      "samples collected: 1474\n",
      "samples collected: 1474 \tdeduped samples added: 629\n",
      "6757\n",
      "Saved 6656 samples to data/cortex_520_6656.json\n"
     ]
    },
    {
     "name": "stderr",
     "output_type": "stream",
     "text": [
      "                                                    \r"
     ]
    },
    {
     "name": "stdout",
     "output_type": "stream",
     "text": [
      "samples collected: 1600\n",
      "samples collected: 1600 \tdeduped samples added: 1588\n",
      "1689\n"
     ]
    },
    {
     "name": "stderr",
     "output_type": "stream",
     "text": [
      "                                                    \r"
     ]
    },
    {
     "name": "stdout",
     "output_type": "stream",
     "text": [
      "Did not collect 1600, only got 1464\n",
      "samples collected: 1464\n",
      "samples collected: 1464 \tdeduped samples added: 707\n",
      "2396\n"
     ]
    },
    {
     "name": "stderr",
     "output_type": "stream",
     "text": [
      "                                                    \r"
     ]
    },
    {
     "name": "stdout",
     "output_type": "stream",
     "text": [
      "samples collected: 1600\n",
      "samples collected: 1600 \tdeduped samples added: 824\n",
      "3220\n"
     ]
    },
    {
     "name": "stderr",
     "output_type": "stream",
     "text": [
      "                                                    \r"
     ]
    },
    {
     "name": "stdout",
     "output_type": "stream",
     "text": [
      "samples collected: 1600\n",
      "samples collected: 1600 \tdeduped samples added: 594\n",
      "3814\n"
     ]
    },
    {
     "name": "stderr",
     "output_type": "stream",
     "text": [
      "                                                    \r"
     ]
    },
    {
     "name": "stdout",
     "output_type": "stream",
     "text": [
      "samples collected: 1600\n",
      "samples collected: 1600 \tdeduped samples added: 588\n",
      "4402\n"
     ]
    },
    {
     "name": "stderr",
     "output_type": "stream",
     "text": [
      "                                                    \r"
     ]
    },
    {
     "name": "stdout",
     "output_type": "stream",
     "text": [
      "samples collected: 1600\n",
      "samples collected: 1600 \tdeduped samples added: 625\n",
      "5027\n"
     ]
    },
    {
     "name": "stderr",
     "output_type": "stream",
     "text": [
      "                                                    \r"
     ]
    },
    {
     "name": "stdout",
     "output_type": "stream",
     "text": [
      "Did not collect 1600, only got 1454\n",
      "samples collected: 1454\n",
      "samples collected: 1454 \tdeduped samples added: 400\n",
      "5427\n"
     ]
    },
    {
     "name": "stderr",
     "output_type": "stream",
     "text": [
      "                                                    \r"
     ]
    },
    {
     "name": "stdout",
     "output_type": "stream",
     "text": [
      "samples collected: 1600\n",
      "samples collected: 1600 \tdeduped samples added: 766\n",
      "6193\n"
     ]
    },
    {
     "name": "stderr",
     "output_type": "stream",
     "text": [
      "                                                    \r"
     ]
    },
    {
     "name": "stdout",
     "output_type": "stream",
     "text": [
      "samples collected: 1600\n",
      "samples collected: 1600 \tdeduped samples added: 978\n",
      "7171\n",
      "Saved 6656 samples to data/cortex_521_6656.json\n"
     ]
    },
    {
     "name": "stderr",
     "output_type": "stream",
     "text": [
      "                                                    \r"
     ]
    },
    {
     "name": "stdout",
     "output_type": "stream",
     "text": [
      "samples collected: 1600\n",
      "samples collected: 1600 \tdeduped samples added: 1513\n",
      "2028\n"
     ]
    },
    {
     "name": "stderr",
     "output_type": "stream",
     "text": [
      "                                                    \r"
     ]
    },
    {
     "name": "stdout",
     "output_type": "stream",
     "text": [
      "samples collected: 1600\n",
      "samples collected: 1600 \tdeduped samples added: 566\n",
      "2594\n"
     ]
    },
    {
     "name": "stderr",
     "output_type": "stream",
     "text": [
      "                                                    \r"
     ]
    },
    {
     "name": "stdout",
     "output_type": "stream",
     "text": [
      "samples collected: 1600\n",
      "samples collected: 1600 \tdeduped samples added: 569\n",
      "3163\n"
     ]
    },
    {
     "name": "stderr",
     "output_type": "stream",
     "text": [
      "                                                    \r"
     ]
    },
    {
     "name": "stdout",
     "output_type": "stream",
     "text": [
      "Did not collect 1600, only got 1465\n",
      "samples collected: 1465\n",
      "samples collected: 1465 \tdeduped samples added: 273\n",
      "3436\n"
     ]
    },
    {
     "name": "stderr",
     "output_type": "stream",
     "text": [
      "                                                    \r"
     ]
    },
    {
     "name": "stdout",
     "output_type": "stream",
     "text": [
      "samples collected: 1600\n",
      "samples collected: 1600 \tdeduped samples added: 570\n",
      "4006\n"
     ]
    },
    {
     "name": "stderr",
     "output_type": "stream",
     "text": [
      "                                                    \r"
     ]
    },
    {
     "name": "stdout",
     "output_type": "stream",
     "text": [
      "samples collected: 1600\n",
      "samples collected: 1600 \tdeduped samples added: 395\n",
      "4401\n"
     ]
    },
    {
     "name": "stderr",
     "output_type": "stream",
     "text": [
      "                                                    \r"
     ]
    },
    {
     "name": "stdout",
     "output_type": "stream",
     "text": [
      "samples collected: 1600\n",
      "samples collected: 1600 \tdeduped samples added: 567\n",
      "4968\n"
     ]
    },
    {
     "name": "stderr",
     "output_type": "stream",
     "text": [
      "                                                    \r"
     ]
    },
    {
     "name": "stdout",
     "output_type": "stream",
     "text": [
      "samples collected: 1600\n",
      "samples collected: 1600 \tdeduped samples added: 393\n",
      "5361\n"
     ]
    },
    {
     "name": "stderr",
     "output_type": "stream",
     "text": [
      "                                                    \r"
     ]
    },
    {
     "name": "stdout",
     "output_type": "stream",
     "text": [
      "samples collected: 1600\n",
      "samples collected: 1600 \tdeduped samples added: 569\n",
      "5930\n"
     ]
    },
    {
     "name": "stderr",
     "output_type": "stream",
     "text": [
      "                                                    \r"
     ]
    },
    {
     "name": "stdout",
     "output_type": "stream",
     "text": [
      "samples collected: 1600\n",
      "samples collected: 1600 \tdeduped samples added: 570\n",
      "6500\n"
     ]
    },
    {
     "name": "stderr",
     "output_type": "stream",
     "text": [
      "                                                    \r"
     ]
    },
    {
     "name": "stdout",
     "output_type": "stream",
     "text": [
      "samples collected: 1600\n",
      "samples collected: 1600 \tdeduped samples added: 566\n",
      "7066\n",
      "Saved 6656 samples to data/cortex_522_6656.json\n"
     ]
    },
    {
     "name": "stderr",
     "output_type": "stream",
     "text": [
      "                                                    \r"
     ]
    },
    {
     "name": "stdout",
     "output_type": "stream",
     "text": [
      "samples collected: 1600\n",
      "samples collected: 1600 \tdeduped samples added: 1536\n",
      "1946\n"
     ]
    },
    {
     "name": "stderr",
     "output_type": "stream",
     "text": [
      "                                                    \r"
     ]
    },
    {
     "name": "stdout",
     "output_type": "stream",
     "text": [
      "samples collected: 1600\n",
      "samples collected: 1600 \tdeduped samples added: 569\n",
      "2515\n"
     ]
    },
    {
     "name": "stderr",
     "output_type": "stream",
     "text": [
      "                                                    \r"
     ]
    },
    {
     "name": "stdout",
     "output_type": "stream",
     "text": [
      "samples collected: 1600\n",
      "samples collected: 1600 \tdeduped samples added: 560\n",
      "3075\n"
     ]
    },
    {
     "name": "stderr",
     "output_type": "stream",
     "text": [
      "                                                    \r"
     ]
    },
    {
     "name": "stdout",
     "output_type": "stream",
     "text": [
      "samples collected: 1600\n",
      "samples collected: 1600 \tdeduped samples added: 571\n",
      "3646\n"
     ]
    },
    {
     "name": "stderr",
     "output_type": "stream",
     "text": [
      "                                                    \r"
     ]
    },
    {
     "name": "stdout",
     "output_type": "stream",
     "text": [
      "samples collected: 1600\n",
      "samples collected: 1600 \tdeduped samples added: 593\n",
      "4239\n"
     ]
    },
    {
     "name": "stderr",
     "output_type": "stream",
     "text": [
      "                                                    \r"
     ]
    },
    {
     "name": "stdout",
     "output_type": "stream",
     "text": [
      "Did not collect 1600, only got 1456\n",
      "samples collected: 1456\n",
      "samples collected: 1456 \tdeduped samples added: 439\n",
      "4678\n"
     ]
    },
    {
     "name": "stderr",
     "output_type": "stream",
     "text": [
      "                                                    \r"
     ]
    },
    {
     "name": "stdout",
     "output_type": "stream",
     "text": [
      "samples collected: 1600\n",
      "samples collected: 1600 \tdeduped samples added: 764\n",
      "5442\n"
     ]
    },
    {
     "name": "stderr",
     "output_type": "stream",
     "text": [
      "                                                    \r"
     ]
    },
    {
     "name": "stdout",
     "output_type": "stream",
     "text": [
      "Did not collect 1600, only got 1271\n",
      "samples collected: 1271\n",
      "samples collected: 1271 \tdeduped samples added: 205\n",
      "5647\n"
     ]
    },
    {
     "name": "stderr",
     "output_type": "stream",
     "text": [
      "                                                    \r"
     ]
    },
    {
     "name": "stdout",
     "output_type": "stream",
     "text": [
      "samples collected: 1600\n",
      "samples collected: 1600 \tdeduped samples added: 767\n",
      "6414\n"
     ]
    },
    {
     "name": "stderr",
     "output_type": "stream",
     "text": [
      "                                                    \r"
     ]
    },
    {
     "name": "stdout",
     "output_type": "stream",
     "text": [
      "samples collected: 1600\n",
      "samples collected: 1600 \tdeduped samples added: 673\n",
      "7087\n",
      "Saved 6656 samples to data/cortex_523_6656.json\n"
     ]
    },
    {
     "name": "stderr",
     "output_type": "stream",
     "text": [
      "                                                    \r"
     ]
    },
    {
     "name": "stdout",
     "output_type": "stream",
     "text": [
      "samples collected: 1600\n",
      "samples collected: 1600 \tdeduped samples added: 1539\n",
      "1970\n"
     ]
    },
    {
     "name": "stderr",
     "output_type": "stream",
     "text": [
      "                                                    \r"
     ]
    },
    {
     "name": "stdout",
     "output_type": "stream",
     "text": [
      "Did not collect 1600, only got 1256\n",
      "samples collected: 1256\n",
      "samples collected: 1256 \tdeduped samples added: 279\n",
      "2249\n"
     ]
    },
    {
     "name": "stderr",
     "output_type": "stream",
     "text": [
      "                                                    \r"
     ]
    },
    {
     "name": "stdout",
     "output_type": "stream",
     "text": [
      "samples collected: 1600\n",
      "samples collected: 1600 \tdeduped samples added: 640\n",
      "2889\n"
     ]
    },
    {
     "name": "stderr",
     "output_type": "stream",
     "text": [
      "                                                    \r"
     ]
    },
    {
     "name": "stdout",
     "output_type": "stream",
     "text": [
      "Did not collect 1600, only got 1485\n",
      "samples collected: 1485\n",
      "samples collected: 1485 \tdeduped samples added: 429\n",
      "3318\n"
     ]
    },
    {
     "name": "stderr",
     "output_type": "stream",
     "text": [
      "                                                    \r"
     ]
    },
    {
     "name": "stdout",
     "output_type": "stream",
     "text": [
      "Did not collect 1600, only got 1459\n",
      "samples collected: 1459\n",
      "samples collected: 1459 \tdeduped samples added: 613\n",
      "3931\n"
     ]
    },
    {
     "name": "stderr",
     "output_type": "stream",
     "text": [
      "                                                    \r"
     ]
    },
    {
     "name": "stdout",
     "output_type": "stream",
     "text": [
      "samples collected: 1600\n",
      "samples collected: 1600 \tdeduped samples added: 818\n",
      "4749\n"
     ]
    },
    {
     "name": "stderr",
     "output_type": "stream",
     "text": [
      "                                                    \r"
     ]
    },
    {
     "name": "stdout",
     "output_type": "stream",
     "text": [
      "Did not collect 1600, only got 1399\n",
      "samples collected: 1399\n",
      "samples collected: 1399 \tdeduped samples added: 555\n",
      "5304\n"
     ]
    },
    {
     "name": "stderr",
     "output_type": "stream",
     "text": [
      "                                                    \r"
     ]
    },
    {
     "name": "stdout",
     "output_type": "stream",
     "text": [
      "Did not collect 1600, only got 1492\n",
      "samples collected: 1492\n",
      "samples collected: 1492 \tdeduped samples added: 647\n",
      "5951\n"
     ]
    },
    {
     "name": "stderr",
     "output_type": "stream",
     "text": [
      "                                                    \r"
     ]
    },
    {
     "name": "stdout",
     "output_type": "stream",
     "text": [
      "samples collected: 1600\n",
      "samples collected: 1600 \tdeduped samples added: 812\n",
      "6763\n",
      "Saved 6656 samples to data/cortex_524_6656.json\n"
     ]
    },
    {
     "name": "stderr",
     "output_type": "stream",
     "text": [
      "                                                    \r"
     ]
    },
    {
     "name": "stdout",
     "output_type": "stream",
     "text": [
      "samples collected: 1600\n",
      "samples collected: 1600 \tdeduped samples added: 1590\n",
      "1697\n"
     ]
    },
    {
     "name": "stderr",
     "output_type": "stream",
     "text": [
      "                                                    \r"
     ]
    },
    {
     "name": "stdout",
     "output_type": "stream",
     "text": [
      "samples collected: 1600\n",
      "samples collected: 1600 \tdeduped samples added: 833\n",
      "2530\n"
     ]
    },
    {
     "name": "stderr",
     "output_type": "stream",
     "text": [
      "                                                    \r"
     ]
    },
    {
     "name": "stdout",
     "output_type": "stream",
     "text": [
      "Did not collect 1600, only got 1459\n",
      "samples collected: 1459\n",
      "samples collected: 1459 \tdeduped samples added: 644\n",
      "3174\n"
     ]
    },
    {
     "name": "stderr",
     "output_type": "stream",
     "text": [
      "                                                    \r"
     ]
    },
    {
     "name": "stdout",
     "output_type": "stream",
     "text": [
      "Did not collect 1600, only got 1485\n",
      "samples collected: 1485\n",
      "samples collected: 1485 \tdeduped samples added: 639\n",
      "3813\n"
     ]
    },
    {
     "name": "stderr",
     "output_type": "stream",
     "text": [
      "                                                    \r"
     ]
    },
    {
     "name": "stdout",
     "output_type": "stream",
     "text": [
      "samples collected: 1600\n",
      "samples collected: 1600 \tdeduped samples added: 829\n",
      "4642\n"
     ]
    },
    {
     "name": "stderr",
     "output_type": "stream",
     "text": [
      "                                                    \r"
     ]
    },
    {
     "name": "stdout",
     "output_type": "stream",
     "text": [
      "Did not collect 1600, only got 1231\n",
      "samples collected: 1231\n",
      "samples collected: 1231 \tdeduped samples added: 388\n",
      "5030\n"
     ]
    },
    {
     "name": "stderr",
     "output_type": "stream",
     "text": [
      "                                                    \r"
     ]
    },
    {
     "name": "stdout",
     "output_type": "stream",
     "text": [
      "Did not collect 1600, only got 1462\n",
      "samples collected: 1462\n",
      "samples collected: 1462 \tdeduped samples added: 617\n",
      "5647\n"
     ]
    },
    {
     "name": "stderr",
     "output_type": "stream",
     "text": [
      "                                                    \r"
     ]
    },
    {
     "name": "stdout",
     "output_type": "stream",
     "text": [
      "Did not collect 1600, only got 1491\n",
      "samples collected: 1491\n",
      "samples collected: 1491 \tdeduped samples added: 642\n",
      "6289\n"
     ]
    },
    {
     "name": "stderr",
     "output_type": "stream",
     "text": [
      "                                                    \r"
     ]
    },
    {
     "name": "stdout",
     "output_type": "stream",
     "text": [
      "Did not collect 1600, only got 1470\n",
      "samples collected: 1470\n",
      "samples collected: 1470 \tdeduped samples added: 623\n",
      "6912\n",
      "Saved 6656 samples to data/cortex_525_6656.json\n"
     ]
    },
    {
     "name": "stderr",
     "output_type": "stream",
     "text": [
      "                                                    \r"
     ]
    },
    {
     "name": "stdout",
     "output_type": "stream",
     "text": [
      "samples collected: 1600\n",
      "samples collected: 1600 \tdeduped samples added: 1570\n",
      "1826\n"
     ]
    },
    {
     "name": "stderr",
     "output_type": "stream",
     "text": [
      "                                                    \r"
     ]
    },
    {
     "name": "stdout",
     "output_type": "stream",
     "text": [
      "Did not collect 1600, only got 1462\n",
      "samples collected: 1462\n",
      "samples collected: 1462 \tdeduped samples added: 701\n",
      "2527\n"
     ]
    },
    {
     "name": "stderr",
     "output_type": "stream",
     "text": [
      "                                                    \r"
     ]
    },
    {
     "name": "stdout",
     "output_type": "stream",
     "text": [
      "samples collected: 1600\n",
      "samples collected: 1600 \tdeduped samples added: 817\n",
      "3344\n"
     ]
    },
    {
     "name": "stderr",
     "output_type": "stream",
     "text": [
      "                                                    \r"
     ]
    },
    {
     "name": "stdout",
     "output_type": "stream",
     "text": [
      "Did not collect 1600, only got 1454\n",
      "samples collected: 1454\n",
      "samples collected: 1454 \tdeduped samples added: 415\n",
      "3759\n"
     ]
    },
    {
     "name": "stderr",
     "output_type": "stream",
     "text": [
      "                                                    \r"
     ]
    },
    {
     "name": "stdout",
     "output_type": "stream",
     "text": [
      "samples collected: 1600\n",
      "samples collected: 1600 \tdeduped samples added: 639\n",
      "4398\n"
     ]
    },
    {
     "name": "stderr",
     "output_type": "stream",
     "text": [
      "                                                    \r"
     ]
    },
    {
     "name": "stdout",
     "output_type": "stream",
     "text": [
      "Did not collect 1600, only got 1254\n",
      "samples collected: 1254\n",
      "samples collected: 1254 \tdeduped samples added: 215\n",
      "4613\n"
     ]
    },
    {
     "name": "stderr",
     "output_type": "stream",
     "text": [
      "                                                    \r"
     ]
    },
    {
     "name": "stdout",
     "output_type": "stream",
     "text": [
      "samples collected: 1600\n",
      "samples collected: 1600 \tdeduped samples added: 639\n",
      "5252\n"
     ]
    },
    {
     "name": "stderr",
     "output_type": "stream",
     "text": [
      "                                                    \r"
     ]
    },
    {
     "name": "stdout",
     "output_type": "stream",
     "text": [
      "samples collected: 1600\n",
      "samples collected: 1600 \tdeduped samples added: 623\n",
      "5875\n"
     ]
    },
    {
     "name": "stderr",
     "output_type": "stream",
     "text": [
      "                                                    \r"
     ]
    },
    {
     "name": "stdout",
     "output_type": "stream",
     "text": [
      "samples collected: 1600\n",
      "samples collected: 1600 \tdeduped samples added: 405\n",
      "6280\n"
     ]
    },
    {
     "name": "stderr",
     "output_type": "stream",
     "text": [
      "                                                    \r"
     ]
    },
    {
     "name": "stdout",
     "output_type": "stream",
     "text": [
      "Did not collect 1600, only got 1431\n",
      "samples collected: 1431\n",
      "samples collected: 1431 \tdeduped samples added: 207\n",
      "6487\n"
     ]
    },
    {
     "name": "stderr",
     "output_type": "stream",
     "text": [
      "                                                    \r"
     ]
    },
    {
     "name": "stdout",
     "output_type": "stream",
     "text": [
      "Did not collect 1600, only got 1413\n",
      "samples collected: 1413\n",
      "samples collected: 1413 \tdeduped samples added: 189\n",
      "6676\n",
      "Saved 6656 samples to data/cortex_526_6656.json\n"
     ]
    },
    {
     "name": "stderr",
     "output_type": "stream",
     "text": [
      "                                                    \r"
     ]
    },
    {
     "name": "stdout",
     "output_type": "stream",
     "text": [
      "Did not collect 1600, only got 1587\n",
      "samples collected: 1587\n",
      "samples collected: 1587 \tdeduped samples added: 1582\n",
      "1602\n"
     ]
    },
    {
     "name": "stderr",
     "output_type": "stream",
     "text": [
      "                                                    \r"
     ]
    },
    {
     "name": "stdout",
     "output_type": "stream",
     "text": [
      "Did not collect 1600, only got 1439\n",
      "samples collected: 1439\n",
      "samples collected: 1439 \tdeduped samples added: 422\n",
      "2024\n"
     ]
    },
    {
     "name": "stderr",
     "output_type": "stream",
     "text": [
      "                                                    \r"
     ]
    },
    {
     "name": "stdout",
     "output_type": "stream",
     "text": [
      "Did not collect 1600, only got 1224\n",
      "samples collected: 1224\n",
      "samples collected: 1224 \tdeduped samples added: 208\n",
      "2232\n"
     ]
    },
    {
     "name": "stderr",
     "output_type": "stream",
     "text": [
      "                                                    \r"
     ]
    },
    {
     "name": "stdout",
     "output_type": "stream",
     "text": [
      "Did not collect 1600, only got 1455\n",
      "samples collected: 1455\n",
      "samples collected: 1455 \tdeduped samples added: 435\n",
      "2667\n"
     ]
    },
    {
     "name": "stderr",
     "output_type": "stream",
     "text": [
      "                                                    \r"
     ]
    },
    {
     "name": "stdout",
     "output_type": "stream",
     "text": [
      "Did not collect 1600, only got 1435\n",
      "samples collected: 1435\n",
      "samples collected: 1435 \tdeduped samples added: 416\n",
      "3083\n"
     ]
    },
    {
     "name": "stderr",
     "output_type": "stream",
     "text": [
      "                                                    \r"
     ]
    },
    {
     "name": "stdout",
     "output_type": "stream",
     "text": [
      "Did not collect 1600, only got 1456\n",
      "samples collected: 1456\n",
      "samples collected: 1456 \tdeduped samples added: 436\n",
      "3519\n"
     ]
    },
    {
     "name": "stderr",
     "output_type": "stream",
     "text": [
      "                                                    \r"
     ]
    },
    {
     "name": "stdout",
     "output_type": "stream",
     "text": [
      "Did not collect 1600, only got 1461\n",
      "samples collected: 1461\n",
      "samples collected: 1461 \tdeduped samples added: 442\n",
      "3961\n"
     ]
    },
    {
     "name": "stderr",
     "output_type": "stream",
     "text": [
      "                                                    \r"
     ]
    },
    {
     "name": "stdout",
     "output_type": "stream",
     "text": [
      "Did not collect 1600, only got 1378\n",
      "samples collected: 1378\n",
      "samples collected: 1378 \tdeduped samples added: 157\n",
      "4118\n"
     ]
    },
    {
     "name": "stderr",
     "output_type": "stream",
     "text": [
      "                                                    \r"
     ]
    },
    {
     "name": "stdout",
     "output_type": "stream",
     "text": [
      "Did not collect 1600, only got 1442\n",
      "samples collected: 1442\n",
      "samples collected: 1442 \tdeduped samples added: 421\n",
      "4539\n"
     ]
    },
    {
     "name": "stderr",
     "output_type": "stream",
     "text": [
      "                                                    \r"
     ]
    },
    {
     "name": "stdout",
     "output_type": "stream",
     "text": [
      "Did not collect 1600, only got 1241\n",
      "samples collected: 1241\n",
      "samples collected: 1241 \tdeduped samples added: 418\n",
      "4957\n"
     ]
    },
    {
     "name": "stderr",
     "output_type": "stream",
     "text": [
      "                                                    \r"
     ]
    },
    {
     "name": "stdout",
     "output_type": "stream",
     "text": [
      "Did not collect 1600, only got 1225\n",
      "samples collected: 1225\n",
      "samples collected: 1225 \tdeduped samples added: 402\n",
      "5359\n"
     ]
    },
    {
     "name": "stderr",
     "output_type": "stream",
     "text": [
      "                                                    \r"
     ]
    },
    {
     "name": "stdout",
     "output_type": "stream",
     "text": [
      "Did not collect 1600, only got 1217\n",
      "samples collected: 1217\n",
      "samples collected: 1217 \tdeduped samples added: 195\n",
      "5554\n"
     ]
    },
    {
     "name": "stderr",
     "output_type": "stream",
     "text": [
      "                                                    \r"
     ]
    },
    {
     "name": "stdout",
     "output_type": "stream",
     "text": [
      "Did not collect 1600, only got 1189\n",
      "samples collected: 1189\n",
      "samples collected: 1189 \tdeduped samples added: 367\n",
      "5921\n"
     ]
    },
    {
     "name": "stderr",
     "output_type": "stream",
     "text": [
      "                                                    \r"
     ]
    },
    {
     "name": "stdout",
     "output_type": "stream",
     "text": [
      "Did not collect 1600, only got 1215\n",
      "samples collected: 1215\n",
      "samples collected: 1215 \tdeduped samples added: 392\n",
      "6313\n"
     ]
    },
    {
     "name": "stderr",
     "output_type": "stream",
     "text": [
      "                                                    \r"
     ]
    },
    {
     "name": "stdout",
     "output_type": "stream",
     "text": [
      "Did not collect 1600, only got 1444\n",
      "samples collected: 1444\n",
      "samples collected: 1444 \tdeduped samples added: 620\n",
      "6933\n",
      "Saved 6656 samples to data/cortex_527_6656.json\n"
     ]
    },
    {
     "name": "stderr",
     "output_type": "stream",
     "text": [
      "                                                    \r"
     ]
    },
    {
     "name": "stdout",
     "output_type": "stream",
     "text": [
      "Did not collect 1600, only got 1251\n",
      "samples collected: 1251\n",
      "samples collected: 1251 \tdeduped samples added: 1211\n",
      "1488\n"
     ]
    },
    {
     "name": "stderr",
     "output_type": "stream",
     "text": [
      "                                                    \r"
     ]
    },
    {
     "name": "stdout",
     "output_type": "stream",
     "text": [
      "Did not collect 1600, only got 1493\n",
      "samples collected: 1493\n",
      "samples collected: 1493 \tdeduped samples added: 450\n",
      "1938\n"
     ]
    },
    {
     "name": "stderr",
     "output_type": "stream",
     "text": [
      "                                                    \r"
     ]
    },
    {
     "name": "stdout",
     "output_type": "stream",
     "text": [
      "Did not collect 1600, only got 1465\n",
      "samples collected: 1465\n",
      "samples collected: 1465 \tdeduped samples added: 421\n",
      "2359\n"
     ]
    },
    {
     "name": "stderr",
     "output_type": "stream",
     "text": [
      "                                                    \r"
     ]
    },
    {
     "name": "stdout",
     "output_type": "stream",
     "text": [
      "Did not collect 1600, only got 1470\n",
      "samples collected: 1470\n",
      "samples collected: 1470 \tdeduped samples added: 425\n",
      "2784\n"
     ]
    },
    {
     "name": "stderr",
     "output_type": "stream",
     "text": [
      "                                                    \r"
     ]
    },
    {
     "name": "stdout",
     "output_type": "stream",
     "text": [
      "Did not collect 1600, only got 1238\n",
      "samples collected: 1238\n",
      "samples collected: 1238 \tdeduped samples added: 4\n",
      "2788\n"
     ]
    },
    {
     "name": "stderr",
     "output_type": "stream",
     "text": [
      "                                                    \r"
     ]
    },
    {
     "name": "stdout",
     "output_type": "stream",
     "text": [
      "Did not collect 1600, only got 1446\n",
      "samples collected: 1446\n",
      "samples collected: 1446 \tdeduped samples added: 402\n",
      "3190\n"
     ]
    },
    {
     "name": "stderr",
     "output_type": "stream",
     "text": [
      "                                                    \r"
     ]
    },
    {
     "name": "stdout",
     "output_type": "stream",
     "text": [
      "Did not collect 1600, only got 1467\n",
      "samples collected: 1467\n",
      "samples collected: 1467 \tdeduped samples added: 422\n",
      "3612\n"
     ]
    },
    {
     "name": "stderr",
     "output_type": "stream",
     "text": [
      "                                                    \r"
     ]
    },
    {
     "name": "stdout",
     "output_type": "stream",
     "text": [
      "Did not collect 1600, only got 1479\n",
      "samples collected: 1479\n",
      "samples collected: 1479 \tdeduped samples added: 434\n",
      "4046\n"
     ]
    },
    {
     "name": "stderr",
     "output_type": "stream",
     "text": [
      "                                                    \r"
     ]
    },
    {
     "name": "stdout",
     "output_type": "stream",
     "text": [
      "Did not collect 1600, only got 1455\n",
      "samples collected: 1455\n",
      "samples collected: 1455 \tdeduped samples added: 412\n",
      "4458\n"
     ]
    },
    {
     "name": "stderr",
     "output_type": "stream",
     "text": [
      "                                                    \r"
     ]
    },
    {
     "name": "stdout",
     "output_type": "stream",
     "text": [
      "Did not collect 1600, only got 1041\n",
      "samples collected: 1041\n",
      "samples collected: 1041 \tdeduped samples added: 0\n",
      "4458\n"
     ]
    },
    {
     "name": "stderr",
     "output_type": "stream",
     "text": [
      "                                                    \r"
     ]
    },
    {
     "name": "stdout",
     "output_type": "stream",
     "text": [
      "Did not collect 1600, only got 1435\n",
      "samples collected: 1435\n",
      "samples collected: 1435 \tdeduped samples added: 390\n",
      "4848\n"
     ]
    },
    {
     "name": "stderr",
     "output_type": "stream",
     "text": [
      "                                                    \r"
     ]
    },
    {
     "name": "stdout",
     "output_type": "stream",
     "text": [
      "Did not collect 1600, only got 1445\n",
      "samples collected: 1445\n",
      "samples collected: 1445 \tdeduped samples added: 601\n",
      "5449\n"
     ]
    },
    {
     "name": "stderr",
     "output_type": "stream",
     "text": [
      "                                                    \r"
     ]
    },
    {
     "name": "stdout",
     "output_type": "stream",
     "text": [
      "Did not collect 1600, only got 1430\n",
      "samples collected: 1430\n",
      "samples collected: 1430 \tdeduped samples added: 401\n",
      "5850\n"
     ]
    },
    {
     "name": "stderr",
     "output_type": "stream",
     "text": [
      "                                                    \r"
     ]
    },
    {
     "name": "stdout",
     "output_type": "stream",
     "text": [
      "Did not collect 1600, only got 1449\n",
      "samples collected: 1449\n",
      "samples collected: 1449 \tdeduped samples added: 416\n",
      "6266\n"
     ]
    },
    {
     "name": "stderr",
     "output_type": "stream",
     "text": [
      "                                                    \r"
     ]
    },
    {
     "name": "stdout",
     "output_type": "stream",
     "text": [
      "Did not collect 1600, only got 1410\n",
      "samples collected: 1410\n",
      "samples collected: 1410 \tdeduped samples added: 566\n",
      "6832\n",
      "Saved 6656 samples to data/cortex_528_6656.json\n"
     ]
    }
   ],
   "source": [
    "create_new_datasets(num_new=48, size=6144+512, max_samples_per_step=1600, ignore_old=True, sleep_minutes=5)"
   ]
  },
  {
   "cell_type": "code",
   "execution_count": null,
   "metadata": {},
   "outputs": [],
   "source": []
  },
  {
   "cell_type": "code",
   "execution_count": null,
   "metadata": {},
   "outputs": [],
   "source": []
  },
  {
   "cell_type": "code",
   "execution_count": null,
   "metadata": {},
   "outputs": [],
   "source": []
  },
  {
   "cell_type": "code",
   "execution_count": null,
   "metadata": {},
   "outputs": [],
   "source": []
  },
  {
   "cell_type": "code",
   "execution_count": null,
   "metadata": {},
   "outputs": [],
   "source": []
  },
  {
   "cell_type": "code",
   "execution_count": 2,
   "metadata": {},
   "outputs": [],
   "source": [
    "with open('data/cortex_43_131072.json', 'r') as f:\n",
    "    big_dataset = json.load(f)"
   ]
  },
  {
   "cell_type": "code",
   "execution_count": 3,
   "metadata": {},
   "outputs": [
    {
     "data": {
      "text/plain": [
       "{'instruction': 'How does exposure to toxic substances impact human health over time?',\n",
       " 'response': 'Exposure to toxic substances can have a wide range of effects on human health, and the impact over time can vary greatly depending on the type of substance, the level of exposure, the duration of exposure, and individual susceptibility. Here are some of the ways that toxic substances can impact health over time:\\n\\n1. **Acute Effects**: Some toxic substances can cause immediate health effects, such as irritation, nausea, dizziness, or acute poisoning, which can be severe and even life-threatening.\\n\\n2. **Chronic Effects**: Long-term exposure to certain toxins can lead to chronic health conditions. For example, exposure to asbestos can cause mesothelioma, a type of lung cancer, and exposure to lead can result in neurological damage and cognitive impairments.\\n\\n3. **Cancer**: Many toxic substances are carcinogens, meaning they can cause cancer. The development of cancer typically involves long-term exposure to a carcinogen, and the disease may not manifest until many years after the initial exposure.\\n\\n4. **Reproductive Effects**: Some toxins can affect reproductive health, leading to infertility, miscarriages, birth defects, or developmental disorders in children.\\n\\n5. **Endocrine Disruption**: Certain chemicals can interfere with the endocrine system, which regulates hormones in the body. This can lead to a variety of health issues, including reproductive problems, developmental issues, and metabolic disorders.\\n\\n6. **Neurological Effects**: Toxins such as heavy metals (like mercury and lead), pesticides, and some industrial chemicals can damage the nervous system, leading to cognitive decline, memory loss, and other neurological symptoms.\\n\\n7. **Immunological Effects**: Some substances can weaken the immune system, making individuals more susceptible to infections and diseases.\\n\\n8. **Respiratory Effects**: Inhalation of toxic substances can lead to chronic respiratory conditions such as asthma, chronic obstructive pulmonary disease (COPD), and lung cancer.\\n\\n9. **Cardiovascular Effects**: Long-term exposure to certain toxins can increase the risk of heart disease, hypertension, and other cardiovascular conditions.\\n\\n10. **Bioaccumulation and Biomagnification**: Some toxic substances can accumulate in the body over time (bioaccumulation) or become more concentrated as they move up the food chain (biomagnification), leading to higher exposure levels and increased health risks.\\n\\n11. **Sensitization**: Repeated exposure to certain chemicals can lead to sensitization, where the immune system becomes overly responsive to the substance, resulting in allergic reactions or hypersensitivity.\\n\\n12. **Multiple Chemical Sensitivity (MCS)**: Some individuals may develop a condition known as multiple chemical sensitivity, where they experience adverse reactions to a variety of chemicals at levels usually tolerated by most people.\\n\\nThe impact of toxic substances on human health is a complex issue that involves considering the dose, frequency, and route of exposure, as well as individual factors such as age, gender, genetics, lifestyle, and pre-existing health conditions. Regulatory agencies like the Environmental Protection Agency (EPA) and the Occupational Safety and Health Administration (OSHA) work to establish exposure limits and guidelines to protect public health. However, understanding and mitigating the risks associated with toxic substances remains an ongoing challenge in environmental and occupational health.'}"
      ]
     },
     "execution_count": 3,
     "metadata": {},
     "output_type": "execute_result"
    }
   ],
   "source": [
    "big_dataset[0]"
   ]
  },
  {
   "cell_type": "code",
   "execution_count": 4,
   "metadata": {},
   "outputs": [],
   "source": [
    "big_sentences = []\n",
    "for conv in big_dataset:\n",
    "    big_sentences.append(conv['instruction'] + ' ' + conv['response'])"
   ]
  },
  {
   "cell_type": "code",
   "execution_count": 5,
   "metadata": {},
   "outputs": [
    {
     "name": "stderr",
     "output_type": "stream",
     "text": [
      "c:\\Users\\Alex\\AppData\\Local\\Programs\\Python\\Python310\\lib\\site-packages\\torch\\_utils.py:776: UserWarning: TypedStorage is deprecated. It will be removed in the future and UntypedStorage will be the only storage class. This should only matter to you if you are using storages directly.  To access UntypedStorage directly, use tensor.untyped_storage() instead of tensor.storage()\n",
      "  return self.fget.__get__(instance, owner)()\n"
     ]
    }
   ],
   "source": [
    "from sentence_transformers import SentenceTransformer\n",
    "model = SentenceTransformer(\"all-mpnet-base-v2\")"
   ]
  },
  {
   "cell_type": "code",
   "execution_count": 6,
   "metadata": {},
   "outputs": [
    {
     "data": {
      "application/vnd.jupyter.widget-view+json": {
       "model_id": "e3f6d64f8de443ceb48ec13b3c378eb4",
       "version_major": 2,
       "version_minor": 0
      },
      "text/plain": [
       "Batches:   0%|          | 0/2048 [00:00<?, ?it/s]"
      ]
     },
     "metadata": {},
     "output_type": "display_data"
    }
   ],
   "source": [
    "embeddings = model.encode(big_sentences, show_progress_bar=True, batch_size=64)"
   ]
  },
  {
   "cell_type": "code",
   "execution_count": 3,
   "metadata": {},
   "outputs": [],
   "source": [
    "# numpy save embeddings\n",
    "# np.save('data/cortex_43_131072_embeddings.npy', embeddings)\n",
    "# numpy load embeddings\n",
    "embeddings = np.load('data/cortex_43_131072_embeddings.npy')"
   ]
  },
  {
   "cell_type": "code",
   "execution_count": 4,
   "metadata": {},
   "outputs": [
    {
     "data": {
      "text/plain": [
       "(131072, 768)"
      ]
     },
     "execution_count": 4,
     "metadata": {},
     "output_type": "execute_result"
    }
   ],
   "source": [
    "embeddings.shape"
   ]
  },
  {
   "cell_type": "code",
   "execution_count": 4,
   "metadata": {},
   "outputs": [
    {
     "name": "stdout",
     "output_type": "stream",
     "text": [
      "[0.04161603 0.07500422 0.10545201 0.13115078 0.15446855 0.17644582\n",
      " 0.19645111 0.21355434 0.23053718 0.24664475 0.26172035 0.27602487\n",
      " 0.28913602 0.3021988  0.31459717 0.32611907 0.33735315 0.3481372\n",
      " 0.35838842 0.36826377 0.37781801 0.38725323 0.39614332 0.40465277\n",
      " 0.4129363  0.42091202 0.42873161 0.43625778 0.44357414 0.45072301\n",
      " 0.45760817 0.46433947 0.47088953 0.47724658 0.4835029  0.48959251\n",
      " 0.49560119 0.50150837 0.50724732 0.51285522 0.51833798 0.52372669\n",
      " 0.52904185 0.53419638 0.53929064 0.54432483 0.54928434 0.55407916\n",
      " 0.55880942 0.56345253 0.56801047 0.57250069 0.57696082 0.58123531\n",
      " 0.58549071 0.58962495 0.59368873 0.59771049 0.60167826 0.60562206\n",
      " 0.60954342 0.61338836 0.61719923 0.62091934 0.62460185 0.62822375\n",
      " 0.63177549 0.63527651 0.63873708 0.64216197 0.64554361 0.64887523\n",
      " 0.6521141  0.65531605 0.65849627 0.66163976 0.66472084 0.66775257\n",
      " 0.67075244 0.67370301 0.67662345 0.67952911 0.68242249 0.68529409\n",
      " 0.68813402 0.69092322 0.69368414 0.6963964  0.69908451 0.70176532\n",
      " 0.70441849 0.70706605 0.70965924 0.71219357 0.71471715 0.71720561\n",
      " 0.71968766 0.72214098 0.72458611 0.72700602 0.72939469 0.73177188\n",
      " 0.73410845 0.73643099 0.73870773 0.74097406 0.74319672 0.74541\n",
      " 0.74761207 0.74978244 0.75193874 0.75408052 0.75621015 0.75829802\n",
      " 0.76037156 0.76243198 0.76446511 0.76648412 0.76848923 0.77047298\n",
      " 0.77242164 0.77435726 0.77626409 0.77815721 0.78003099 0.78189033\n",
      " 0.78373799 0.78557846 0.78741303 0.78923146 0.79100707 0.79277844\n",
      " 0.79454207 0.79626618 0.79798209 0.79968601 0.80136117 0.80302019\n",
      " 0.80467618 0.80632184 0.80795461 0.80958369 0.81118357 0.81277706\n",
      " 0.81436211 0.81594026 0.81748127 0.81900904 0.82053117 0.82203829\n",
      " 0.82353806 0.82502616 0.82649866 0.82796367 0.82941548 0.83084853\n",
      " 0.83227239 0.83368707 0.8350863  0.83647085 0.83784628 0.83921041\n",
      " 0.84056645 0.84191027 0.84322765 0.84453038 0.8458237  0.84711199\n",
      " 0.84838978 0.84965937 0.85091731 0.85216795 0.8534085  0.85463281\n",
      " 0.85584151 0.85704081 0.85823826 0.85942098 0.8605986  0.86176846\n",
      " 0.86292633 0.86407959 0.86522421 0.86635886 0.86748093 0.86859074\n",
      " 0.86969808 0.87079044 0.87187315 0.87294389 0.87401123 0.87507353\n",
      " 0.87611853 0.87715592 0.87818681 0.8792106  0.88022521 0.88122607\n",
      " 0.88221851 0.88320697 0.88417671 0.88513841 0.88609898 0.88705135\n",
      " 0.88798769 0.88891823 0.88984466 0.89076384 0.89167751 0.89258054\n",
      " 0.89347909 0.89437511 0.89525791 0.89613144 0.89699678 0.8978571\n",
      " 0.89871322 0.89955669 0.90039558 0.90122668 0.90204951 0.90286221\n",
      " 0.90367006 0.90446832 0.90525885 0.90604655 0.90682517 0.90759189\n",
      " 0.90835065 0.90910378 0.9098543  0.91059801 0.91133698 0.9120637\n",
      " 0.91278943 0.91350646 0.91420942 0.91490671 0.91560112 0.9162881\n",
      " 0.91697002 0.91764688 0.91831136 0.91896802 0.91961748 0.92026275\n",
      " 0.92089943 0.9215274  0.92215312 0.92276667 0.9233703  0.92396923\n",
      " 0.92456541 0.92514705 0.92572563 0.92629928]\n"
     ]
    }
   ],
   "source": [
    "# run pca to get explained variance\n",
    "from sklearn.decomposition import PCA\n",
    "pca = PCA(n_components=256)\n",
    "pca.fit(embeddings)\n",
    "print(pca.explained_variance_ratio_.cumsum())"
   ]
  },
  {
   "cell_type": "code",
   "execution_count": 4,
   "metadata": {},
   "outputs": [],
   "source": [
    "from sklearn.cluster import MiniBatchKMeans"
   ]
  },
  {
   "cell_type": "code",
   "execution_count": 27,
   "metadata": {},
   "outputs": [
    {
     "name": "stdout",
     "output_type": "stream",
     "text": [
      "[ 582  474  694 1100  750  442  661  625  555  473  712  818 1108 1073\n",
      "  874  472  823  454  736  642  426  752  810  318 1201  397  505  609\n",
      "  952 1022  531  938  494 1879 1586  886  213  555  595  312  588  657\n",
      "  849  248 1279 1034  558  435  427  863  212  760  292  843  160  355\n",
      "  349  211  300  340  391  193  165  906  301  785  408  681  350  568\n",
      " 1056  140  524  197 1642  922  574  280  461  295  241  629  654  816\n",
      "  179  409 1153  402  522  437  357  407  714   77  752  270  662  186\n",
      "  782 1037  694  589  308  556  254  122  483  388  399   69  572  615\n",
      "  421  384  598  176  669  900  505  326  700  374  477 1048  240  374\n",
      " 1036  544  100  331 1189  729  332  624  267   50  192  460  114 1019\n",
      "  839  990  324  531  340  803  313  101  480  215 1254 1220  584  358\n",
      "  332  549  339  185  112  213  686  339  192 1283  693  441  896  600\n",
      "  955  157  129  207  470  431  521  577  313  676  874  177  415  252\n",
      "  342  975  177  494  416  103  464  234  396  301  281  561  229  167\n",
      " 1334  460  232  192  558  248  310  345  558  160  342  806  931  705\n",
      "  676  344  352  734  365   68  271  364  285  292  492  131  165  120\n",
      "  506  162  650  105  301  201  908  253  452  272  118  530  345  660\n",
      "  635  259   38  628  443  666  728  127  274  178  245  342  215  448\n",
      "  342  320  193  620]\n",
      "[  0   1   2   3   4   5   6   7   8   9  10  11  12  13  14  15  16  17\n",
      "  18  19  20  21  22  23  24  25  26  27  28  29  30  31  32  33  34  35\n",
      "  36  37  38  39  40  41  42  43  44  45  46  47  48  49  50  51  52  53\n",
      "  54  55  56  57  58  59  60  61  62  63  64  65  66  67  68  69  70  71\n",
      "  72  73  74  75  76  77  78  79  80  81  82  83  84  85  86  87  88  89\n",
      "  90  91  92  93  94  95  96  97  98  99 100 101 102 103 104 105 106 107\n",
      " 108 109 110 111 112 113 114 115 116 117 118 119 120 121 122 123 124 125\n",
      " 126 127 128 129 130 131 132 133 134 135 136 137 138 139 140 141 142 143\n",
      " 144 145 146 147 148 149 150 151 152 153 154 155 156 157 158 159 160 161\n",
      " 162 163 164 165 166 167 168 169 170 171 172 173 174 175 176 177 178 179\n",
      " 180 181 182 183 184 185 186 187 188 189 190 191 192 193 194 195 196 197\n",
      " 198 199 200 201 202 203 204 205 206 207 208 209 210 211 212 213 214 215\n",
      " 216 217 218 219 220 221 222 223 224 225 226 227 228 229 230 231 232 233\n",
      " 234 235 236 237 238 239 240 241 242 243 244 245 246 247 248 249 250 251\n",
      " 252 253 254 255]\n",
      "\n",
      "[0.01433563 0.01252747 0.01210022 0.01017761 0.00978851 0.009758\n",
      " 0.00956726 0.00930786 0.0091629  0.00907135 0.00879669 0.00845337\n",
      " 0.00839233 0.00818634 0.00805664 0.00799561 0.00791168 0.00790405\n",
      " 0.00788879 0.00779724 0.00777435 0.0075531  0.00743866 0.00728607\n",
      " 0.00726318 0.00715637 0.00710297 0.0070343  0.00692749 0.00691223\n",
      " 0.00686646 0.00683594 0.00675964 0.00666809 0.00666809 0.00658417\n",
      " 0.00647736 0.00643158 0.00640106 0.00627899 0.00624084 0.00622559\n",
      " 0.00617981 0.00614929 0.0061264  0.00598907 0.00596619 0.00579834\n",
      " 0.0057373  0.0057373  0.00572205 0.00561523 0.00559998 0.00556183\n",
      " 0.0055542  0.00544739 0.00543213 0.00537872 0.00534058 0.0052948\n",
      " 0.0052948  0.00528717 0.00523376 0.00519562 0.00515747 0.00515747\n",
      " 0.00510406 0.00508118 0.00505066 0.00504303 0.0050354  0.00501251\n",
      " 0.00498962 0.00495911 0.00489807 0.00484467 0.00479889 0.00479126\n",
      " 0.00476837 0.00476074 0.00473022 0.00469208 0.0046463  0.00457764\n",
      " 0.00456238 0.00453949 0.00449371 0.00448608 0.00445557 0.00444031\n",
      " 0.00440216 0.00437927 0.00436401 0.0043335  0.00428009 0.0042572\n",
      " 0.0042572  0.0042572  0.00424194 0.00423431 0.00423431 0.00418854\n",
      " 0.00415039 0.00405121 0.00405121 0.00404358 0.0039978  0.00398254\n",
      " 0.00397491 0.00386047 0.00385284 0.00385284 0.00376892 0.00376892\n",
      " 0.00375366 0.003685   0.00366211 0.00363922 0.00361633 0.0036087\n",
      " 0.00360107 0.00358582 0.00354004 0.00351715 0.00350952 0.00350952\n",
      " 0.00346375 0.00344849 0.00341797 0.00337982 0.00337219 0.00336456\n",
      " 0.00333405 0.00331879 0.00328827 0.00325775 0.00325012 0.00321198\n",
      " 0.00317383 0.0031662  0.00312042 0.00311279 0.00310516 0.00306702\n",
      " 0.00304413 0.00302887 0.00302124 0.00298309 0.00296021 0.00292969\n",
      " 0.00285339 0.00285339 0.00278473 0.0027771  0.00273132 0.00272369\n",
      " 0.00270844 0.00268555 0.00267029 0.00266266 0.00263214 0.00263214\n",
      " 0.00262451 0.00260925 0.00260925 0.00260925 0.00260925 0.00259399\n",
      " 0.00259399 0.00258636 0.00258636 0.00253296 0.00253296 0.00252533\n",
      " 0.00248718 0.00247192 0.00244141 0.00242615 0.002388   0.002388\n",
      " 0.00238037 0.00236511 0.00234985 0.00229645 0.00229645 0.00229645\n",
      " 0.00228882 0.00225067 0.00222778 0.00222778 0.00217438 0.00214386\n",
      " 0.00213623 0.00209045 0.0020752  0.00206757 0.00205994 0.00203705\n",
      " 0.00197601 0.00193787 0.00193024 0.00192261 0.00189209 0.00189209\n",
      " 0.0018692  0.00183868 0.00183105 0.00178528 0.00177002 0.00174713\n",
      " 0.00164032 0.00164032 0.00162506 0.00162506 0.00161743 0.0016098\n",
      " 0.00157928 0.00153351 0.00150299 0.00147247 0.00147247 0.00146484\n",
      " 0.00146484 0.00146484 0.00141907 0.00141144 0.00136566 0.00135803\n",
      " 0.0013504  0.0013504  0.00134277 0.00127411 0.00125885 0.00125885\n",
      " 0.00123596 0.0012207  0.0012207  0.00119781 0.00106812 0.00099945\n",
      " 0.00098419 0.00096893 0.00093079 0.00091553 0.00090027 0.00086975\n",
      " 0.00085449 0.00080109 0.00078583 0.00077057 0.00076294 0.00058746\n",
      " 0.00052643 0.0005188  0.00038147 0.00028992]\n"
     ]
    }
   ],
   "source": [
    "kmeans = MiniBatchKMeans(n_clusters=256, max_iter=1000)\n",
    "kmeans.fit(embeddings)\n",
    "\n",
    "# get size of each cluster\n",
    "unique, counts = np.unique(kmeans.labels_, return_counts=True)\n",
    "percentages = counts / np.sum(counts)\n",
    "print(counts)\n",
    "print(unique)\n",
    "print()\n",
    "# get percent of total in each cluster, sorted\n",
    "order = np.argsort(percentages)\n",
    "print(percentages[order][::-1])"
   ]
  },
  {
   "cell_type": "code",
   "execution_count": 26,
   "metadata": {},
   "outputs": [],
   "source": [
    "# create function that derives x 'perfect' batches from the data, where each batch has a number of samples from each cluster according to the percentages\n",
    "def get_perfect_batches(data, labels, percentages, batch_size, n_batches):\n",
    "    unique, counts = np.unique(labels, return_counts=True)\n",
    "    percentages = counts / np.sum(counts)\n",
    "    n_samples_per_batch_per_cluster = percentages * batch_size\n",
    "    perfect_batches = []\n",
    "    for i in range(n_batches):\n",
    "        batch = []\n",
    "        for j in range(len(n_samples_per_batch_per_cluster)):\n",
    "            n = int(np.ceil(n_samples_per_batch_per_cluster[j]))\n",
    "            boo = labels == unique[j]\n",
    "            arang = np.arange(len(data))[boo]\n",
    "            p = np.random.permutation(len(arang))\n",
    "            cluster_samples_idx = arang[p]\n",
    "            x = 0\n",
    "            for sample_idx in cluster_samples_idx:\n",
    "                sample = data[sample_idx]\n",
    "                if sample not in batch and sample not in perfect_batches:\n",
    "                    x += 1\n",
    "                    batch.append(sample)\n",
    "                if x >= n:\n",
    "                    break\n",
    "        p = np.random.permutation(len(batch))\n",
    "        batch = np.array(batch)[p[:batch_size]].tolist() # in case we overshot\n",
    "        perfect_batches += batch\n",
    "    return np.array(perfect_batches).reshape(n_batches, batch_size, -1)\n",
    "\n",
    "def get_random_batches(data, batch_size, n_batches):\n",
    "    random_batches = []\n",
    "    for i in range(n_batches):\n",
    "        p = np.random.permutation(len(data))\n",
    "        batch = data[p[:batch_size]]\n",
    "        random_batches.append(batch)\n",
    "    return np.stack(random_batches)"
   ]
  },
  {
   "cell_type": "code",
   "execution_count": 30,
   "metadata": {},
   "outputs": [
    {
     "ename": "ValueError",
     "evalue": "The truth value of an array with more than one element is ambiguous. Use a.any() or a.all()",
     "output_type": "error",
     "traceback": [
      "\u001b[0;31m---------------------------------------------------------------------------\u001b[0m",
      "\u001b[0;31mValueError\u001b[0m                                Traceback (most recent call last)",
      "Cell \u001b[0;32mIn[30], line 14\u001b[0m\n\u001b[1;32m     12\u001b[0m random_variances \u001b[38;5;241m=\u001b[39m []\n\u001b[1;32m     13\u001b[0m \u001b[38;5;28;01mfor\u001b[39;00m batch_size \u001b[38;5;129;01min\u001b[39;00m batch_sizes:\n\u001b[0;32m---> 14\u001b[0m     perfect_batches \u001b[38;5;241m=\u001b[39m \u001b[43mget_perfect_batches\u001b[49m\u001b[43m(\u001b[49m\u001b[43membeddings\u001b[49m\u001b[43m,\u001b[49m\u001b[43m \u001b[49m\u001b[43mkmeans\u001b[49m\u001b[38;5;241;43m.\u001b[39;49m\u001b[43mlabels_\u001b[49m\u001b[43m,\u001b[49m\u001b[43m \u001b[49m\u001b[43mpercentages\u001b[49m\u001b[43m,\u001b[49m\u001b[43m \u001b[49m\u001b[43mbatch_size\u001b[49m\u001b[43m,\u001b[49m\u001b[43m \u001b[49m\u001b[43msample_size\u001b[49m\u001b[43m)\u001b[49m\n\u001b[1;32m     15\u001b[0m     random_batches \u001b[38;5;241m=\u001b[39m get_random_batches(embeddings, batch_size, sample_size)\n\u001b[1;32m     16\u001b[0m     variances\u001b[38;5;241m.\u001b[39mappend(perfect_batches\u001b[38;5;241m.\u001b[39mmean(axis\u001b[38;5;241m=\u001b[39m\u001b[38;5;241m1\u001b[39m)\u001b[38;5;241m.\u001b[39mstd(axis\u001b[38;5;241m=\u001b[39m\u001b[38;5;241m0\u001b[39m)\u001b[38;5;241m.\u001b[39mmean())\n",
      "Cell \u001b[0;32mIn[26], line 18\u001b[0m, in \u001b[0;36mget_perfect_batches\u001b[0;34m(data, labels, percentages, batch_size, n_batches)\u001b[0m\n\u001b[1;32m     16\u001b[0m \u001b[38;5;28;01mfor\u001b[39;00m sample_idx \u001b[38;5;129;01min\u001b[39;00m cluster_samples_idx:\n\u001b[1;32m     17\u001b[0m     sample \u001b[38;5;241m=\u001b[39m data[sample_idx]\n\u001b[0;32m---> 18\u001b[0m     \u001b[38;5;28;01mif\u001b[39;00m \u001b[43msample\u001b[49m\u001b[43m \u001b[49m\u001b[38;5;129;43;01mnot\u001b[39;49;00m\u001b[43m \u001b[49m\u001b[38;5;129;43;01min\u001b[39;49;00m\u001b[43m \u001b[49m\u001b[43mbatch\u001b[49m \u001b[38;5;129;01mand\u001b[39;00m sample \u001b[38;5;129;01mnot\u001b[39;00m \u001b[38;5;129;01min\u001b[39;00m perfect_batches:\n\u001b[1;32m     19\u001b[0m         x \u001b[38;5;241m+\u001b[39m\u001b[38;5;241m=\u001b[39m \u001b[38;5;241m1\u001b[39m\n\u001b[1;32m     20\u001b[0m         batch\u001b[38;5;241m.\u001b[39mappend(sample)\n",
      "\u001b[0;31mValueError\u001b[0m: The truth value of an array with more than one element is ambiguous. Use a.any() or a.all()"
     ]
    }
   ],
   "source": [
    "kmeans = MiniBatchKMeans(n_clusters=32, max_iter=1000)\n",
    "kmeans.fit(embeddings)\n",
    "\n",
    "# get size of each cluster\n",
    "unique, counts = np.unique(kmeans.labels_, return_counts=True)\n",
    "percentages = counts / np.sum(counts)\n",
    "\n",
    "# test embedding variances for different batch sizes\n",
    "sample_size = 256\n",
    "batch_sizes = [1, 2, 4, 8, 16, 32, 64, 128, 256, 512, 1024, 2048]\n",
    "variances = []\n",
    "random_variances = []\n",
    "for batch_size in batch_sizes:\n",
    "    perfect_batches = get_perfect_batches(embeddings, kmeans.labels_, percentages, batch_size, sample_size)\n",
    "    random_batches = get_random_batches(embeddings, batch_size, sample_size)\n",
    "    variances.append(perfect_batches.mean(axis=1).std(axis=0).mean())\n",
    "    random_variances.append(random_batches.mean(axis=1).std(axis=0).mean())\n",
    "    print(f\"batch size: {batch_size}\\tperfect variance: {variances[-1]}\\trandom variance: {random_variances[-1]}\")"
   ]
  },
  {
   "cell_type": "code",
   "execution_count": 15,
   "metadata": {},
   "outputs": [
    {
     "name": "stdout",
     "output_type": "stream",
     "text": [
      "batch size: 1\tperfect variance: 0.03315884247422218\trandom variance: 0.03285451605916023\n",
      "batch size: 2\tperfect variance: 0.023576922714710236\trandom variance: 0.0232460405677557\n",
      "batch size: 4\tperfect variance: 0.016451319679617882\trandom variance: 0.01637638360261917\n",
      "batch size: 8\tperfect variance: 0.011713641695678234\trandom variance: 0.01170428842306137\n",
      "batch size: 16\tperfect variance: 0.008184890262782574\trandom variance: 0.008278141729533672\n",
      "batch size: 32\tperfect variance: 0.005673990119248629\trandom variance: 0.005831896793097258\n",
      "batch size: 64\tperfect variance: 0.003845666768029332\trandom variance: 0.004118447657674551\n",
      "batch size: 128\tperfect variance: 0.002521816873922944\trandom variance: 0.0029091264586895704\n",
      "batch size: 256\tperfect variance: 0.0016723753651604056\trandom variance: 0.0020459347870200872\n",
      "batch size: 512\tperfect variance: 0.0011182003654539585\trandom variance: 0.0014570127241313457\n",
      "batch size: 1024\tperfect variance: 0.0007626183796674013\trandom variance: 0.0010293967789039016\n",
      "batch size: 2048\tperfect variance: 0.0005268648383207619\trandom variance: 0.0007311103399842978\n"
     ]
    }
   ],
   "source": [
    "kmeans = MiniBatchKMeans(n_clusters=256, max_iter=1000)\n",
    "kmeans.fit(embeddings)\n",
    "\n",
    "# get size of each cluster\n",
    "unique, counts = np.unique(kmeans.labels_, return_counts=True)\n",
    "percentages = counts / np.sum(counts)\n",
    "\n",
    "# test embedding variances for different batch sizes\n",
    "sample_size = 256\n",
    "batch_sizes = [1, 2, 4, 8, 16, 32, 64, 128, 256, 512, 1024, 2048]\n",
    "variances = []\n",
    "random_variances = []\n",
    "for batch_size in batch_sizes:\n",
    "    perfect_batches = get_perfect_batches(embeddings, kmeans.labels_, percentages, batch_size, sample_size)\n",
    "    random_batches = get_random_batches(embeddings, batch_size, sample_size)\n",
    "    variances.append(perfect_batches.mean(axis=1).std(axis=0).mean())\n",
    "    random_variances.append(random_batches.mean(axis=1).std(axis=0).mean())\n",
    "    print(f\"batch size: {batch_size}\\tperfect variance: {variances[-1]}\\trandom variance: {random_variances[-1]}\")"
   ]
  },
  {
   "cell_type": "code",
   "execution_count": 28,
   "metadata": {},
   "outputs": [],
   "source": [
    "new_dataset = get_perfect_batches(big_dataset, kmeans.labels_, percentages, 256, (16384+512)//256)"
   ]
  },
  {
   "cell_type": "code",
   "execution_count": 29,
   "metadata": {},
   "outputs": [],
   "source": [
    "new_dataset = new_dataset.reshape(-1).tolist()\n",
    "with open('data/perf_43_16896_256.json', 'w') as f:\n",
    "    json.dump(new_dataset, f)"
   ]
  },
  {
   "cell_type": "code",
   "execution_count": 31,
   "metadata": {},
   "outputs": [],
   "source": [
    "new_dataset = get_perfect_batches(big_dataset, kmeans.labels_, percentages, 32, (16384+512)//32)\n",
    "new_dataset = new_dataset.reshape(-1).tolist()\n",
    "with open('data/perf_43_16896_32.json', 'w') as f:\n",
    "    json.dump(new_dataset, f)"
   ]
  },
  {
   "cell_type": "code",
   "execution_count": 27,
   "metadata": {},
   "outputs": [],
   "source": [
    "from sklearn.cluster import MiniBatchKMeans\n",
    "\n",
    "def kmeans_percent_attack(n_clusters=2048, n_attack_clusters=128, percent=0.75):\n",
    "    init = 'k-means++' if n_attack_clusters <= 1024 else 'random'\n",
    "    n_init = 3 if n_attack_clusters <= 1024 else 10\n",
    "    kmeans_model = MiniBatchKMeans(n_clusters=n_attack_clusters, init=init, n_init=n_init, batch_size=1024, verbose=True, max_iter=1000)\n",
    "    kmeans_model.fit(embeddings)\n",
    "    # print the min max and mean cluster counts\n",
    "    cluster_counts = np.bincount(kmeans_model.labels_)\n",
    "    print(f'Min cluster size: {cluster_counts.min()}')\n",
    "    print(f'Max cluster size: {cluster_counts.max()}')\n",
    "    print(f'Mean cluster size: {cluster_counts.mean()}')\n",
    "    # select the n largest clusters that make up percent of the data\n",
    "    cluster_counts = np.bincount(kmeans_model.labels_)\n",
    "    sorted_cluster_counts = np.argsort(cluster_counts)\n",
    "\n",
    "    print(kmeans_model.labels_[:10])\n",
    "    print(cluster_counts[:10])\n",
    "    print(sorted_cluster_counts[-10:])\n",
    "\n",
    "\n",
    "    n = 0\n",
    "    total = 0\n",
    "    for i in range(1, len(cluster_counts)):\n",
    "        total += cluster_counts[sorted_cluster_counts[-i]]\n",
    "        if total > len(embeddings) * percent:\n",
    "            n = i\n",
    "            break\n",
    "    print(f'Using {n} clusters to make up {percent*100}% of the data, {total} samples')\n",
    "    largest_clusters = sorted_cluster_counts[-n:]\n",
    "\n",
    "    # get samples from the largest clusters\n",
    "    subset_embeds = []\n",
    "    subset_samples = []\n",
    "    for c in largest_clusters:\n",
    "        start = 0\n",
    "        for boo in kmeans_model.labels_ == c:\n",
    "            if boo:\n",
    "                subset_embeds.append(embeddings[start])\n",
    "                subset_samples.append(big_dataset[start])\n",
    "            start += 1\n",
    "    subset_embeds = np.array(subset_embeds)\n",
    "    subset_samples = np.array(subset_samples)\n",
    "\n",
    "    # save a random 8192+512 subset of subset_samples\n",
    "    sp = np.random.permutation(len(subset_samples))\n",
    "    with open(f'data/atk_43_{8192+512}_0.json', 'w') as f:\n",
    "        json.dump(subset_samples[sp][:8192+512].tolist(), f)\n",
    "    if len(subset_samples) > (8192+512)*2:\n",
    "        with open(f'data/atk_43_{8192+512}_1.json', 'w') as f:\n",
    "            json.dump(subset_samples[sp][8192+512:8192+512*2].tolist(), f)\n",
    "\n",
    "    create_kmeans_subset_dataset(n_clusters, subset_samples, subset_embeds, name=f'atk_43_{n_clusters}')\n",
    "    if n_clusters >= 8192:\n",
    "        create_kmeans_subset_dataset(2048, subset_samples, subset_embeds, name=f'atk_43_{2048}')\n",
    "    if n_clusters >= 2048:\n",
    "        create_kmeans_subset_dataset(512, subset_samples, subset_embeds, name=f'atk_43_{512}')\n",
    "\n",
    "\n",
    "\n",
    "def create_kmeans_subset_dataset(n_clusters, dataset, embeddings, name='ddc_43'):\n",
    "    # Initialize the KMeans model\n",
    "    init = 'k-means++' if n_clusters <= 1024 else 'random'\n",
    "    n_init = 3 if n_clusters <= 1024 else 10\n",
    "    kmeans_model = MiniBatchKMeans(n_clusters=n_clusters, init=init, n_init=n_init, batch_size=1024, verbose=True, max_iter=1000)\n",
    "\n",
    "    # Fit the model to the training embeddings\n",
    "    kmeans_model.fit(embeddings)\n",
    "\n",
    "    # print the min max and mean cluster counts\n",
    "    cluster_counts = np.bincount(kmeans_model.labels_)\n",
    "    print(f'Min cluster size: {cluster_counts.min()}')\n",
    "    print(f'Max cluster size: {cluster_counts.max()}')\n",
    "    print(f'Mean cluster size: {cluster_counts.mean()}')\n",
    "\n",
    "    # Get the cluster centers\n",
    "    cluster_centers = kmeans_model.cluster_centers_\n",
    "\n",
    "    # get the closest sentence to each cluster center\n",
    "    print('Finding closest sentences to cluster centers')\n",
    "    closest_sentences = []\n",
    "    n = 0\n",
    "    for center in cluster_centers:\n",
    "        closest = np.argmin(np.linalg.norm(embeddings - center, axis=1))\n",
    "        closest_sentences.append(dataset[closest])\n",
    "        n += 1\n",
    "        if n % (n_clusters  // 32) == 0:\n",
    "            print('.', end='')\n",
    "\n",
    "\n",
    "    # save as a new dataset\n",
    "    with open(f'data/{name}_{n_clusters}.json', 'w') as f:\n",
    "        json.dump(closest_sentences, f)\n",
    "    print(f'Saved {n_clusters} samples to data/ddc_43_{n_clusters}.json')"
   ]
  },
  {
   "cell_type": "code",
   "execution_count": 22,
   "metadata": {},
   "outputs": [
    {
     "data": {
      "text/plain": [
       "array([[-0.04811173,  0.02071453,  0.00627764, ..., -0.03249869,\n",
       "        -0.04462671, -0.01749344],\n",
       "       [-0.01551625,  0.02464623,  0.02394607, ..., -0.01448496,\n",
       "         0.02658922,  0.02581609],\n",
       "       [ 0.03815261,  0.08042033,  0.03174035, ..., -0.03234309,\n",
       "         0.00742697,  0.01021684],\n",
       "       ...,\n",
       "       [ 0.04100377, -0.04117557,  0.00125982, ...,  0.05581007,\n",
       "         0.0278706 , -0.01357377],\n",
       "       [ 0.0198206 ,  0.0703216 ,  0.01119775, ...,  0.00825845,\n",
       "         0.02207336, -0.03420079],\n",
       "       [ 0.03043545, -0.04029011,  0.0157929 , ...,  0.01468168,\n",
       "         0.00628204, -0.02334514]], dtype=float32)"
      ]
     },
     "execution_count": 22,
     "metadata": {},
     "output_type": "execute_result"
    }
   ],
   "source": [
    "embeddings[[0,1,2,3,4,5,6,7,8,9]]"
   ]
  },
  {
   "cell_type": "code",
   "execution_count": 28,
   "metadata": {},
   "outputs": [
    {
     "name": "stdout",
     "output_type": "stream",
     "text": [
      "Init 1/3 with method k-means++\n",
      "Inertia for init 1/3: 1797.5601806640625\n",
      "Init 2/3 with method k-means++\n",
      "Inertia for init 2/3: 1794.9169921875\n",
      "Init 3/3 with method k-means++\n",
      "Inertia for init 3/3: 1757.19921875\n",
      "[MiniBatchKMeans] Reassigning 128 cluster centers.\n",
      "Minibatch step 1/128000: mean batch inertia: 0.5463858842849731\n",
      "Minibatch step 2/128000: mean batch inertia: 0.5274631381034851, ewa inertia: 0.5274631381034851\n",
      "Minibatch step 3/128000: mean batch inertia: 0.45249855518341064, ewa inertia: 0.5262918254317654\n",
      "Minibatch step 4/128000: mean batch inertia: 0.45633962750434875, ewa inertia: 0.5251988306780377\n",
      "Minibatch step 5/128000: mean batch inertia: 0.421335369348526, ewa inertia: 0.5235759764761592\n",
      "Minibatch step 6/128000: mean batch inertia: 0.40969088673591614, ewa inertia: 0.5217965355250249\n",
      "Minibatch step 7/128000: mean batch inertia: 0.4173332750797272, ewa inertia: 0.5201643095334633\n",
      "Minibatch step 8/128000: mean batch inertia: 0.40994003415107727, ewa inertia: 0.5184420683702707\n",
      "Minibatch step 9/128000: mean batch inertia: 0.4129612445831299, ewa inertia: 0.5167939430727948\n",
      "Minibatch step 10/128000: mean batch inertia: 0.40398064255714417, ewa inertia: 0.5150312487005285\n",
      "[MiniBatchKMeans] Reassigning 43 cluster centers.\n",
      "Minibatch step 11/128000: mean batch inertia: 0.39514532685279846, ewa inertia: 0.5131580454630643\n",
      "Minibatch step 12/128000: mean batch inertia: 0.3956625759601593, ewa inertia: 0.511322192758526\n",
      "Minibatch step 13/128000: mean batch inertia: 0.38010579347610474, ewa inertia: 0.5092719521618325\n",
      "Minibatch step 14/128000: mean batch inertia: 0.39613646268844604, ewa inertia: 0.5075042236255093\n",
      "Minibatch step 15/128000: mean batch inertia: 0.3923054337501526, ewa inertia: 0.505704256266368\n",
      "[MiniBatchKMeans] Reassigning 30 cluster centers.\n",
      "Minibatch step 16/128000: mean batch inertia: 0.39259102940559387, ewa inertia: 0.5039368755807129\n",
      "Minibatch step 17/128000: mean batch inertia: 0.3904266953468323, ewa inertia: 0.5021632925459232\n",
      "Minibatch step 18/128000: mean batch inertia: 0.3932420015335083, ewa inertia: 0.5004614103581848\n",
      "Minibatch step 19/128000: mean batch inertia: 0.4074918031692505, ewa inertia: 0.499008771328614\n",
      "Minibatch step 20/128000: mean batch inertia: 0.39429259300231934, ewa inertia: 0.4973725935253116\n",
      "[MiniBatchKMeans] Reassigning 19 cluster centers.\n",
      "Minibatch step 21/128000: mean batch inertia: 0.3860025107860565, ewa inertia: 0.4956324492587579\n",
      "Minibatch step 22/128000: mean batch inertia: 0.3858887553215027, ewa inertia: 0.4939177171233562\n",
      "Minibatch step 23/128000: mean batch inertia: 0.37510013580322266, ewa inertia: 0.49206120657928054\n",
      "Minibatch step 24/128000: mean batch inertia: 0.3725863993167877, ewa inertia: 0.4901944269582023\n",
      "Minibatch step 25/128000: mean batch inertia: 0.3881376385688782, ewa inertia: 0.48859980180564355\n",
      "Minibatch step 26/128000: mean batch inertia: 0.38340893387794495, ewa inertia: 0.48695620703390624\n",
      "Minibatch step 27/128000: mean batch inertia: 0.38018062710762024, ewa inertia: 0.4852878513261019\n",
      "Minibatch step 28/128000: mean batch inertia: 0.3858306407928467, ewa inertia: 0.48373384426765276\n",
      "Minibatch step 29/128000: mean batch inertia: 0.38416120409965515, ewa inertia: 0.4821780336349209\n",
      "Minibatch step 30/128000: mean batch inertia: 0.3729216456413269, ewa inertia: 0.480470915596798\n",
      "[MiniBatchKMeans] Reassigning 9 cluster centers.\n",
      "Minibatch step 31/128000: mean batch inertia: 0.38688331842422485, ewa inertia: 0.4790086205474024\n",
      "Minibatch step 32/128000: mean batch inertia: 0.3756016194820404, ewa inertia: 0.4773928984827372\n",
      "Minibatch step 33/128000: mean batch inertia: 0.3827786445617676, ewa inertia: 0.475914562044034\n",
      "Minibatch step 34/128000: mean batch inertia: 0.37535929679870605, ewa inertia: 0.474343398011606\n",
      "Minibatch step 35/128000: mean batch inertia: 0.3747103214263916, ewa inertia: 0.4727866430670597\n",
      "[MiniBatchKMeans] Reassigning 4 cluster centers.\n",
      "Minibatch step 36/128000: mean batch inertia: 0.3704500198364258, ewa inertia: 0.4711876455284641\n",
      "Minibatch step 37/128000: mean batch inertia: 0.3759203851222992, ewa inertia: 0.46969910594127356\n",
      "Minibatch step 38/128000: mean batch inertia: 0.37636491656303406, ewa inertia: 0.46824077035845607\n",
      "Minibatch step 39/128000: mean batch inertia: 0.37515100836753845, ewa inertia: 0.4667862539244277\n",
      "Minibatch step 40/128000: mean batch inertia: 0.38282060623168945, ewa inertia: 0.4654743006886375\n",
      "Minibatch step 41/128000: mean batch inertia: 0.37879133224487305, ewa inertia: 0.4641198896400399\n",
      "Minibatch step 42/128000: mean batch inertia: 0.3679111897945404, ewa inertia: 0.46261664017383725\n",
      "Minibatch step 43/128000: mean batch inertia: 0.3724820911884308, ewa inertia: 0.46120829859073387\n",
      "Minibatch step 44/128000: mean batch inertia: 0.3830658793449402, ewa inertia: 0.45998733260524954\n",
      "Minibatch step 45/128000: mean batch inertia: 0.37478429079055786, ewa inertia: 0.45865604523381154\n",
      "Minibatch step 46/128000: mean batch inertia: 0.36520159244537354, ewa inertia: 0.4571958305495461\n",
      "Minibatch step 47/128000: mean batch inertia: 0.3634410500526428, ewa inertia: 0.4557309232806375\n",
      "Minibatch step 48/128000: mean batch inertia: 0.3663342297077179, ewa inertia: 0.4543341106003957\n",
      "Minibatch step 49/128000: mean batch inertia: 0.3754425346851349, ewa inertia: 0.45310143913125667\n",
      "Minibatch step 50/128000: mean batch inertia: 0.37662139534950256, ewa inertia: 0.45190644756422893\n",
      "[MiniBatchKMeans] Reassigning 2 cluster centers.\n",
      "Minibatch step 51/128000: mean batch inertia: 0.3727332353591919, ewa inertia: 0.4506693755616356\n",
      "Minibatch step 52/128000: mean batch inertia: 0.3767344057559967, ewa inertia: 0.4495141504720905\n",
      "Minibatch step 53/128000: mean batch inertia: 0.37127822637557983, ewa inertia: 0.4482917234844603\n",
      "Minibatch step 54/128000: mean batch inertia: 0.3738260269165039, ewa inertia: 0.44712820585252105\n",
      "Minibatch step 55/128000: mean batch inertia: 0.35498636960983276, ewa inertia: 0.44568850064530807\n",
      "Minibatch step 56/128000: mean batch inertia: 0.3652662932872772, ewa inertia: 0.4444319132423399\n",
      "Minibatch step 57/128000: mean batch inertia: 0.35871216654777527, ewa inertia: 0.44309255241874945\n",
      "Minibatch step 58/128000: mean batch inertia: 0.3677542209625244, ewa inertia: 0.4419153999707064\n",
      "Minibatch step 59/128000: mean batch inertia: 0.37898558378219604, ewa inertia: 0.44093212909452234\n",
      "Minibatch step 60/128000: mean batch inertia: 0.37609443068504333, ewa inertia: 0.4399190477860712\n",
      "[MiniBatchKMeans] Reassigning 1 cluster centers.\n",
      "Minibatch step 61/128000: mean batch inertia: 0.3580438196659088, ewa inertia: 0.438639757106907\n",
      "Minibatch step 62/128000: mean batch inertia: 0.37002331018447876, ewa inertia: 0.43756763330339954\n",
      "Minibatch step 63/128000: mean batch inertia: 0.36330360174179077, ewa inertia: 0.4364072666631443\n",
      "Minibatch step 64/128000: mean batch inertia: 0.3730342984199524, ewa inertia: 0.4354170715889333\n",
      "Minibatch step 65/128000: mean batch inertia: 0.37023863196372986, ewa inertia: 0.43439866623960566\n",
      "Minibatch step 66/128000: mean batch inertia: 0.36494627594947815, ewa inertia: 0.4333134809206293\n",
      "Minibatch step 67/128000: mean batch inertia: 0.3702056109905243, ewa inertia: 0.43232742797595836\n",
      "Minibatch step 68/128000: mean batch inertia: 0.36336907744407654, ewa inertia: 0.4312499619693109\n",
      "Minibatch step 69/128000: mean batch inertia: 0.3743843734264374, ewa inertia: 0.43036144392718323\n",
      "Minibatch step 70/128000: mean batch inertia: 0.3716645836830139, ewa inertia: 0.42944431248302567\n",
      "Minibatch step 71/128000: mean batch inertia: 0.3681013584136963, ewa inertia: 0.42848583613828656\n",
      "Minibatch step 72/128000: mean batch inertia: 0.36367687582969666, ewa inertia: 0.427473203859236\n",
      "Minibatch step 73/128000: mean batch inertia: 0.3742847740650177, ewa inertia: 0.4266421409842079\n",
      "Minibatch step 74/128000: mean batch inertia: 0.3710925281047821, ewa inertia: 0.42577418490494623\n",
      "Minibatch step 75/128000: mean batch inertia: 0.3678920865058899, ewa inertia: 0.4248697840174922\n",
      "Minibatch step 76/128000: mean batch inertia: 0.3663299083709717, ewa inertia: 0.4239551054389591\n",
      "Minibatch step 77/128000: mean batch inertia: 0.37076252698898315, ewa inertia: 0.42312397774167937\n",
      "Minibatch step 78/128000: mean batch inertia: 0.3700867295265198, ewa inertia: 0.4222952770608019\n",
      "Minibatch step 79/128000: mean batch inertia: 0.36922043561935425, ewa inertia: 0.4214659889902451\n",
      "Minibatch step 80/128000: mean batch inertia: 0.36422649025917053, ewa inertia: 0.42057162864599995\n",
      "Minibatch step 81/128000: mean batch inertia: 0.3657388389110565, ewa inertia: 0.4197148728429195\n",
      "Minibatch step 82/128000: mean batch inertia: 0.3576454520225525, ewa inertia: 0.41874504554179637\n",
      "Minibatch step 83/128000: mean batch inertia: 0.35507944226264954, ewa inertia: 0.4177502780800332\n",
      "Minibatch step 84/128000: mean batch inertia: 0.36313074827194214, ewa inertia: 0.4168968544378874\n",
      "Minibatch step 85/128000: mean batch inertia: 0.3599758744239807, ewa inertia: 0.4160074709106279\n",
      "Minibatch step 86/128000: mean batch inertia: 0.36270493268966675, ewa inertia: 0.4151746251050346\n",
      "Minibatch step 87/128000: mean batch inertia: 0.3605898916721344, ewa inertia: 0.4143217451521032\n",
      "Minibatch step 88/128000: mean batch inertia: 0.36624574661254883, ewa inertia: 0.4135705634059846\n",
      "Minibatch step 89/128000: mean batch inertia: 0.3658076226711273, ewa inertia: 0.4128242731507452\n",
      "Minibatch step 90/128000: mean batch inertia: 0.3742089569568634, ewa inertia: 0.4122209134384851\n",
      "Minibatch step 91/128000: mean batch inertia: 0.3742573857307434, ewa inertia: 0.4116277378436223\n",
      "Minibatch step 92/128000: mean batch inertia: 0.3660246431827545, ewa inertia: 0.41091519492581724\n",
      "Minibatch step 93/128000: mean batch inertia: 0.3669917583465576, ewa inertia: 0.410228896465308\n",
      "Minibatch step 94/128000: mean batch inertia: 0.36806654930114746, ewa inertia: 0.4095701148169731\n",
      "Minibatch step 95/128000: mean batch inertia: 0.3656397759914398, ewa inertia: 0.4088837085096887\n",
      "Minibatch step 96/128000: mean batch inertia: 0.3781484067440033, ewa inertia: 0.40840347308350544\n",
      "Minibatch step 97/128000: mean batch inertia: 0.3698839843273163, ewa inertia: 0.4078016106635358\n",
      "Minibatch step 98/128000: mean batch inertia: 0.3772881031036377, ewa inertia: 0.40732484074537817\n",
      "Minibatch step 99/128000: mean batch inertia: 0.3676576614379883, ewa inertia: 0.4067050457973604\n",
      "Minibatch step 100/128000: mean batch inertia: 0.36143383383750916, ewa inertia: 0.4059976885071956\n",
      "Minibatch step 101/128000: mean batch inertia: 0.3685193657875061, ewa inertia: 0.40541209418243057\n",
      "Minibatch step 102/128000: mean batch inertia: 0.36640042066574097, ewa inertia: 0.4048025414342507\n",
      "Minibatch step 103/128000: mean batch inertia: 0.37192127108573914, ewa inertia: 0.4042887755047782\n",
      "Minibatch step 104/128000: mean batch inertia: 0.3689841330051422, ewa inertia: 0.40373714467433064\n",
      "Minibatch step 105/128000: mean batch inertia: 0.38151609897613525, ewa inertia: 0.4033899434842312\n",
      "Minibatch step 106/128000: mean batch inertia: 0.36373597383499146, ewa inertia: 0.40277035493554725\n",
      "Minibatch step 107/128000: mean batch inertia: 0.35783591866493225, ewa inertia: 0.40206825972538024\n",
      "Minibatch step 108/128000: mean batch inertia: 0.37556198239326477, ewa inertia: 0.4016541023018363\n",
      "Minibatch step 109/128000: mean batch inertia: 0.3550836145877838, ewa inertia: 0.4009264439828966\n",
      "Minibatch step 110/128000: mean batch inertia: 0.3623040020465851, ewa inertia: 0.4003229729317605\n",
      "Minibatch step 111/128000: mean batch inertia: 0.36431920528411865, ewa inertia: 0.39976041835421694\n",
      "Minibatch step 112/128000: mean batch inertia: 0.35807228088378906, ewa inertia: 0.3991090461758169\n",
      "Minibatch step 113/128000: mean batch inertia: 0.37043437361717224, ewa inertia: 0.3986610078353493\n",
      "Minibatch step 114/128000: mean batch inertia: 0.3627268970012665, ewa inertia: 0.3980995416372139\n",
      "Minibatch step 115/128000: mean batch inertia: 0.3773059546947479, ewa inertia: 0.3977746443200077\n",
      "Minibatch step 116/128000: mean batch inertia: 0.3674936294555664, ewa inertia: 0.3973015070725015\n",
      "Minibatch step 117/128000: mean batch inertia: 0.37386003136634827, ewa inertia: 0.39693523680901316\n",
      "Minibatch step 118/128000: mean batch inertia: 0.36646389961242676, ewa inertia: 0.3964591257977552\n",
      "Minibatch step 119/128000: mean batch inertia: 0.365527868270874, ewa inertia: 0.3959758285861628\n",
      "Minibatch step 120/128000: mean batch inertia: 0.3755663335323334, ewa inertia: 0.39565693265892954\n",
      "Minibatch step 121/128000: mean batch inertia: 0.37521111965179443, ewa inertia: 0.3953374692680053\n",
      "Minibatch step 122/128000: mean batch inertia: 0.3566175401210785, ewa inertia: 0.3947324749908246\n",
      "Minibatch step 123/128000: mean batch inertia: 0.36859896779060364, ewa inertia: 0.3943241420561542\n",
      "Minibatch step 124/128000: mean batch inertia: 0.36987343430519104, ewa inertia: 0.39394210266227464\n",
      "Minibatch step 125/128000: mean batch inertia: 0.36790457367897034, ewa inertia: 0.3935352693758022\n",
      "Minibatch step 126/128000: mean batch inertia: 0.36204254627227783, ewa inertia: 0.39304319933150617\n",
      "Minibatch step 127/128000: mean batch inertia: 0.3641112446784973, ewa inertia: 0.39259114098898434\n",
      "Minibatch step 128/128000: mean batch inertia: 0.3668908178806305, ewa inertia: 0.3921895765041102\n",
      "Minibatch step 129/128000: mean batch inertia: 0.36960968375205994, ewa inertia: 0.39183676837157183\n",
      "Minibatch step 130/128000: mean batch inertia: 0.35981786251068115, ewa inertia: 0.3913364767844173\n",
      "Minibatch step 131/128000: mean batch inertia: 0.3674328625202179, ewa inertia: 0.3909629856610503\n",
      "Minibatch step 132/128000: mean batch inertia: 0.3614063858985901, ewa inertia: 0.3905011673131562\n",
      "Minibatch step 133/128000: mean batch inertia: 0.354744553565979, ewa inertia: 0.38994247448584457\n",
      "Minibatch step 134/128000: mean batch inertia: 0.3822505474090576, ewa inertia: 0.38982228904221194\n",
      "Minibatch step 135/128000: mean batch inertia: 0.357221782207489, ewa inertia: 0.389312910009173\n",
      "Minibatch step 136/128000: mean batch inertia: 0.37158989906311035, ewa inertia: 0.3890359900758722\n",
      "Minibatch step 137/128000: mean batch inertia: 0.3685600459575653, ewa inertia: 0.38871605588992775\n",
      "Minibatch step 138/128000: mean batch inertia: 0.3628286123275757, ewa inertia: 0.38831156767026626\n",
      "Minibatch step 139/128000: mean batch inertia: 0.36090409755706787, ewa inertia: 0.3878833292169476\n",
      "Minibatch step 140/128000: mean batch inertia: 0.35460978746414185, ewa inertia: 0.38736343409354507\n",
      "Minibatch step 141/128000: mean batch inertia: 0.3610111474990845, ewa inertia: 0.38695168275692005\n",
      "Minibatch step 142/128000: mean batch inertia: 0.3569132089614868, ewa inertia: 0.3864823351847042\n",
      "Minibatch step 143/128000: mean batch inertia: 0.3575243651866913, ewa inertia: 0.38602987035551795\n",
      "Minibatch step 144/128000: mean batch inertia: 0.3595494329929352, ewa inertia: 0.38561611667841766\n",
      "Minibatch step 145/128000: mean batch inertia: 0.36904019117355347, ewa inertia: 0.3853571198183934\n",
      "Minibatch step 146/128000: mean batch inertia: 0.36377695202827454, ewa inertia: 0.3850199322692096\n",
      "Minibatch step 147/128000: mean batch inertia: 0.35421857237815857, ewa inertia: 0.3845386646926921\n",
      "Minibatch step 148/128000: mean batch inertia: 0.35224321484565735, ewa inertia: 0.38403405213872044\n",
      "Minibatch step 149/128000: mean batch inertia: 0.36523616313934326, ewa inertia: 0.38374033736397106\n",
      "Minibatch step 150/128000: mean batch inertia: 0.36133599281311035, ewa inertia: 0.38339027215114946\n",
      "Minibatch step 151/128000: mean batch inertia: 0.36596256494522095, ewa inertia: 0.3831179663035856\n",
      "Minibatch step 152/128000: mean batch inertia: 0.3520025908946991, ewa inertia: 0.3826317922720352\n",
      "Minibatch step 153/128000: mean batch inertia: 0.35664093494415283, ewa inertia: 0.382225688224615\n",
      "Minibatch step 154/128000: mean batch inertia: 0.35850274562835693, ewa inertia: 0.38185502007452204\n",
      "Minibatch step 155/128000: mean batch inertia: 0.3585370182991028, ewa inertia: 0.3814906790764823\n",
      "Minibatch step 156/128000: mean batch inertia: 0.3634564280509949, ewa inertia: 0.38120889605404296\n",
      "Minibatch step 157/128000: mean batch inertia: 0.37813717126846313, ewa inertia: 0.38116090072044356\n",
      "Minibatch step 158/128000: mean batch inertia: 0.369789719581604, ewa inertia: 0.3809832273706893\n",
      "Minibatch step 159/128000: mean batch inertia: 0.3757091462612152, ewa inertia: 0.38090082048206847\n",
      "Minibatch step 160/128000: mean batch inertia: 0.3635770380496979, ewa inertia: 0.38063013844670274\n",
      "Minibatch step 161/128000: mean batch inertia: 0.3676545321941376, ewa inertia: 0.38042739614580745\n",
      "Minibatch step 162/128000: mean batch inertia: 0.3748137354850769, ewa inertia: 0.38033968336717894\n",
      "Minibatch step 163/128000: mean batch inertia: 0.36587536334991455, ewa inertia: 0.3801136800911773\n",
      "Minibatch step 164/128000: mean batch inertia: 0.36390137672424316, ewa inertia: 0.3798603647837114\n",
      "Minibatch step 165/128000: mean batch inertia: 0.36752861738204956, ewa inertia: 0.3796676827006081\n",
      "Minibatch step 166/128000: mean batch inertia: 0.3631752133369446, ewa inertia: 0.37940998983284135\n",
      "Minibatch step 167/128000: mean batch inertia: 0.3682258725166321, ewa inertia: 0.3792352393330161\n",
      "Minibatch step 168/128000: mean batch inertia: 0.3661898970603943, ewa inertia: 0.37903140741512054\n",
      "Minibatch step 169/128000: mean batch inertia: 0.3629721999168396, ewa inertia: 0.378780484212352\n",
      "Minibatch step 170/128000: mean batch inertia: 0.3660137355327606, ewa inertia: 0.3785810052861368\n",
      "Minibatch step 171/128000: mean batch inertia: 0.37048062682151794, ewa inertia: 0.37845443783826016\n",
      "Minibatch step 172/128000: mean batch inertia: 0.3585771322250366, ewa inertia: 0.3781438573075949\n",
      "Minibatch step 173/128000: mean batch inertia: 0.3505833148956299, ewa inertia: 0.3777132271178556\n",
      "Minibatch step 174/128000: mean batch inertia: 0.3678697943687439, ewa inertia: 0.3775594246545704\n",
      "Minibatch step 175/128000: mean batch inertia: 0.36937618255615234, ewa inertia: 0.37743156247229365\n",
      "Minibatch step 176/128000: mean batch inertia: 0.35099905729293823, ewa inertia: 0.37701855772984233\n",
      "Minibatch step 177/128000: mean batch inertia: 0.3568343222141266, ewa inertia: 0.37670318145603926\n",
      "Minibatch step 178/128000: mean batch inertia: 0.3606518507003784, ewa inertia: 0.3764523813264352\n",
      "Minibatch step 179/128000: mean batch inertia: 0.3678371012210846, ewa inertia: 0.3763177686018027\n",
      "Minibatch step 180/128000: mean batch inertia: 0.3615299165248871, ewa inertia: 0.37608671017593676\n",
      "Minibatch step 181/128000: mean batch inertia: 0.3540189266204834, ewa inertia: 0.3757419036885475\n",
      "Minibatch step 182/128000: mean batch inertia: 0.3515547811985016, ewa inertia: 0.3753639827829482\n",
      "Minibatch step 183/128000: mean batch inertia: 0.3619431257247925, ewa inertia: 0.37515428349129315\n",
      "Minibatch step 184/128000: mean batch inertia: 0.3781023621559143, ewa inertia: 0.3752003468689922\n",
      "Minibatch step 185/128000: mean batch inertia: 0.37196803092956543, ewa inertia: 0.3751498423177578\n",
      "Minibatch step 186/128000: mean batch inertia: 0.3575661778450012, ewa inertia: 0.3748750996564911\n",
      "Minibatch step 187/128000: mean batch inertia: 0.35879945755004883, ewa inertia: 0.3746239196649292\n",
      "Minibatch step 188/128000: mean batch inertia: 0.35965245962142944, ewa inertia: 0.37438999238647297\n",
      "Minibatch step 189/128000: mean batch inertia: 0.37610071897506714, ewa inertia: 0.3744167222854868\n",
      "Minibatch step 190/128000: mean batch inertia: 0.35461366176605225, ewa inertia: 0.3741073018255614\n",
      "Minibatch step 191/128000: mean batch inertia: 0.3546789288520813, ewa inertia: 0.37380373581387566\n",
      "Minibatch step 192/128000: mean batch inertia: 0.3579912483692169, ewa inertia: 0.37355666758253386\n",
      "Minibatch step 193/128000: mean batch inertia: 0.3628038465976715, ewa inertia: 0.37338865603647176\n",
      "Minibatch step 194/128000: mean batch inertia: 0.3773799240589142, ewa inertia: 0.37345101912352985\n",
      "Minibatch step 195/128000: mean batch inertia: 0.36260074377059937, ewa inertia: 0.37328148486458407\n",
      "Minibatch step 196/128000: mean batch inertia: 0.36552855372428894, ewa inertia: 0.3731603462397313\n",
      "Minibatch step 197/128000: mean batch inertia: 0.35183829069137573, ewa inertia: 0.37282719166355593\n",
      "Minibatch step 198/128000: mean batch inertia: 0.3592524230480194, ewa inertia: 0.3726150875221644\n",
      "Minibatch step 199/128000: mean batch inertia: 0.35423028469085693, ewa inertia: 0.37232782716954776\n",
      "Minibatch step 200/128000: mean batch inertia: 0.36986374855041504, ewa inertia: 0.37228932623486266\n",
      "Minibatch step 201/128000: mean batch inertia: 0.3510475158691406, ewa inertia: 0.3719574254801001\n",
      "Minibatch step 202/128000: mean batch inertia: 0.3679603636264801, ewa inertia: 0.37189497186512055\n",
      "Minibatch step 203/128000: mean batch inertia: 0.36546817421913147, ewa inertia: 0.3717945539180301\n",
      "Minibatch step 204/128000: mean batch inertia: 0.35583457350730896, ewa inertia: 0.371545181126676\n",
      "Minibatch step 205/128000: mean batch inertia: 0.3569716215133667, ewa inertia: 0.3713174709950085\n",
      "Minibatch step 206/128000: mean batch inertia: 0.36287927627563477, ewa inertia: 0.3711856252084218\n",
      "Minibatch step 207/128000: mean batch inertia: 0.36182519793510437, ewa inertia: 0.37103936964811757\n",
      "Minibatch step 208/128000: mean batch inertia: 0.35905760526657104, ewa inertia: 0.37085215600798266\n",
      "Minibatch step 209/128000: mean batch inertia: 0.36936479806900024, ewa inertia: 0.3708289162174916\n",
      "Minibatch step 210/128000: mean batch inertia: 0.367506742477417, ewa inertia: 0.37077700764883387\n",
      "Minibatch step 211/128000: mean batch inertia: 0.35783588886260986, ewa inertia: 0.37057480421048894\n",
      "Minibatch step 212/128000: mean batch inertia: 0.3594875633716583, ewa inertia: 0.37040156739407426\n",
      "Minibatch step 213/128000: mean batch inertia: 0.3601299822330475, ewa inertia: 0.3702410751003922\n",
      "Minibatch step 214/128000: mean batch inertia: 0.3565853238105774, ewa inertia: 0.3700277056143688\n",
      "Minibatch step 215/128000: mean batch inertia: 0.3586832284927368, ewa inertia: 0.3698504495117001\n",
      "Minibatch step 216/128000: mean batch inertia: 0.35090184211730957, ewa inertia: 0.3695543797799955\n",
      "Minibatch step 217/128000: mean batch inertia: 0.3650699555873871, ewa inertia: 0.36948431118656694\n",
      "Minibatch step 218/128000: mean batch inertia: 0.35904639959335327, ewa inertia: 0.3693212200622095\n",
      "Minibatch step 219/128000: mean batch inertia: 0.3595673143863678, ewa inertia: 0.36916881644877175\n",
      "Minibatch step 220/128000: mean batch inertia: 0.3738735020160675, ewa inertia: 0.36924232659992284\n",
      "Minibatch step 221/128000: mean batch inertia: 0.36399543285369873, ewa inertia: 0.3691603445106118\n",
      "Minibatch step 222/128000: mean batch inertia: 0.3667948246002197, ewa inertia: 0.36912338354400176\n",
      "Minibatch step 223/128000: mean batch inertia: 0.35181063413619995, ewa inertia: 0.36885287389832966\n",
      "Minibatch step 224/128000: mean batch inertia: 0.35864683985710144, ewa inertia: 0.36869340583308025\n",
      "Minibatch step 225/128000: mean batch inertia: 0.34581565856933594, ewa inertia: 0.36833594375930345\n",
      "Minibatch step 226/128000: mean batch inertia: 0.364013135433197, ewa inertia: 0.368268400394523\n",
      "Minibatch step 227/128000: mean batch inertia: 0.3708905875682831, ewa inertia: 0.36830937175652634\n",
      "Minibatch step 228/128000: mean batch inertia: 0.3592262864112854, ewa inertia: 0.36816744963078685\n",
      "Minibatch step 229/128000: mean batch inertia: 0.3542880117893219, ewa inertia: 0.36795058506905925\n",
      "Minibatch step 230/128000: mean batch inertia: 0.35169124603271484, ewa inertia: 0.36769653483486586\n",
      "Minibatch step 231/128000: mean batch inertia: 0.3646151125431061, ewa inertia: 0.3676483879788885\n",
      "Minibatch step 232/128000: mean batch inertia: 0.36636337637901306, ewa inertia: 0.36762830982582456\n",
      "Minibatch step 233/128000: mean batch inertia: 0.3600596785545349, ewa inertia: 0.36751005086445493\n",
      "Minibatch step 234/128000: mean batch inertia: 0.3585939407348633, ewa inertia: 0.3673707377065551\n",
      "Minibatch step 235/128000: mean batch inertia: 0.3644777238368988, ewa inertia: 0.36732553470971324\n",
      "Minibatch step 236/128000: mean batch inertia: 0.3617995083332062, ewa inertia: 0.367239191206329\n",
      "Minibatch step 237/128000: mean batch inertia: 0.3673767149448395, ewa inertia: 0.36724133999834924\n",
      "Minibatch step 238/128000: mean batch inertia: 0.3521338403224945, ewa inertia: 0.36700528711685454\n",
      "Minibatch step 239/128000: mean batch inertia: 0.3489547073841095, ewa inertia: 0.3667232489603108\n",
      "Minibatch step 240/128000: mean batch inertia: 0.3578037619590759, ewa inertia: 0.3665838830391941\n",
      "Minibatch step 241/128000: mean batch inertia: 0.3587791919708252, ewa inertia: 0.3664619356716354\n",
      "Minibatch step 242/128000: mean batch inertia: 0.36599481105804443, ewa inertia: 0.36645463690523317\n",
      "Minibatch step 243/128000: mean batch inertia: 0.36119845509529114, ewa inertia: 0.36637250969103374\n",
      "Minibatch step 244/128000: mean batch inertia: 0.36955010890960693, ewa inertia: 0.36642215930002753\n",
      "Minibatch step 245/128000: mean batch inertia: 0.3628024458885193, ewa inertia: 0.36636560170947285\n",
      "Minibatch step 246/128000: mean batch inertia: 0.3514304757118225, ewa inertia: 0.36613224214615175\n",
      "Minibatch step 247/128000: mean batch inertia: 0.36336904764175415, ewa inertia: 0.36608906756141646\n",
      "Minibatch step 248/128000: mean batch inertia: 0.3627120852470398, ewa inertia: 0.36603630261531894\n",
      "Minibatch step 249/128000: mean batch inertia: 0.36449652910232544, ewa inertia: 0.36601224383773234\n",
      "Minibatch step 250/128000: mean batch inertia: 0.3592361807823181, ewa inertia: 0.365906368660255\n",
      "Minibatch step 251/128000: mean batch inertia: 0.36634930968284607, ewa inertia: 0.36591328956093067\n",
      "Minibatch step 252/128000: mean batch inertia: 0.364012748003006, ewa inertia: 0.36588359382564856\n",
      "Minibatch step 253/128000: mean batch inertia: 0.3442935645580292, ewa inertia: 0.36554625219205444\n",
      "Minibatch step 254/128000: mean batch inertia: 0.35987406969070435, ewa inertia: 0.36545762501664253\n",
      "Minibatch step 255/128000: mean batch inertia: 0.3523046672344208, ewa inertia: 0.3652521116192381\n",
      "Minibatch step 256/128000: mean batch inertia: 0.3568795621395111, ewa inertia: 0.3651212915316954\n",
      "Minibatch step 257/128000: mean batch inertia: 0.35781076550483704, ewa inertia: 0.3650070654340017\n",
      "Minibatch step 258/128000: mean batch inertia: 0.35630539059638977, ewa inertia: 0.3648711028019766\n",
      "Minibatch step 259/128000: mean batch inertia: 0.3665224611759186, ewa inertia: 0.3648969050797137\n",
      "Minibatch step 260/128000: mean batch inertia: 0.35842758417129517, ewa inertia: 0.3647958227117169\n",
      "Minibatch step 261/128000: mean batch inertia: 0.372761607170105, ewa inertia: 0.3649202871442909\n",
      "Minibatch step 262/128000: mean batch inertia: 0.3707372844219208, ewa inertia: 0.36501117703331903\n",
      "Minibatch step 263/128000: mean batch inertia: 0.3533201813697815, ewa inertia: 0.3648285066197409\n",
      "Minibatch step 264/128000: mean batch inertia: 0.35834410786628723, ewa inertia: 0.3647271886622129\n",
      "Minibatch step 265/128000: mean batch inertia: 0.3635362982749939, ewa inertia: 0.3647085811418767\n",
      "Minibatch step 266/128000: mean batch inertia: 0.3517988324165344, ewa inertia: 0.3645068678569935\n",
      "Minibatch step 267/128000: mean batch inertia: 0.34128543734550476, ewa inertia: 0.3641440357734406\n",
      "Minibatch step 268/128000: mean batch inertia: 0.36054727435112, ewa inertia: 0.36408783680498097\n",
      "Minibatch step 269/128000: mean batch inertia: 0.3512393534183502, ewa inertia: 0.3638870807837118\n",
      "Minibatch step 270/128000: mean batch inertia: 0.35806211829185486, ewa inertia: 0.36379606643916085\n",
      "Minibatch step 271/128000: mean batch inertia: 0.3644617795944214, ewa inertia: 0.36380646812785317\n",
      "Minibatch step 272/128000: mean batch inertia: 0.3561817705631256, ewa inertia: 0.36368733313733215\n",
      "Minibatch step 273/128000: mean batch inertia: 0.3513909578323364, ewa inertia: 0.36349520373902255\n",
      "Minibatch step 274/128000: mean batch inertia: 0.36224043369293213, ewa inertia: 0.3634755981066315\n",
      "Minibatch step 275/128000: mean batch inertia: 0.36988383531570435, ewa inertia: 0.36357572604910765\n",
      "Minibatch step 276/128000: mean batch inertia: 0.33972087502479553, ewa inertia: 0.3632029968455509\n",
      "Minibatch step 277/128000: mean batch inertia: 0.3631412982940674, ewa inertia: 0.363202032813039\n",
      "Minibatch step 278/128000: mean batch inertia: 0.3663935661315918, ewa inertia: 0.36325190014068387\n",
      "Minibatch step 279/128000: mean batch inertia: 0.36994436383247375, ewa inertia: 0.36335646908807034\n",
      "Minibatch step 280/128000: mean batch inertia: 0.3585400879383087, ewa inertia: 0.3632812137067583\n",
      "Minibatch step 281/128000: mean batch inertia: 0.3544619381427765, ewa inertia: 0.3631434135774026\n",
      "Minibatch step 282/128000: mean batch inertia: 0.3656623363494873, ewa inertia: 0.3631827714454397\n",
      "Minibatch step 283/128000: mean batch inertia: 0.35812050104141235, ewa inertia: 0.3631036740738418\n",
      "Minibatch step 284/128000: mean batch inertia: 0.3421255946159363, ewa inertia: 0.36277589408307487\n",
      "Minibatch step 285/128000: mean batch inertia: 0.36742639541625977, ewa inertia: 0.36284855761202717\n",
      "Minibatch step 286/128000: mean batch inertia: 0.3520970940589905, ewa inertia: 0.36268056727567555\n",
      "Minibatch step 287/128000: mean batch inertia: 0.36833953857421875, ewa inertia: 0.3627689880276185\n",
      "Minibatch step 288/128000: mean batch inertia: 0.3519371449947357, ewa inertia: 0.36259974177147614\n",
      "Minibatch step 289/128000: mean batch inertia: 0.3558238446712494, ewa inertia: 0.3624938691870288\n",
      "Minibatch step 290/128000: mean batch inertia: 0.3501634895801544, ewa inertia: 0.36230120847555597\n",
      "Minibatch step 291/128000: mean batch inertia: 0.35756099224090576, ewa inertia: 0.362227143161963\n",
      "Minibatch step 292/128000: mean batch inertia: 0.35015982389450073, ewa inertia: 0.3620385927369345\n",
      "Minibatch step 293/128000: mean batch inertia: 0.3621947765350342, ewa inertia: 0.3620410330901614\n",
      "Minibatch step 294/128000: mean batch inertia: 0.37048470973968506, ewa inertia: 0.3621729645312532\n",
      "Minibatch step 295/128000: mean batch inertia: 0.3538770079612732, ewa inertia: 0.36204334119879483\n",
      "Minibatch step 296/128000: mean batch inertia: 0.36366695165634155, ewa inertia: 0.36206870991864604\n",
      "Minibatch step 297/128000: mean batch inertia: 0.35741546750068665, ewa inertia: 0.36199600356057093\n",
      "Minibatch step 298/128000: mean batch inertia: 0.36815810203552246, ewa inertia: 0.3620922856146683\n",
      "Minibatch step 299/128000: mean batch inertia: 0.35812801122665405, ewa inertia: 0.3620303442999303\n",
      "Minibatch step 300/128000: mean batch inertia: 0.36776942014694214, ewa inertia: 0.3621200166758939\n",
      "Minibatch step 301/128000: mean batch inertia: 0.3547425866127014, ewa inertia: 0.362004745210608\n",
      "Minibatch step 302/128000: mean batch inertia: 0.3639467656612396, ewa inertia: 0.362035089048644\n",
      "Minibatch step 303/128000: mean batch inertia: 0.3569422960281372, ewa inertia: 0.3619555147648022\n",
      "Minibatch step 304/128000: mean batch inertia: 0.361062228679657, ewa inertia: 0.361941557276209\n",
      "Minibatch step 305/128000: mean batch inertia: 0.35752594470977783, ewa inertia: 0.36187256385623656\n",
      "Minibatch step 306/128000: mean batch inertia: 0.36852285265922546, ewa inertia: 0.3619764738260131\n",
      "Minibatch step 307/128000: mean batch inertia: 0.3646053373813629, ewa inertia: 0.3620175495056829\n",
      "Minibatch step 308/128000: mean batch inertia: 0.3594021201133728, ewa inertia: 0.3619766837332091\n",
      "Minibatch step 309/128000: mean batch inertia: 0.36511683464050293, ewa inertia: 0.3620257482168033\n",
      "Minibatch step 310/128000: mean batch inertia: 0.36351799964904785, ewa inertia: 0.36204906446754326\n",
      "Minibatch step 311/128000: mean batch inertia: 0.3680800199508667, ewa inertia: 0.36214329742802975\n",
      "Minibatch step 312/128000: mean batch inertia: 0.3552723526954651, ewa inertia: 0.3620359397356576\n",
      "Minibatch step 313/128000: mean batch inertia: 0.36125126481056213, ewa inertia: 0.3620236792834928\n",
      "Minibatch step 314/128000: mean batch inertia: 0.36590149998664856, ewa inertia: 0.3620842697697109\n",
      "Minibatch step 315/128000: mean batch inertia: 0.36407649517059326, ewa inertia: 0.36211539805410975\n",
      "Converged (lack of improvement in inertia) at step 315/128000\n",
      "Min cluster size: 21\n",
      "Max cluster size: 1251\n",
      "Mean cluster size: 256.0\n",
      "[139 450 403  38 332 292 262  56 506 365]\n",
      "[117 302 300 668 112 981 313 173 530 293]\n",
      "[283 208 291  64 181   5  67 279  38 478]\n",
      "Using 265 clusters to make up 75.0% of the data, 98405 samples\n",
      "Init 1/10 with method random\n",
      "Inertia for init 1/10: 5994.24462890625\n",
      "Init 2/10 with method random\n",
      "Inertia for init 2/10: 5940.14306640625\n",
      "Init 3/10 with method random\n",
      "Inertia for init 3/10: 5980.1650390625\n",
      "Init 4/10 with method random\n",
      "Inertia for init 4/10: 5992.22509765625\n",
      "Init 5/10 with method random\n",
      "Inertia for init 5/10: 5940.93212890625\n",
      "Init 6/10 with method random\n",
      "Inertia for init 6/10: 5953.45654296875\n",
      "Init 7/10 with method random\n",
      "Inertia for init 7/10: 5958.6259765625\n",
      "Init 8/10 with method random\n",
      "Inertia for init 8/10: 5971.0322265625\n",
      "Init 9/10 with method random\n",
      "Inertia for init 9/10: 6011.61181640625\n",
      "Init 10/10 with method random\n",
      "Inertia for init 10/10: 5966.9140625\n",
      "[MiniBatchKMeans] Reassigning 512 cluster centers.\n",
      "Minibatch step 1/96098: mean batch inertia: 0.23989413678646088\n",
      "[MiniBatchKMeans] Reassigning 512 cluster centers.\n",
      "Minibatch step 2/96098: mean batch inertia: 0.24635431170463562, ewa inertia: 0.24635431170463562\n",
      "[MiniBatchKMeans] Reassigning 512 cluster centers.\n",
      "Minibatch step 3/96098: mean batch inertia: 0.2512977421283722, ewa inertia: 0.2464571930889802\n",
      "[MiniBatchKMeans] Reassigning 512 cluster centers.\n",
      "Minibatch step 4/96098: mean batch inertia: 0.2414676547050476, ewa inertia: 0.24635335211779658\n",
      "[MiniBatchKMeans] Reassigning 512 cluster centers.\n",
      "Minibatch step 5/96098: mean batch inertia: 0.23692350089550018, ewa inertia: 0.24615710051420264\n",
      "[MiniBatchKMeans] Reassigning 512 cluster centers.\n",
      "Minibatch step 6/96098: mean batch inertia: 0.22373922169208527, ewa inertia: 0.2456905454684971\n",
      "[MiniBatchKMeans] Reassigning 512 cluster centers.\n",
      "Minibatch step 7/96098: mean batch inertia: 0.23324556648731232, ewa inertia: 0.24543154381256693\n",
      "[MiniBatchKMeans] Reassigning 512 cluster centers.\n",
      "Minibatch step 8/96098: mean batch inertia: 0.2174552083015442, ewa inertia: 0.2448493076163332\n",
      "[MiniBatchKMeans] Reassigning 512 cluster centers.\n",
      "Minibatch step 9/96098: mean batch inertia: 0.21757830679416656, ewa inertia: 0.24428175066163738\n",
      "[MiniBatchKMeans] Reassigning 512 cluster centers.\n",
      "Minibatch step 10/96098: mean batch inertia: 0.2116280198097229, ewa inertia: 0.24360216973380044\n",
      "[MiniBatchKMeans] Reassigning 512 cluster centers.\n",
      "Minibatch step 11/96098: mean batch inertia: 0.2063358724117279, ewa inertia: 0.24282659327590556\n",
      "[MiniBatchKMeans] Reassigning 512 cluster centers.\n",
      "Minibatch step 12/96098: mean batch inertia: 0.1955578327178955, ewa inertia: 0.24184284816257096\n",
      "[MiniBatchKMeans] Reassigning 512 cluster centers.\n",
      "Minibatch step 13/96098: mean batch inertia: 0.21065446734428406, ewa inertia: 0.2411937637173557\n",
      "[MiniBatchKMeans] Reassigning 512 cluster centers.\n",
      "Minibatch step 14/96098: mean batch inertia: 0.19950957596302032, ewa inertia: 0.24032624327631674\n",
      "[MiniBatchKMeans] Reassigning 512 cluster centers.\n",
      "Minibatch step 15/96098: mean batch inertia: 0.18914353847503662, ewa inertia: 0.23926104217645472\n",
      "[MiniBatchKMeans] Reassigning 512 cluster centers.\n",
      "Minibatch step 16/96098: mean batch inertia: 0.21221643686294556, ewa inertia: 0.2386981969060234\n",
      "[MiniBatchKMeans] Reassigning 512 cluster centers.\n",
      "Minibatch step 17/96098: mean batch inertia: 0.20765550434589386, ewa inertia: 0.23805214448683\n",
      "[MiniBatchKMeans] Reassigning 512 cluster centers.\n",
      "Minibatch step 18/96098: mean batch inertia: 0.18454410135746002, ewa inertia: 0.2369385490523143\n",
      "[MiniBatchKMeans] Reassigning 512 cluster centers.\n",
      "Minibatch step 19/96098: mean batch inertia: 0.19538342952728271, ewa inertia: 0.2360737147455925\n",
      "[MiniBatchKMeans] Reassigning 512 cluster centers.\n",
      "Minibatch step 20/96098: mean batch inertia: 0.1985383927822113, ewa inertia: 0.2352925394170454\n",
      "[MiniBatchKMeans] Reassigning 512 cluster centers.\n",
      "Minibatch step 21/96098: mean batch inertia: 0.19906534254550934, ewa inertia: 0.2345385884466482\n",
      "[MiniBatchKMeans] Reassigning 512 cluster centers.\n",
      "Minibatch step 22/96098: mean batch inertia: 0.1881272792816162, ewa inertia: 0.23357268838801373\n",
      "[MiniBatchKMeans] Reassigning 512 cluster centers.\n",
      "Minibatch step 23/96098: mean batch inertia: 0.1817050725221634, ewa inertia: 0.23249323309775438\n",
      "[MiniBatchKMeans] Reassigning 512 cluster centers.\n",
      "Minibatch step 24/96098: mean batch inertia: 0.1802593320608139, ewa inertia: 0.23140615477607018\n",
      "[MiniBatchKMeans] Reassigning 512 cluster centers.\n",
      "Minibatch step 25/96098: mean batch inertia: 0.17231439054012299, ewa inertia: 0.23017635239455664\n",
      "[MiniBatchKMeans] Reassigning 512 cluster centers.\n",
      "Minibatch step 26/96098: mean batch inertia: 0.18147212266921997, ewa inertia: 0.22916273267139453\n",
      "[MiniBatchKMeans] Reassigning 512 cluster centers.\n",
      "Minibatch step 27/96098: mean batch inertia: 0.1847033053636551, ewa inertia: 0.22823745466877018\n",
      "[MiniBatchKMeans] Reassigning 512 cluster centers.\n",
      "Minibatch step 28/96098: mean batch inertia: 0.17949780821800232, ewa inertia: 0.22722309786195788\n",
      "[MiniBatchKMeans] Reassigning 512 cluster centers.\n",
      "Minibatch step 29/96098: mean batch inertia: 0.18418504297733307, ewa inertia: 0.22632740109139804\n",
      "[MiniBatchKMeans] Reassigning 512 cluster centers.\n",
      "Minibatch step 30/96098: mean batch inertia: 0.17519965767860413, ewa inertia: 0.22526334383361496\n",
      "[MiniBatchKMeans] Reassigning 512 cluster centers.\n",
      "Minibatch step 31/96098: mean batch inertia: 0.1785261034965515, ewa inertia: 0.22429066058045655\n",
      "[MiniBatchKMeans] Reassigning 512 cluster centers.\n",
      "Minibatch step 32/96098: mean batch inertia: 0.17766259610652924, ewa inertia: 0.22332024946688012\n",
      "[MiniBatchKMeans] Reassigning 512 cluster centers.\n",
      "Minibatch step 33/96098: mean batch inertia: 0.1811339408159256, ewa inertia: 0.22244227901673322\n",
      "[MiniBatchKMeans] Reassigning 512 cluster centers.\n",
      "Minibatch step 34/96098: mean batch inertia: 0.17044992744922638, ewa inertia: 0.22136022775959183\n",
      "[MiniBatchKMeans] Reassigning 512 cluster centers.\n",
      "Minibatch step 35/96098: mean batch inertia: 0.17996013164520264, ewa inertia: 0.22049861975965004\n",
      "[MiniBatchKMeans] Reassigning 512 cluster centers.\n",
      "Minibatch step 36/96098: mean batch inertia: 0.17669834196567535, ewa inertia: 0.2195870598047483\n",
      "[MiniBatchKMeans] Reassigning 512 cluster centers.\n",
      "Minibatch step 37/96098: mean batch inertia: 0.17806148529052734, ewa inertia: 0.21872284038108383\n",
      "[MiniBatchKMeans] Reassigning 512 cluster centers.\n",
      "Minibatch step 38/96098: mean batch inertia: 0.1584704965353012, ewa inertia: 0.21746888431950057\n",
      "[MiniBatchKMeans] Reassigning 512 cluster centers.\n",
      "Minibatch step 39/96098: mean batch inertia: 0.17223389446735382, ewa inertia: 0.21652746551152954\n",
      "[MiniBatchKMeans] Reassigning 512 cluster centers.\n",
      "Minibatch step 40/96098: mean batch inertia: 0.16586260497570038, ewa inertia: 0.2154730416514257\n",
      "[MiniBatchKMeans] Reassigning 512 cluster centers.\n",
      "Minibatch step 41/96098: mean batch inertia: 0.16634933650493622, ewa inertia: 0.21445069191523064\n",
      "[MiniBatchKMeans] Reassigning 512 cluster centers.\n",
      "Minibatch step 42/96098: mean batch inertia: 0.16483496129512787, ewa inertia: 0.21341810227323757\n",
      "[MiniBatchKMeans] Reassigning 512 cluster centers.\n",
      "Minibatch step 43/96098: mean batch inertia: 0.16330866515636444, ewa inertia: 0.21237523774043107\n",
      "[MiniBatchKMeans] Reassigning 512 cluster centers.\n",
      "Minibatch step 44/96098: mean batch inertia: 0.16454438865184784, ewa inertia: 0.21137979458723494\n",
      "[MiniBatchKMeans] Reassigning 512 cluster centers.\n",
      "Minibatch step 45/96098: mean batch inertia: 0.15919968485832214, ewa inertia: 0.21029383575622043\n",
      "[MiniBatchKMeans] Reassigning 512 cluster centers.\n",
      "Minibatch step 46/96098: mean batch inertia: 0.16365966200828552, ewa inertia: 0.2093232974980271\n",
      "[MiniBatchKMeans] Reassigning 512 cluster centers.\n",
      "Minibatch step 47/96098: mean batch inertia: 0.15671375393867493, ewa inertia: 0.2082284014021635\n",
      "[MiniBatchKMeans] Reassigning 512 cluster centers.\n",
      "Minibatch step 48/96098: mean batch inertia: 0.17025436460971832, ewa inertia: 0.20743809565504517\n",
      "[MiniBatchKMeans] Reassigning 512 cluster centers.\n",
      "Minibatch step 49/96098: mean batch inertia: 0.1697711944580078, ewa inertia: 0.2066541819338134\n",
      "[MiniBatchKMeans] Reassigning 512 cluster centers.\n",
      "Minibatch step 50/96098: mean batch inertia: 0.15946494042873383, ewa inertia: 0.20567209175026357\n",
      "[MiniBatchKMeans] Reassigning 512 cluster centers.\n",
      "Minibatch step 51/96098: mean batch inertia: 0.16784945130348206, ewa inertia: 0.20488493682439513\n",
      "[MiniBatchKMeans] Reassigning 512 cluster centers.\n",
      "Minibatch step 52/96098: mean batch inertia: 0.16213105618953705, ewa inertia: 0.2039951542141865\n",
      "[MiniBatchKMeans] Reassigning 512 cluster centers.\n",
      "Minibatch step 53/96098: mean batch inertia: 0.16539227962493896, ewa inertia: 0.20319176125889132\n",
      "[MiniBatchKMeans] Reassigning 512 cluster centers.\n",
      "Minibatch step 54/96098: mean batch inertia: 0.16284087300300598, ewa inertia: 0.2023519890991851\n",
      "[MiniBatchKMeans] Reassigning 512 cluster centers.\n",
      "Minibatch step 55/96098: mean batch inertia: 0.16359290480613708, ewa inertia: 0.20154534514828612\n",
      "[MiniBatchKMeans] Reassigning 512 cluster centers.\n",
      "Minibatch step 56/96098: mean batch inertia: 0.15816831588745117, ewa inertia: 0.2006425937314397\n",
      "[MiniBatchKMeans] Reassigning 512 cluster centers.\n",
      "Minibatch step 57/96098: mean batch inertia: 0.16354405879974365, ewa inertia: 0.19987050870064774\n",
      "[MiniBatchKMeans] Reassigning 512 cluster centers.\n",
      "Minibatch step 58/96098: mean batch inertia: 0.15990424156188965, ewa inertia: 0.1990387411752918\n",
      "[MiniBatchKMeans] Reassigning 512 cluster centers.\n",
      "Minibatch step 59/96098: mean batch inertia: 0.1764901727437973, ewa inertia: 0.19856946625153005\n",
      "[MiniBatchKMeans] Reassigning 512 cluster centers.\n",
      "Minibatch step 60/96098: mean batch inertia: 0.16496314108371735, ewa inertia: 0.19787006017930195\n",
      "[MiniBatchKMeans] Reassigning 512 cluster centers.\n",
      "Minibatch step 61/96098: mean batch inertia: 0.1609099954366684, ewa inertia: 0.19710085695396087\n",
      "[MiniBatchKMeans] Reassigning 512 cluster centers.\n",
      "Minibatch step 62/96098: mean batch inertia: 0.1634034961462021, ewa inertia: 0.1963995562717434\n",
      "[MiniBatchKMeans] Reassigning 512 cluster centers.\n",
      "Minibatch step 63/96098: mean batch inertia: 0.15870720148086548, ewa inertia: 0.19561511281695693\n",
      "[MiniBatchKMeans] Reassigning 512 cluster centers.\n",
      "Minibatch step 64/96098: mean batch inertia: 0.15326307713985443, ewa inertia: 0.19473369329917645\n",
      "[MiniBatchKMeans] Reassigning 512 cluster centers.\n",
      "Minibatch step 65/96098: mean batch inertia: 0.157754585146904, ewa inertia: 0.19396409374736198\n",
      "[MiniBatchKMeans] Reassigning 512 cluster centers.\n",
      "Minibatch step 66/96098: mean batch inertia: 0.1560090035200119, ewa inertia: 0.19317418231121364\n",
      "Minibatch step 67/96098: mean batch inertia: 0.16148965060710907, ewa inertia: 0.1925147721031978\n",
      "Minibatch step 68/96098: mean batch inertia: 0.16000351309776306, ewa inertia: 0.191838156262262\n",
      "Minibatch step 69/96098: mean batch inertia: 0.15394549071788788, ewa inertia: 0.1910495439923305\n",
      "Minibatch step 70/96098: mean batch inertia: 0.16493289172649384, ewa inertia: 0.19050601103864442\n",
      "Minibatch step 71/96098: mean batch inertia: 0.15681570768356323, ewa inertia: 0.18980485723429097\n",
      "Minibatch step 72/96098: mean batch inertia: 0.1615302562713623, ewa inertia: 0.1892164136152832\n",
      "Minibatch step 73/96098: mean batch inertia: 0.15970858931541443, ewa inertia: 0.18860230447390838\n",
      "Minibatch step 74/96098: mean batch inertia: 0.1570323407649994, ewa inertia: 0.18794527862512023\n",
      "Minibatch step 75/96098: mean batch inertia: 0.1594167947769165, ewa inertia: 0.1873515512617367\n",
      "Minibatch step 76/96098: mean batch inertia: 0.15776965022087097, ewa inertia: 0.18673590045455327\n",
      "Minibatch step 77/96098: mean batch inertia: 0.1558208018541336, ewa inertia: 0.18609250348756284\n",
      "Minibatch step 78/96098: mean batch inertia: 0.1572665274143219, ewa inertia: 0.18549258479360112\n",
      "Minibatch step 79/96098: mean batch inertia: 0.16074103116989136, ewa inertia: 0.1849774619167302\n",
      "Minibatch step 80/96098: mean batch inertia: 0.1567733883857727, ewa inertia: 0.18439048609623754\n",
      "Minibatch step 81/96098: mean batch inertia: 0.1543412208557129, ewa inertia: 0.183765108627256\n",
      "Minibatch step 82/96098: mean batch inertia: 0.15526050329208374, ewa inertia: 0.18317187821725628\n",
      "Minibatch step 83/96098: mean batch inertia: 0.15536698698997498, ewa inertia: 0.18259321007472967\n",
      "Minibatch step 84/96098: mean batch inertia: 0.17055533826351166, ewa inertia: 0.18234268102701537\n",
      "Minibatch step 85/96098: mean batch inertia: 0.1506441980600357, ewa inertia: 0.18168298046895615\n",
      "Minibatch step 86/96098: mean batch inertia: 0.16481611132621765, ewa inertia: 0.18133195158855936\n",
      "Minibatch step 87/96098: mean batch inertia: 0.1588650345802307, ewa inertia: 0.18086437597291544\n",
      "Minibatch step 88/96098: mean batch inertia: 0.15447746217250824, ewa inertia: 0.18031521840667727\n",
      "Minibatch step 89/96098: mean batch inertia: 0.1668408215045929, ewa inertia: 0.1800347927735302\n",
      "Minibatch step 90/96098: mean batch inertia: 0.15431328117847443, ewa inertia: 0.17949948338440075\n",
      "Minibatch step 91/96098: mean batch inertia: 0.1513858586549759, ewa inertia: 0.17891438996076944\n",
      "Minibatch step 92/96098: mean batch inertia: 0.16054241359233856, ewa inertia: 0.17853203718144148\n",
      "Minibatch step 93/96098: mean batch inertia: 0.15237732231616974, ewa inertia: 0.17798771207886566\n",
      "Minibatch step 94/96098: mean batch inertia: 0.15668196976184845, ewa inertia: 0.1775443025279719\n",
      "Minibatch step 95/96098: mean batch inertia: 0.15180280804634094, ewa inertia: 0.17700857726022012\n",
      "Minibatch step 96/96098: mean batch inertia: 0.15535633265972137, ewa inertia: 0.1765579563941975\n",
      "Minibatch step 97/96098: mean batch inertia: 0.15977711975574493, ewa inertia: 0.17620871799983587\n",
      "Minibatch step 98/96098: mean batch inertia: 0.15365052223205566, ewa inertia: 0.1757392427144629\n",
      "Minibatch step 99/96098: mean batch inertia: 0.16239099204540253, ewa inertia: 0.1754614424038087\n",
      "Minibatch step 100/96098: mean batch inertia: 0.15864187479019165, ewa inertia: 0.17511139795049602\n",
      "Minibatch step 101/96098: mean batch inertia: 0.1570698767900467, ewa inertia: 0.17473592251874795\n",
      "Minibatch step 102/96098: mean batch inertia: 0.16514930129051208, ewa inertia: 0.17453640825868835\n",
      "Minibatch step 103/96098: mean batch inertia: 0.1521226167678833, ewa inertia: 0.17406993827745582\n",
      "Minibatch step 104/96098: mean batch inertia: 0.1622985303401947, ewa inertia: 0.1738249548063716\n",
      "Minibatch step 105/96098: mean batch inertia: 0.1601865589618683, ewa inertia: 0.1735411160700187\n",
      "Minibatch step 106/96098: mean batch inertia: 0.15493175387382507, ewa inertia: 0.1731538228787722\n",
      "Minibatch step 107/96098: mean batch inertia: 0.1527690887451172, ewa inertia: 0.17272958110991943\n",
      "Minibatch step 108/96098: mean batch inertia: 0.1597636193037033, ewa inertia: 0.17245973689534785\n",
      "Minibatch step 109/96098: mean batch inertia: 0.15776890516281128, ewa inertia: 0.172153995137851\n",
      "Minibatch step 110/96098: mean batch inertia: 0.1493256688117981, ewa inertia: 0.1716788979657705\n",
      "Minibatch step 111/96098: mean batch inertia: 0.15576694905757904, ewa inertia: 0.17134774263617703\n",
      "Minibatch step 112/96098: mean batch inertia: 0.1562097817659378, ewa inertia: 0.17103269534371265\n",
      "Minibatch step 113/96098: mean batch inertia: 0.1480863094329834, ewa inertia: 0.17055514114635506\n",
      "Minibatch step 114/96098: mean batch inertia: 0.15294045209884644, ewa inertia: 0.17018854883319023\n",
      "Minibatch step 115/96098: mean batch inertia: 0.15837998688220978, ewa inertia: 0.16994279212246519\n",
      "Minibatch step 116/96098: mean batch inertia: 0.1562785655260086, ewa inertia: 0.1696584158032413\n",
      "Minibatch step 117/96098: mean batch inertia: 0.15703170001506805, ewa inertia: 0.1693956318882953\n",
      "Minibatch step 118/96098: mean batch inertia: 0.15676099061965942, ewa inertia: 0.16913268303031745\n",
      "Minibatch step 119/96098: mean batch inertia: 0.14674699306488037, ewa inertia: 0.16866679789069977\n",
      "Minibatch step 120/96098: mean batch inertia: 0.152505561709404, ewa inertia: 0.1683304544594121\n",
      "Minibatch step 121/96098: mean batch inertia: 0.14462211728096008, ewa inertia: 0.16783704273104727\n",
      "Minibatch step 122/96098: mean batch inertia: 0.14846894145011902, ewa inertia: 0.1674339588599079\n",
      "Minibatch step 123/96098: mean batch inertia: 0.14637188613414764, ewa inertia: 0.16699562049697925\n",
      "Minibatch step 124/96098: mean batch inertia: 0.14459018409252167, ewa inertia: 0.16652932439962412\n",
      "Minibatch step 125/96098: mean batch inertia: 0.14440642297267914, ewa inertia: 0.1660689083465137\n",
      "Minibatch step 126/96098: mean batch inertia: 0.1435587853193283, ewa inertia: 0.16560043353847684\n",
      "Minibatch step 127/96098: mean batch inertia: 0.15247024595737457, ewa inertia: 0.1653271714999213\n",
      "Minibatch step 128/96098: mean batch inertia: 0.15288317203521729, ewa inertia: 0.1650681902294326\n",
      "Minibatch step 129/96098: mean batch inertia: 0.1464248150587082, ewa inertia: 0.16468018916903338\n",
      "Minibatch step 130/96098: mean batch inertia: 0.14314952492713928, ewa inertia: 0.16423209860171634\n",
      "Minibatch step 131/96098: mean batch inertia: 0.15382008254528046, ewa inertia: 0.1640154064398199\n",
      "Minibatch step 132/96098: mean batch inertia: 0.14838482439517975, ewa inertia: 0.16369010684398813\n",
      "Minibatch step 133/96098: mean batch inertia: 0.14269602298736572, ewa inertia: 0.16325318344766715\n",
      "Minibatch step 134/96098: mean batch inertia: 0.15180668234825134, ewa inertia: 0.16301496185293102\n",
      "Minibatch step 135/96098: mean batch inertia: 0.1491834819316864, ewa inertia: 0.16272710470114446\n",
      "Minibatch step 136/96098: mean batch inertia: 0.14773401618003845, ewa inertia: 0.16241507245421619\n",
      "Minibatch step 137/96098: mean batch inertia: 0.14346742630004883, ewa inertia: 0.1620207389854873\n",
      "Minibatch step 138/96098: mean batch inertia: 0.1472807079553604, ewa inertia: 0.16171397330504406\n",
      "Minibatch step 139/96098: mean batch inertia: 0.1491807997226715, ewa inertia: 0.161453136166082\n",
      "Minibatch step 140/96098: mean batch inertia: 0.15191636979579926, ewa inertia: 0.16125465947232004\n",
      "Minibatch step 141/96098: mean batch inertia: 0.14970748126506805, ewa inertia: 0.1610143426118801\n",
      "Minibatch step 142/96098: mean batch inertia: 0.1473120152950287, ewa inertia: 0.16072917335040304\n",
      "Minibatch step 143/96098: mean batch inertia: 0.15276479721069336, ewa inertia: 0.16056342083191713\n",
      "Minibatch step 144/96098: mean batch inertia: 0.14201030135154724, ewa inertia: 0.16017729814939982\n",
      "Minibatch step 145/96098: mean batch inertia: 0.1488412767648697, ewa inertia: 0.1599413758296681\n",
      "[MiniBatchKMeans] Reassigning 512 cluster centers.\n",
      "Minibatch step 146/96098: mean batch inertia: 0.15402449667453766, ewa inertia: 0.15981823528427752\n",
      "Minibatch step 147/96098: mean batch inertia: 0.1523977518081665, ewa inertia: 0.15966380211801656\n",
      "Minibatch step 148/96098: mean batch inertia: 0.153506338596344, ewa inertia: 0.15953565459355276\n",
      "Minibatch step 149/96098: mean batch inertia: 0.14524224400520325, ewa inertia: 0.15923818386123012\n",
      "Minibatch step 150/96098: mean batch inertia: 0.14329645037651062, ewa inertia: 0.1589064086628001\n",
      "Minibatch step 151/96098: mean batch inertia: 0.1523216962814331, ewa inertia: 0.15876936934652833\n",
      "Minibatch step 152/96098: mean batch inertia: 0.1518978476524353, ewa inertia: 0.15862636102966246\n",
      "Minibatch step 153/96098: mean batch inertia: 0.14511972665786743, ewa inertia: 0.15834526447870587\n",
      "Minibatch step 154/96098: mean batch inertia: 0.14657333493232727, ewa inertia: 0.15810027015202882\n",
      "Minibatch step 155/96098: mean batch inertia: 0.15203909575939178, ewa inertia: 0.15797412657179877\n",
      "Minibatch step 156/96098: mean batch inertia: 0.15041808784008026, ewa inertia: 0.15781687226492153\n",
      "Minibatch step 157/96098: mean batch inertia: 0.14723461866378784, ewa inertia: 0.15759663716365613\n",
      "Minibatch step 158/96098: mean batch inertia: 0.14855922758579254, ewa inertia: 0.1574085529531866\n",
      "Minibatch step 159/96098: mean batch inertia: 0.14818844199180603, ewa inertia: 0.15721666640918613\n",
      "Minibatch step 160/96098: mean batch inertia: 0.1521085649728775, ewa inertia: 0.15711035793468703\n",
      "Minibatch step 161/96098: mean batch inertia: 0.1582261472940445, ewa inertia: 0.15713357945174863\n",
      "Minibatch step 162/96098: mean batch inertia: 0.1492062211036682, ewa inertia: 0.15696859733788496\n",
      "Minibatch step 163/96098: mean batch inertia: 0.14532287418842316, ewa inertia: 0.156726229585816\n",
      "Minibatch step 164/96098: mean batch inertia: 0.15144172310829163, ewa inertia: 0.15661624981561936\n",
      "Minibatch step 165/96098: mean batch inertia: 0.15825293958187103, ewa inertia: 0.15665031217605757\n",
      "Minibatch step 166/96098: mean batch inertia: 0.14856365323066711, ewa inertia: 0.15648201473972076\n",
      "Minibatch step 167/96098: mean batch inertia: 0.14958316087722778, ewa inertia: 0.1563384375928965\n",
      "Minibatch step 168/96098: mean batch inertia: 0.1454489678144455, ewa inertia: 0.15611180878869485\n",
      "Minibatch step 169/96098: mean batch inertia: 0.14406822621822357, ewa inertia: 0.1558611608901488\n",
      "Minibatch step 170/96098: mean batch inertia: 0.15016800165176392, ewa inertia: 0.15574267634530178\n",
      "Minibatch step 171/96098: mean batch inertia: 0.1418217569589615, ewa inertia: 0.15545295780270046\n",
      "Minibatch step 172/96098: mean batch inertia: 0.14863598346710205, ewa inertia: 0.15531108471122937\n",
      "Minibatch step 173/96098: mean batch inertia: 0.14796140789985657, ewa inertia: 0.155158125154803\n",
      "Minibatch step 174/96098: mean batch inertia: 0.1530582457780838, ewa inertia: 0.1551144230130279\n",
      "Minibatch step 175/96098: mean batch inertia: 0.14294098317623138, ewa inertia: 0.15486107255893203\n",
      "Minibatch step 176/96098: mean batch inertia: 0.14792053401470184, ewa inertia: 0.1547166278813861\n",
      "Minibatch step 177/96098: mean batch inertia: 0.14597901701927185, ewa inertia: 0.15453478300357773\n",
      "Minibatch step 178/96098: mean batch inertia: 0.1423742026090622, ewa inertia: 0.15428170017683984\n",
      "Minibatch step 179/96098: mean batch inertia: 0.14367376267910004, ewa inertia: 0.15406093054901865\n",
      "Minibatch step 180/96098: mean batch inertia: 0.15138573944568634, ewa inertia: 0.15400525516967567\n",
      "Minibatch step 181/96098: mean batch inertia: 0.14360275864601135, ewa inertia: 0.15378876112581183\n",
      "Minibatch step 182/96098: mean batch inertia: 0.14150172472000122, ewa inertia: 0.15353304652955652\n",
      "Minibatch step 183/96098: mean batch inertia: 0.1438901573419571, ewa inertia: 0.15333236123540572\n",
      "Minibatch step 184/96098: mean batch inertia: 0.15111924707889557, ewa inertia: 0.1532863024809341\n",
      "Minibatch step 185/96098: mean batch inertia: 0.15000492334365845, ewa inertia: 0.15321801127437007\n",
      "Minibatch step 186/96098: mean batch inertia: 0.1517767757177353, ewa inertia: 0.1531880166559526\n",
      "Minibatch step 187/96098: mean batch inertia: 0.14689232409000397, ewa inertia: 0.1530569923446803\n",
      "Minibatch step 188/96098: mean batch inertia: 0.14976289868354797, ewa inertia: 0.1529884365267627\n",
      "Minibatch step 189/96098: mean batch inertia: 0.1476166844367981, ewa inertia: 0.15287664102364043\n",
      "Minibatch step 190/96098: mean batch inertia: 0.1475123018026352, ewa inertia: 0.1527649997952131\n",
      "Minibatch step 191/96098: mean batch inertia: 0.1499072164297104, ewa inertia: 0.15270552435334422\n",
      "Minibatch step 192/96098: mean batch inertia: 0.14374487102031708, ewa inertia: 0.15251903757381818\n",
      "Minibatch step 193/96098: mean batch inertia: 0.14620019495487213, ewa inertia: 0.15238753146968226\n",
      "Minibatch step 194/96098: mean batch inertia: 0.14956682920455933, ewa inertia: 0.1523288277500008\n",
      "Minibatch step 195/96098: mean batch inertia: 0.14330723881721497, ewa inertia: 0.15214107279466937\n",
      "Minibatch step 196/96098: mean batch inertia: 0.14975975453853607, ewa inertia: 0.1520915134203572\n",
      "Minibatch step 197/96098: mean batch inertia: 0.150800421833992, ewa inertia: 0.15206464355907967\n",
      "Minibatch step 198/96098: mean batch inertia: 0.14782515168190002, ewa inertia: 0.15197641236012366\n",
      "Minibatch step 199/96098: mean batch inertia: 0.1484227031469345, ewa inertia: 0.15190245349106474\n",
      "Minibatch step 200/96098: mean batch inertia: 0.1451665759086609, ewa inertia: 0.15176226816406474\n",
      "Minibatch step 201/96098: mean batch inertia: 0.14211754500865936, ewa inertia: 0.1515615447018544\n",
      "Minibatch step 202/96098: mean batch inertia: 0.15054026246070862, ewa inertia: 0.15154029004228217\n",
      "Minibatch step 203/96098: mean batch inertia: 0.1533985137939453, ewa inertia: 0.15157896291023135\n",
      "Minibatch step 204/96098: mean batch inertia: 0.14547531306743622, ewa inertia: 0.1514519353420135\n",
      "Minibatch step 205/96098: mean batch inertia: 0.15381577610969543, ewa inertia: 0.1515011309793955\n",
      "Minibatch step 206/96098: mean batch inertia: 0.14387747645378113, ewa inertia: 0.1513424694702552\n",
      "Minibatch step 207/96098: mean batch inertia: 0.1470436453819275, ewa inertia: 0.15125300346479928\n",
      "Minibatch step 208/96098: mean batch inertia: 0.14923065900802612, ewa inertia: 0.15121091495955089\n",
      "Minibatch step 209/96098: mean batch inertia: 0.15207481384277344, ewa inertia: 0.15122889419773597\n",
      "Minibatch step 210/96098: mean batch inertia: 0.14641159772872925, ewa inertia: 0.1511286378803516\n",
      "Minibatch step 211/96098: mean batch inertia: 0.14704841375350952, ewa inertia: 0.1510437213202661\n",
      "Minibatch step 212/96098: mean batch inertia: 0.1444052904844284, ewa inertia: 0.1509055640295339\n",
      "Minibatch step 213/96098: mean batch inertia: 0.1429031938314438, ewa inertia: 0.1507390207886168\n",
      "Minibatch step 214/96098: mean batch inertia: 0.14646850526332855, ewa inertia: 0.15065014393358978\n",
      "Minibatch step 215/96098: mean batch inertia: 0.1452159434556961, ewa inertia: 0.1505370487709094\n",
      "Minibatch step 216/96098: mean batch inertia: 0.14356465637683868, ewa inertia: 0.1503919411593506\n",
      "Minibatch step 217/96098: mean batch inertia: 0.14417144656181335, ewa inertia: 0.15026248184857932\n",
      "Minibatch step 218/96098: mean batch inertia: 0.14914122223854065, ewa inertia: 0.15023914648608763\n",
      "Minibatch step 219/96098: mean batch inertia: 0.13837198913097382, ewa inertia: 0.14999217030309803\n",
      "Minibatch step 220/96098: mean batch inertia: 0.14963310956954956, ewa inertia: 0.1499846976247826\n",
      "Minibatch step 221/96098: mean batch inertia: 0.14614906907081604, ewa inertia: 0.14990487152395007\n",
      "Minibatch step 222/96098: mean batch inertia: 0.14366617798805237, ewa inertia: 0.14977503346162138\n",
      "Minibatch step 223/96098: mean batch inertia: 0.14423921704292297, ewa inertia: 0.1496598234944904\n",
      "Minibatch step 224/96098: mean batch inertia: 0.15151730179786682, ewa inertia: 0.1496984808483643\n",
      "Minibatch step 225/96098: mean batch inertia: 0.14135980606079102, ewa inertia: 0.14952493852406548\n",
      "[MiniBatchKMeans] Reassigning 512 cluster centers.\n",
      "Minibatch step 226/96098: mean batch inertia: 0.14047293365001678, ewa inertia: 0.14933655056009934\n",
      "Minibatch step 227/96098: mean batch inertia: 0.14025384187698364, ewa inertia: 0.14914752359646888\n",
      "Minibatch step 228/96098: mean batch inertia: 0.15215010941028595, ewa inertia: 0.14921001262911623\n",
      "Minibatch step 229/96098: mean batch inertia: 0.14381031692028046, ewa inertia: 0.14909763557068792\n",
      "Minibatch step 230/96098: mean batch inertia: 0.1457129716873169, ewa inertia: 0.1490271948289329\n",
      "Minibatch step 231/96098: mean batch inertia: 0.144547700881958, ewa inertia: 0.14893396876951165\n",
      "Minibatch step 232/96098: mean batch inertia: 0.1407778263092041, ewa inertia: 0.14876422526038913\n",
      "Minibatch step 233/96098: mean batch inertia: 0.1536710411310196, ewa inertia: 0.1488663446322064\n",
      "Minibatch step 234/96098: mean batch inertia: 0.1446584016084671, ewa inertia: 0.1487787700197578\n",
      "Minibatch step 235/96098: mean batch inertia: 0.14765286445617676, ewa inertia: 0.14875533796689303\n",
      "Minibatch step 236/96098: mean batch inertia: 0.14319920539855957, ewa inertia: 0.14863970518535585\n",
      "Minibatch step 237/96098: mean batch inertia: 0.1475042849779129, ewa inertia: 0.14861607511620517\n",
      "Minibatch step 238/96098: mean batch inertia: 0.14298351109027863, ewa inertia: 0.14849885166311189\n",
      "Minibatch step 239/96098: mean batch inertia: 0.14023102819919586, ewa inertia: 0.14832678387807743\n",
      "Minibatch step 240/96098: mean batch inertia: 0.15228359401226044, ewa inertia: 0.14840913197834374\n",
      "Minibatch step 241/96098: mean batch inertia: 0.150764599442482, ewa inertia: 0.14845815335271678\n",
      "Minibatch step 242/96098: mean batch inertia: 0.14302505552768707, ewa inertia: 0.14834508113816014\n",
      "Minibatch step 243/96098: mean batch inertia: 0.1461956799030304, ewa inertia: 0.14830034836038697\n",
      "Minibatch step 244/96098: mean batch inertia: 0.1460094451904297, ewa inertia: 0.14825267068126097\n",
      "Minibatch step 245/96098: mean batch inertia: 0.1488105058670044, ewa inertia: 0.1482642802016195\n",
      "Minibatch step 246/96098: mean batch inertia: 0.13939490914344788, ewa inertia: 0.14807969316498418\n",
      "Minibatch step 247/96098: mean batch inertia: 0.14505469799041748, ewa inertia: 0.148016737754567\n",
      "Minibatch step 248/96098: mean batch inertia: 0.1426965594291687, ewa inertia: 0.14790601559117844\n",
      "Minibatch step 249/96098: mean batch inertia: 0.15199629962444305, ewa inertia: 0.14799114151541198\n",
      "Minibatch step 250/96098: mean batch inertia: 0.14256297051906586, ewa inertia: 0.1478781718367286\n",
      "Minibatch step 251/96098: mean batch inertia: 0.15033432841300964, ewa inertia: 0.14792928872663597\n",
      "Minibatch step 252/96098: mean batch inertia: 0.144812673330307, ewa inertia: 0.1478644265400652\n",
      "Minibatch step 253/96098: mean batch inertia: 0.14626827836036682, ewa inertia: 0.1478312079205499\n",
      "Minibatch step 254/96098: mean batch inertia: 0.14892874658107758, ewa inertia: 0.14785404960882867\n",
      "Minibatch step 255/96098: mean batch inertia: 0.15717412531375885, ewa inertia: 0.14804801659299321\n",
      "Minibatch step 256/96098: mean batch inertia: 0.1426592916250229, ewa inertia: 0.1479358678547618\n",
      "Minibatch step 257/96098: mean batch inertia: 0.14590956270694733, ewa inertia: 0.14789369692064472\n",
      "Minibatch step 258/96098: mean batch inertia: 0.14012344181537628, ewa inertia: 0.1477319843984856\n",
      "Minibatch step 259/96098: mean batch inertia: 0.14121584594249725, ewa inertia: 0.14759637222485933\n",
      "Minibatch step 260/96098: mean batch inertia: 0.14970213174819946, ewa inertia: 0.14764019674271192\n",
      "Minibatch step 261/96098: mean batch inertia: 0.14364983141422272, ewa inertia: 0.14755715030049554\n",
      "Minibatch step 262/96098: mean batch inertia: 0.14913855493068695, ewa inertia: 0.14759006208110478\n",
      "Minibatch step 263/96098: mean batch inertia: 0.14146678149700165, ewa inertia: 0.14746262596302007\n",
      "Minibatch step 264/96098: mean batch inertia: 0.1476631462574005, ewa inertia: 0.14746679913907532\n",
      "Minibatch step 265/96098: mean batch inertia: 0.1411198377609253, ewa inertia: 0.1473347078346584\n",
      "Minibatch step 266/96098: mean batch inertia: 0.14214493334293365, ewa inertia: 0.14722669960183668\n",
      "Minibatch step 267/96098: mean batch inertia: 0.14449578523635864, ewa inertia: 0.1471698645244989\n",
      "Minibatch step 268/96098: mean batch inertia: 0.14498217403888702, ewa inertia: 0.14712433488083354\n",
      "Minibatch step 269/96098: mean batch inertia: 0.13619008660316467, ewa inertia: 0.14689677415818791\n",
      "Minibatch step 270/96098: mean batch inertia: 0.13958759605884552, ewa inertia: 0.14674465745039109\n",
      "Minibatch step 271/96098: mean batch inertia: 0.14113962650299072, ewa inertia: 0.1466280070085453\n",
      "Minibatch step 272/96098: mean batch inertia: 0.1556745022535324, ewa inertia: 0.14681628030754876\n",
      "Minibatch step 273/96098: mean batch inertia: 0.14108480513095856, ewa inertia: 0.14669699834139163\n",
      "Minibatch step 274/96098: mean batch inertia: 0.15018823742866516, ewa inertia: 0.1467696570984871\n",
      "Minibatch step 275/96098: mean batch inertia: 0.14759790897369385, ewa inertia: 0.14678689446044088\n",
      "Minibatch step 276/96098: mean batch inertia: 0.14539171755313873, ewa inertia: 0.14675785840261762\n",
      "Minibatch step 277/96098: mean batch inertia: 0.14967456459999084, ewa inertia: 0.1468185601310917\n",
      "Minibatch step 278/96098: mean batch inertia: 0.13889358937740326, ewa inertia: 0.14665362770721965\n",
      "Minibatch step 279/96098: mean batch inertia: 0.14324255287647247, ewa inertia: 0.1465826373077179\n",
      "Minibatch step 280/96098: mean batch inertia: 0.1489635705947876, ewa inertia: 0.14663218867015432\n",
      "Minibatch step 281/96098: mean batch inertia: 0.14554712176322937, ewa inertia: 0.14660960654075791\n",
      "Minibatch step 282/96098: mean batch inertia: 0.14363384246826172, ewa inertia: 0.1465476757151937\n",
      "Minibatch step 283/96098: mean batch inertia: 0.14459432661533356, ewa inertia: 0.146507023123314\n",
      "Minibatch step 284/96098: mean batch inertia: 0.14870178699493408, ewa inertia: 0.14655269997644368\n",
      "Minibatch step 285/96098: mean batch inertia: 0.1411987692117691, ewa inertia: 0.14644127536609416\n",
      "Minibatch step 286/96098: mean batch inertia: 0.14330056309700012, ewa inertia: 0.14637591168169378\n",
      "Minibatch step 287/96098: mean batch inertia: 0.14104551076889038, ewa inertia: 0.14626497676848296\n",
      "Minibatch step 288/96098: mean batch inertia: 0.1455400139093399, ewa inertia: 0.14624988903058564\n",
      "Minibatch step 289/96098: mean batch inertia: 0.14486216008663177, ewa inertia: 0.14622100797783258\n",
      "Minibatch step 290/96098: mean batch inertia: 0.14637532830238342, ewa inertia: 0.14622421965216828\n",
      "Minibatch step 291/96098: mean batch inertia: 0.14295820891857147, ewa inertia: 0.14615624828881232\n",
      "Minibatch step 292/96098: mean batch inertia: 0.14759574830532074, ewa inertia: 0.14618620678762143\n",
      "Minibatch step 293/96098: mean batch inertia: 0.14713528752326965, ewa inertia: 0.14620595880829707\n",
      "Minibatch step 294/96098: mean batch inertia: 0.14462895691394806, ewa inertia: 0.1461731386562776\n",
      "Minibatch step 295/96098: mean batch inertia: 0.13284552097320557, ewa inertia: 0.14589576775394508\n",
      "Minibatch step 296/96098: mean batch inertia: 0.15169505774974823, ewa inertia: 0.14601646106442823\n",
      "Minibatch step 297/96098: mean batch inertia: 0.151408851146698, ewa inertia: 0.14612868608006233\n",
      "Minibatch step 298/96098: mean batch inertia: 0.14764413237571716, ewa inertia: 0.1461602251530203\n",
      "Minibatch step 299/96098: mean batch inertia: 0.14191879332065582, ewa inertia: 0.1460719535802231\n",
      "Minibatch step 300/96098: mean batch inertia: 0.14582079648971558, ewa inertia: 0.14606672656437691\n",
      "Minibatch step 301/96098: mean batch inertia: 0.14334571361541748, ewa inertia: 0.14601009755273667\n",
      "Minibatch step 302/96098: mean batch inertia: 0.14653463661670685, ewa inertia: 0.1460210141228951\n",
      "Minibatch step 303/96098: mean batch inertia: 0.13607192039489746, ewa inertia: 0.14581395617973167\n",
      "Minibatch step 304/96098: mean batch inertia: 0.1451699137687683, ewa inertia: 0.14580055253709145\n",
      "Minibatch step 305/96098: mean batch inertia: 0.14009976387023926, ewa inertia: 0.14568190921056956\n",
      "[MiniBatchKMeans] Reassigning 512 cluster centers.\n",
      "Minibatch step 306/96098: mean batch inertia: 0.14264564216136932, ewa inertia: 0.14561871921283812\n",
      "Minibatch step 307/96098: mean batch inertia: 0.14021655917167664, ewa inertia: 0.14550629086736835\n",
      "Minibatch step 308/96098: mean batch inertia: 0.14313426613807678, ewa inertia: 0.14545692490751236\n",
      "Minibatch step 309/96098: mean batch inertia: 0.14358238875865936, ewa inertia: 0.14541791255020842\n",
      "Minibatch step 310/96098: mean batch inertia: 0.14162486791610718, ewa inertia: 0.14533897269480692\n",
      "Minibatch step 311/96098: mean batch inertia: 0.14396612346172333, ewa inertia: 0.1453104013147147\n",
      "Minibatch step 312/96098: mean batch inertia: 0.13768497109413147, ewa inertia: 0.14515170285027398\n",
      "Minibatch step 313/96098: mean batch inertia: 0.1421719640493393, ewa inertia: 0.14508968930369842\n",
      "Minibatch step 314/96098: mean batch inertia: 0.14504946768283844, ewa inertia: 0.14508885222181805\n",
      "Minibatch step 315/96098: mean batch inertia: 0.1443646103143692, ewa inertia: 0.1450737794881793\n",
      "Minibatch step 316/96098: mean batch inertia: 0.14838361740112305, ewa inertia: 0.14514266297135822\n",
      "Minibatch step 317/96098: mean batch inertia: 0.13674500584602356, ewa inertia: 0.14496789312203312\n",
      "Minibatch step 318/96098: mean batch inertia: 0.1422031968832016, ewa inertia: 0.14491035498516008\n",
      "Minibatch step 319/96098: mean batch inertia: 0.1407586932182312, ewa inertia: 0.14482395168354564\n",
      "Minibatch step 320/96098: mean batch inertia: 0.13433586061000824, ewa inertia: 0.1446056762682396\n",
      "Minibatch step 321/96098: mean batch inertia: 0.14634764194488525, ewa inertia: 0.14464192960346076\n",
      "Minibatch step 322/96098: mean batch inertia: 0.13577382266521454, ewa inertia: 0.14445736887535954\n",
      "Minibatch step 323/96098: mean batch inertia: 0.14167067408561707, ewa inertia: 0.1443993729103839\n",
      "Minibatch step 324/96098: mean batch inertia: 0.1402471512556076, ewa inertia: 0.14431295795652965\n",
      "Minibatch step 325/96098: mean batch inertia: 0.1408810168504715, ewa inertia: 0.1442415332935497\n",
      "Minibatch step 326/96098: mean batch inertia: 0.1473209261894226, ewa inertia: 0.1443056208151515\n",
      "Minibatch step 327/96098: mean batch inertia: 0.13534653186798096, ewa inertia: 0.1441191665932158\n",
      "Minibatch step 328/96098: mean batch inertia: 0.13780570030212402, ewa inertia: 0.1439877723798126\n",
      "Minibatch step 329/96098: mean batch inertia: 0.14061670005321503, ewa inertia: 0.14391761450199142\n",
      "Minibatch step 330/96098: mean batch inertia: 0.1440739929676056, ewa inertia: 0.143920869009822\n",
      "Minibatch step 331/96098: mean batch inertia: 0.14959245920181274, ewa inertia: 0.14403890466530234\n",
      "Minibatch step 332/96098: mean batch inertia: 0.1468227207660675, ewa inertia: 0.14409684071975398\n",
      "Minibatch step 333/96098: mean batch inertia: 0.14811097085475922, ewa inertia: 0.14418038174892384\n",
      "Minibatch step 334/96098: mean batch inertia: 0.14466609060764313, ewa inertia: 0.14419049019498056\n",
      "Minibatch step 335/96098: mean batch inertia: 0.14623932540416718, ewa inertia: 0.14423313001885732\n",
      "Minibatch step 336/96098: mean batch inertia: 0.14055554568767548, ewa inertia: 0.1441565930931591\n",
      "Minibatch step 337/96098: mean batch inertia: 0.14355133473873138, ewa inertia: 0.1441439966141856\n",
      "Minibatch step 338/96098: mean batch inertia: 0.15019600093364716, ewa inertia: 0.14426994934924503\n",
      "Minibatch step 339/96098: mean batch inertia: 0.1414528638124466, ewa inertia: 0.14421132089996996\n",
      "Converged (lack of improvement in inertia) at step 339/96098\n",
      "Min cluster size: 0\n",
      "Max cluster size: 119\n",
      "Mean cluster size: 12.0123291015625\n",
      "Finding closest sentences to cluster centers\n",
      ".."
     ]
    },
    {
     "ename": "KeyboardInterrupt",
     "evalue": "",
     "output_type": "error",
     "traceback": [
      "\u001b[0;31m---------------------------------------------------------------------------\u001b[0m",
      "\u001b[0;31mKeyboardInterrupt\u001b[0m                         Traceback (most recent call last)",
      "Cell \u001b[0;32mIn[28], line 1\u001b[0m\n\u001b[0;32m----> 1\u001b[0m \u001b[43mkmeans_percent_attack\u001b[49m\u001b[43m(\u001b[49m\u001b[43mn_clusters\u001b[49m\u001b[38;5;241;43m=\u001b[39;49m\u001b[38;5;241;43m8192\u001b[39;49m\u001b[43m,\u001b[49m\u001b[43m \u001b[49m\u001b[43mn_attack_clusters\u001b[49m\u001b[38;5;241;43m=\u001b[39;49m\u001b[38;5;241;43m512\u001b[39;49m\u001b[43m,\u001b[49m\u001b[43m \u001b[49m\u001b[43mpercent\u001b[49m\u001b[38;5;241;43m=\u001b[39;49m\u001b[38;5;241;43m0.75\u001b[39;49m\u001b[43m)\u001b[49m\n",
      "Cell \u001b[0;32mIn[27], line 53\u001b[0m, in \u001b[0;36mkmeans_percent_attack\u001b[0;34m(n_clusters, n_attack_clusters, percent)\u001b[0m\n\u001b[1;32m     50\u001b[0m     \u001b[38;5;28;01mwith\u001b[39;00m \u001b[38;5;28mopen\u001b[39m(\u001b[38;5;124mf\u001b[39m\u001b[38;5;124m'\u001b[39m\u001b[38;5;124mdata/atk_43_\u001b[39m\u001b[38;5;132;01m{\u001b[39;00m\u001b[38;5;241m8192\u001b[39m\u001b[38;5;241m+\u001b[39m\u001b[38;5;241m512\u001b[39m\u001b[38;5;132;01m}\u001b[39;00m\u001b[38;5;124m_1.json\u001b[39m\u001b[38;5;124m'\u001b[39m, \u001b[38;5;124m'\u001b[39m\u001b[38;5;124mw\u001b[39m\u001b[38;5;124m'\u001b[39m) \u001b[38;5;28;01mas\u001b[39;00m f:\n\u001b[1;32m     51\u001b[0m         json\u001b[38;5;241m.\u001b[39mdump(subset_samples[sp][\u001b[38;5;241m8192\u001b[39m\u001b[38;5;241m+\u001b[39m\u001b[38;5;241m512\u001b[39m:\u001b[38;5;241m8192\u001b[39m\u001b[38;5;241m+\u001b[39m\u001b[38;5;241m512\u001b[39m\u001b[38;5;241m*\u001b[39m\u001b[38;5;241m2\u001b[39m]\u001b[38;5;241m.\u001b[39mtolist(), f)\n\u001b[0;32m---> 53\u001b[0m \u001b[43mcreate_kmeans_subset_dataset\u001b[49m\u001b[43m(\u001b[49m\u001b[43mn_clusters\u001b[49m\u001b[43m,\u001b[49m\u001b[43m \u001b[49m\u001b[43msubset_samples\u001b[49m\u001b[43m,\u001b[49m\u001b[43m \u001b[49m\u001b[43msubset_embeds\u001b[49m\u001b[43m,\u001b[49m\u001b[43m \u001b[49m\u001b[43mname\u001b[49m\u001b[38;5;241;43m=\u001b[39;49m\u001b[38;5;124;43mf\u001b[39;49m\u001b[38;5;124;43m'\u001b[39;49m\u001b[38;5;124;43matk_43_\u001b[39;49m\u001b[38;5;132;43;01m{\u001b[39;49;00m\u001b[43mn_clusters\u001b[49m\u001b[38;5;132;43;01m}\u001b[39;49;00m\u001b[38;5;124;43m'\u001b[39;49m\u001b[43m)\u001b[49m\n\u001b[1;32m     54\u001b[0m \u001b[38;5;28;01mif\u001b[39;00m n_clusters \u001b[38;5;241m>\u001b[39m\u001b[38;5;241m=\u001b[39m \u001b[38;5;241m8192\u001b[39m:\n\u001b[1;32m     55\u001b[0m     create_kmeans_subset_dataset(\u001b[38;5;241m2048\u001b[39m, subset_samples, subset_embeds, name\u001b[38;5;241m=\u001b[39m\u001b[38;5;124mf\u001b[39m\u001b[38;5;124m'\u001b[39m\u001b[38;5;124matk_43_\u001b[39m\u001b[38;5;132;01m{\u001b[39;00m\u001b[38;5;241m2048\u001b[39m\u001b[38;5;132;01m}\u001b[39;00m\u001b[38;5;124m'\u001b[39m)\n",
      "Cell \u001b[0;32mIn[27], line 84\u001b[0m, in \u001b[0;36mcreate_kmeans_subset_dataset\u001b[0;34m(n_clusters, dataset, embeddings, name)\u001b[0m\n\u001b[1;32m     82\u001b[0m n \u001b[38;5;241m=\u001b[39m \u001b[38;5;241m0\u001b[39m\n\u001b[1;32m     83\u001b[0m \u001b[38;5;28;01mfor\u001b[39;00m center \u001b[38;5;129;01min\u001b[39;00m cluster_centers:\n\u001b[0;32m---> 84\u001b[0m     closest \u001b[38;5;241m=\u001b[39m np\u001b[38;5;241m.\u001b[39margmin(\u001b[43mnp\u001b[49m\u001b[38;5;241;43m.\u001b[39;49m\u001b[43mlinalg\u001b[49m\u001b[38;5;241;43m.\u001b[39;49m\u001b[43mnorm\u001b[49m\u001b[43m(\u001b[49m\u001b[43membeddings\u001b[49m\u001b[43m \u001b[49m\u001b[38;5;241;43m-\u001b[39;49m\u001b[43m \u001b[49m\u001b[43mcenter\u001b[49m\u001b[43m,\u001b[49m\u001b[43m \u001b[49m\u001b[43maxis\u001b[49m\u001b[38;5;241;43m=\u001b[39;49m\u001b[38;5;241;43m1\u001b[39;49m\u001b[43m)\u001b[49m)\n\u001b[1;32m     85\u001b[0m     closest_sentences\u001b[38;5;241m.\u001b[39mappend(dataset[closest])\n\u001b[1;32m     86\u001b[0m     n \u001b[38;5;241m+\u001b[39m\u001b[38;5;241m=\u001b[39m \u001b[38;5;241m1\u001b[39m\n",
      "File \u001b[0;32m~/.local/lib/python3.10/site-packages/numpy/linalg/linalg.py:2379\u001b[0m, in \u001b[0;36m_norm_dispatcher\u001b[0;34m(x, ord, axis, keepdims)\u001b[0m\n\u001b[1;32m   2375\u001b[0m     result \u001b[38;5;241m=\u001b[39m op(svd(y, compute_uv\u001b[38;5;241m=\u001b[39m\u001b[38;5;28;01mFalse\u001b[39;00m), axis\u001b[38;5;241m=\u001b[39m\u001b[38;5;241m-\u001b[39m\u001b[38;5;241m1\u001b[39m)\n\u001b[1;32m   2376\u001b[0m     \u001b[38;5;28;01mreturn\u001b[39;00m result\n\u001b[0;32m-> 2379\u001b[0m \u001b[38;5;28;01mdef\u001b[39;00m \u001b[38;5;21m_norm_dispatcher\u001b[39m(x, \u001b[38;5;28mord\u001b[39m\u001b[38;5;241m=\u001b[39m\u001b[38;5;28;01mNone\u001b[39;00m, axis\u001b[38;5;241m=\u001b[39m\u001b[38;5;28;01mNone\u001b[39;00m, keepdims\u001b[38;5;241m=\u001b[39m\u001b[38;5;28;01mNone\u001b[39;00m):\n\u001b[1;32m   2380\u001b[0m     \u001b[38;5;28;01mreturn\u001b[39;00m (x,)\n\u001b[1;32m   2383\u001b[0m \u001b[38;5;129m@array_function_dispatch\u001b[39m(_norm_dispatcher)\n\u001b[1;32m   2384\u001b[0m \u001b[38;5;28;01mdef\u001b[39;00m \u001b[38;5;21mnorm\u001b[39m(x, \u001b[38;5;28mord\u001b[39m\u001b[38;5;241m=\u001b[39m\u001b[38;5;28;01mNone\u001b[39;00m, axis\u001b[38;5;241m=\u001b[39m\u001b[38;5;28;01mNone\u001b[39;00m, keepdims\u001b[38;5;241m=\u001b[39m\u001b[38;5;28;01mFalse\u001b[39;00m):\n",
      "\u001b[0;31mKeyboardInterrupt\u001b[0m: "
     ]
    }
   ],
   "source": [
    "kmeans_percent_attack(n_clusters=8192, n_attack_clusters=512, percent=0.75)"
   ]
  },
  {
   "cell_type": "code",
   "execution_count": 36,
   "metadata": {},
   "outputs": [
    {
     "name": "stdout",
     "output_type": "stream",
     "text": [
      "Init 1/3 with method k-means++\n",
      "Inertia for init 1/3: 2575.1611328125\n",
      "Init 2/3 with method k-means++\n",
      "Inertia for init 2/3: 2581.126708984375\n",
      "Init 3/3 with method k-means++\n",
      "Inertia for init 3/3: 2579.510498046875\n",
      "[MiniBatchKMeans] Reassigning 1 cluster centers.\n",
      "Minibatch step 1/128000: mean batch inertia: 0.8609110713005066\n",
      "Minibatch step 2/128000: mean batch inertia: 0.5855225920677185, ewa inertia: 0.5855225920677185\n",
      "Minibatch step 3/128000: mean batch inertia: 0.5509884357452393, ewa inertia: 0.5849829999919406\n",
      "Minibatch step 4/128000: mean batch inertia: 0.5340808629989624, ewa inertia: 0.5841876601693866\n",
      "[MiniBatchKMeans] Reassigning 1 cluster centers.\n",
      "Minibatch step 5/128000: mean batch inertia: 0.5416024327278137, ewa inertia: 0.5835222710671281\n",
      "Minibatch step 6/128000: mean batch inertia: 0.5301661491394043, ewa inertia: 0.5826885880225042\n",
      "Minibatch step 7/128000: mean batch inertia: 0.5324215888977051, ewa inertia: 0.5819031721534268\n",
      "Minibatch step 8/128000: mean batch inertia: 0.5233443379402161, ewa inertia: 0.5809881973495491\n",
      "Minibatch step 9/128000: mean batch inertia: 0.522202730178833, ewa inertia: 0.580069681432727\n",
      "Minibatch step 10/128000: mean batch inertia: 0.5286428928375244, ewa inertia: 0.5792661439914312\n",
      "Minibatch step 11/128000: mean batch inertia: 0.5261737704277039, ewa inertia: 0.5784365819835537\n",
      "Minibatch step 12/128000: mean batch inertia: 0.5258931517601013, ewa inertia: 0.5776155971499295\n",
      "Minibatch step 13/128000: mean batch inertia: 0.5086466670036316, ewa inertia: 0.576537965838068\n",
      "Minibatch step 14/128000: mean batch inertia: 0.5222130417823792, ewa inertia: 0.575689145375684\n",
      "Minibatch step 15/128000: mean batch inertia: 0.5110754370689392, ewa inertia: 0.5746795638858867\n",
      "Minibatch step 16/128000: mean batch inertia: 0.5201625227928162, ewa inertia: 0.5738277416176956\n",
      "Minibatch step 17/128000: mean batch inertia: 0.5277683734893799, ewa inertia: 0.5731080694813533\n",
      "Minibatch step 18/128000: mean batch inertia: 0.5093039274215698, ewa inertia: 0.5721111373676576\n",
      "Minibatch step 19/128000: mean batch inertia: 0.5141400098800659, ewa inertia: 0.5712053454113082\n",
      "Minibatch step 20/128000: mean batch inertia: 0.5192931890487671, ewa inertia: 0.5703942241565075\n",
      "Minibatch step 21/128000: mean batch inertia: 0.5088093876838684, ewa inertia: 0.5694319684280511\n",
      "Minibatch step 22/128000: mean batch inertia: 0.5201252102851868, ewa inertia: 0.5686615562098476\n",
      "Minibatch step 23/128000: mean batch inertia: 0.509302020072937, ewa inertia: 0.5677340705338625\n",
      "Minibatch step 24/128000: mean batch inertia: 0.5166170001029968, ewa inertia: 0.5669353724019633\n",
      "Minibatch step 25/128000: mean batch inertia: 0.5057723522186279, ewa inertia: 0.5659797075027433\n",
      "Minibatch step 26/128000: mean batch inertia: 0.508204996585846, ewa inertia: 0.5650769845318965\n",
      "Minibatch step 27/128000: mean batch inertia: 0.5114558339118958, ewa inertia: 0.5642391604455494\n",
      "Minibatch step 28/128000: mean batch inertia: 0.5021107792854309, ewa inertia: 0.5632684118961462\n",
      "Minibatch step 29/128000: mean batch inertia: 0.5092548131942749, ewa inertia: 0.5624244558553031\n",
      "Minibatch step 30/128000: mean batch inertia: 0.5161206722259521, ewa inertia: 0.5617009647558935\n",
      "Minibatch step 31/128000: mean batch inertia: 0.5042835474014282, ewa inertia: 0.5608038244543673\n",
      "Minibatch step 32/128000: mean batch inertia: 0.5109007358551025, ewa inertia: 0.56002409464387\n",
      "Minibatch step 33/128000: mean batch inertia: 0.5133984684944153, ewa inertia: 0.5592955747934502\n",
      "Minibatch step 34/128000: mean batch inertia: 0.49676474928855896, ewa inertia: 0.5583185380991346\n",
      "Minibatch step 35/128000: mean batch inertia: 0.5123722553253174, ewa inertia: 0.5576006329079756\n",
      "Minibatch step 36/128000: mean batch inertia: 0.5035731196403503, ewa inertia: 0.5567564594537012\n",
      "Minibatch step 37/128000: mean batch inertia: 0.5023860931396484, ewa inertia: 0.5559069289614474\n",
      "Minibatch step 38/128000: mean batch inertia: 0.5103119611740112, ewa inertia: 0.555194513025071\n",
      "Minibatch step 39/128000: mean batch inertia: 0.5082730650901794, ewa inertia: 0.5544613709945181\n",
      "Minibatch step 40/128000: mean batch inertia: 0.5155428051948547, ewa inertia: 0.5538532730433174\n",
      "Minibatch step 41/128000: mean batch inertia: 0.5041873455047607, ewa inertia: 0.5530772488461222\n",
      "Minibatch step 42/128000: mean batch inertia: 0.5171113014221191, ewa inertia: 0.5525152852050644\n",
      "Minibatch step 43/128000: mean batch inertia: 0.513593852519989, ewa inertia: 0.551907142459121\n",
      "Minibatch step 44/128000: mean batch inertia: 0.49881160259246826, ewa inertia: 0.5510775309781378\n",
      "Minibatch step 45/128000: mean batch inertia: 0.5100141763687134, ewa inertia: 0.5504359209574615\n",
      "Minibatch step 46/128000: mean batch inertia: 0.5074920058250427, ewa inertia: 0.549764927402792\n",
      "Minibatch step 47/128000: mean batch inertia: 0.5031766891479492, ewa inertia: 0.5490369917337685\n",
      "Minibatch step 48/128000: mean batch inertia: 0.5119019150733948, ewa inertia: 0.5484567605877625\n",
      "Minibatch step 49/128000: mean batch inertia: 0.4968346357345581, ewa inertia: 0.547650171040721\n",
      "Minibatch step 50/128000: mean batch inertia: 0.5017638206481934, ewa inertia: 0.5469332022858752\n",
      "Minibatch step 51/128000: mean batch inertia: 0.5046780705451965, ewa inertia: 0.5462729708895928\n",
      "Minibatch step 52/128000: mean batch inertia: 0.51462721824646, ewa inertia: 0.5457785097769828\n",
      "Minibatch step 53/128000: mean batch inertia: 0.5080066919326782, ewa inertia: 0.5451883296258828\n",
      "Minibatch step 54/128000: mean batch inertia: 0.5099798440933228, ewa inertia: 0.5446382012365831\n",
      "Minibatch step 55/128000: mean batch inertia: 0.5015667080879211, ewa inertia: 0.5439652142906183\n",
      "Minibatch step 56/128000: mean batch inertia: 0.504968523979187, ewa inertia: 0.5433558956532345\n",
      "Minibatch step 57/128000: mean batch inertia: 0.5010210871696472, ewa inertia: 0.5426944193173423\n",
      "Minibatch step 58/128000: mean batch inertia: 0.5007733702659607, ewa inertia: 0.5420394079232548\n",
      "Minibatch step 59/128000: mean batch inertia: 0.5158336162567139, ewa inertia: 0.5416299455524151\n",
      "Minibatch step 60/128000: mean batch inertia: 0.5090539455413818, ewa inertia: 0.5411209494355749\n",
      "Minibatch step 61/128000: mean batch inertia: 0.5023028254508972, ewa inertia: 0.54051442087576\n",
      "Minibatch step 62/128000: mean batch inertia: 0.5161420702934265, ewa inertia: 0.5401336058032994\n",
      "Minibatch step 63/128000: mean batch inertia: 0.5045953989028931, ewa inertia: 0.5395783255569326\n",
      "Minibatch step 64/128000: mean batch inertia: 0.507898211479187, ewa inertia: 0.539083327551003\n",
      "Minibatch step 65/128000: mean batch inertia: 0.5169234871864319, ewa inertia: 0.5387370826869452\n",
      "Minibatch step 66/128000: mean batch inertia: 0.5106222629547119, ewa inertia: 0.5382977919801512\n",
      "Minibatch step 67/128000: mean batch inertia: 0.5012891292572021, ewa inertia: 0.5377195360368479\n",
      "Minibatch step 68/128000: mean batch inertia: 0.5080341100692749, ewa inertia: 0.5372557047948561\n",
      "Minibatch step 69/128000: mean batch inertia: 0.5093272924423218, ewa inertia: 0.5368193266811485\n",
      "Minibatch step 70/128000: mean batch inertia: 0.5096081495285034, ewa inertia: 0.5363941552819388\n",
      "Minibatch step 71/128000: mean batch inertia: 0.5022536516189575, ewa inertia: 0.5358607139820388\n",
      "Minibatch step 72/128000: mean batch inertia: 0.5062093734741211, ewa inertia: 0.5353974153212909\n",
      "Minibatch step 73/128000: mean batch inertia: 0.5130152702331543, ewa inertia: 0.535047696972428\n",
      "Minibatch step 74/128000: mean batch inertia: 0.5035916566848755, ewa inertia: 0.5345562000927586\n",
      "Minibatch step 75/128000: mean batch inertia: 0.5051074624061584, ewa inertia: 0.5340960670769418\n",
      "Minibatch step 76/128000: mean batch inertia: 0.5158925652503967, ewa inertia: 0.5338116395309119\n",
      "Minibatch step 77/128000: mean batch inertia: 0.5087559819221497, ewa inertia: 0.5334201478676194\n",
      "Minibatch step 78/128000: mean batch inertia: 0.5062088370323181, ewa inertia: 0.5329949743796341\n",
      "Minibatch step 79/128000: mean batch inertia: 0.49583879113197327, ewa inertia: 0.5324144134457178\n",
      "Minibatch step 80/128000: mean batch inertia: 0.5111358165740967, ewa inertia: 0.5320819379061857\n",
      "Minibatch step 81/128000: mean batch inertia: 0.5061790347099304, ewa inertia: 0.5316772081315875\n",
      "Minibatch step 82/128000: mean batch inertia: 0.5109338164329529, ewa inertia: 0.5313530951090825\n",
      "Minibatch step 83/128000: mean batch inertia: 0.5068753957748413, ewa inertia: 0.5309706339749318\n",
      "Minibatch step 84/128000: mean batch inertia: 0.5112007856369019, ewa inertia: 0.5306617324513817\n",
      "Minibatch step 85/128000: mean batch inertia: 0.5069769024848938, ewa inertia: 0.5302916598065855\n",
      "Minibatch step 86/128000: mean batch inertia: 0.513484537601471, ewa inertia: 0.5300290505256804\n",
      "Minibatch step 87/128000: mean batch inertia: 0.5120688080787659, ewa inertia: 0.5297484238784588\n",
      "Minibatch step 88/128000: mean batch inertia: 0.514227569103241, ewa inertia: 0.529505912372812\n",
      "Minibatch step 89/128000: mean batch inertia: 0.507463276386261, ewa inertia: 0.5291614988131891\n",
      "Minibatch step 90/128000: mean batch inertia: 0.5007681250572205, ewa inertia: 0.5287178557329801\n",
      "Minibatch step 91/128000: mean batch inertia: 0.502190113067627, ewa inertia: 0.5283033629161632\n",
      "Minibatch step 92/128000: mean batch inertia: 0.5113977193832397, ewa inertia: 0.5280392142512557\n",
      "Minibatch step 93/128000: mean batch inertia: 0.5083074569702148, ewa inertia: 0.5277309078959302\n",
      "Minibatch step 94/128000: mean batch inertia: 0.5086522102355957, ewa inertia: 0.5274328055193281\n",
      "Minibatch step 95/128000: mean batch inertia: 0.5034345984458923, ewa inertia: 0.527057836394593\n",
      "Minibatch step 96/128000: mean batch inertia: 0.5060044527053833, ewa inertia: 0.5267288797841889\n",
      "Minibatch step 97/128000: mean batch inertia: 0.5108994245529175, ewa inertia: 0.526481546433204\n",
      "Minibatch step 98/128000: mean batch inertia: 0.5062214732170105, ewa inertia: 0.5261649852043715\n",
      "Minibatch step 99/128000: mean batch inertia: 0.5071828961372375, ewa inertia: 0.5258683923255216\n",
      "Minibatch step 100/128000: mean batch inertia: 0.5097836256027222, ewa inertia: 0.5256170697629169\n",
      "Minibatch step 101/128000: mean batch inertia: 0.5180217623710632, ewa inertia: 0.5254983939903435\n",
      "Minibatch step 102/128000: mean batch inertia: 0.513262927532196, ewa inertia: 0.5253072162855051\n",
      "Minibatch step 103/128000: mean batch inertia: 0.505438506603241, ewa inertia: 0.5249967700652365\n",
      "Minibatch step 104/128000: mean batch inertia: 0.5021483302116394, ewa inertia: 0.5246397659162496\n",
      "Minibatch step 105/128000: mean batch inertia: 0.5044704675674438, ewa inertia: 0.5243246230338989\n",
      "Minibatch step 106/128000: mean batch inertia: 0.5111444592475891, ewa inertia: 0.5241186845459238\n",
      "Minibatch step 107/128000: mean batch inertia: 0.5070595145225525, ewa inertia: 0.5238521370479047\n",
      "Minibatch step 108/128000: mean batch inertia: 0.5123189091682434, ewa inertia: 0.5236719317371424\n",
      "Minibatch step 109/128000: mean batch inertia: 0.5047246217727661, ewa inertia: 0.5233758822776272\n",
      "Minibatch step 110/128000: mean batch inertia: 0.5123582482337952, ewa inertia: 0.5232037330590866\n",
      "Minibatch step 111/128000: mean batch inertia: 0.49341249465942383, ewa inertia: 0.5227382485104571\n",
      "Minibatch step 112/128000: mean batch inertia: 0.514849066734314, ewa inertia: 0.5226149809856615\n",
      "Minibatch step 113/128000: mean batch inertia: 0.5004516243934631, ewa inertia: 0.5222686811809663\n",
      "Minibatch step 114/128000: mean batch inertia: 0.5091426372528076, ewa inertia: 0.5220635883093232\n",
      "Minibatch step 115/128000: mean batch inertia: 0.5018027424812317, ewa inertia: 0.5217470150085219\n",
      "Minibatch step 116/128000: mean batch inertia: 0.5040683150291443, ewa inertia: 0.5214707874287933\n",
      "Minibatch step 117/128000: mean batch inertia: 0.5120087265968323, ewa inertia: 0.5213229438562508\n",
      "Minibatch step 118/128000: mean batch inertia: 0.5025577545166016, ewa inertia: 0.5210297400097866\n",
      "Minibatch step 119/128000: mean batch inertia: 0.5071210265159607, ewa inertia: 0.5208124180194807\n",
      "Minibatch step 120/128000: mean batch inertia: 0.507580578327179, ewa inertia: 0.5206056721016347\n",
      "Minibatch step 121/128000: mean batch inertia: 0.5056604146957397, ewa inertia: 0.5203721542362675\n",
      "Minibatch step 122/128000: mean batch inertia: 0.497382253408432, ewa inertia: 0.5200129397764215\n",
      "Minibatch step 123/128000: mean batch inertia: 0.4992562234401703, ewa inertia: 0.5196886185580422\n",
      "Minibatch step 124/128000: mean batch inertia: 0.5016504526138306, ewa inertia: 0.5194067743654643\n",
      "Minibatch step 125/128000: mean batch inertia: 0.5036668181419373, ewa inertia: 0.5191608394258064\n",
      "Minibatch step 126/128000: mean batch inertia: 0.5011258721351624, ewa inertia: 0.5188790452118093\n",
      "Minibatch step 127/128000: mean batch inertia: 0.5218438506126404, ewa inertia: 0.5189253699427676\n",
      "Minibatch step 128/128000: mean batch inertia: 0.5063907504081726, ewa inertia: 0.5187295180067713\n",
      "Minibatch step 129/128000: mean batch inertia: 0.5055896639823914, ewa inertia: 0.5185242093540211\n",
      "Minibatch step 130/128000: mean batch inertia: 0.5117965936660767, ewa inertia: 0.5184190911608851\n",
      "Minibatch step 131/128000: mean batch inertia: 0.5085462927818298, ewa inertia: 0.5182648298631327\n",
      "Minibatch step 132/128000: mean batch inertia: 0.49627822637557983, ewa inertia: 0.517921291804627\n",
      "Minibatch step 133/128000: mean batch inertia: 0.5037983655929565, ewa inertia: 0.5177006227661408\n",
      "Minibatch step 134/128000: mean batch inertia: 0.5192015171051025, ewa inertia: 0.5177240740612679\n",
      "Minibatch step 135/128000: mean batch inertia: 0.5107845664024353, ewa inertia: 0.517615645081346\n",
      "Minibatch step 136/128000: mean batch inertia: 0.5073239803314209, ewa inertia: 0.5174548390464812\n",
      "Minibatch step 137/128000: mean batch inertia: 0.5013028383255005, ewa inertia: 0.5172024659606697\n",
      "Minibatch step 138/128000: mean batch inertia: 0.5120319128036499, ewa inertia: 0.5171216766839646\n",
      "Minibatch step 139/128000: mean batch inertia: 0.5077670812606812, ewa inertia: 0.516975512245622\n",
      "Minibatch step 140/128000: mean batch inertia: 0.5050404071807861, ewa inertia: 0.5167890276517484\n",
      "Minibatch step 141/128000: mean batch inertia: 0.4994322657585144, ewa inertia: 0.516517830316238\n",
      "Minibatch step 142/128000: mean batch inertia: 0.511741578578949, ewa inertia: 0.516443201952212\n",
      "Minibatch step 143/128000: mean batch inertia: 0.506435751914978, ewa inertia: 0.5162868367383522\n",
      "Minibatch step 144/128000: mean batch inertia: 0.4978647828102112, ewa inertia: 0.5159989943417881\n",
      "Minibatch step 145/128000: mean batch inertia: 0.5044665932655334, ewa inertia: 0.5158188019497305\n",
      "Minibatch step 146/128000: mean batch inertia: 0.5089960098266602, ewa inertia: 0.5157121966361415\n",
      "Minibatch step 147/128000: mean batch inertia: 0.5094623565673828, ewa inertia: 0.5156145436301004\n",
      "Minibatch step 148/128000: mean batch inertia: 0.5074153542518616, ewa inertia: 0.5154864322734776\n",
      "Minibatch step 149/128000: mean batch inertia: 0.5003138780593872, ewa inertia: 0.5152493629225781\n",
      "Minibatch step 150/128000: mean batch inertia: 0.5052813291549683, ewa inertia: 0.5150936135832322\n",
      "Minibatch step 151/128000: mean batch inertia: 0.5090028643608093, ewa inertia: 0.5149984463527003\n",
      "Minibatch step 152/128000: mean batch inertia: 0.5058982968330383, ewa inertia: 0.5148562576012696\n",
      "Minibatch step 153/128000: mean batch inertia: 0.5048964619636536, ewa inertia: 0.514700636981723\n",
      "Minibatch step 154/128000: mean batch inertia: 0.5065741539001465, ewa inertia: 0.5145736616523182\n",
      "Minibatch step 155/128000: mean batch inertia: 0.5076696872711182, ewa inertia: 0.5144657878756236\n",
      "Minibatch step 156/128000: mean batch inertia: 0.5086435675621033, ewa inertia: 0.5143748163772823\n",
      "Minibatch step 157/128000: mean batch inertia: 0.5077708959579468, ewa inertia: 0.5142716309079729\n",
      "Minibatch step 158/128000: mean batch inertia: 0.5053938031196594, ewa inertia: 0.514132915907092\n",
      "Minibatch step 159/128000: mean batch inertia: 0.5043917298316956, ewa inertia: 0.5139807110358949\n",
      "Minibatch step 160/128000: mean batch inertia: 0.5100942850112915, ewa inertia: 0.5139199860925551\n",
      "Minibatch step 161/128000: mean batch inertia: 0.5057193636894226, ewa inertia: 0.5137918523450891\n",
      "Minibatch step 162/128000: mean batch inertia: 0.50248783826828, ewa inertia: 0.513615228472672\n",
      "Minibatch step 163/128000: mean batch inertia: 0.49911049008369446, ewa inertia: 0.5133885936644307\n",
      "Minibatch step 164/128000: mean batch inertia: 0.5054196715354919, ewa inertia: 0.5132640802061282\n",
      "Minibatch step 165/128000: mean batch inertia: 0.5086626410484314, ewa inertia: 0.5131921832678193\n",
      "Minibatch step 166/128000: mean batch inertia: 0.5180442929267883, ewa inertia: 0.5132679969028286\n",
      "Minibatch step 167/128000: mean batch inertia: 0.5064902901649475, ewa inertia: 0.5131620960430087\n",
      "Minibatch step 168/128000: mean batch inertia: 0.5028839111328125, ewa inertia: 0.5130015006290327\n",
      "Minibatch step 169/128000: mean batch inertia: 0.503864049911499, ewa inertia: 0.512858729050832\n",
      "Minibatch step 170/128000: mean batch inertia: 0.5091993808746338, ewa inertia: 0.5128015521718038\n",
      "Minibatch step 171/128000: mean batch inertia: 0.5053547620773315, ewa inertia: 0.5126851969642975\n",
      "Minibatch step 172/128000: mean batch inertia: 0.4961451590061188, ewa inertia: 0.512426760842912\n",
      "Minibatch step 173/128000: mean batch inertia: 0.5054160952568054, ewa inertia: 0.5123172200288592\n",
      "Minibatch step 174/128000: mean batch inertia: 0.4987299144268036, ewa inertia: 0.5121049199985478\n",
      "Minibatch step 175/128000: mean batch inertia: 0.5019107460975647, ewa inertia: 0.5119456372465759\n",
      "Minibatch step 176/128000: mean batch inertia: 0.4917329251766205, ewa inertia: 0.5116298160300076\n",
      "Minibatch step 177/128000: mean batch inertia: 0.4943532943725586, ewa inertia: 0.5113598724386161\n",
      "Minibatch step 178/128000: mean batch inertia: 0.5167786478996277, ewa inertia: 0.5114445401592309\n",
      "Minibatch step 179/128000: mean batch inertia: 0.5059285163879395, ewa inertia: 0.5113583529453608\n",
      "Minibatch step 180/128000: mean batch inertia: 0.5154672265052795, ewa inertia: 0.5114225536049224\n",
      "Minibatch step 181/128000: mean batch inertia: 0.5002017021179199, ewa inertia: 0.5112472291380575\n",
      "Minibatch step 182/128000: mean batch inertia: 0.5025323629379272, ewa inertia: 0.5111110603925656\n",
      "Minibatch step 183/128000: mean batch inertia: 0.5093539953231812, ewa inertia: 0.5110836064603134\n",
      "Minibatch step 184/128000: mean batch inertia: 0.5002560615539551, ewa inertia: 0.5109144273618856\n",
      "Minibatch step 185/128000: mean batch inertia: 0.4969896972179413, ewa inertia: 0.510696855113331\n",
      "Minibatch step 186/128000: mean batch inertia: 0.5082253217697144, ewa inertia: 0.5106582376994644\n",
      "Minibatch step 187/128000: mean batch inertia: 0.5207935571670532, ewa inertia: 0.5108166008579305\n",
      "Minibatch step 188/128000: mean batch inertia: 0.5058587193489075, ewa inertia: 0.510739134550373\n",
      "Minibatch step 189/128000: mean batch inertia: 0.4907563328742981, ewa inertia: 0.5104269056563018\n",
      "Minibatch step 190/128000: mean batch inertia: 0.5050203800201416, ewa inertia: 0.5103424293377399\n",
      "Minibatch step 191/128000: mean batch inertia: 0.492284893989563, ewa inertia: 0.5100602825005341\n",
      "Minibatch step 192/128000: mean batch inertia: 0.50629723072052, ewa inertia: 0.5100014852650587\n",
      "Minibatch step 193/128000: mean batch inertia: 0.49472466111183167, ewa inertia: 0.50976278670879\n",
      "Minibatch step 194/128000: mean batch inertia: 0.5031918883323669, ewa inertia: 0.5096601172049646\n",
      "Minibatch step 195/128000: mean batch inertia: 0.5069971680641174, ewa inertia: 0.5096185089420847\n",
      "Minibatch step 196/128000: mean batch inertia: 0.4995177686214447, ewa inertia: 0.5094606860786676\n",
      "Minibatch step 197/128000: mean batch inertia: 0.5029721856117249, ewa inertia: 0.5093593040323552\n",
      "Minibatch step 198/128000: mean batch inertia: 0.5043173432350159, ewa inertia: 0.5092805239959407\n",
      "Minibatch step 199/128000: mean batch inertia: 0.5065485239028931, ewa inertia: 0.5092378368201642\n",
      "Minibatch step 200/128000: mean batch inertia: 0.5018248558044434, ewa inertia: 0.5091220098754831\n",
      "Minibatch step 201/128000: mean batch inertia: 0.5038224458694458, ewa inertia: 0.5090392048196412\n",
      "Minibatch step 202/128000: mean batch inertia: 0.4979552626609802, ewa inertia: 0.5088660195447109\n",
      "Minibatch step 203/128000: mean batch inertia: 0.49306973814964294, ewa inertia: 0.5086192045309621\n",
      "Minibatch step 204/128000: mean batch inertia: 0.49166664481163025, ewa inertia: 0.5083543228062347\n",
      "Minibatch step 205/128000: mean batch inertia: 0.49536022543907166, ewa inertia: 0.5081512915838781\n",
      "Minibatch step 206/128000: mean batch inertia: 0.5097498297691345, ewa inertia: 0.5081762685524636\n",
      "Minibatch step 207/128000: mean batch inertia: 0.5161250233650208, ewa inertia: 0.5083004668988516\n",
      "Minibatch step 208/128000: mean batch inertia: 0.5139861702919006, ewa inertia: 0.5083893053365846\n",
      "Minibatch step 209/128000: mean batch inertia: 0.5037298798561096, ewa inertia: 0.5083165023688947\n",
      "Minibatch step 210/128000: mean batch inertia: 0.5057749152183533, ewa inertia: 0.508276790372646\n",
      "Minibatch step 211/128000: mean batch inertia: 0.5005062222480774, ewa inertia: 0.5081553761720163\n",
      "Minibatch step 212/128000: mean batch inertia: 0.5008890628814697, ewa inertia: 0.5080418408930569\n",
      "Minibatch step 213/128000: mean batch inertia: 0.5043271780014038, ewa inertia: 0.5079837997281937\n",
      "Minibatch step 214/128000: mean batch inertia: 0.5081950426101685, ewa inertia: 0.5079871003730426\n",
      "Minibatch step 215/128000: mean batch inertia: 0.502447247505188, ewa inertia: 0.5079005408323792\n",
      "Minibatch step 216/128000: mean batch inertia: 0.504205584526062, ewa inertia: 0.5078428075805628\n",
      "Minibatch step 217/128000: mean batch inertia: 0.500285804271698, ewa inertia: 0.5077247303047199\n",
      "Minibatch step 218/128000: mean batch inertia: 0.49293261766433716, ewa inertia: 0.5074936053080576\n",
      "Minibatch step 219/128000: mean batch inertia: 0.4947792589664459, ewa inertia: 0.5072949451621266\n",
      "Minibatch step 220/128000: mean batch inertia: 0.49668076634407043, ewa inertia: 0.5071290998833935\n",
      "Minibatch step 221/128000: mean batch inertia: 0.5157667994499207, ewa inertia: 0.5072640629094343\n",
      "Minibatch step 222/128000: mean batch inertia: 0.5043712854385376, ewa inertia: 0.5072188636062949\n",
      "Minibatch step 223/128000: mean batch inertia: 0.4988267421722412, ewa inertia: 0.5070877377092989\n",
      "Minibatch step 224/128000: mean batch inertia: 0.4970731735229492, ewa inertia: 0.5069312613377072\n",
      "Minibatch step 225/128000: mean batch inertia: 0.5071708559989929, ewa inertia: 0.5069350049757281\n",
      "Minibatch step 226/128000: mean batch inertia: 0.5000049471855164, ewa inertia: 0.506826723648877\n",
      "Minibatch step 227/128000: mean batch inertia: 0.5023975372314453, ewa inertia: 0.5067575181391009\n",
      "Minibatch step 228/128000: mean batch inertia: 0.4988000690937042, ewa inertia: 0.5066331839463611\n",
      "Minibatch step 229/128000: mean batch inertia: 0.5077334642410278, ewa inertia: 0.5066503756948026\n",
      "Minibatch step 230/128000: mean batch inertia: 0.5076473355293274, ewa inertia: 0.5066659530733711\n",
      "Minibatch step 231/128000: mean batch inertia: 0.4988577365875244, ewa inertia: 0.5065439506215846\n",
      "Minibatch step 232/128000: mean batch inertia: 0.5064780712127686, ewa inertia: 0.5065429212636753\n",
      "Minibatch step 233/128000: mean batch inertia: 0.500678300857544, ewa inertia: 0.5064512872689414\n",
      "Minibatch step 234/128000: mean batch inertia: 0.5035422444343567, ewa inertia: 0.5064058338214332\n",
      "Minibatch step 235/128000: mean batch inertia: 0.49829551577568054, ewa inertia: 0.5062791110687862\n",
      "Minibatch step 236/128000: mean batch inertia: 0.5046007633209229, ewa inertia: 0.5062528870852989\n",
      "Minibatch step 237/128000: mean batch inertia: 0.5127944946289062, ewa inertia: 0.5063550989233533\n",
      "Minibatch step 238/128000: mean batch inertia: 0.5061122179031372, ewa inertia: 0.5063513039363658\n",
      "Minibatch step 239/128000: mean batch inertia: 0.5030495524406433, ewa inertia: 0.5062997144628416\n",
      "Minibatch step 240/128000: mean batch inertia: 0.5102918148040771, ewa inertia: 0.5063620905547815\n",
      "Minibatch step 241/128000: mean batch inertia: 0.5122207403182983, ewa inertia: 0.5064536312589364\n",
      "Minibatch step 242/128000: mean batch inertia: 0.5029703378677368, ewa inertia: 0.5063992052149366\n",
      "Minibatch step 243/128000: mean batch inertia: 0.5018115639686584, ewa inertia: 0.5063275238673488\n",
      "Minibatch step 244/128000: mean batch inertia: 0.512606680393219, ewa inertia: 0.5064256349395374\n",
      "Minibatch step 245/128000: mean batch inertia: 0.5027523636817932, ewa inertia: 0.5063682405140199\n",
      "Minibatch step 246/128000: mean batch inertia: 0.5064402222633362, ewa inertia: 0.5063693652202721\n",
      "Converged (lack of improvement in inertia) at step 246/128000\n",
      "Min cluster size: 205\n",
      "Max cluster size: 2650\n",
      "Mean cluster size: 1024.0\n",
      "(array([  0,   1,   2,   3,   4,   5,   6,   7,   8,   9,  10,  11,  12,\n",
      "        13,  14,  15,  16,  17,  18,  19,  20,  21,  22,  23,  24,  25,\n",
      "        26,  27,  28,  29,  30,  31,  32,  33,  34,  35,  36,  37,  38,\n",
      "        39,  40,  41,  42,  43,  44,  45,  46,  47,  48,  49,  50,  51,\n",
      "        52,  53,  54,  55,  56,  57,  58,  59,  60,  61,  62,  63,  64,\n",
      "        65,  66,  67,  68,  69,  70,  71,  72,  73,  74,  75,  76,  77,\n",
      "        78,  79,  80,  81,  82,  83,  84,  85,  86,  87,  88,  89,  90,\n",
      "        91,  92,  93,  94,  95,  96,  97,  98,  99, 100, 101, 102, 103,\n",
      "       104, 105, 106, 107, 108, 109, 110, 111, 112, 113, 114, 115, 116,\n",
      "       117, 118, 119, 120, 121, 122, 123, 124, 125, 126, 127], dtype=int32), array([1302,  377, 1035,  632,  877, 2322,  370,  911,  846,  694,  484,\n",
      "        866, 1544,  342, 1247,  520, 1552,  641, 1291, 2650,  938,  520,\n",
      "       1470,  789, 1701,  467, 1425, 1075,  456, 1011, 1888,  473, 1778,\n",
      "       1202, 1896,  572, 2029, 2555,  479,  340,  538, 1474, 1391,  831,\n",
      "        705, 1012, 1141,  824,  572, 2020, 1542,  821,  613,  810, 1487,\n",
      "        507, 1374, 1051, 1863, 1042,  614,  561, 2548,  986, 1396, 1443,\n",
      "        823, 2015,  657,  946,  900,  205,  566,  938, 1546,  383, 1393,\n",
      "       1089,  765, 1438, 1145,  466,  859,  900,  266, 1682, 1217,  398,\n",
      "       1003, 1412, 1441, 1134, 1927, 1033,  471, 2240,  960,  418,  634,\n",
      "       1796,  562, 1473,  348,  758,  584,  641,  792,  308,  642,  841,\n",
      "        580, 1331,  821,  826, 1237, 1246, 1323, 1251, 1206,  693,  768,\n",
      "       1590,  446,  847,  585,  394,  703,  477]))\n",
      "[ 34  63 126  76  56  41  86  98  82  37]\n",
      "[1302  377 1035  632  877 2322  370  911  846  694]\n",
      "[1896 1927 2015 2020 2029 2240 2322 2548 2555 2650]\n",
      "2650\n",
      "98304.0\n",
      "5205\n",
      "98304.0\n",
      "7753\n",
      "98304.0\n",
      "10075\n",
      "98304.0\n",
      "12315\n",
      "98304.0\n",
      "14344\n",
      "98304.0\n",
      "16364\n",
      "98304.0\n",
      "18379\n",
      "98304.0\n",
      "20306\n",
      "98304.0\n",
      "22202\n",
      "98304.0\n",
      "24090\n",
      "98304.0\n",
      "25953\n",
      "98304.0\n",
      "27749\n",
      "98304.0\n",
      "29527\n",
      "98304.0\n",
      "31228\n",
      "98304.0\n",
      "32910\n",
      "98304.0\n",
      "34500\n",
      "98304.0\n",
      "36052\n",
      "98304.0\n",
      "37598\n",
      "98304.0\n",
      "39142\n",
      "98304.0\n",
      "40684\n",
      "98304.0\n",
      "42171\n",
      "98304.0\n",
      "43645\n",
      "98304.0\n",
      "45118\n",
      "98304.0\n",
      "46588\n",
      "98304.0\n",
      "48031\n",
      "98304.0\n",
      "49472\n",
      "98304.0\n",
      "50910\n",
      "98304.0\n",
      "52335\n",
      "98304.0\n",
      "53747\n",
      "98304.0\n",
      "55143\n",
      "98304.0\n",
      "56536\n",
      "98304.0\n",
      "57927\n",
      "98304.0\n",
      "59301\n",
      "98304.0\n",
      "60632\n",
      "98304.0\n",
      "61955\n",
      "98304.0\n",
      "63257\n",
      "98304.0\n",
      "64548\n",
      "98304.0\n",
      "65799\n",
      "98304.0\n",
      "67046\n",
      "98304.0\n",
      "68292\n",
      "98304.0\n",
      "69529\n",
      "98304.0\n",
      "70746\n",
      "98304.0\n",
      "71952\n",
      "98304.0\n",
      "73154\n",
      "98304.0\n",
      "74299\n",
      "98304.0\n",
      "75440\n",
      "98304.0\n",
      "76574\n",
      "98304.0\n",
      "77663\n",
      "98304.0\n",
      "78738\n",
      "98304.0\n",
      "79789\n",
      "98304.0\n",
      "80831\n",
      "98304.0\n",
      "81866\n",
      "98304.0\n",
      "82899\n",
      "98304.0\n",
      "83911\n",
      "98304.0\n",
      "84922\n",
      "98304.0\n",
      "85925\n",
      "98304.0\n",
      "86911\n",
      "98304.0\n",
      "87871\n",
      "98304.0\n",
      "88817\n",
      "98304.0\n",
      "89755\n",
      "98304.0\n",
      "90693\n",
      "98304.0\n",
      "91604\n",
      "98304.0\n",
      "92504\n",
      "98304.0\n",
      "93404\n",
      "98304.0\n",
      "94281\n",
      "98304.0\n",
      "95147\n",
      "98304.0\n",
      "96006\n",
      "98304.0\n",
      "96853\n",
      "98304.0\n",
      "97699\n",
      "98304.0\n",
      "98540\n",
      "98304.0\n",
      "71\n",
      "Using 71 clusters to make up 75.0% of the data, 98540 samples\n"
     ]
    }
   ],
   "source": [
    "n_attack_clusters = 128\n",
    "percent = 0.75\n",
    "n_clusters = 8192\n",
    "\n",
    "init = 'k-means++' if n_attack_clusters <= 1024 else 'random'\n",
    "n_init = 3 if n_attack_clusters <= 1024 else 10\n",
    "kmeans_model = MiniBatchKMeans(n_clusters=n_attack_clusters, init=init, n_init=n_init, batch_size=1024, verbose=True, max_iter=1000)\n",
    "kmeans_model.fit(embeddings)\n",
    "# print the min max and mean cluster counts\n",
    "cluster_counts = np.bincount(kmeans_model.labels_)\n",
    "print(f'Min cluster size: {cluster_counts.min()}')\n",
    "print(f'Max cluster size: {cluster_counts.max()}')\n",
    "print(f'Mean cluster size: {cluster_counts.mean()}')\n",
    "# select the n largest clusters that make up percent of the data\n",
    "print(np.unique(kmeans_model.labels_, return_counts=True))\n",
    "cluster_counts = np.unique(kmeans_model.labels_, return_counts=True)[-1]\n",
    "sorted_cluster_counts = cluster_counts[np.argsort(cluster_counts)]\n",
    "\n",
    "print(kmeans_model.labels_[:10])\n",
    "print(cluster_counts[:10])\n",
    "print(sorted_cluster_counts[-10:])\n",
    "\n",
    "sorted_clusters = np.arange(n_attack_clusters)[np.argsort(cluster_counts)]\n",
    "\n",
    "n = 0\n",
    "total = 0\n",
    "for i in range(1, len(cluster_counts)):\n",
    "    total += sorted_cluster_counts[-i]\n",
    "    print(total)\n",
    "    print(len(embeddings) * percent)\n",
    "    if total > len(embeddings) * percent:\n",
    "        n = i\n",
    "        print(i)\n",
    "        break\n",
    "print(f'Using {n} clusters to make up {percent*100}% of the data, {total} samples')\n",
    "largest_clusters = sorted_clusters[-n:]\n",
    "\n",
    "# get samples from the largest clusters\n",
    "subset_embeds = []\n",
    "subset_samples = []\n",
    "for c in largest_clusters:\n",
    "    start = 0\n",
    "    for boo in kmeans_model.labels_ == c:\n",
    "        if boo:\n",
    "            subset_embeds.append(embeddings[start])\n",
    "            subset_samples.append(big_dataset[start])\n",
    "        start += 1\n",
    "subset_embeds = np.array(subset_embeds)\n",
    "subset_samples = np.array(subset_samples)\n",
    "\n",
    "# save a random 8192+512 subset of subset_samples\n",
    "sp = np.random.permutation(len(subset_samples))\n",
    "with open(f'data/atk_43_{8192+512}_0.json', 'w') as f:\n",
    "    json.dump(subset_samples[sp][:8192+512].tolist(), f)\n",
    "if len(subset_samples) > (8192+512)*2:\n",
    "    with open(f'data/atk_43_{8192+512}_1.json', 'w') as f:\n",
    "        json.dump(subset_samples[sp][8192+512:8192+512*2].tolist(), f)"
   ]
  },
  {
   "cell_type": "code",
   "execution_count": 37,
   "metadata": {},
   "outputs": [
    {
     "data": {
      "text/plain": [
       "array([{'instruction': 'Analyze the impact of colonization on indigenous cultures and societies around the world.', 'response': \"The impact of colonization on indigenous cultures and societies around the world has been profound and multifaceted, with long-lasting effects that are still felt today. The following points provide an analysis of these impacts:\\n\\n1. Loss of Land and Sovereignty: Indigenous peoples often suffered from the expropriation of their ancestral lands, which were central to their livelihoods, culture, and identity. This loss of land meant a loss of sovereignty and self-determination, as colonial powers imposed new political and legal systems.\\n\\n2. Cultural Erasure and Assimilation: Colonizers frequently attempted to erase indigenous cultures, languages, and religions, imposing their own cultural norms and practices. This was often done through policies of assimilation, such as residential schools in Canada or the Stolen Generations in Australia, where indigenous children were forcibly removed from their families to be 'civilized' according to European standards.\\n\\n3. Population Decline: The arrival of colonizers brought diseases to which indigenous populations had no immunity, resulting in catastrophic mortality rates. Additionally, violent conflicts and massacres further reduced indigenous populations.\\n\\n4. Economic Exploitation: Indigenous societies were often forced into colonial economies that exploited their labor and resources. Traditional economies were disrupted, and people were made to work in mines, plantations, and other colonial enterprises, often under harsh conditions.\\n\\n5. Social Disruption: The imposition of colonial rule disrupted traditional social structures and hierarchies. Indigenous governance systems were often replaced or undermined, leading to social disintegration and the loss of communal cohesion.\\n\\n6. Environmental Degradation: Colonization frequently involved the exploitation of natural resources, leading to environmental degradation. This not only harmed the physical landscape but also disrupted the spiritual and cultural connections that indigenous peoples had with their environment.\\n\\n7. Psychological Impact: The experience of colonization has had a lasting psychological impact on indigenous peoples, including intergenerational trauma. The loss of culture, identity, and autonomy has contributed to social issues such as substance abuse, mental health problems, and suicide.\\n\\n8. Resistance and Resilience: Despite these impacts, many indigenous cultures have shown remarkable resilience. There have been numerous instances of resistance against colonial powers, and in modern times, a resurgence of indigenous identity and cultural pride has emerged.\\n\\n9. Legal and Political Changes: In recent decades, there has been a growing recognition of the rights of indigenous peoples. International legal instruments like the United Nations Declaration on the Rights of Indigenous Peoples (UNDRIP) have been established to protect their rights and promote their welfare.\\n\\n10. Cultural Revival: Efforts to revive and preserve indigenous languages, traditions, and practices have gained momentum. Indigenous peoples are increasingly asserting their rights to cultural expression and are finding new ways to celebrate and perpetuate their heritage.\\n\\nIn summary, colonization has had devastating effects on indigenous cultures and societies, including loss of land, cultural erasure, population decline, economic exploitation, and environmental degradation. However, the resilience of indigenous peoples has led to cultural revival and a growing recognition of their rights in the international arena. The legacy of colonization is complex, and its impacts continue to shape the experiences of indigenous peoples worldwide.\"},\n",
       "       {'instruction': 'Investigate the influence of colonialism on the social structures of post-colonial societies.', 'response': 'The influence of colonialism on the social structures of post-colonial societies is profound and multifaceted. Colonialism often involved the domination and exploitation of one society by another, and this historical process has left deep marks on the social, economic, political, and cultural landscapes of former colonies. Here are several key areas where the influence of colonialism can be seen:\\n\\n1. **Ethnic and Social Stratification**: Colonial powers often favored certain ethnic groups over others, which led to a stratification of society along ethnic lines. This favoritism could be based on perceived racial characteristics or on the willingness of a group to collaborate with colonial authorities. The consequences of this stratification can include entrenched ethnic divisions, minority rule, and inter-ethnic conflict.\\n\\n2. **Cultural Hegemony**: Colonial powers often imposed their own languages, religions, and cultural practices on the societies they colonized. This cultural hegemony can lead to the erosion of indigenous cultures and languages and can create a preference for Western norms and values that persists long after the end of colonial rule.\\n\\n3. **Political Structures**: The political systems of many post-colonial societies have been shaped by their colonial past. Colonial powers often established centralized, authoritarian regimes to control their territories, and these structures were sometimes adopted by post-colonial governments. Additionally, the drawing of arbitrary borders by colonial powers without regard for ethnic or cultural divisions has led to ongoing political instability in some regions.\\n\\n4. **Economic Dependency**: Colonialism often involved the extraction of resources and the exploitation of labor in colonized societies for the benefit of the colonial powers. This created patterns of economic dependency that have been difficult to break after independence, with many post-colonial societies continuing to rely on the export of a limited range of commodities.\\n\\n5. **Legal Systems**: The legal systems of many post-colonial societies are based on the legal frameworks established by colonial powers. This can include the use of foreign legal codes, the continuation of colonial-era laws, and the perpetuation of legal practices that may not be well-suited to the local context.\\n\\n6. **Education Systems**: Colonial powers often established educational systems that served their own interests, such as training a local elite to assist in administration or promoting a colonial language. The content and structure of these systems can have lasting effects on the values and aspirations of post-colonial societies.\\n\\n7. **Social Capital and Networks**: Colonialism disrupted pre-existing social networks and institutions, replacing them with new structures that were often designed to serve the interests of the colonial power. This has had a lasting impact on the forms of social capital and the types of networks that are available in post-colonial societies.\\n\\n8. **Gender Relations**: Colonial powers often imposed their own gender norms on colonized societies, which could alter the status and roles of women and men in significant ways. In some cases, this led to the marginalization of women and the disruption of matrilineal societies.\\n\\n9. **Health and Environment**: Colonialism frequently involved the introduction of new diseases to which indigenous populations had no immunity, leading to significant population declines and social disruption. Additionally, colonial agricultural and industrial practices often had long-term environmental impacts that continue to affect social structures.\\n\\n10. **Psychological Impact**: The experience of colonization can have a lasting psychological impact on individuals and societies, including feelings of inferiority, loss of identity, and internalized oppression. This can affect social cohesion and the ability of post-colonial societies to forge a positive collective identity.\\n\\nIn summary, colonialism has deeply influenced the social structures of post-colonial societies in ways that are complex and enduring. The legacy of colonialism is often a source of ongoing challenges, including social inequality, political instability, and economic underdevelopment. Post-colonial societies must navigate these legacies while trying to build social structures that are equitable, sustainable, and reflective of their own histories and cultures.'},\n",
       "       {'instruction': 'Investigate the impact of colonialism on indigenous cultures and societies in a particular region.', 'response': \"To investigate the impact of colonialism on indigenous cultures and societies, let's focus on the region of North America, specifically on the effects of European colonization on Native American tribes.\\n\\nColonialism in North America began in the late 15th century when Europeans arrived and started to establish settlements. The impact on indigenous cultures and societies was profound and multifaceted, including the following aspects:\\n\\n1. **Disease**: One of the most immediate and devastating impacts of European contact was the introduction of diseases such as smallpox, influenza, and measles. Native American populations had no immunity to these diseases, which led to catastrophic mortality rates, sometimes wiping out entire communities.\\n\\n2. **Land Dispossession**: European settlers claimed land for their own use, often ignoring the indigenous peoples' ancestral claims. This dispossession was sometimes formalized through treaties, which were frequently violated or misunderstood by the indigenous parties, and other times it occurred through outright seizure and warfare.\\n\\n3. **Cultural Disruption**: The settlers often viewed indigenous cultures as inferior\"},\n",
       "       ...,\n",
       "       {'instruction': 'Discuss the ethical considerations surrounding mandatory vaccination policies during a public health crisis., 8, 10', 'response': 'Mandatory vaccination policies during a public health crisis, such as a pandemic, raise several ethical considerations. These considerations often involve balancing individual rights and freedoms against the collective good of public health. Here are some of the key ethical issues:\\n\\n1. **Public Health vs. Individual Autonomy**: Mandatory vaccination policies can be seen as infringing on individual autonomy and the right to make personal health decisions. Ethically, it is important to consider the extent to which it is acceptable to limit individual freedoms for the sake of public health and safety.\\n\\n2. **Beneficence**: The principle of beneficence refers to the ethical obligation to act for the benefit of others. In the context of a public health crisis, this could justify mandatory vaccinations as a means to prevent harm to the population, especially vulnerable groups.\\n\\n3. **Nonmaleficence**: This principle dictates that one should not cause harm to others. If not vaccinating increases the risk of spreading a disease, mandatory vaccination policies could be seen as a way to prevent harm to the community.\\n\\n4. **Justice**: Ethical considerations of justice involve ensuring fair distribution of the burdens and benefits of public health policies. Mandatory vaccination policies must be applied fairly and without discrimination, and access to vaccines should be equitable.\\n\\n5. **Proportionality**: Any infringement on individual rights must be proportionate to the public health benefit gained. The severity of the public health crisis and the effectiveness and safety of the vaccine are factors that must be weighed.\\n\\n6. **Transparency and Trust**: For mandatory vaccination policies to be ethically justifiable, they must be based on transparent decision-making and trustworthy information. Public trust is essential for compliance and to avoid perceptions of coercion or manipulation.\\n\\n7. **Reciprocity**: If individuals are required to take on the burden of vaccination for the greater good, society has an ethical obligation to support those who are adversely affected by the policy, for example, by compensating those who experience serious side effects from a vaccine.\\n\\n8. **Informed Consent**: Even in the context of mandatory policies, it is important to ensure that individuals are given as much choice as possible and that they are fully informed about the benefits and risks of vaccination.\\n\\n9. **Privacy**: Mandatory vaccination policies may require the collection and management of personal health information, which raises concerns about privacy and the potential for misuse of data.\\n\\n10. **Global Considerations**: In a global health crisis, there are ethical considerations regarding the distribution of vaccines between countries. Wealthier nations have a moral responsibility to ensure that lower-income countries also have access to vaccines, to avoid exacerbating global health inequalities.\\n\\nIn conclusion, mandatory vaccination policies during a public health crisis involve complex ethical considerations that require careful balancing of individual rights and the collective good. Policymakers must navigate these issues with sensitivity and attention to the diverse values and beliefs of the population they serve.'},\n",
       "       {'instruction': 'Discuss the impact of pandemics on public health and healthcare systems in a comprehensive essay', 'response': 'Here is a draft comprehensive essay discussing the impact of pandemics on public health and healthcare systems:\\n\\nPandemics can have devastating effects on public health and healthcare systems around the world. When a new, highly infectious disease emerges and spreads globally, it challenges public health infrastructure and stretches healthcare capacity. Recent examples like COVID-19 and H1N1 influenza highlight the profound impacts pandemics can have.\\n\\nFirst and foremost, widespread infectious disease outbreaks directly threaten public health through illness and loss of life. The sheer scale of infection taxes public health resources for disease monitoring, containment, and treatment. Healthcare workers and essential supplies like tests, protective equipment, and medications can quickly become overwhelmed. This diminishes the quality of care for pandemic and routine health issues alike. Tragically, a lack of capacity leads to otherwise preventable deaths. Vulnerable populations like the elderly and those with chronic conditions are hit especially hard. Beyond direct health effects, disruptions to everyday life necessary for infection control also take physical and mental health tolls.\\n\\nPandemics additionally strain healthcare systems to the breaking point. Surges of infections flood hospitals, filling ICU beds and requiring emergency expansions of capacity. Healthcare workers are under extreme pressure and at high risk of contracting infections themselves. The additional costs of supplies, facilities, labor, research, and community health initiatives accumulate into a huge economic burden. Importantly, routine and elective healthcare services are often paused or avoided during outbreaks. Missed cancer screenings, delayed surgeries, and lapses in chronic disease management demonstrate some of the indirect costs to non-pandemic medical care. Fear of infection also deters people from seeking preventive services and emergency care when needed.\\n\\nFinally, the impacts of pandemics can reverberate for years even after an outbreak stabilizes. Loss of healthcare workers, organizational instability, and staggering expenses contribute to long-term fallout. Facilities and staff require time to recover and catch up on backlogs. Burnout, early retirement, and'},\n",
       "       {'instruction': 'Evaluate the effectiveness of travel restrictions in preventing the spread of pandemics., 11, 16', 'response': \"The effectiveness of travel restrictions in preventing the spread of pandemics is a complex issue that has been the subject of much debate among public health experts, policymakers, and researchers. The impact of travel restrictions can vary depending on several factors, including the timing, strictness, and duration of the restrictions, as well as the nature of the disease in question.\\n\\nHere are some points to consider when evaluating the effectiveness of travel restrictions:\\n\\n1. Timing: Early implementation of travel restrictions can be crucial. If restrictions are put in place before a disease spreads widely, they can slow the introduction of the pathogen to new areas and reduce the speed of its spread. However, once a disease is widespread, travel restrictions may have limited impact.\\n\\n2. Disease Characteristics: The effectiveness of travel restrictions also depends on the characteristics of the disease, such as its incubation period, mode of transmission, and reproduction number (R0). For diseases with a long incubation period or asymptomatic spread, travel restrictions might be less effective because individuals could travel and transmit the disease before showing symptoms.\\n\\n3. Compliance and Enforcement: The success of travel restrictions relies heavily on public compliance and the ability of authorities to enforce them. Inconsistent enforcement or non-compliance can undermine the effectiveness of travel restrictions.\\n\\n4. Economic and Social Impact: Travel restrictions can have significant economic and social consequences, including disruptions to supply chains, tourism, and international cooperation. These impacts must be weighed against the potential public health benefits.\\n\\n5. Alternative Measures: Travel restrictions are often used in conjunction with other public health measures, such as testing, contact tracing, quarantine, and social distancing. The combined effect of multiple interventions can be more effective than travel restrictions alone.\\n\\n6. International Coordination: Coordinated international responses can enhance the effectiveness of travel restrictions. Unilateral actions without consideration of neighboring countries' policies may lead to less effective outcomes.\\n\\n7. Evidence from Past Pandemics: Studies on past pandemics, such as the 2009 H1N1 influenza pandemic and the 2014-2016 Ebola outbreak, have shown mixed results regarding the effectiveness of travel restrictions. During the COVID-19 pandemic, some studies suggested that travel restrictions delayed the spread of the virus but did not contain it completely.\\n\\n8. Unintended Consequences: Travel restrictions can lead to unintended consequences, such as stigmatization, reduced willingness to report cases, and travelers circumventing controls by using indirect routes.\\n\\nIn summary, while travel restrictions can play a role in slowing the spread of a pandemic, especially if implemented early and decisively, they are not a panacea. They are most effective when part of a broader, multi-faceted public health response. The decision to implement travel restrictions should be based on a careful analysis of the disease in question, the potential benefits and drawbacks of the restrictions, and the context in which they are applied.\"}],\n",
       "      dtype=object)"
      ]
     },
     "execution_count": 37,
     "metadata": {},
     "output_type": "execute_result"
    }
   ],
   "source": [
    "subset_samples"
   ]
  },
  {
   "cell_type": "code",
   "execution_count": 39,
   "metadata": {},
   "outputs": [
    {
     "data": {
      "text/plain": [
       "array([[-0.05884134,  0.05181276, -0.00371584, ...,  0.01626306,\n",
       "        -0.01463386,  0.07387857],\n",
       "       [-0.01399518,  0.03927134, -0.00403549, ...,  0.00412287,\n",
       "         0.00315406,  0.04916049],\n",
       "       [-0.06582557,  0.06758276, -0.00333497, ...,  0.04329142,\n",
       "         0.00593905,  0.06452539],\n",
       "       ...,\n",
       "       [ 0.02079013,  0.05840173,  0.01824759, ...,  0.06583481,\n",
       "         0.04182463,  0.04024681],\n",
       "       [-0.0162323 ,  0.05460132, -0.00421669, ...,  0.03332208,\n",
       "         0.03374774, -0.01321412],\n",
       "       [-0.00055052,  0.04371648, -0.0277775 , ...,  0.05154691,\n",
       "         0.00015421,  0.01283839]], dtype=float32)"
      ]
     },
     "execution_count": 39,
     "metadata": {},
     "output_type": "execute_result"
    }
   ],
   "source": [
    "subset_embeds"
   ]
  },
  {
   "cell_type": "code",
   "execution_count": null,
   "metadata": {},
   "outputs": [],
   "source": []
  },
  {
   "cell_type": "code",
   "execution_count": null,
   "metadata": {},
   "outputs": [],
   "source": []
  },
  {
   "cell_type": "code",
   "execution_count": null,
   "metadata": {},
   "outputs": [],
   "source": []
  },
  {
   "cell_type": "code",
   "execution_count": 9,
   "metadata": {},
   "outputs": [],
   "source": [
    "with open('data/alpaca_data_cleaned.json', 'r') as f:\n",
    "    alpaca_data = json.load(f)\n",
    "\n",
    "reformatted_alpaca_data = []\n",
    "for item in alpaca_data:\n",
    "    if item['input'] == \"\":\n",
    "        reformatted_alpaca_data.append({\"instruction\": item['instruction'], \"response\": item['output']})\n",
    "reformatted_alpaca_data = np.array(reformatted_alpaca_data)\n",
    "\n",
    "p = np.random.permutation(len(reformatted_alpaca_data))\n",
    "# save the dataset as a json file\n",
    "with open('data/alpaca_2048.json', 'w') as f:\n",
    "    json.dump(reformatted_alpaca_data[p][:2048].tolist(), f)"
   ]
  },
  {
   "cell_type": "code",
   "execution_count": 31,
   "metadata": {},
   "outputs": [],
   "source": [
    "with open('data/ExpertRevisionDataset.json', 'r') as f:\n",
    "    ERD = json.load(f)\n",
    "\n",
    "ref_ERD = []\n",
    "for item in ERD:\n",
    "    if item['Revised Instruction'] != \"\" and item['Revised Response'] != \"\":\n",
    "        if item['Revised Input'] == \"\":\n",
    "            ref_ERD.append({\"instruction\": item['Revised Instruction'], \"response\": item['Revised Response']})\n",
    "        else:\n",
    "            ref_ERD.append({\"instruction\": item['Revised Instruction'] + \" \" + item['Revised Input'], \"response\": item['Revised Response']})\n",
    "ref_ERD = np.array(ref_ERD)\n",
    "\n",
    "with open('data/ERD.json', 'w') as f:\n",
    "    json.dump(ref_ERD.tolist(), f)\n",
    "with open('data/ERD_2048.json', 'w') as f:\n",
    "    json.dump(ref_ERD[:2048].tolist(), f)"
   ]
  },
  {
   "cell_type": "code",
   "execution_count": 27,
   "metadata": {},
   "outputs": [],
   "source": [
    "import pandas as pd\n",
    "train_unp = pd.read_json(path_or_buf='data/lima_train.jsonl', lines=True)\n",
    "test_unp = pd.read_json(path_or_buf='data/lima_test.jsonl', lines=True)\n",
    "\n",
    "lima_train = []\n",
    "for conv in train_unp['conversations']:\n",
    "    if len(conv) == 2:\n",
    "        inst, resp = conv\n",
    "    else:\n",
    "        inst = conv[0]\n",
    "        resp = conv[1]\n",
    "    lima_train.append({\"instruction\": inst, \"response\": resp})\n",
    "lima_train = np.array(lima_train)\n",
    "len(lima_train)\n",
    "\n",
    "with open('data/lima_train_trunc.json', 'w') as f:\n",
    "    json.dump(lima_train.tolist(), f)"
   ]
  },
  {
   "cell_type": "code",
   "execution_count": 5,
   "metadata": {},
   "outputs": [
    {
     "name": "stderr",
     "output_type": "stream",
     "text": [
      "/tmp/ipykernel_153461/11361100.py:1: DeprecationWarning: \n",
      "Pyarrow will become a required dependency of pandas in the next major release of pandas (pandas 3.0),\n",
      "(to allow more performant data types, such as the Arrow string type, and better interoperability with other libraries)\n",
      "but was not found to be installed on your system.\n",
      "If this would cause problems for you,\n",
      "please provide us feedback at https://github.com/pandas-dev/pandas/issues/54466\n",
      "        \n",
      "  import pandas as pd\n"
     ]
    }
   ],
   "source": [
    "import pandas as pd\n",
    "train_unp = pd.read_json(path_or_buf='data/openorcaselect.jsonl', lines=True)"
   ]
  },
  {
   "cell_type": "code",
   "execution_count": 9,
   "metadata": {},
   "outputs": [
    {
     "data": {
      "text/plain": [
       "0         [{'from': 'system', 'value': 'You are an AI as...\n",
       "1         [{'from': 'system', 'value': 'You are an AI as...\n",
       "2         [{'from': 'system', 'value': 'You are an AI as...\n",
       "3         [{'from': 'system', 'value': 'You are a helpfu...\n",
       "4         [{'from': 'system', 'value': 'You are an AI as...\n",
       "                                ...                        \n",
       "517977    [{'from': 'system', 'value': 'You are an AI as...\n",
       "517978    [{'from': 'system', 'value': 'You are an AI as...\n",
       "517979    [{'from': 'system', 'value': 'You are an AI as...\n",
       "517980    [{'from': 'system', 'value': 'You are an AI as...\n",
       "517981    [{'from': 'system', 'value': 'You are an AI as...\n",
       "Name: conversations, Length: 517982, dtype: object"
      ]
     },
     "execution_count": 9,
     "metadata": {},
     "output_type": "execute_result"
    }
   ],
   "source": [
    "train_unp['conversations']"
   ]
  },
  {
   "cell_type": "code",
   "execution_count": 15,
   "metadata": {},
   "outputs": [
    {
     "data": {
      "text/plain": [
       "(642, 18253, 10, 3)"
      ]
     },
     "execution_count": 15,
     "metadata": {},
     "output_type": "execute_result"
    }
   ],
   "source": [
    "max_len_inst = 0\n",
    "max_len_resp = 0\n",
    "shortest_inst = 99999\n",
    "shortest_resp = 99999\n",
    "for conv in agg_old_data:\n",
    "    if len(conv['instruction']) > max_len_inst:\n",
    "        max_len_inst = len(conv['instruction'])\n",
    "    if len(conv['response']) > max_len_resp:\n",
    "        max_len_resp = len(conv['response'])\n",
    "    if len(conv['instruction']) < shortest_inst:\n",
    "        shortest_inst = len(conv['instruction'])\n",
    "    if len(conv['response']) < shortest_resp:\n",
    "        shortest_resp = len(conv['response'])\n",
    "\n",
    "max_len_inst, max_len_resp, shortest_inst, shortest_resp"
   ]
  },
  {
   "cell_type": "code",
   "execution_count": 14,
   "metadata": {},
   "outputs": [
    {
     "data": {
      "text/plain": [
       "302654"
      ]
     },
     "execution_count": 14,
     "metadata": {},
     "output_type": "execute_result"
    }
   ],
   "source": [
    "train = []\n",
    "for conv in train_unp['conversations']:\n",
    "    if len(conv) > 2:\n",
    "        if conv[0]['from'] == 'system':\n",
    "            conv = conv[1:3]\n",
    "        else:\n",
    "            conv = conv[0:2]\n",
    "    inst, resp = conv\n",
    "    inst = inst['value']\n",
    "    resp = resp['value']\n",
    "\n",
    "    if len(inst) > 640:\n",
    "        continue\n",
    "    if len(resp) + len(inst) > 1024 * 3:\n",
    "        continue\n",
    "\n",
    "    train.append({\"instruction\": inst, \"response\": resp})\n",
    "len(train)\n",
    "\n",
    "# slice out a random subset and save it\n",
    "train = np.array(train)\n",
    "p = np.random.permutation(len(train))\n",
    "with open('data/openorcaselect_2048.json', 'w') as f:\n",
    "    json.dump(train[p][:2048].tolist(), f)"
   ]
  },
  {
   "cell_type": "code",
   "execution_count": 40,
   "metadata": {},
   "outputs": [
    {
     "name": "stdout",
     "output_type": "stream",
     "text": [
      "Init 1/10 with method random\n",
      "Inertia for init 1/10: 6253.80517578125\n",
      "Init 2/10 with method random\n",
      "Inertia for init 2/10: 6228.8203125\n",
      "Init 3/10 with method random\n",
      "Inertia for init 3/10: 6267.46142578125\n",
      "Init 4/10 with method random\n",
      "Inertia for init 4/10: 6265.96826171875\n",
      "Init 5/10 with method random\n",
      "Inertia for init 5/10: 6281.0732421875\n",
      "Init 6/10 with method random\n",
      "Inertia for init 6/10: 6300.67919921875\n",
      "Init 7/10 with method random\n",
      "Inertia for init 7/10: 6238.0849609375\n",
      "Init 8/10 with method random\n",
      "Inertia for init 8/10: 6237.6806640625\n",
      "Init 9/10 with method random\n",
      "Inertia for init 9/10: 6235.14306640625\n",
      "Init 10/10 with method random\n",
      "Inertia for init 10/10: 6296.681640625\n",
      "[MiniBatchKMeans] Reassigning 512 cluster centers.\n",
      "Minibatch step 1/96230: mean batch inertia: 0.2569865882396698\n",
      "[MiniBatchKMeans] Reassigning 512 cluster centers.\n",
      "Minibatch step 2/96230: mean batch inertia: 0.25935330986976624, ewa inertia: 0.25935330986976624\n",
      "[MiniBatchKMeans] Reassigning 512 cluster centers.\n",
      "Minibatch step 3/96230: mean batch inertia: 0.24677728116512299, ewa inertia: 0.25909193940684105\n",
      "[MiniBatchKMeans] Reassigning 512 cluster centers.\n",
      "Minibatch step 4/96230: mean batch inertia: 0.2499869465827942, ewa inertia: 0.2589027082715405\n",
      "[MiniBatchKMeans] Reassigning 512 cluster centers.\n",
      "Minibatch step 5/96230: mean batch inertia: 0.24664945900440216, ewa inertia: 0.2586480462070283\n",
      "[MiniBatchKMeans] Reassigning 512 cluster centers.\n",
      "Minibatch step 6/96230: mean batch inertia: 0.23355400562286377, ewa inertia: 0.2581265110580409\n",
      "[MiniBatchKMeans] Reassigning 512 cluster centers.\n",
      "Minibatch step 7/96230: mean batch inertia: 0.2379673272371292, ewa inertia: 0.25770753815878855\n",
      "[MiniBatchKMeans] Reassigning 512 cluster centers.\n",
      "Minibatch step 8/96230: mean batch inertia: 0.239831805229187, ewa inertia: 0.25733602273840694\n",
      "[MiniBatchKMeans] Reassigning 512 cluster centers.\n",
      "Minibatch step 9/96230: mean batch inertia: 0.22453342378139496, ewa inertia: 0.25665427886870845\n",
      "[MiniBatchKMeans] Reassigning 512 cluster centers.\n",
      "Minibatch step 10/96230: mean batch inertia: 0.217458575963974, ewa inertia: 0.2558396656666007\n",
      "[MiniBatchKMeans] Reassigning 512 cluster centers.\n",
      "Minibatch step 11/96230: mean batch inertia: 0.21531502902507782, ewa inertia: 0.25499743293259314\n",
      "[MiniBatchKMeans] Reassigning 512 cluster centers.\n",
      "Minibatch step 12/96230: mean batch inertia: 0.21273349225521088, ewa inertia: 0.2541190518474887\n",
      "[MiniBatchKMeans] Reassigning 512 cluster centers.\n",
      "Minibatch step 13/96230: mean batch inertia: 0.21001282334327698, ewa inertia: 0.2532023820757528\n",
      "[MiniBatchKMeans] Reassigning 512 cluster centers.\n",
      "Minibatch step 14/96230: mean batch inertia: 0.20223906636238098, ewa inertia: 0.25214319990202827\n",
      "[MiniBatchKMeans] Reassigning 512 cluster centers.\n",
      "Minibatch step 15/96230: mean batch inertia: 0.21547114849090576, ewa inertia: 0.2513810363225032\n",
      "[MiniBatchKMeans] Reassigning 512 cluster centers.\n",
      "Minibatch step 16/96230: mean batch inertia: 0.19507718086242676, ewa inertia: 0.25021086049739244\n",
      "[MiniBatchKMeans] Reassigning 512 cluster centers.\n",
      "Minibatch step 17/96230: mean batch inertia: 0.19857320189476013, ewa inertia: 0.2491376633021317\n",
      "[MiniBatchKMeans] Reassigning 512 cluster centers.\n",
      "Minibatch step 18/96230: mean batch inertia: 0.20759573578834534, ewa inertia: 0.2482742879807098\n",
      "[MiniBatchKMeans] Reassigning 512 cluster centers.\n",
      "Minibatch step 19/96230: mean batch inertia: 0.191881462931633, ewa inertia: 0.24710226308040933\n",
      "[MiniBatchKMeans] Reassigning 512 cluster centers.\n",
      "Minibatch step 20/96230: mean batch inertia: 0.20094232261180878, ewa inertia: 0.24614291054613735\n",
      "[MiniBatchKMeans] Reassigning 512 cluster centers.\n",
      "Minibatch step 21/96230: mean batch inertia: 0.20179270207881927, ewa inertia: 0.24522117008337496\n",
      "[MiniBatchKMeans] Reassigning 512 cluster centers.\n",
      "Minibatch step 22/96230: mean batch inertia: 0.19863756000995636, ewa inertia: 0.24425301232741184\n",
      "[MiniBatchKMeans] Reassigning 512 cluster centers.\n",
      "Minibatch step 23/96230: mean batch inertia: 0.19179698824882507, ewa inertia: 0.24316280685646122\n",
      "[MiniBatchKMeans] Reassigning 512 cluster centers.\n",
      "Minibatch step 24/96230: mean batch inertia: 0.17699366807937622, ewa inertia: 0.2417875986059313\n",
      "[MiniBatchKMeans] Reassigning 512 cluster centers.\n",
      "Minibatch step 25/96230: mean batch inertia: 0.18704384565353394, ewa inertia: 0.2406498467458273\n",
      "[MiniBatchKMeans] Reassigning 512 cluster centers.\n",
      "Minibatch step 26/96230: mean batch inertia: 0.18515734374523163, ewa inertia: 0.23949653344329108\n",
      "[MiniBatchKMeans] Reassigning 512 cluster centers.\n",
      "Minibatch step 27/96230: mean batch inertia: 0.19244366884231567, ewa inertia: 0.23851862306382673\n",
      "[MiniBatchKMeans] Reassigning 512 cluster centers.\n",
      "Minibatch step 28/96230: mean batch inertia: 0.17826217412948608, ewa inertia: 0.2372662995901708\n",
      "[MiniBatchKMeans] Reassigning 512 cluster centers.\n",
      "Minibatch step 29/96230: mean batch inertia: 0.18027596175670624, ewa inertia: 0.23608185644586602\n",
      "[MiniBatchKMeans] Reassigning 512 cluster centers.\n",
      "Minibatch step 30/96230: mean batch inertia: 0.1853937953710556, ewa inertia: 0.2350283949518563\n",
      "[MiniBatchKMeans] Reassigning 512 cluster centers.\n",
      "Minibatch step 31/96230: mean batch inertia: 0.17841893434524536, ewa inertia: 0.23385186766552535\n",
      "[MiniBatchKMeans] Reassigning 512 cluster centers.\n",
      "Minibatch step 32/96230: mean batch inertia: 0.1943759322166443, ewa inertia: 0.2330314303267597\n",
      "[MiniBatchKMeans] Reassigning 512 cluster centers.\n",
      "Minibatch step 33/96230: mean batch inertia: 0.19630469381809235, ewa inertia: 0.2322681302144232\n",
      "[MiniBatchKMeans] Reassigning 512 cluster centers.\n",
      "Minibatch step 34/96230: mean batch inertia: 0.17934036254882812, ewa inertia: 0.231168120389283\n",
      "[MiniBatchKMeans] Reassigning 512 cluster centers.\n",
      "Minibatch step 35/96230: mean batch inertia: 0.17608924210071564, ewa inertia: 0.23002340354314804\n",
      "[MiniBatchKMeans] Reassigning 512 cluster centers.\n",
      "Minibatch step 36/96230: mean batch inertia: 0.18101908266544342, ewa inertia: 0.2290049356043455\n",
      "[MiniBatchKMeans] Reassigning 512 cluster centers.\n",
      "Minibatch step 37/96230: mean batch inertia: 0.18756937980651855, ewa inertia: 0.22814377103047323\n",
      "[MiniBatchKMeans] Reassigning 512 cluster centers.\n",
      "Minibatch step 38/96230: mean batch inertia: 0.1769591122865677, ewa inertia: 0.22707998863423695\n",
      "[MiniBatchKMeans] Reassigning 512 cluster centers.\n",
      "Minibatch step 39/96230: mean batch inertia: 0.1746319830417633, ewa inertia: 0.22598994981330572\n",
      "[MiniBatchKMeans] Reassigning 512 cluster centers.\n",
      "Minibatch step 40/96230: mean batch inertia: 0.16641712188720703, ewa inertia: 0.22475183419044165\n",
      "[MiniBatchKMeans] Reassigning 512 cluster centers.\n",
      "Minibatch step 41/96230: mean batch inertia: 0.1773776113986969, ewa inertia: 0.22376724495065828\n",
      "[MiniBatchKMeans] Reassigning 512 cluster centers.\n",
      "Minibatch step 42/96230: mean batch inertia: 0.17244431376457214, ewa inertia: 0.22270058880682878\n",
      "[MiniBatchKMeans] Reassigning 512 cluster centers.\n",
      "Minibatch step 43/96230: mean batch inertia: 0.15934047102928162, ewa inertia: 0.2213837610781837\n",
      "[MiniBatchKMeans] Reassigning 512 cluster centers.\n",
      "Minibatch step 44/96230: mean batch inertia: 0.17922991514205933, ewa inertia: 0.22050766811710978\n",
      "[MiniBatchKMeans] Reassigning 512 cluster centers.\n",
      "Minibatch step 45/96230: mean batch inertia: 0.1725172996520996, ewa inertia: 0.2195102733817576\n",
      "[MiniBatchKMeans] Reassigning 512 cluster centers.\n",
      "Minibatch step 46/96230: mean batch inertia: 0.17149747908115387, ewa inertia: 0.21851241256516718\n",
      "[MiniBatchKMeans] Reassigning 512 cluster centers.\n",
      "Minibatch step 47/96230: mean batch inertia: 0.16839458048343658, ewa inertia: 0.21747080226992577\n",
      "[MiniBatchKMeans] Reassigning 512 cluster centers.\n",
      "Minibatch step 48/96230: mean batch inertia: 0.16693410277366638, ewa inertia: 0.21642048655800547\n",
      "[MiniBatchKMeans] Reassigning 512 cluster centers.\n",
      "Minibatch step 49/96230: mean batch inertia: 0.17718489468097687, ewa inertia: 0.21560504433432034\n",
      "[MiniBatchKMeans] Reassigning 512 cluster centers.\n",
      "Minibatch step 50/96230: mean batch inertia: 0.17226079106330872, ewa inertia: 0.21470421086704244\n",
      "[MiniBatchKMeans] Reassigning 512 cluster centers.\n",
      "Minibatch step 51/96230: mean batch inertia: 0.17152360081672668, ewa inertia: 0.21380677843401408\n",
      "[MiniBatchKMeans] Reassigning 512 cluster centers.\n",
      "Minibatch step 52/96230: mean batch inertia: 0.17471615970134735, ewa inertia: 0.2129943492201386\n",
      "[MiniBatchKMeans] Reassigning 512 cluster centers.\n",
      "Minibatch step 53/96230: mean batch inertia: 0.16893786191940308, ewa inertia: 0.21207871323114003\n",
      "[MiniBatchKMeans] Reassigning 512 cluster centers.\n",
      "Minibatch step 54/96230: mean batch inertia: 0.17166216671466827, ewa inertia: 0.2112387269587688\n",
      "[MiniBatchKMeans] Reassigning 512 cluster centers.\n",
      "Minibatch step 55/96230: mean batch inertia: 0.17321327328681946, ewa inertia: 0.21044843531244745\n",
      "[MiniBatchKMeans] Reassigning 512 cluster centers.\n",
      "Minibatch step 56/96230: mean batch inertia: 0.16830338537693024, ewa inertia: 0.20957252516065336\n",
      "[MiniBatchKMeans] Reassigning 512 cluster centers.\n",
      "Minibatch step 57/96230: mean batch inertia: 0.16666333377361298, ewa inertia: 0.20868073368339354\n",
      "[MiniBatchKMeans] Reassigning 512 cluster centers.\n",
      "Minibatch step 58/96230: mean batch inertia: 0.17137035727500916, ewa inertia: 0.207905303650368\n",
      "[MiniBatchKMeans] Reassigning 512 cluster centers.\n",
      "Minibatch step 59/96230: mean batch inertia: 0.1667281985282898, ewa inertia: 0.20704951051563203\n",
      "[MiniBatchKMeans] Reassigning 512 cluster centers.\n",
      "Minibatch step 60/96230: mean batch inertia: 0.17003987729549408, ewa inertia: 0.20628033089664255\n",
      "[MiniBatchKMeans] Reassigning 512 cluster centers.\n",
      "Minibatch step 61/96230: mean batch inertia: 0.16293638944625854, ewa inertia: 0.20537950391000362\n",
      "[MiniBatchKMeans] Reassigning 512 cluster centers.\n",
      "Minibatch step 62/96230: mean batch inertia: 0.166190505027771, ewa inertia: 0.2045650300391193\n",
      "[MiniBatchKMeans] Reassigning 512 cluster centers.\n",
      "Minibatch step 63/96230: mean batch inertia: 0.16494977474212646, ewa inertia: 0.20374169718428486\n",
      "Minibatch step 64/96230: mean batch inertia: 0.1787952184677124, ewa inertia: 0.2032232288471304\n",
      "Minibatch step 65/96230: mean batch inertia: 0.161052405834198, ewa inertia: 0.20234678304761053\n",
      "Minibatch step 66/96230: mean batch inertia: 0.16748538613319397, ewa inertia: 0.2016222507120271\n",
      "Minibatch step 67/96230: mean batch inertia: 0.16604597866535187, ewa inertia: 0.20088286096408878\n",
      "Minibatch step 68/96230: mean batch inertia: 0.16146859526634216, ewa inertia: 0.20006370532177759\n",
      "Minibatch step 69/96230: mean batch inertia: 0.16427674889564514, ewa inertia: 0.19931993687249536\n",
      "Minibatch step 70/96230: mean batch inertia: 0.16565708816051483, ewa inertia: 0.19862031423661652\n",
      "Minibatch step 71/96230: mean batch inertia: 0.16486233472824097, ewa inertia: 0.1979187144757743\n",
      "Minibatch step 72/96230: mean batch inertia: 0.16589808464050293, ewa inertia: 0.19725322244806365\n",
      "Minibatch step 73/96230: mean batch inertia: 0.15876127779483795, ewa inertia: 0.19645323561365152\n",
      "Minibatch step 74/96230: mean batch inertia: 0.16362759470939636, ewa inertia: 0.19577101285792636\n",
      "Minibatch step 75/96230: mean batch inertia: 0.16479577124118805, ewa inertia: 0.1951272473711637\n",
      "Minibatch step 76/96230: mean batch inertia: 0.16546915471553802, ewa inertia: 0.1945108564906295\n",
      "Minibatch step 77/96230: mean batch inertia: 0.17110319435596466, ewa inertia: 0.1940243697282484\n",
      "Minibatch step 78/96230: mean batch inertia: 0.16540789604187012, ewa inertia: 0.19342962705149758\n",
      "Minibatch step 79/96230: mean batch inertia: 0.15356910228729248, ewa inertia: 0.1926011967055797\n",
      "Minibatch step 80/96230: mean batch inertia: 0.17257805168628693, ewa inertia: 0.19218505113166112\n",
      "Minibatch step 81/96230: mean batch inertia: 0.17228828370571136, ewa inertia: 0.19177153209198886\n",
      "Minibatch step 82/96230: mean batch inertia: 0.17320500314235687, ewa inertia: 0.19138565970091462\n",
      "Minibatch step 83/96230: mean batch inertia: 0.16245950758457184, ewa inertia: 0.19078448090696823\n",
      "Minibatch step 84/96230: mean batch inertia: 0.17085431516170502, ewa inertia: 0.19037026774243468\n",
      "Minibatch step 85/96230: mean batch inertia: 0.16417676210403442, ewa inertia: 0.18982588216133195\n",
      "Minibatch step 86/96230: mean batch inertia: 0.15898191928863525, ewa inertia: 0.18918484507054453\n",
      "Minibatch step 87/96230: mean batch inertia: 0.1571555733680725, ewa inertia: 0.1885191734369437\n",
      "Minibatch step 88/96230: mean batch inertia: 0.1593688428401947, ewa inertia: 0.18791333549068637\n",
      "Minibatch step 89/96230: mean batch inertia: 0.16148871183395386, ewa inertia: 0.18736414653127872\n",
      "Minibatch step 90/96230: mean batch inertia: 0.16432924568653107, ewa inertia: 0.18688540695150946\n",
      "Minibatch step 91/96230: mean batch inertia: 0.15384076535701752, ewa inertia: 0.18619863265466327\n",
      "Minibatch step 92/96230: mean batch inertia: 0.1569150984287262, ewa inertia: 0.1855900263071052\n",
      "Minibatch step 93/96230: mean batch inertia: 0.1596769094467163, ewa inertia: 0.18505146810970433\n",
      "Minibatch step 94/96230: mean batch inertia: 0.15886247158050537, ewa inertia: 0.18450717624244298\n",
      "Minibatch step 95/96230: mean batch inertia: 0.15584523975849152, ewa inertia: 0.18391148870203713\n",
      "Minibatch step 96/96230: mean batch inertia: 0.1718766987323761, ewa inertia: 0.18366136692675716\n",
      "Minibatch step 97/96230: mean batch inertia: 0.15840205550193787, ewa inertia: 0.18313639691632466\n",
      "Minibatch step 98/96230: mean batch inertia: 0.15557482838630676, ewa inertia: 0.18256357857320377\n",
      "Minibatch step 99/96230: mean batch inertia: 0.1608838587999344, ewa inertia: 0.18211300402965686\n",
      "Minibatch step 100/96230: mean batch inertia: 0.1651865839958191, ewa inertia: 0.18176121839495354\n",
      "Minibatch step 101/96230: mean batch inertia: 0.15845614671707153, ewa inertia: 0.18127686379335317\n",
      "Minibatch step 102/96230: mean batch inertia: 0.15400384366512299, ewa inertia: 0.18071004241724967\n",
      "Minibatch step 103/96230: mean batch inertia: 0.15984857082366943, ewa inertia: 0.18027647371159766\n",
      "Minibatch step 104/96230: mean batch inertia: 0.15671831369400024, ewa inertia: 0.17978685911750952\n",
      "Minibatch step 105/96230: mean batch inertia: 0.15701305866241455, ewa inertia: 0.1793135460464829\n",
      "Minibatch step 106/96230: mean batch inertia: 0.14984802901744843, ewa inertia: 0.17870115750896587\n",
      "Minibatch step 107/96230: mean batch inertia: 0.16458851099014282, ewa inertia: 0.17840785116875674\n",
      "Minibatch step 108/96230: mean batch inertia: 0.15798071026802063, ewa inertia: 0.17798330925661146\n",
      "Minibatch step 109/96230: mean batch inertia: 0.15642395615577698, ewa inertia: 0.17753523632097545\n",
      "Minibatch step 110/96230: mean batch inertia: 0.15476559102535248, ewa inertia: 0.17706200960757254\n",
      "Minibatch step 111/96230: mean batch inertia: 0.15846964716911316, ewa inertia: 0.1766756003132284\n",
      "Minibatch step 112/96230: mean batch inertia: 0.15297509729862213, ewa inertia: 0.17618302737228084\n",
      "Minibatch step 113/96230: mean batch inertia: 0.16301871836185455, ewa inertia: 0.17590943054605263\n",
      "Minibatch step 114/96230: mean batch inertia: 0.1667250245809555, ewa inertia: 0.17571854894939215\n",
      "Minibatch step 115/96230: mean batch inertia: 0.16025632619857788, ewa inertia: 0.1753971940596136\n",
      "Minibatch step 116/96230: mean batch inertia: 0.1598387509584427, ewa inertia: 0.17507383940042404\n",
      "Minibatch step 117/96230: mean batch inertia: 0.16167712211608887, ewa inertia: 0.174795412380216\n",
      "Minibatch step 118/96230: mean batch inertia: 0.15618161857128143, ewa inertia: 0.17440855767282823\n",
      "Minibatch step 119/96230: mean batch inertia: 0.1651465743780136, ewa inertia: 0.174216063768892\n",
      "Minibatch step 120/96230: mean batch inertia: 0.16841444373130798, ewa inertia: 0.1740954873810233\n",
      "Minibatch step 121/96230: mean batch inertia: 0.16772639751434326, ewa inertia: 0.17396311713871845\n",
      "Minibatch step 122/96230: mean batch inertia: 0.15878039598464966, ewa inertia: 0.1736475711941519\n",
      "Minibatch step 123/96230: mean batch inertia: 0.15921464562416077, ewa inertia: 0.17334760842162733\n",
      "Minibatch step 124/96230: mean batch inertia: 0.1578301191329956, ewa inertia: 0.17302510491483203\n",
      "Minibatch step 125/96230: mean batch inertia: 0.15598513185977936, ewa inertia: 0.17267095928187975\n",
      "Minibatch step 126/96230: mean batch inertia: 0.1615283340215683, ewa inertia: 0.17243937956853084\n",
      "Minibatch step 127/96230: mean batch inertia: 0.1632748246192932, ewa inertia: 0.17224891054004485\n",
      "Minibatch step 128/96230: mean batch inertia: 0.1470419019460678, ewa inertia: 0.17172502755123342\n",
      "Minibatch step 129/96230: mean batch inertia: 0.15625713765621185, ewa inertia: 0.17140355487990874\n",
      "Minibatch step 130/96230: mean batch inertia: 0.1618971824645996, ewa inertia: 0.171205981781335\n",
      "Minibatch step 131/96230: mean batch inertia: 0.14784014225006104, ewa inertia: 0.1707203642276259\n",
      "Minibatch step 132/96230: mean batch inertia: 0.15556585788726807, ewa inertia: 0.17040540467794554\n",
      "Minibatch step 133/96230: mean batch inertia: 0.15896084904670715, ewa inertia: 0.17016754987707303\n",
      "Minibatch step 134/96230: mean batch inertia: 0.15416350960731506, ewa inertia: 0.1698349342706507\n",
      "Minibatch step 135/96230: mean batch inertia: 0.15786300599575043, ewa inertia: 0.16958611896426048\n",
      "Minibatch step 136/96230: mean batch inertia: 0.1512821763753891, ewa inertia: 0.16920570396520418\n",
      "Minibatch step 137/96230: mean batch inertia: 0.15883275866508484, ewa inertia: 0.16899012068540548\n",
      "Minibatch step 138/96230: mean batch inertia: 0.1619921773672104, ewa inertia: 0.16884468083888815\n",
      "Minibatch step 139/96230: mean batch inertia: 0.1534751057624817, ewa inertia: 0.16852525146678435\n",
      "Minibatch step 140/96230: mean batch inertia: 0.15035957098007202, ewa inertia: 0.16814771000042225\n",
      "Minibatch step 141/96230: mean batch inertia: 0.14871877431869507, ewa inertia: 0.1677439140142218\n",
      "Minibatch step 142/96230: mean batch inertia: 0.15546655654907227, ewa inertia: 0.16748875090355086\n",
      "[MiniBatchKMeans] Reassigning 512 cluster centers.\n",
      "Minibatch step 143/96230: mean batch inertia: 0.15786726772785187, ewa inertia: 0.1672887854318809\n",
      "Minibatch step 144/96230: mean batch inertia: 0.15044455230236053, ewa inertia: 0.16693870790628992\n",
      "Minibatch step 145/96230: mean batch inertia: 0.14501351118087769, ewa inertia: 0.16648303155945313\n",
      "Minibatch step 146/96230: mean batch inertia: 0.1684160679578781, ewa inertia: 0.1665232062942739\n",
      "Minibatch step 147/96230: mean batch inertia: 0.15691328048706055, ewa inertia: 0.16632348102202\n",
      "Minibatch step 148/96230: mean batch inertia: 0.15614789724349976, ewa inertia: 0.1661119995515822\n",
      "Minibatch step 149/96230: mean batch inertia: 0.1567174792289734, ewa inertia: 0.1659167511004735\n",
      "Minibatch step 150/96230: mean batch inertia: 0.15171900391578674, ewa inertia: 0.16562167609378348\n",
      "Minibatch step 151/96230: mean batch inertia: 0.15299083292484283, ewa inertia: 0.16535916640938825\n",
      "Minibatch step 152/96230: mean batch inertia: 0.15201333165168762, ewa inertia: 0.16508179689229616\n",
      "Minibatch step 153/96230: mean batch inertia: 0.15179215371608734, ewa inertia: 0.1648055952176138\n",
      "Minibatch step 154/96230: mean batch inertia: 0.14798212051391602, ewa inertia: 0.1644559491191048\n",
      "Minibatch step 155/96230: mean batch inertia: 0.16400128602981567, ewa inertia: 0.1644464997527815\n",
      "Minibatch step 156/96230: mean batch inertia: 0.15279576182365417, ewa inertia: 0.16420435981834963\n",
      "Minibatch step 157/96230: mean batch inertia: 0.16386885941028595, ewa inertia: 0.16419738703711428\n",
      "Minibatch step 158/96230: mean batch inertia: 0.15044645965099335, ewa inertia: 0.16391159838785382\n",
      "Minibatch step 159/96230: mean batch inertia: 0.1516689956188202, ewa inertia: 0.16365715759193153\n",
      "Minibatch step 160/96230: mean batch inertia: 0.1581583470106125, ewa inertia: 0.16354287456181674\n",
      "Minibatch step 161/96230: mean batch inertia: 0.1525477021932602, ewa inertia: 0.16331435939543112\n",
      "Minibatch step 162/96230: mean batch inertia: 0.1485554277896881, ewa inertia: 0.1630076211653689\n",
      "Minibatch step 163/96230: mean batch inertia: 0.15823253989219666, ewa inertia: 0.16290837956595894\n",
      "Minibatch step 164/96230: mean batch inertia: 0.15610827505588531, ewa inertia: 0.16276705144835682\n",
      "Minibatch step 165/96230: mean batch inertia: 0.1507013589143753, ewa inertia: 0.16251628741805885\n",
      "Minibatch step 166/96230: mean batch inertia: 0.1481488198041916, ewa inertia: 0.1622176850731141\n",
      "Minibatch step 167/96230: mean batch inertia: 0.15059839189052582, ewa inertia: 0.1619761986619965\n",
      "Minibatch step 168/96230: mean batch inertia: 0.14855487644672394, ewa inertia: 0.16169726027191644\n",
      "Minibatch step 169/96230: mean batch inertia: 0.155288964509964, ewa inertia: 0.16156407520457922\n",
      "Minibatch step 170/96230: mean batch inertia: 0.14708974957466125, ewa inertia: 0.16126325200519956\n",
      "Minibatch step 171/96230: mean batch inertia: 0.1569843292236328, ewa inertia: 0.16117432218049058\n",
      "Minibatch step 172/96230: mean batch inertia: 0.16846047341823578, ewa inertia: 0.16132575191770557\n",
      "Minibatch step 173/96230: mean batch inertia: 0.1559281051158905, ewa inertia: 0.16121357139741332\n",
      "Minibatch step 174/96230: mean batch inertia: 0.15592782199382782, ewa inertia: 0.1611037164661812\n",
      "Minibatch step 175/96230: mean batch inertia: 0.1541760265827179, ewa inertia: 0.16095973671276553\n",
      "Minibatch step 176/96230: mean batch inertia: 0.15940415859222412, ewa inertia: 0.160927406779125\n",
      "Minibatch step 177/96230: mean batch inertia: 0.15566672384738922, ewa inertia: 0.1608180728100746\n",
      "Minibatch step 178/96230: mean batch inertia: 0.15514622628688812, ewa inertia: 0.16070019353465131\n",
      "Minibatch step 179/96230: mean batch inertia: 0.15482936799526215, ewa inertia: 0.16057817883310913\n",
      "Minibatch step 180/96230: mean batch inertia: 0.151868999004364, ewa inertia: 0.16039717396925277\n",
      "Minibatch step 181/96230: mean batch inertia: 0.15518513321876526, ewa inertia: 0.16028885094171094\n",
      "Minibatch step 182/96230: mean batch inertia: 0.1412339061498642, ewa inertia: 0.15989282769317784\n",
      "Minibatch step 183/96230: mean batch inertia: 0.15229561924934387, ewa inertia: 0.15973493318334972\n",
      "Minibatch step 184/96230: mean batch inertia: 0.1553887575864792, ewa inertia: 0.15964460562809465\n",
      "Minibatch step 185/96230: mean batch inertia: 0.155659481883049, ewa inertia: 0.15956178189553813\n",
      "Minibatch step 186/96230: mean batch inertia: 0.16265326738357544, ewa inertia: 0.1596260329410877\n",
      "Minibatch step 187/96230: mean batch inertia: 0.15362347662448883, ewa inertia: 0.1595012804488622\n",
      "Minibatch step 188/96230: mean batch inertia: 0.14949288964271545, ewa inertia: 0.15929327378796987\n",
      "Minibatch step 189/96230: mean batch inertia: 0.15610545873641968, ewa inertia: 0.15922702070320743\n",
      "Minibatch step 190/96230: mean batch inertia: 0.14593996107578278, ewa inertia: 0.15895087272300665\n",
      "Minibatch step 191/96230: mean batch inertia: 0.14657387137413025, ewa inertia: 0.1586936386908525\n",
      "Minibatch step 192/96230: mean batch inertia: 0.151434525847435, ewa inertia: 0.15854277089873228\n",
      "Minibatch step 193/96230: mean batch inertia: 0.1546689122915268, ewa inertia: 0.1584622596148245\n",
      "Minibatch step 194/96230: mean batch inertia: 0.14911115169525146, ewa inertia: 0.15826791341355512\n",
      "Minibatch step 195/96230: mean batch inertia: 0.14727447926998138, ewa inertia: 0.1580394343730944\n",
      "Minibatch step 196/96230: mean batch inertia: 0.15605808794498444, ewa inertia: 0.15799825559994649\n",
      "Minibatch step 197/96230: mean batch inertia: 0.14831744134426117, ewa inertia: 0.157797057036956\n",
      "Minibatch step 198/96230: mean batch inertia: 0.15456412732601166, ewa inertia: 0.15772986632397346\n",
      "Minibatch step 199/96230: mean batch inertia: 0.147282212972641, ewa inertia: 0.1575127303697663\n",
      "Minibatch step 200/96230: mean batch inertia: 0.1558593213558197, ewa inertia: 0.15747836719443253\n",
      "Minibatch step 201/96230: mean batch inertia: 0.16125275194644928, ewa inertia: 0.1575568110905989\n",
      "Minibatch step 202/96230: mean batch inertia: 0.14961446821689606, ewa inertia: 0.15739174357347058\n",
      "Minibatch step 203/96230: mean batch inertia: 0.1509561985731125, ewa inertia: 0.1572579921790182\n",
      "Minibatch step 204/96230: mean batch inertia: 0.15197530388832092, ewa inertia: 0.15714820086759101\n",
      "Minibatch step 205/96230: mean batch inertia: 0.15757904946804047, ewa inertia: 0.15715715529198004\n",
      "Minibatch step 206/96230: mean batch inertia: 0.15154819190502167, ewa inertia: 0.15704058293106943\n",
      "Minibatch step 207/96230: mean batch inertia: 0.16232816874980927, ewa inertia: 0.15715047602893506\n",
      "Minibatch step 208/96230: mean batch inertia: 0.15732483565807343, ewa inertia: 0.15715409978473696\n",
      "Minibatch step 209/96230: mean batch inertia: 0.15045341849327087, ewa inertia: 0.1570148380024847\n",
      "Minibatch step 210/96230: mean batch inertia: 0.14786802232265472, ewa inertia: 0.15682473765326668\n",
      "Minibatch step 211/96230: mean batch inertia: 0.14644193649291992, ewa inertia: 0.15660894953688476\n",
      "Minibatch step 212/96230: mean batch inertia: 0.13588500022888184, ewa inertia: 0.15617823898815084\n",
      "Minibatch step 213/96230: mean batch inertia: 0.1528729945421219, ewa inertia: 0.15610954534159288\n",
      "Minibatch step 214/96230: mean batch inertia: 0.15407583117485046, ewa inertia: 0.15606727819783048\n",
      "Minibatch step 215/96230: mean batch inertia: 0.1544152945280075, ewa inertia: 0.1560329446457476\n",
      "Minibatch step 216/96230: mean batch inertia: 0.16806520521640778, ewa inertia: 0.15628301385195326\n",
      "Minibatch step 217/96230: mean batch inertia: 0.1517791748046875, ewa inertia: 0.1561894095413739\n",
      "Minibatch step 218/96230: mean batch inertia: 0.14566512405872345, ewa inertia: 0.1559706809241641\n",
      "Minibatch step 219/96230: mean batch inertia: 0.14786961674690247, ewa inertia: 0.15580231466610875\n",
      "Minibatch step 220/96230: mean batch inertia: 0.1545500010251999, ewa inertia: 0.15577628754707623\n",
      "Minibatch step 221/96230: mean batch inertia: 0.14908064901828766, ewa inertia: 0.15563713056970682\n",
      "Minibatch step 222/96230: mean batch inertia: 0.1492324322462082, ewa inertia: 0.15550402026875063\n",
      "[MiniBatchKMeans] Reassigning 512 cluster centers.\n",
      "Minibatch step 223/96230: mean batch inertia: 0.15683379769325256, ewa inertia: 0.15553165733520397\n",
      "Minibatch step 224/96230: mean batch inertia: 0.14479920268058777, ewa inertia: 0.15530860229077925\n",
      "Minibatch step 225/96230: mean batch inertia: 0.14229433238506317, ewa inertia: 0.15503812376136605\n",
      "Minibatch step 226/96230: mean batch inertia: 0.16043514013290405, ewa inertia: 0.15515029117928256\n",
      "Minibatch step 227/96230: mean batch inertia: 0.1467534303665161, ewa inertia: 0.15497577731252105\n",
      "Minibatch step 228/96230: mean batch inertia: 0.14786046743392944, ewa inertia: 0.1548278982101032\n",
      "Minibatch step 229/96230: mean batch inertia: 0.15838904678821564, ewa inertia: 0.1549019103704017\n",
      "Minibatch step 230/96230: mean batch inertia: 0.15585671365261078, ewa inertia: 0.15492175426402938\n",
      "Minibatch step 231/96230: mean batch inertia: 0.14636944234371185, ewa inertia: 0.15474400962156776\n",
      "Minibatch step 232/96230: mean batch inertia: 0.14869271218776703, ewa inertia: 0.15461824413162525\n",
      "Minibatch step 233/96230: mean batch inertia: 0.15780574083328247, ewa inertia: 0.1546844906000495\n",
      "Minibatch step 234/96230: mean batch inertia: 0.14276021718978882, ewa inertia: 0.15443666571554238\n",
      "Minibatch step 235/96230: mean batch inertia: 0.1566886454820633, ewa inertia: 0.1544834691228737\n",
      "Minibatch step 236/96230: mean batch inertia: 0.1521022915840149, ewa inertia: 0.15443398056887503\n",
      "Minibatch step 237/96230: mean batch inertia: 0.15280146896839142, ewa inertia: 0.15440005170923496\n",
      "Minibatch step 238/96230: mean batch inertia: 0.1525508165359497, ewa inertia: 0.1543616186343231\n",
      "Minibatch step 239/96230: mean batch inertia: 0.1517302244901657, ewa inertia: 0.15430692977174576\n",
      "Minibatch step 240/96230: mean batch inertia: 0.1509440839290619, ewa inertia: 0.15423703898226912\n",
      "Minibatch step 241/96230: mean batch inertia: 0.14610370993614197, ewa inertia: 0.1540680021561108\n",
      "Minibatch step 242/96230: mean batch inertia: 0.1498211920261383, ewa inertia: 0.15397973973593865\n",
      "Minibatch step 243/96230: mean batch inertia: 0.1513163447380066, ewa inertia: 0.15392438579234397\n",
      "Minibatch step 244/96230: mean batch inertia: 0.15679222345352173, ewa inertia: 0.15398398871427588\n",
      "Minibatch step 245/96230: mean batch inertia: 0.15039923787117004, ewa inertia: 0.15390948602273954\n",
      "Minibatch step 246/96230: mean batch inertia: 0.15733851492404938, ewa inertia: 0.15398075230976607\n",
      "Minibatch step 247/96230: mean batch inertia: 0.14029337465763092, ewa inertia: 0.15369628442907102\n",
      "Minibatch step 248/96230: mean batch inertia: 0.14621706306934357, ewa inertia: 0.1535408420716287\n",
      "Minibatch step 249/96230: mean batch inertia: 0.1539006531238556, ewa inertia: 0.15354832010650718\n",
      "Minibatch step 250/96230: mean batch inertia: 0.14761678874492645, ewa inertia: 0.1534250437420648\n",
      "Minibatch step 251/96230: mean batch inertia: 0.14987190067768097, ewa inertia: 0.1533511979621777\n",
      "Minibatch step 252/96230: mean batch inertia: 0.15100422501564026, ewa inertia: 0.15330242028999547\n",
      "Minibatch step 253/96230: mean batch inertia: 0.15688592195510864, ewa inertia: 0.15337689701958165\n",
      "Minibatch step 254/96230: mean batch inertia: 0.15355385839939117, ewa inertia: 0.1533805748481591\n",
      "Minibatch step 255/96230: mean batch inertia: 0.1497124880552292, ewa inertia: 0.15330434016663647\n",
      "Minibatch step 256/96230: mean batch inertia: 0.1484879106283188, ewa inertia: 0.1532042392168341\n",
      "Minibatch step 257/96230: mean batch inertia: 0.15314705669879913, ewa inertia: 0.15320305077956498\n",
      "Minibatch step 258/96230: mean batch inertia: 0.15455903112888336, ewa inertia: 0.15323123242736034\n",
      "Minibatch step 259/96230: mean batch inertia: 0.14968225359916687, ewa inertia: 0.15315747319374043\n",
      "Minibatch step 260/96230: mean batch inertia: 0.14857546985149384, ewa inertia: 0.15306224437685284\n",
      "Minibatch step 261/96230: mean batch inertia: 0.1439574658870697, ewa inertia: 0.15287301769611006\n",
      "Minibatch step 262/96230: mean batch inertia: 0.14276058971881866, ewa inertia: 0.15266284880704364\n",
      "Minibatch step 263/96230: mean batch inertia: 0.1547406166791916, ewa inertia: 0.15270603152897827\n",
      "Minibatch step 264/96230: mean batch inertia: 0.14388407766819, ewa inertia: 0.15252268285678197\n",
      "Minibatch step 265/96230: mean batch inertia: 0.15757501125335693, ewa inertia: 0.152627686546172\n",
      "Minibatch step 266/96230: mean batch inertia: 0.15257899463176727, ewa inertia: 0.15262667457104795\n",
      "Minibatch step 267/96230: mean batch inertia: 0.1537700742483139, ewa inertia: 0.15265043810641943\n",
      "Minibatch step 268/96230: mean batch inertia: 0.1540377140045166, ewa inertia: 0.15267927017671812\n",
      "Minibatch step 269/96230: mean batch inertia: 0.14835703372955322, ewa inertia: 0.1525894401542524\n",
      "Minibatch step 270/96230: mean batch inertia: 0.14853309094905853, ewa inertia: 0.15250513612676905\n",
      "Minibatch step 271/96230: mean batch inertia: 0.14903803169727325, ewa inertia: 0.1524330785073862\n",
      "Minibatch step 272/96230: mean batch inertia: 0.1578400880098343, ewa inertia: 0.1525454536148137\n",
      "Minibatch step 273/96230: mean batch inertia: 0.14187246561050415, ewa inertia: 0.15232363447929825\n",
      "Minibatch step 274/96230: mean batch inertia: 0.14656639099121094, ewa inertia: 0.15220398037934388\n",
      "Minibatch step 275/96230: mean batch inertia: 0.15156090259552002, ewa inertia: 0.15219061514760002\n",
      "Minibatch step 276/96230: mean batch inertia: 0.1502833217382431, ewa inertia: 0.1521509754351721\n",
      "Minibatch step 277/96230: mean batch inertia: 0.153794065117836, ewa inertia: 0.15218512414149835\n",
      "Minibatch step 278/96230: mean batch inertia: 0.15083569288253784, ewa inertia: 0.15215707860493638\n",
      "Minibatch step 279/96230: mean batch inertia: 0.1476447433233261, ewa inertia: 0.15206329771518756\n",
      "Minibatch step 280/96230: mean batch inertia: 0.1503821313381195, ewa inertia: 0.1520283576522672\n",
      "Minibatch step 281/96230: mean batch inertia: 0.14803944528102875, ewa inertia: 0.15194545517983138\n",
      "Minibatch step 282/96230: mean batch inertia: 0.14817386865615845, ewa inertia: 0.15186706943988065\n",
      "Minibatch step 283/96230: mean batch inertia: 0.15578189492225647, ewa inertia: 0.15194843214766632\n",
      "Minibatch step 284/96230: mean batch inertia: 0.1599138379096985, ewa inertia: 0.15211397898604467\n",
      "Minibatch step 285/96230: mean batch inertia: 0.14830124378204346, ewa inertia: 0.15203473804371817\n",
      "Minibatch step 286/96230: mean batch inertia: 0.1470387578010559, ewa inertia: 0.15193090545081805\n",
      "Minibatch step 287/96230: mean batch inertia: 0.15943515300750732, ewa inertia: 0.15208686793339993\n",
      "Minibatch step 288/96230: mean batch inertia: 0.1457982361316681, ewa inertia: 0.1519561698693459\n",
      "Minibatch step 289/96230: mean batch inertia: 0.14727674424648285, ewa inertia: 0.1518589163030575\n",
      "Minibatch step 290/96230: mean batch inertia: 0.14222262799739838, ewa inertia: 0.15165864313300656\n",
      "Minibatch step 291/96230: mean batch inertia: 0.148406520485878, ewa inertia: 0.15159105352886898\n",
      "Minibatch step 292/96230: mean batch inertia: 0.148532897233963, ewa inertia: 0.15152749517151554\n",
      "Minibatch step 293/96230: mean batch inertia: 0.15348558127880096, ewa inertia: 0.15156819052012901\n",
      "Minibatch step 294/96230: mean batch inertia: 0.14806099236011505, ewa inertia: 0.15149529962363203\n",
      "Minibatch step 295/96230: mean batch inertia: 0.15919306874275208, ewa inertia: 0.15165528410883067\n",
      "Minibatch step 296/96230: mean batch inertia: 0.15265539288520813, ewa inertia: 0.15167606959684093\n",
      "Minibatch step 297/96230: mean batch inertia: 0.15329581499099731, ewa inertia: 0.1517097331335133\n",
      "Minibatch step 298/96230: mean batch inertia: 0.15229946374893188, ewa inertia: 0.1517219896389311\n",
      "Minibatch step 299/96230: mean batch inertia: 0.15455128252506256, ewa inertia: 0.15178079147604254\n",
      "Minibatch step 300/96230: mean batch inertia: 0.16056790947914124, ewa inertia: 0.15196341614669076\n",
      "Minibatch step 301/96230: mean batch inertia: 0.15439781546592712, ewa inertia: 0.1520140108210476\n",
      "Minibatch step 302/96230: mean batch inertia: 0.14036265015602112, ewa inertia: 0.15177185794415396\n",
      "[MiniBatchKMeans] Reassigning 512 cluster centers.\n",
      "Minibatch step 303/96230: mean batch inertia: 0.14350692927837372, ewa inertia: 0.15160008605318961\n",
      "Minibatch step 304/96230: mean batch inertia: 0.15249304473400116, ewa inertia: 0.15161864461641003\n",
      "Converged (lack of improvement in inertia) at step 304/96230\n",
      "Min cluster size: 0\n",
      "Max cluster size: 102\n",
      "Mean cluster size: 12.02880859375\n",
      "Finding closest sentences to cluster centers\n",
      "................................Saved 8192 samples to data/ddc_43_8192.json\n",
      "Init 1/10 with method random\n",
      "Inertia for init 1/10: 1282.42578125\n",
      "Init 2/10 with method random\n",
      "Inertia for init 2/10: 1248.9022216796875\n",
      "Init 3/10 with method random\n",
      "Inertia for init 3/10: 1300.936279296875\n",
      "Init 4/10 with method random\n",
      "Inertia for init 4/10: 1270.614501953125\n",
      "Init 5/10 with method random\n",
      "Inertia for init 5/10: 1283.1319580078125\n",
      "Init 6/10 with method random\n",
      "Inertia for init 6/10: 1249.407470703125\n",
      "Init 7/10 with method random\n",
      "Inertia for init 7/10: 1293.454345703125\n",
      "Init 8/10 with method random\n",
      "Inertia for init 8/10: 1261.286865234375\n",
      "Init 9/10 with method random\n",
      "Inertia for init 9/10: 1270.10400390625\n",
      "Init 10/10 with method random\n",
      "Inertia for init 10/10: 1285.0927734375\n",
      "[MiniBatchKMeans] Reassigning 512 cluster centers.\n",
      "Minibatch step 1/96230: mean batch inertia: 0.40010467171669006\n",
      "[MiniBatchKMeans] Reassigning 512 cluster centers.\n",
      "Minibatch step 2/96230: mean batch inertia: 0.40576040744781494, ewa inertia: 0.40576040744781494\n",
      "[MiniBatchKMeans] Reassigning 512 cluster centers.\n",
      "Minibatch step 3/96230: mean batch inertia: 0.3747413456439972, ewa inertia: 0.40511573123614447\n",
      "[MiniBatchKMeans] Reassigning 512 cluster centers.\n",
      "Minibatch step 4/96230: mean batch inertia: 0.35190629959106445, ewa inertia: 0.40400986752450035\n",
      "[MiniBatchKMeans] Reassigning 512 cluster centers.\n",
      "Minibatch step 5/96230: mean batch inertia: 0.31933197379112244, ewa inertia: 0.40224998761293096\n",
      "[MiniBatchKMeans] Reassigning 475 cluster centers.\n",
      "Minibatch step 6/96230: mean batch inertia: 0.32179075479507446, ewa inertia: 0.4005777850900119\n",
      "Minibatch step 7/96230: mean batch inertia: 0.32516995072364807, ewa inertia: 0.3990105669292229\n",
      "Minibatch step 8/96230: mean batch inertia: 0.30512356758117676, ewa inertia: 0.39705929208256213\n",
      "Minibatch step 9/96230: mean batch inertia: 0.28976425528526306, ewa inertia: 0.3948293549461329\n",
      "Minibatch step 10/96230: mean batch inertia: 0.2851276993751526, ewa inertia: 0.3925494005047393\n",
      "Minibatch step 11/96230: mean batch inertia: 0.28577423095703125, ewa inertia: 0.39033026788751696\n",
      "Minibatch step 12/96230: mean batch inertia: 0.28384917974472046, ewa inertia: 0.3881172472309735\n",
      "Minibatch step 13/96230: mean batch inertia: 0.2865801453590393, ewa inertia: 0.38600697856479677\n",
      "Minibatch step 14/96230: mean batch inertia: 0.2868976593017578, ewa inertia: 0.38394716705638193\n",
      "Minibatch step 15/96230: mean batch inertia: 0.27025943994522095, ewa inertia: 0.3815843691841901\n",
      "Minibatch step 16/96230: mean batch inertia: 0.2761550545692444, ewa inertia: 0.3793932077759295\n",
      "Minibatch step 17/96230: mean batch inertia: 0.2692243754863739, ewa inertia: 0.3771035438946109\n",
      "Minibatch step 18/96230: mean batch inertia: 0.2684328854084015, ewa inertia: 0.3748450168999614\n",
      "Minibatch step 19/96230: mean batch inertia: 0.2723042368888855, ewa inertia: 0.3727138885628968\n",
      "Minibatch step 20/96230: mean batch inertia: 0.2704605162143707, ewa inertia: 0.3705887334846067\n",
      "Minibatch step 21/96230: mean batch inertia: 0.2620910704135895, ewa inertia: 0.3683338018929906\n",
      "Minibatch step 22/96230: mean batch inertia: 0.27442172169685364, ewa inertia: 0.36638200578536345\n",
      "Minibatch step 23/96230: mean batch inertia: 0.2762552499771118, ewa inertia: 0.36450888093484135\n",
      "Minibatch step 24/96230: mean batch inertia: 0.2711028754711151, ewa inertia: 0.3625676026934016\n",
      "Minibatch step 25/96230: mean batch inertia: 0.26737576723098755, ewa inertia: 0.36058920914120485\n",
      "[MiniBatchKMeans] Reassigning 461 cluster centers.\n",
      "Minibatch step 26/96230: mean batch inertia: 0.26586341857910156, ewa inertia: 0.35862050150609676\n",
      "Minibatch step 27/96230: mean batch inertia: 0.2651875615119934, ewa inertia: 0.3566786634781903\n",
      "Minibatch step 28/96230: mean batch inertia: 0.2616492807865143, ewa inertia: 0.35470364621885103\n",
      "Minibatch step 29/96230: mean batch inertia: 0.2643275558948517, ewa inertia: 0.3528253393924179\n",
      "Minibatch step 30/96230: mean batch inertia: 0.25154128670692444, ewa inertia: 0.3507203299049975\n",
      "Minibatch step 31/96230: mean batch inertia: 0.257914662361145, ewa inertia: 0.348791528622995\n",
      "Minibatch step 32/96230: mean batch inertia: 0.25778788328170776, ewa inertia: 0.34690017917800303\n",
      "Minibatch step 33/96230: mean batch inertia: 0.26602932810783386, ewa inertia: 0.345219421899391\n",
      "Minibatch step 34/96230: mean batch inertia: 0.25685131549835205, ewa inertia: 0.34338284745921555\n",
      "Minibatch step 35/96230: mean batch inertia: 0.25314807891845703, ewa inertia: 0.3415074777555239\n",
      "Minibatch step 36/96230: mean batch inertia: 0.260064959526062, ewa inertia: 0.33981483938840834\n",
      "Minibatch step 37/96230: mean batch inertia: 0.25947049260139465, ewa inertia: 0.33814502456798023\n",
      "Minibatch step 38/96230: mean batch inertia: 0.2587919235229492, ewa inertia: 0.33649581103310416\n",
      "Minibatch step 39/96230: mean batch inertia: 0.25213170051574707, ewa inertia: 0.3347424525494319\n",
      "Minibatch step 40/96230: mean batch inertia: 0.25313860177993774, ewa inertia: 0.3330464611714682\n",
      "Minibatch step 41/96230: mean batch inertia: 0.24413812160491943, ewa inertia: 0.3311986589426265\n",
      "Minibatch step 42/96230: mean batch inertia: 0.24332931637763977, ewa inertia: 0.3293724504246178\n",
      "Minibatch step 43/96230: mean batch inertia: 0.2475212812423706, ewa inertia: 0.32767131897186985\n",
      "Minibatch step 44/96230: mean batch inertia: 0.2557647228240967, ewa inertia: 0.32617686784076055\n",
      "Minibatch step 45/96230: mean batch inertia: 0.2464766800403595, ewa inertia: 0.3245204407229596\n",
      "[MiniBatchKMeans] Reassigning 166 cluster centers.\n",
      "Minibatch step 46/96230: mean batch inertia: 0.25529348850250244, ewa inertia: 0.3230816812406375\n",
      "Minibatch step 47/96230: mean batch inertia: 0.24672789871692657, ewa inertia: 0.32149480322429347\n",
      "Minibatch step 48/96230: mean batch inertia: 0.2428012490272522, ewa inertia: 0.31985929720146494\n",
      "Minibatch step 49/96230: mean batch inertia: 0.26255226135253906, ewa inertia: 0.3186682720503238\n",
      "Minibatch step 50/96230: mean batch inertia: 0.2499801069498062, ewa inertia: 0.31724071030317424\n",
      "Minibatch step 51/96230: mean batch inertia: 0.2551555335521698, ewa inertia: 0.31595037996366016\n",
      "Minibatch step 52/96230: mean batch inertia: 0.24451491236686707, ewa inertia: 0.31446572040430687\n",
      "Minibatch step 53/96230: mean batch inertia: 0.24005283415317535, ewa inertia: 0.3129191804763346\n",
      "Minibatch step 54/96230: mean batch inertia: 0.23873983323574066, ewa inertia: 0.3113774942426985\n",
      "Minibatch step 55/96230: mean batch inertia: 0.2426939308643341, ewa inertia: 0.30995002813418643\n",
      "Minibatch step 56/96230: mean batch inertia: 0.2415335774421692, ewa inertia: 0.30852811348934567\n",
      "Minibatch step 57/96230: mean batch inertia: 0.24373947083950043, ewa inertia: 0.30718159640359577\n",
      "Minibatch step 58/96230: mean batch inertia: 0.23866453766822815, ewa inertia: 0.30575759079892323\n",
      "Minibatch step 59/96230: mean batch inertia: 0.24336138367652893, ewa inertia: 0.3044607962445076\n",
      "Minibatch step 60/96230: mean batch inertia: 0.2515628933906555, ewa inertia: 0.30336140710653775\n",
      "Minibatch step 61/96230: mean batch inertia: 0.24536427855491638, ewa inertia: 0.30215603960190796\n",
      "Minibatch step 62/96230: mean batch inertia: 0.24379202723503113, ewa inertia: 0.30094304706755814\n",
      "Minibatch step 63/96230: mean batch inertia: 0.2444390058517456, ewa inertia: 0.2997687107363865\n",
      "Minibatch step 64/96230: mean batch inertia: 0.2454821616411209, ewa inertia: 0.2986404610479613\n",
      "Minibatch step 65/96230: mean batch inertia: 0.24042139947414398, ewa inertia: 0.297430481058889\n",
      "[MiniBatchKMeans] Reassigning 195 cluster centers.\n",
      "Minibatch step 66/96230: mean batch inertia: 0.2476385235786438, ewa inertia: 0.296395643489557\n",
      "Minibatch step 67/96230: mean batch inertia: 0.24437235295772552, ewa inertia: 0.2953144316182629\n",
      "Minibatch step 68/96230: mean batch inertia: 0.24145349860191345, ewa inertia: 0.29419502760554245\n",
      "Minibatch step 69/96230: mean batch inertia: 0.25442421436309814, ewa inertia: 0.29336846175457154\n",
      "Minibatch step 70/96230: mean batch inertia: 0.2432921826839447, ewa inertia: 0.29232771506500427\n",
      "Minibatch step 71/96230: mean batch inertia: 0.2510247528553009, ewa inertia: 0.2914693062138106\n",
      "Minibatch step 72/96230: mean batch inertia: 0.2398972362279892, ewa inertia: 0.2903974721616804\n",
      "Minibatch step 73/96230: mean batch inertia: 0.2296622097492218, ewa inertia: 0.28913519739868104\n",
      "Minibatch step 74/96230: mean batch inertia: 0.2515020966529846, ewa inertia: 0.28835306011240236\n",
      "Minibatch step 75/96230: mean batch inertia: 0.23634585738182068, ewa inertia: 0.28727218259753823\n",
      "Minibatch step 76/96230: mean batch inertia: 0.24397340416908264, ewa inertia: 0.286372294244249\n",
      "Minibatch step 77/96230: mean batch inertia: 0.24013178050518036, ewa inertia: 0.2854112671373837\n",
      "Minibatch step 78/96230: mean batch inertia: 0.24860158562660217, ewa inertia: 0.284646243160216\n",
      "Minibatch step 79/96230: mean batch inertia: 0.23401346802711487, ewa inertia: 0.2835939306864985\n",
      "Minibatch step 80/96230: mean batch inertia: 0.24726000428199768, ewa inertia: 0.2828387944358372\n",
      "Minibatch step 81/96230: mean batch inertia: 0.24416029453277588, ewa inertia: 0.2820349303812663\n",
      "Minibatch step 82/96230: mean batch inertia: 0.2407827079296112, ewa inertia: 0.28117757606599664\n",
      "Minibatch step 83/96230: mean batch inertia: 0.24183721840381622, ewa inertia: 0.28035995647118694\n",
      "Minibatch step 84/96230: mean batch inertia: 0.23490379750728607, ewa inertia: 0.2794152307878869\n",
      "Minibatch step 85/96230: mean batch inertia: 0.24151435494422913, ewa inertia: 0.27862752827088577\n",
      "[MiniBatchKMeans] Reassigning 83 cluster centers.\n",
      "Minibatch step 86/96230: mean batch inertia: 0.237717866897583, ewa inertia: 0.2777772934803669\n",
      "Minibatch step 87/96230: mean batch inertia: 0.23462077975273132, ewa inertia: 0.2768803618466895\n",
      "Minibatch step 88/96230: mean batch inertia: 0.23741500079631805, ewa inertia: 0.2760601442780515\n",
      "Minibatch step 89/96230: mean batch inertia: 0.23753197491168976, ewa inertia: 0.2752594045771929\n",
      "Minibatch step 90/96230: mean batch inertia: 0.2369232177734375, ewa inertia: 0.2744626548935679\n",
      "Minibatch step 91/96230: mean batch inertia: 0.23858001828193665, ewa inertia: 0.2737168979012437\n",
      "Minibatch step 92/96230: mean batch inertia: 0.23740124702453613, ewa inertia: 0.2729621414750303\n",
      "Minibatch step 93/96230: mean batch inertia: 0.2399783432483673, ewa inertia: 0.27227663169972655\n",
      "Minibatch step 94/96230: mean batch inertia: 0.24020174145698547, ewa inertia: 0.27161001196563483\n",
      "Minibatch step 95/96230: mean batch inertia: 0.24055293202400208, ewa inertia: 0.27096454561436517\n",
      "Minibatch step 96/96230: mean batch inertia: 0.25254082679748535, ewa inertia: 0.2705816412787387\n",
      "Minibatch step 97/96230: mean batch inertia: 0.2275703102350235, ewa inertia: 0.2696877270097793\n",
      "Minibatch step 98/96230: mean batch inertia: 0.23909303545951843, ewa inertia: 0.26905187058154195\n",
      "Minibatch step 99/96230: mean batch inertia: 0.23976396024227142, ewa inertia: 0.26844317328422584\n",
      "Minibatch step 100/96230: mean batch inertia: 0.23565378785133362, ewa inertia: 0.26776170403420235\n",
      "Minibatch step 101/96230: mean batch inertia: 0.2363136261701584, ewa inertia: 0.26710811148424285\n",
      "Minibatch step 102/96230: mean batch inertia: 0.24581235647201538, ewa inertia: 0.26666551696759455\n",
      "Minibatch step 103/96230: mean batch inertia: 0.2322079837322235, ewa inertia: 0.26594937822264536\n",
      "Minibatch step 104/96230: mean batch inertia: 0.23074409365653992, ewa inertia: 0.265217698791836\n",
      "Minibatch step 105/96230: mean batch inertia: 0.2379230558872223, ewa inertia: 0.2646504280246564\n",
      "[MiniBatchKMeans] Reassigning 54 cluster centers.\n",
      "Minibatch step 106/96230: mean batch inertia: 0.2394086718559265, ewa inertia: 0.26412582286910125\n",
      "Minibatch step 107/96230: mean batch inertia: 0.2371799647808075, ewa inertia: 0.2635658009760331\n",
      "Minibatch step 108/96230: mean batch inertia: 0.23639710247516632, ewa inertia: 0.263001147740022\n",
      "Minibatch step 109/96230: mean batch inertia: 0.23494850099086761, ewa inertia: 0.2624181232066575\n",
      "Minibatch step 110/96230: mean batch inertia: 0.24424190819263458, ewa inertia: 0.26204036279882\n",
      "Minibatch step 111/96230: mean batch inertia: 0.23163104057312012, ewa inertia: 0.2614083589433869\n",
      "Minibatch step 112/96230: mean batch inertia: 0.24037669599056244, ewa inertia: 0.26097125311203356\n",
      "Minibatch step 113/96230: mean batch inertia: 0.2396310418844223, ewa inertia: 0.2605277346517566\n",
      "Minibatch step 114/96230: mean batch inertia: 0.23796556890010834, ewa inertia: 0.26005882003287334\n",
      "Minibatch step 115/96230: mean batch inertia: 0.23886093497276306, ewa inertia: 0.2596182595696843\n",
      "Minibatch step 116/96230: mean batch inertia: 0.2348194420337677, ewa inertia: 0.2591028601084088\n",
      "Minibatch step 117/96230: mean batch inertia: 0.24121718108654022, ewa inertia: 0.25873113797613095\n",
      "Minibatch step 118/96230: mean batch inertia: 0.23835977911949158, ewa inertia: 0.25830775539488665\n",
      "Minibatch step 119/96230: mean batch inertia: 0.23857195675373077, ewa inertia: 0.2578975818060547\n",
      "Minibatch step 120/96230: mean batch inertia: 0.24183201789855957, ewa inertia: 0.2575636875398858\n",
      "Minibatch step 121/96230: mean batch inertia: 0.23344182968139648, ewa inertia: 0.2570623574854497\n",
      "Minibatch step 122/96230: mean batch inertia: 0.23875202238559723, ewa inertia: 0.2566818096293847\n",
      "Minibatch step 123/96230: mean batch inertia: 0.23058544099330902, ewa inertia: 0.2561394428686792\n",
      "Minibatch step 124/96230: mean batch inertia: 0.21922464668750763, ewa inertia: 0.2553722342694257\n",
      "Minibatch step 125/96230: mean batch inertia: 0.239183709025383, ewa inertia: 0.2550357844698519\n",
      "[MiniBatchKMeans] Reassigning 46 cluster centers.\n",
      "Minibatch step 126/96230: mean batch inertia: 0.2446517050266266, ewa inertia: 0.2548199697866264\n",
      "Minibatch step 127/96230: mean batch inertia: 0.2360854148864746, ewa inertia: 0.25443060527403255\n",
      "Minibatch step 128/96230: mean batch inertia: 0.22831708192825317, ewa inertia: 0.2538878819830962\n",
      "Minibatch step 129/96230: mean batch inertia: 0.24303002655506134, ewa inertia: 0.25366222070589567\n",
      "Minibatch step 130/96230: mean batch inertia: 0.23439815640449524, ewa inertia: 0.25326185127906553\n",
      "Minibatch step 131/96230: mean batch inertia: 0.2412218451499939, ewa inertia: 0.25301162109515896\n",
      "Minibatch step 132/96230: mean batch inertia: 0.22836966812610626, ewa inertia: 0.25249948178582965\n",
      "Minibatch step 133/96230: mean batch inertia: 0.226974219083786, ewa inertia: 0.25196898444955557\n",
      "Minibatch step 134/96230: mean batch inertia: 0.2353474646806717, ewa inertia: 0.25162353562635836\n",
      "Minibatch step 135/96230: mean batch inertia: 0.23237542808055878, ewa inertia: 0.2512234978324066\n",
      "Minibatch step 136/96230: mean batch inertia: 0.23732072114944458, ewa inertia: 0.25093455326469666\n",
      "Minibatch step 137/96230: mean batch inertia: 0.24394722282886505, ewa inertia: 0.25078933398812564\n",
      "Minibatch step 138/96230: mean batch inertia: 0.23682986199855804, ewa inertia: 0.25049921110897244\n",
      "Minibatch step 139/96230: mean batch inertia: 0.2352202832698822, ewa inertia: 0.25018166567900463\n",
      "Minibatch step 140/96230: mean batch inertia: 0.2300914227962494, ewa inertia: 0.2497641255949393\n",
      "Minibatch step 141/96230: mean batch inertia: 0.23467382788658142, ewa inertia: 0.2494505005078515\n",
      "Minibatch step 142/96230: mean batch inertia: 0.22489306330680847, ewa inertia: 0.24894011770893798\n",
      "Minibatch step 143/96230: mean batch inertia: 0.2317492663860321, ewa inertia: 0.24858283633865239\n",
      "Minibatch step 144/96230: mean batch inertia: 0.23086555302143097, ewa inertia: 0.24821461401257827\n",
      "Minibatch step 145/96230: mean batch inertia: 0.2308935523033142, ewa inertia: 0.247854626450238\n",
      "[MiniBatchKMeans] Reassigning 23 cluster centers.\n",
      "Minibatch step 146/96230: mean batch inertia: 0.23195099830627441, ewa inertia: 0.24752409773184833\n",
      "Minibatch step 147/96230: mean batch inertia: 0.22140446305274963, ewa inertia: 0.2469812474276826\n",
      "Minibatch step 148/96230: mean batch inertia: 0.23932074010372162, ewa inertia: 0.24682203736284186\n",
      "Minibatch step 149/96230: mean batch inertia: 0.23625978827476501, ewa inertia: 0.24660251973939193\n",
      "Minibatch step 150/96230: mean batch inertia: 0.23847249150276184, ewa inertia: 0.24643355151470758\n",
      "Minibatch step 151/96230: mean batch inertia: 0.23455746471881866, ewa inertia: 0.24618672810355913\n",
      "Minibatch step 152/96230: mean batch inertia: 0.22747133672237396, ewa inertia: 0.24579776187073557\n",
      "Minibatch step 153/96230: mean batch inertia: 0.23260274529457092, ewa inertia: 0.2455235268421892\n",
      "Minibatch step 154/96230: mean batch inertia: 0.2336590588092804, ewa inertia: 0.2452769449064325\n",
      "Minibatch step 155/96230: mean batch inertia: 0.23404599726200104, ewa inertia: 0.24504352956889996\n",
      "Minibatch step 156/96230: mean batch inertia: 0.2322319746017456, ewa inertia: 0.24477726411012918\n",
      "Minibatch step 157/96230: mean batch inertia: 0.23233669996261597, ewa inertia: 0.24451870903788406\n",
      "Minibatch step 158/96230: mean batch inertia: 0.234309583902359, ewa inertia: 0.24430653046980014\n",
      "Minibatch step 159/96230: mean batch inertia: 0.22660502791404724, ewa inertia: 0.24393863611887837\n",
      "Minibatch step 160/96230: mean batch inertia: 0.22240304946899414, ewa inertia: 0.24349105712679422\n",
      "Minibatch step 161/96230: mean batch inertia: 0.22716006636619568, ewa inertia: 0.2431516464340094\n",
      "Minibatch step 162/96230: mean batch inertia: 0.23043949902057648, ewa inertia: 0.24288744698502157\n",
      "Minibatch step 163/96230: mean batch inertia: 0.22788213193416595, ewa inertia: 0.24257558811182003\n",
      "Minibatch step 164/96230: mean batch inertia: 0.22792378067970276, ewa inertia: 0.2422710762678061\n",
      "Minibatch step 165/96230: mean batch inertia: 0.2271486222743988, ewa inertia: 0.24195678286933747\n",
      "[MiniBatchKMeans] Reassigning 17 cluster centers.\n",
      "Minibatch step 166/96230: mean batch inertia: 0.23534537851810455, ewa inertia: 0.24181937655002544\n",
      "Minibatch step 167/96230: mean batch inertia: 0.23698940873146057, ewa inertia: 0.24171899423106763\n",
      "Minibatch step 168/96230: mean batch inertia: 0.23549652099609375, ewa inertia: 0.24158967115554347\n",
      "Minibatch step 169/96230: mean batch inertia: 0.2251836508512497, ewa inertia: 0.24124870110669888\n",
      "Minibatch step 170/96230: mean batch inertia: 0.24135202169418335, ewa inertia: 0.2412508484419519\n",
      "Minibatch step 171/96230: mean batch inertia: 0.23778387904167175, ewa inertia: 0.2411787936289119\n",
      "Minibatch step 172/96230: mean batch inertia: 0.23012647032737732, ewa inertia: 0.2409490906816966\n",
      "Minibatch step 173/96230: mean batch inertia: 0.22786560654640198, ewa inertia: 0.2406771736572186\n",
      "Minibatch step 174/96230: mean batch inertia: 0.23293840885162354, ewa inertia: 0.24051633714935022\n",
      "Minibatch step 175/96230: mean batch inertia: 0.23435060679912567, ewa inertia: 0.24038819337409667\n",
      "Minibatch step 176/96230: mean batch inertia: 0.22824405133724213, ewa inertia: 0.24013579890995\n",
      "Minibatch step 177/96230: mean batch inertia: 0.23278699815273285, ewa inertia: 0.23998306711353246\n",
      "Minibatch step 178/96230: mean batch inertia: 0.22015909850597382, ewa inertia: 0.23957106106824896\n",
      "Minibatch step 179/96230: mean batch inertia: 0.23272103071212769, ewa inertia: 0.23942869533044098\n",
      "Minibatch step 180/96230: mean batch inertia: 0.23738601803779602, ewa inertia: 0.23938624190399577\n",
      "Minibatch step 181/96230: mean batch inertia: 0.2296936810016632, ewa inertia: 0.2391847992077782\n",
      "Minibatch step 182/96230: mean batch inertia: 0.24501627683639526, ewa inertia: 0.23930599613274758\n",
      "Minibatch step 183/96230: mean batch inertia: 0.23484429717063904, ewa inertia: 0.23921326762913592\n",
      "Minibatch step 184/96230: mean batch inertia: 0.2284334897994995, ewa inertia: 0.23898922905640888\n",
      "Minibatch step 185/96230: mean batch inertia: 0.23264415562152863, ewa inertia: 0.23885735795306473\n",
      "[MiniBatchKMeans] Reassigning 12 cluster centers.\n",
      "Minibatch step 186/96230: mean batch inertia: 0.22265011072158813, ewa inertia: 0.23852051905017085\n",
      "Minibatch step 187/96230: mean batch inertia: 0.22820621728897095, ewa inertia: 0.2383061545723704\n",
      "Minibatch step 188/96230: mean batch inertia: 0.22992238402366638, ewa inertia: 0.23813191276354215\n",
      "Minibatch step 189/96230: mean batch inertia: 0.22904284298419952, ewa inertia: 0.23794301256049882\n",
      "Minibatch step 190/96230: mean batch inertia: 0.2380274087190628, ewa inertia: 0.23794476658504432\n",
      "Minibatch step 191/96230: mean batch inertia: 0.23625019192695618, ewa inertia: 0.237909547854772\n",
      "Minibatch step 192/96230: mean batch inertia: 0.23205380141735077, ewa inertia: 0.23778784654563329\n",
      "Minibatch step 193/96230: mean batch inertia: 0.23408497869968414, ewa inertia: 0.23771088900158052\n",
      "Minibatch step 194/96230: mean batch inertia: 0.23981276154518127, ewa inertia: 0.2377545726963806\n",
      "Minibatch step 195/96230: mean batch inertia: 0.23373350501060486, ewa inertia: 0.2376710019327343\n",
      "Minibatch step 196/96230: mean batch inertia: 0.23224298655986786, ewa inertia: 0.23755819025552755\n",
      "Minibatch step 197/96230: mean batch inertia: 0.22110728919506073, ewa inertia: 0.23721628743972664\n",
      "Minibatch step 198/96230: mean batch inertia: 0.22930411994457245, ewa inertia: 0.23705184706434915\n",
      "Minibatch step 199/96230: mean batch inertia: 0.23686042428016663, ewa inertia: 0.23704786868111774\n",
      "Minibatch step 200/96230: mean batch inertia: 0.22851337492465973, ewa inertia: 0.23687049435760543\n",
      "Minibatch step 201/96230: mean batch inertia: 0.22656789422035217, ewa inertia: 0.23665637307731505\n",
      "Minibatch step 202/96230: mean batch inertia: 0.23640741407871246, ewa inertia: 0.23665119890586217\n",
      "Minibatch step 203/96230: mean batch inertia: 0.23610767722129822, ewa inertia: 0.23663990277115696\n",
      "Minibatch step 204/96230: mean batch inertia: 0.23322735726833344, ewa inertia: 0.23656897906234758\n",
      "Minibatch step 205/96230: mean batch inertia: 0.2342737317085266, ewa inertia: 0.23652127641491527\n",
      "[MiniBatchKMeans] Reassigning 26 cluster centers.\n",
      "Minibatch step 206/96230: mean batch inertia: 0.22576114535331726, ewa inertia: 0.2362976461654338\n",
      "Minibatch step 207/96230: mean batch inertia: 0.22848492860794067, ewa inertia: 0.2361352726807143\n",
      "Minibatch step 208/96230: mean batch inertia: 0.231162890791893, ewa inertia: 0.2360319305377656\n",
      "Minibatch step 209/96230: mean batch inertia: 0.22975265979766846, ewa inertia: 0.23590142702678318\n",
      "Minibatch step 210/96230: mean batch inertia: 0.2371092289686203, ewa inertia: 0.23592652904905698\n",
      "Minibatch step 211/96230: mean batch inertia: 0.22877287864685059, ewa inertia: 0.2357778531068226\n",
      "Minibatch step 212/96230: mean batch inertia: 0.2333868443965912, ewa inertia: 0.23572816022935478\n",
      "Minibatch step 213/96230: mean batch inertia: 0.2270185351371765, ewa inertia: 0.2355471461114873\n",
      "Minibatch step 214/96230: mean batch inertia: 0.22842761874198914, ewa inertia: 0.23539917935599738\n",
      "Minibatch step 215/96230: mean batch inertia: 0.2262616753578186, ewa inertia: 0.23520927253357554\n",
      "Minibatch step 216/96230: mean batch inertia: 0.22804313898086548, ewa inertia: 0.235060337151187\n",
      "Minibatch step 217/96230: mean batch inertia: 0.22721856832504272, ewa inertia: 0.23489735988734814\n",
      "Minibatch step 218/96230: mean batch inertia: 0.23278029263019562, ewa inertia: 0.23485336039736276\n",
      "Minibatch step 219/96230: mean batch inertia: 0.22168488800525665, ewa inertia: 0.23457967704262683\n",
      "Minibatch step 220/96230: mean batch inertia: 0.22091826796531677, ewa inertia: 0.23429574887272464\n",
      "Minibatch step 221/96230: mean batch inertia: 0.22797614336013794, ewa inertia: 0.23416440707499803\n",
      "Minibatch step 222/96230: mean batch inertia: 0.2285284847021103, ewa inertia: 0.23404727441935544\n",
      "Minibatch step 223/96230: mean batch inertia: 0.22365571558475494, ewa inertia: 0.233831304290239\n",
      "Minibatch step 224/96230: mean batch inertia: 0.21738523244857788, ewa inertia: 0.23348950184119013\n",
      "Minibatch step 225/96230: mean batch inertia: 0.21899563074111938, ewa inertia: 0.23318827242386186\n",
      "Minibatch step 226/96230: mean batch inertia: 0.23545895516872406, ewa inertia: 0.23323546453944297\n",
      "Minibatch step 227/96230: mean batch inertia: 0.23477613925933838, ewa inertia: 0.2332674847323205\n",
      "Minibatch step 228/96230: mean batch inertia: 0.2279161959886551, ewa inertia: 0.23315626768208733\n",
      "Minibatch step 229/96230: mean batch inertia: 0.21629059314727783, ewa inertia: 0.2328057445348969\n",
      "Minibatch step 230/96230: mean batch inertia: 0.2193155586719513, ewa inertia: 0.2325253749359755\n",
      "Minibatch step 231/96230: mean batch inertia: 0.23184536397457123, ewa inertia: 0.2325112421136076\n",
      "Minibatch step 232/96230: mean batch inertia: 0.22144266963005066, ewa inertia: 0.23228120145594913\n",
      "Minibatch step 233/96230: mean batch inertia: 0.2252718061208725, ewa inertia: 0.23213552359956208\n",
      "Minibatch step 234/96230: mean batch inertia: 0.2299719601869583, ewa inertia: 0.23209055776941004\n",
      "Minibatch step 235/96230: mean batch inertia: 0.21871864795684814, ewa inertia: 0.23181264632852627\n",
      "Minibatch step 236/96230: mean batch inertia: 0.2242712825536728, ewa inertia: 0.2316559124511463\n",
      "Minibatch step 237/96230: mean batch inertia: 0.22551575303077698, ewa inertia: 0.23152830012233985\n",
      "Minibatch step 238/96230: mean batch inertia: 0.22218939661979675, ewa inertia: 0.2313342075682435\n",
      "Minibatch step 239/96230: mean batch inertia: 0.22495973110198975, ewa inertia: 0.2312017253750154\n",
      "Minibatch step 240/96230: mean batch inertia: 0.23179791867733002, ewa inertia: 0.23121411619592386\n",
      "Minibatch step 241/96230: mean batch inertia: 0.2376766949892044, ewa inertia: 0.23134842943983894\n",
      "Minibatch step 242/96230: mean batch inertia: 0.2256028652191162, ewa inertia: 0.23122901807275273\n",
      "Minibatch step 243/96230: mean batch inertia: 0.23322659730911255, ewa inertia: 0.231270534216044\n",
      "Minibatch step 244/96230: mean batch inertia: 0.2289898544549942, ewa inertia: 0.23122313433020325\n",
      "Minibatch step 245/96230: mean batch inertia: 0.22852125763893127, ewa inertia: 0.23116698061282953\n",
      "[MiniBatchKMeans] Reassigning 4 cluster centers.\n",
      "Minibatch step 246/96230: mean batch inertia: 0.22862906754016876, ewa inertia: 0.23111423458860803\n",
      "Minibatch step 247/96230: mean batch inertia: 0.2292141318321228, ewa inertia: 0.23107474432115305\n",
      "Minibatch step 248/96230: mean batch inertia: 0.23051831126213074, ewa inertia: 0.2310631798464179\n",
      "Minibatch step 249/96230: mean batch inertia: 0.23386509716510773, ewa inertia: 0.2311214127308891\n",
      "Minibatch step 250/96230: mean batch inertia: 0.22264957427978516, ewa inertia: 0.23094534058682864\n",
      "Minibatch step 251/96230: mean batch inertia: 0.2234724760055542, ewa inertia: 0.23079003034375772\n",
      "Minibatch step 252/96230: mean batch inertia: 0.22009935975074768, ewa inertia: 0.2305678437069823\n",
      "Minibatch step 253/96230: mean batch inertia: 0.2228018194437027, ewa inertia: 0.23040644065960916\n",
      "Minibatch step 254/96230: mean batch inertia: 0.24225232005119324, ewa inertia: 0.23065263626340823\n",
      "Minibatch step 255/96230: mean batch inertia: 0.22370752692222595, ewa inertia: 0.2305082944774436\n",
      "Minibatch step 256/96230: mean batch inertia: 0.22781702876091003, ewa inertia: 0.23045236129036956\n",
      "Minibatch step 257/96230: mean batch inertia: 0.23333531618118286, ewa inertia: 0.2305122783971209\n",
      "Minibatch step 258/96230: mean batch inertia: 0.2243434339761734, ewa inertia: 0.23038406990142773\n",
      "Minibatch step 259/96230: mean batch inertia: 0.23648330569267273, ewa inertia: 0.23051083170514872\n",
      "Minibatch step 260/96230: mean batch inertia: 0.23369935154914856, ewa inertia: 0.23057709943777283\n",
      "Minibatch step 261/96230: mean batch inertia: 0.23674170672893524, ewa inertia: 0.23070521987223463\n",
      "Minibatch step 262/96230: mean batch inertia: 0.23470227420330048, ewa inertia: 0.23078829156087208\n",
      "Minibatch step 263/96230: mean batch inertia: 0.2227737307548523, ewa inertia: 0.23062172312204227\n",
      "Minibatch step 264/96230: mean batch inertia: 0.23334790766239166, ewa inertia: 0.2306783820349682\n",
      "Minibatch step 265/96230: mean batch inertia: 0.22109684348106384, ewa inertia: 0.23047924674145182\n",
      "[MiniBatchKMeans] Reassigning 9 cluster centers.\n",
      "Minibatch step 266/96230: mean batch inertia: 0.2308337241411209, ewa inertia: 0.23048661392581693\n",
      "Minibatch step 267/96230: mean batch inertia: 0.22719857096672058, ewa inertia: 0.23041827778167157\n",
      "Minibatch step 268/96230: mean batch inertia: 0.23740440607070923, ewa inertia: 0.23056347207375252\n",
      "Converged (lack of improvement in inertia) at step 268/96230\n",
      "Min cluster size: 2\n",
      "Max cluster size: 436\n",
      "Mean cluster size: 48.115234375\n",
      "Finding closest sentences to cluster centers\n",
      "................................Saved 2048 samples to data/ddc_43_2048.json\n",
      "Init 1/3 with method k-means++\n",
      "Inertia for init 1/3: 1653.181884765625\n",
      "Init 2/3 with method k-means++\n",
      "Inertia for init 2/3: 1665.3543701171875\n",
      "Init 3/3 with method k-means++\n",
      "Inertia for init 3/3: 1632.601806640625\n",
      "[MiniBatchKMeans] Reassigning 134 cluster centers.\n",
      "Minibatch step 1/96230: mean batch inertia: 0.5292230248451233\n",
      "Minibatch step 2/96230: mean batch inertia: 0.5063164830207825, ewa inertia: 0.5063164830207825\n",
      "Minibatch step 3/96230: mean batch inertia: 0.4440803527832031, ewa inertia: 0.5050230153806473\n",
      "Minibatch step 4/96230: mean batch inertia: 0.4117240011692047, ewa inertia: 0.5030839607627214\n",
      "Minibatch step 5/96230: mean batch inertia: 0.3886745274066925, ewa inertia: 0.5007061635056087\n",
      "Minibatch step 6/96230: mean batch inertia: 0.39358529448509216, ewa inertia: 0.4984798461376703\n",
      "Minibatch step 7/96230: mean batch inertia: 0.3860931992530823, ewa inertia: 0.49614408891154477\n",
      "Minibatch step 8/96230: mean batch inertia: 0.3695397675037384, ewa inertia: 0.4935128425243233\n",
      "Minibatch step 9/96230: mean batch inertia: 0.37811440229415894, ewa inertia: 0.4911144905125579\n",
      "Minibatch step 10/96230: mean batch inertia: 0.38043051958084106, ewa inertia: 0.48881412038775546\n",
      "[MiniBatchKMeans] Reassigning 37 cluster centers.\n",
      "Minibatch step 11/96230: mean batch inertia: 0.375455379486084, ewa inertia: 0.48645815991072944\n",
      "Minibatch step 12/96230: mean batch inertia: 0.37432751059532166, ewa inertia: 0.48412772314026886\n",
      "Minibatch step 13/96230: mean batch inertia: 0.3675430715084076, ewa inertia: 0.4817047178273326\n",
      "Minibatch step 14/96230: mean batch inertia: 0.3744012713432312, ewa inertia: 0.47947460591047114\n",
      "Minibatch step 15/96230: mean batch inertia: 0.3768937289714813, ewa inertia: 0.47734264422984024\n",
      "[MiniBatchKMeans] Reassigning 30 cluster centers.\n",
      "Minibatch step 16/96230: mean batch inertia: 0.3660937547683716, ewa inertia: 0.47503053327483585\n",
      "Minibatch step 17/96230: mean batch inertia: 0.3783239722251892, ewa inertia: 0.47302065883648353\n",
      "Minibatch step 18/96230: mean batch inertia: 0.3577258586883545, ewa inertia: 0.470624460800099\n",
      "Minibatch step 19/96230: mean batch inertia: 0.362248957157135, ewa inertia: 0.46837206807564125\n",
      "Minibatch step 20/96230: mean batch inertia: 0.35879960656166077, ewa inertia: 0.4660947987036983\n",
      "Minibatch step 21/96230: mean batch inertia: 0.3540078401565552, ewa inertia: 0.4637652699684049\n",
      "Minibatch step 22/96230: mean batch inertia: 0.35775089263916016, ewa inertia: 0.4615619490687764\n",
      "Minibatch step 23/96230: mean batch inertia: 0.36336517333984375, ewa inertia: 0.4595211031600394\n",
      "Minibatch step 24/96230: mean batch inertia: 0.36262646317481995, ewa inertia: 0.4575073198344214\n",
      "Minibatch step 25/96230: mean batch inertia: 0.35648414492607117, ewa inertia: 0.4554077322291373\n",
      "[MiniBatchKMeans] Reassigning 9 cluster centers.\n",
      "Minibatch step 26/96230: mean batch inertia: 0.3589363694190979, ewa inertia: 0.453402745969256\n",
      "Minibatch step 27/96230: mean batch inertia: 0.3642190098762512, ewa inertia: 0.45154922011181114\n",
      "Minibatch step 28/96230: mean batch inertia: 0.3642113506793976, ewa inertia: 0.4497340573207132\n",
      "Minibatch step 29/96230: mean batch inertia: 0.35154426097869873, ewa inertia: 0.4476933564661608\n",
      "Minibatch step 30/96230: mean batch inertia: 0.35429662466049194, ewa inertia: 0.44575227096126424\n",
      "[MiniBatchKMeans] Reassigning 10 cluster centers.\n",
      "Minibatch step 31/96230: mean batch inertia: 0.36609870195388794, ewa inertia: 0.44409681273243456\n",
      "Minibatch step 32/96230: mean batch inertia: 0.3576352000236511, ewa inertia: 0.4422998613839848\n",
      "Minibatch step 33/96230: mean batch inertia: 0.3595966696739197, ewa inertia: 0.4405810221533883\n",
      "Minibatch step 34/96230: mean batch inertia: 0.36351436376571655, ewa inertia: 0.4389793282759368\n",
      "Minibatch step 35/96230: mean batch inertia: 0.35194820165634155, ewa inertia: 0.43717054059043603\n",
      "Minibatch step 36/96230: mean batch inertia: 0.34779858589172363, ewa inertia: 0.43531310294292924\n",
      "Minibatch step 37/96230: mean batch inertia: 0.35408705472946167, ewa inertia: 0.4336249635213567\n",
      "Minibatch step 38/96230: mean batch inertia: 0.3517952561378479, ewa inertia: 0.4319242781140498\n",
      "Minibatch step 39/96230: mean batch inertia: 0.3570683002471924, ewa inertia: 0.4303685293123193\n",
      "Minibatch step 40/96230: mean batch inertia: 0.3637085258960724, ewa inertia: 0.428983119310427\n",
      "[MiniBatchKMeans] Reassigning 3 cluster centers.\n",
      "Minibatch step 41/96230: mean batch inertia: 0.3631685972213745, ewa inertia: 0.42761528113912384\n",
      "Minibatch step 42/96230: mean batch inertia: 0.3530559837818146, ewa inertia: 0.4260656983158546\n",
      "Minibatch step 43/96230: mean batch inertia: 0.34398701786994934, ewa inertia: 0.42435983844480385\n",
      "Minibatch step 44/96230: mean batch inertia: 0.3515450954437256, ewa inertia: 0.42284651309123317\n",
      "Minibatch step 45/96230: mean batch inertia: 0.35337740182876587, ewa inertia: 0.4214027207625016\n",
      "Minibatch step 46/96230: mean batch inertia: 0.344342976808548, ewa inertia: 0.4198011705892976\n",
      "Minibatch step 47/96230: mean batch inertia: 0.35285282135009766, ewa inertia: 0.41840976783062983\n",
      "Minibatch step 48/96230: mean batch inertia: 0.3490133583545685, ewa inertia: 0.4169674864796493\n",
      "Minibatch step 49/96230: mean batch inertia: 0.3548790216445923, ewa inertia: 0.415677087803137\n",
      "Minibatch step 50/96230: mean batch inertia: 0.3576863408088684, ewa inertia: 0.41447185292786415\n",
      "[MiniBatchKMeans] Reassigning 4 cluster centers.\n",
      "Minibatch step 51/96230: mean batch inertia: 0.34925156831741333, ewa inertia: 0.4131163649291408\n",
      "Minibatch step 52/96230: mean batch inertia: 0.33954107761383057, ewa inertia: 0.41158723301022626\n",
      "Minibatch step 53/96230: mean batch inertia: 0.3577702045440674, ewa inertia: 0.41046874147575135\n",
      "Minibatch step 54/96230: mean batch inertia: 0.3470361530780792, ewa inertia: 0.4091504075737366\n",
      "Minibatch step 55/96230: mean batch inertia: 0.34659257531166077, ewa inertia: 0.4078502539273079\n",
      "Minibatch step 56/96230: mean batch inertia: 0.3432057201862335, ewa inertia: 0.4065067318897629\n",
      "Minibatch step 57/96230: mean batch inertia: 0.35635465383529663, ewa inertia: 0.40546440985268645\n",
      "Minibatch step 58/96230: mean batch inertia: 0.3458535671234131, ewa inertia: 0.40422550415952774\n",
      "Minibatch step 59/96230: mean batch inertia: 0.3427039384841919, ewa inertia: 0.4029468874771003\n",
      "Minibatch step 60/96230: mean batch inertia: 0.3456690311431885, ewa inertia: 0.4017564687704518\n",
      "Minibatch step 61/96230: mean batch inertia: 0.3558421730995178, ewa inertia: 0.4008022215278414\n",
      "Minibatch step 62/96230: mean batch inertia: 0.3440719246864319, ewa inertia: 0.3996231828745782\n",
      "Minibatch step 63/96230: mean batch inertia: 0.33766087889671326, ewa inertia: 0.39833540622783553\n",
      "Minibatch step 64/96230: mean batch inertia: 0.33402323722839355, ewa inertia: 0.3969987918022578\n",
      "Minibatch step 65/96230: mean batch inertia: 0.35639688372612, ewa inertia: 0.39615495311846194\n",
      "Minibatch step 66/96230: mean batch inertia: 0.3459329307079315, ewa inertia: 0.395111177411936\n",
      "Minibatch step 67/96230: mean batch inertia: 0.3467038869857788, ewa inertia: 0.39410511769270473\n",
      "Minibatch step 68/96230: mean batch inertia: 0.35034483671188354, ewa inertia: 0.39319563782697653\n",
      "Minibatch step 69/96230: mean batch inertia: 0.3488117754459381, ewa inertia: 0.3922731979272762\n",
      "Minibatch step 70/96230: mean batch inertia: 0.3389400243759155, ewa inertia: 0.3911647624594691\n",
      "[MiniBatchKMeans] Reassigning 2 cluster centers.\n",
      "Minibatch step 71/96230: mean batch inertia: 0.3458797037601471, ewa inertia: 0.39022359279185653\n",
      "Minibatch step 72/96230: mean batch inertia: 0.35116249322891235, ewa inertia: 0.3894117770815947\n",
      "Minibatch step 73/96230: mean batch inertia: 0.35320666432380676, ewa inertia: 0.38865931799423054\n",
      "Minibatch step 74/96230: mean batch inertia: 0.3514677584171295, ewa inertia: 0.387886357358415\n",
      "Minibatch step 75/96230: mean batch inertia: 0.3478473424911499, ewa inertia: 0.3870542174121169\n",
      "Minibatch step 76/96230: mean batch inertia: 0.34555360674858093, ewa inertia: 0.3861917007881845\n",
      "Minibatch step 77/96230: mean batch inertia: 0.348927766084671, ewa inertia: 0.38541723596366684\n",
      "Minibatch step 78/96230: mean batch inertia: 0.33640041947364807, ewa inertia: 0.38439850832571354\n",
      "Minibatch step 79/96230: mean batch inertia: 0.35450509190559387, ewa inertia: 0.38377722665789604\n",
      "Minibatch step 80/96230: mean batch inertia: 0.3414183557033539, ewa inertia: 0.382896872615265\n",
      "Minibatch step 81/96230: mean batch inertia: 0.35517266392707825, ewa inertia: 0.38232067408477105\n",
      "Minibatch step 82/96230: mean batch inertia: 0.35543617606163025, ewa inertia: 0.3817619274518833\n",
      "Minibatch step 83/96230: mean batch inertia: 0.34255844354629517, ewa inertia: 0.38094715253546635\n",
      "Minibatch step 84/96230: mean batch inertia: 0.34993407130241394, ewa inertia: 0.3803026006193574\n",
      "Minibatch step 85/96230: mean batch inertia: 0.33610275387763977, ewa inertia: 0.3793839851585133\n",
      "Minibatch step 86/96230: mean batch inertia: 0.3447609841823578, ewa inertia: 0.3786644074598988\n",
      "Minibatch step 87/96230: mean batch inertia: 0.3543974757194519, ewa inertia: 0.3781600623020008\n",
      "Minibatch step 88/96230: mean batch inertia: 0.35521399974823, ewa inertia: 0.3776831690686246\n",
      "Minibatch step 89/96230: mean batch inertia: 0.35524484515190125, ewa inertia: 0.3772168282827441\n",
      "Minibatch step 90/96230: mean batch inertia: 0.3526538908481598, ewa inertia: 0.37670633117122676\n",
      "Minibatch step 91/96230: mean batch inertia: 0.3529697060585022, ewa inertia: 0.37621300749650394\n",
      "Minibatch step 92/96230: mean batch inertia: 0.3443741500377655, ewa inertia: 0.3755512932854091\n",
      "Minibatch step 93/96230: mean batch inertia: 0.34325578808784485, ewa inertia: 0.3748800884605686\n",
      "Minibatch step 94/96230: mean batch inertia: 0.3365986943244934, ewa inertia: 0.37408447754540963\n",
      "Minibatch step 95/96230: mean batch inertia: 0.35492631793022156, ewa inertia: 0.3736863091597437\n",
      "Minibatch step 96/96230: mean batch inertia: 0.33328211307525635, ewa inertia: 0.37284657956920747\n",
      "Minibatch step 97/96230: mean batch inertia: 0.34989047050476074, ewa inertia: 0.37236947753691646\n",
      "Minibatch step 98/96230: mean batch inertia: 0.3534911870956421, ewa inertia: 0.37197712573590236\n",
      "Minibatch step 99/96230: mean batch inertia: 0.3509044647216797, ewa inertia: 0.3715391678325207\n",
      "Minibatch step 100/96230: mean batch inertia: 0.345234215259552, ewa inertia: 0.3709924660244465\n",
      "[MiniBatchKMeans] Reassigning 1 cluster centers.\n",
      "Minibatch step 101/96230: mean batch inertia: 0.3403787612915039, ewa inertia: 0.37035621444091205\n",
      "Minibatch step 102/96230: mean batch inertia: 0.3487388789653778, ewa inertia: 0.36990693644440403\n",
      "Minibatch step 103/96230: mean batch inertia: 0.3406922519207001, ewa inertia: 0.36929976101585604\n",
      "Minibatch step 104/96230: mean batch inertia: 0.3438490927219391, ewa inertia: 0.3687708139921203\n",
      "Minibatch step 105/96230: mean batch inertia: 0.34304574131965637, ewa inertia: 0.36823616395981695\n",
      "Minibatch step 106/96230: mean batch inertia: 0.33410945534706116, ewa inertia: 0.3675269008181914\n",
      "Minibatch step 107/96230: mean batch inertia: 0.3437272012233734, ewa inertia: 0.3670322662521713\n",
      "Minibatch step 108/96230: mean batch inertia: 0.3343251049518585, ewa inertia: 0.3663525058849836\n",
      "Minibatch step 109/96230: mean batch inertia: 0.34425026178359985, ewa inertia: 0.36589314992229155\n",
      "Minibatch step 110/96230: mean batch inertia: 0.3430864214897156, ewa inertia: 0.3654191525016249\n",
      "Minibatch step 111/96230: mean batch inertia: 0.3397819399833679, ewa inertia: 0.36488632848687574\n",
      "Minibatch step 112/96230: mean batch inertia: 0.35286515951156616, ewa inertia: 0.3646364897998172\n",
      "Minibatch step 113/96230: mean batch inertia: 0.3444631099700928, ewa inertia: 0.36421722186168715\n",
      "Minibatch step 114/96230: mean batch inertia: 0.34580308198928833, ewa inertia: 0.363834516607441\n",
      "Minibatch step 115/96230: mean batch inertia: 0.34345418214797974, ewa inertia: 0.36341094748420316\n",
      "Minibatch step 116/96230: mean batch inertia: 0.33555129170417786, ewa inertia: 0.36283193392601426\n",
      "Minibatch step 117/96230: mean batch inertia: 0.3456747531890869, ewa inertia: 0.36247535233916994\n",
      "Minibatch step 118/96230: mean batch inertia: 0.34675243496894836, ewa inertia: 0.36214857937386397\n",
      "Minibatch step 119/96230: mean batch inertia: 0.34542322158813477, ewa inertia: 0.36180097246156173\n",
      "Minibatch step 120/96230: mean batch inertia: 0.3487884998321533, ewa inertia: 0.3615305312853505\n",
      "Minibatch step 121/96230: mean batch inertia: 0.3522360622882843, ewa inertia: 0.36133736222368085\n",
      "Minibatch step 122/96230: mean batch inertia: 0.3526557981967926, ewa inertia: 0.3611569313053112\n",
      "Minibatch step 123/96230: mean batch inertia: 0.33396226167678833, ewa inertia: 0.36059173830545105\n",
      "Minibatch step 124/96230: mean batch inertia: 0.34237369894981384, ewa inertia: 0.36021310865281564\n",
      "Minibatch step 125/96230: mean batch inertia: 0.34965482354164124, ewa inertia: 0.3599936734135986\n",
      "Minibatch step 126/96230: mean batch inertia: 0.3307780921459198, ewa inertia: 0.35938647934781676\n",
      "Minibatch step 127/96230: mean batch inertia: 0.35501742362976074, ewa inertia: 0.35929567626980274\n",
      "Minibatch step 128/96230: mean batch inertia: 0.3398386240005493, ewa inertia: 0.3588912959301732\n",
      "Minibatch step 129/96230: mean batch inertia: 0.35066962242126465, ewa inertia: 0.3587204230209654\n",
      "Minibatch step 130/96230: mean batch inertia: 0.3498091995716095, ewa inertia: 0.3585352190386202\n",
      "Minibatch step 131/96230: mean batch inertia: 0.349373996257782, ewa inertia: 0.3583448192633474\n",
      "Minibatch step 132/96230: mean batch inertia: 0.33872589468955994, ewa inertia: 0.3579370746948214\n",
      "Minibatch step 133/96230: mean batch inertia: 0.3409118950366974, ewa inertia: 0.35758323651639984\n",
      "Minibatch step 134/96230: mean batch inertia: 0.34542497992515564, ewa inertia: 0.3573305487062612\n",
      "Minibatch step 135/96230: mean batch inertia: 0.3379708230495453, ewa inertia: 0.356928191127741\n",
      "Minibatch step 136/96230: mean batch inertia: 0.35164371132850647, ewa inertia: 0.35681836258298466\n",
      "Minibatch step 137/96230: mean batch inertia: 0.3316238522529602, ewa inertia: 0.35629473934843364\n",
      "Minibatch step 138/96230: mean batch inertia: 0.3509792387485504, ewa inertia: 0.35618426609132686\n",
      "Minibatch step 139/96230: mean batch inertia: 0.3408912122249603, ewa inertia: 0.3558664270769235\n",
      "Minibatch step 140/96230: mean batch inertia: 0.3455809950828552, ewa inertia: 0.355652662606055\n",
      "Minibatch step 141/96230: mean batch inertia: 0.33774319291114807, ewa inertia: 0.35528044602681214\n",
      "Minibatch step 142/96230: mean batch inertia: 0.3453836739063263, ewa inertia: 0.3550747591624333\n",
      "Minibatch step 143/96230: mean batch inertia: 0.3340497314929962, ewa inertia: 0.3546377912336828\n",
      "Minibatch step 144/96230: mean batch inertia: 0.3475673794746399, ewa inertia: 0.35449084525908825\n",
      "Minibatch step 145/96230: mean batch inertia: 0.3435746431350708, ewa inertia: 0.35426397134924376\n",
      "Minibatch step 146/96230: mean batch inertia: 0.33291542530059814, ewa inertia: 0.3538202796644869\n",
      "Minibatch step 147/96230: mean batch inertia: 0.3398062288761139, ewa inertia: 0.35352902246175316\n",
      "Minibatch step 148/96230: mean batch inertia: 0.3426485061645508, ewa inertia: 0.3533028902185582\n",
      "Minibatch step 149/96230: mean batch inertia: 0.3456045985221863, ewa inertia: 0.35314289487251777\n",
      "Minibatch step 150/96230: mean batch inertia: 0.3305629789829254, ewa inertia: 0.3526736113484833\n",
      "Minibatch step 151/96230: mean batch inertia: 0.3360844850540161, ewa inertia: 0.3523288357662275\n",
      "Minibatch step 152/96230: mean batch inertia: 0.34183600544929504, ewa inertia: 0.3521107608888761\n",
      "Minibatch step 153/96230: mean batch inertia: 0.3508548140525818, ewa inertia: 0.35208465826031815\n",
      "Minibatch step 154/96230: mean batch inertia: 0.34487220644950867, ewa inertia: 0.35193476023504405\n",
      "Minibatch step 155/96230: mean batch inertia: 0.34116077423095703, ewa inertia: 0.3517108420351438\n",
      "Minibatch step 156/96230: mean batch inertia: 0.34542328119277954, ewa inertia: 0.3515801662290817\n",
      "Minibatch step 157/96230: mean batch inertia: 0.3596594035625458, ewa inertia: 0.35174807885488146\n",
      "Minibatch step 158/96230: mean batch inertia: 0.3385196030139923, ewa inertia: 0.3514731484348315\n",
      "Minibatch step 159/96230: mean batch inertia: 0.3461523652076721, ewa inertia: 0.35136256538768135\n",
      "Minibatch step 160/96230: mean batch inertia: 0.3416357636451721, ewa inertia: 0.3511604110562999\n",
      "Minibatch step 161/96230: mean batch inertia: 0.3470575213432312, ewa inertia: 0.3510751397668634\n",
      "Minibatch step 162/96230: mean batch inertia: 0.3393051028251648, ewa inertia: 0.3508305204139382\n",
      "Minibatch step 163/96230: mean batch inertia: 0.35448509454727173, ewa inertia: 0.35090647425878513\n",
      "Minibatch step 164/96230: mean batch inertia: 0.354108065366745, ewa inertia: 0.35097301365445904\n",
      "Minibatch step 165/96230: mean batch inertia: 0.33817633986473083, ewa inertia: 0.35070705747458103\n",
      "Minibatch step 166/96230: mean batch inertia: 0.34326115250587463, ewa inertia: 0.35055230753926564\n",
      "Minibatch step 167/96230: mean batch inertia: 0.33700451254844666, ewa inertia: 0.3502707406367459\n",
      "Minibatch step 168/96230: mean batch inertia: 0.3380282521247864, ewa inertia: 0.3500163022154543\n",
      "Minibatch step 169/96230: mean batch inertia: 0.35103392601013184, ewa inertia: 0.35003745172207085\n",
      "Minibatch step 170/96230: mean batch inertia: 0.35693538188934326, ewa inertia: 0.35018081297254094\n",
      "Minibatch step 171/96230: mean batch inertia: 0.3207821547985077, ewa inertia: 0.3495698139778035\n",
      "Minibatch step 172/96230: mean batch inertia: 0.34353089332580566, ewa inertia: 0.3494443057173303\n",
      "Minibatch step 173/96230: mean batch inertia: 0.34661099314689636, ewa inertia: 0.3493854203382064\n",
      "Minibatch step 174/96230: mean batch inertia: 0.3449593186378479, ewa inertia: 0.3492934316605764\n",
      "Minibatch step 175/96230: mean batch inertia: 0.3401390612125397, ewa inertia: 0.34910317429889365\n",
      "Minibatch step 176/96230: mean batch inertia: 0.34441277384757996, ewa inertia: 0.34900569264025116\n",
      "Minibatch step 177/96230: mean batch inertia: 0.3439224660396576, ewa inertia: 0.34890004678646425\n",
      "Minibatch step 178/96230: mean batch inertia: 0.33844685554504395, ewa inertia: 0.3486827957370287\n",
      "Minibatch step 179/96230: mean batch inertia: 0.3378499150276184, ewa inertia: 0.3484576535150818\n",
      "Minibatch step 180/96230: mean batch inertia: 0.33681219816207886, ewa inertia: 0.34821562336963013\n",
      "Minibatch step 181/96230: mean batch inertia: 0.34085017442703247, ewa inertia: 0.3480625455701919\n",
      "Minibatch step 182/96230: mean batch inertia: 0.3342899978160858, ewa inertia: 0.34777630757990957\n",
      "Minibatch step 183/96230: mean batch inertia: 0.34906530380249023, ewa inertia: 0.34780309708137436\n",
      "Minibatch step 184/96230: mean batch inertia: 0.3433338701725006, ewa inertia: 0.34771021212273406\n",
      "Minibatch step 185/96230: mean batch inertia: 0.33738210797309875, ewa inertia: 0.34749556078675764\n",
      "Minibatch step 186/96230: mean batch inertia: 0.3450613021850586, ewa inertia: 0.34744496903696537\n",
      "Minibatch step 187/96230: mean batch inertia: 0.3387140929698944, ewa inertia: 0.3472635132552566\n",
      "Minibatch step 188/96230: mean batch inertia: 0.3276016414165497, ewa inertia: 0.34685487610396254\n",
      "Minibatch step 189/96230: mean batch inertia: 0.3368101119995117, ewa inertia: 0.34664611348854446\n",
      "Minibatch step 190/96230: mean batch inertia: 0.3374328017234802, ewa inertia: 0.3464546311360734\n",
      "Minibatch step 191/96230: mean batch inertia: 0.3479519188404083, ewa inertia: 0.3464857496067453\n",
      "Minibatch step 192/96230: mean batch inertia: 0.35353612899780273, ewa inertia: 0.34663227924408285\n",
      "Minibatch step 193/96230: mean batch inertia: 0.35473108291625977, ewa inertia: 0.3468005985215472\n",
      "Minibatch step 194/96230: mean batch inertia: 0.33691343665122986, ewa inertia: 0.3465951113891819\n",
      "Minibatch step 195/96230: mean batch inertia: 0.3233799934387207, ewa inertia: 0.34611262631634376\n",
      "Minibatch step 196/96230: mean batch inertia: 0.3467821478843689, ewa inertia: 0.346126541135265\n",
      "Minibatch step 197/96230: mean batch inertia: 0.3393006920814514, ewa inertia: 0.3459846779629589\n",
      "Minibatch step 198/96230: mean batch inertia: 0.341730535030365, ewa inertia: 0.3458962631434832\n",
      "Minibatch step 199/96230: mean batch inertia: 0.3291344940662384, ewa inertia: 0.3455478994870336\n",
      "Minibatch step 200/96230: mean batch inertia: 0.3484325110912323, ewa inertia: 0.3456078510256358\n",
      "Minibatch step 201/96230: mean batch inertia: 0.3476412892341614, ewa inertia: 0.3456501124340958\n",
      "Minibatch step 202/96230: mean batch inertia: 0.33761507272720337, ewa inertia: 0.3454831183776146\n",
      "Minibatch step 203/96230: mean batch inertia: 0.3464088439941406, ewa inertia: 0.3455023579435074\n",
      "Minibatch step 204/96230: mean batch inertia: 0.3373889625072479, ewa inertia: 0.3453337354020936\n",
      "Minibatch step 205/96230: mean batch inertia: 0.34017372131347656, ewa inertia: 0.3452264936564904\n",
      "Minibatch step 206/96230: mean batch inertia: 0.33827123045921326, ewa inertia: 0.34508194084062666\n",
      "Minibatch step 207/96230: mean batch inertia: 0.3287336826324463, ewa inertia: 0.3447421712745541\n",
      "Minibatch step 208/96230: mean batch inertia: 0.34895429015159607, ewa inertia: 0.34482971269853174\n",
      "Minibatch step 209/96230: mean batch inertia: 0.3466690480709076, ewa inertia: 0.3448679400236312\n",
      "Minibatch step 210/96230: mean batch inertia: 0.35313212871551514, ewa inertia: 0.34503969653554983\n",
      "Minibatch step 211/96230: mean batch inertia: 0.3472667336463928, ewa inertia: 0.34508598155399905\n",
      "Minibatch step 212/96230: mean batch inertia: 0.34194234013557434, ewa inertia: 0.34502064653989395\n",
      "Minibatch step 213/96230: mean batch inertia: 0.3429962992668152, ewa inertia: 0.34497857407041155\n",
      "Minibatch step 214/96230: mean batch inertia: 0.3320608139038086, ewa inertia: 0.34471010132484164\n",
      "Minibatch step 215/96230: mean batch inertia: 0.34316009283065796, ewa inertia: 0.3446778871460116\n",
      "Minibatch step 216/96230: mean batch inertia: 0.33265841007232666, ewa inertia: 0.34442808362212907\n",
      "Minibatch step 217/96230: mean batch inertia: 0.34019437432289124, ewa inertia: 0.34434009347949973\n",
      "Minibatch step 218/96230: mean batch inertia: 0.3385319709777832, ewa inertia: 0.344219381949441\n",
      "Minibatch step 219/96230: mean batch inertia: 0.32542771100997925, ewa inertia: 0.34382883038122053\n",
      "Minibatch step 220/96230: mean batch inertia: 0.34187740087509155, ewa inertia: 0.34378827337826184\n",
      "Minibatch step 221/96230: mean batch inertia: 0.33443087339401245, ewa inertia: 0.3435937964075822\n",
      "Minibatch step 222/96230: mean batch inertia: 0.34554120898246765, ewa inertia: 0.34363426992574586\n",
      "Minibatch step 223/96230: mean batch inertia: 0.3434637784957886, ewa inertia: 0.34363072656360677\n",
      "Minibatch step 224/96230: mean batch inertia: 0.341855525970459, ewa inertia: 0.34359383216620093\n",
      "Minibatch step 225/96230: mean batch inertia: 0.3460051417350769, ewa inertia: 0.343643946961028\n",
      "Minibatch step 226/96230: mean batch inertia: 0.34064996242523193, ewa inertia: 0.3435817222999295\n",
      "Minibatch step 227/96230: mean batch inertia: 0.34078094363212585, ewa inertia: 0.34352351308029844\n",
      "Minibatch step 228/96230: mean batch inertia: 0.3389566242694855, ewa inertia: 0.34342859839215295\n",
      "Minibatch step 229/96230: mean batch inertia: 0.33349093794822693, ewa inertia: 0.3432220617364547\n",
      "Minibatch step 230/96230: mean batch inertia: 0.34554967284202576, ewa inertia: 0.3432704370070954\n",
      "Minibatch step 231/96230: mean batch inertia: 0.336239755153656, ewa inertia: 0.34312431674815913\n",
      "Minibatch step 232/96230: mean batch inertia: 0.34057992696762085, ewa inertia: 0.34307143611704577\n",
      "Minibatch step 233/96230: mean batch inertia: 0.342525839805603, ewa inertia: 0.3430600968648986\n",
      "Minibatch step 234/96230: mean batch inertia: 0.3458845019340515, ewa inertia: 0.34311879711739884\n",
      "Minibatch step 235/96230: mean batch inertia: 0.34515196084976196, ewa inertia: 0.34316105282135845\n",
      "Minibatch step 236/96230: mean batch inertia: 0.3367290198802948, ewa inertia: 0.34302737441883263\n",
      "Minibatch step 237/96230: mean batch inertia: 0.33837172389030457, ewa inertia: 0.34293061497573357\n",
      "Minibatch step 238/96230: mean batch inertia: 0.34143611788749695, ewa inertia: 0.34289955450307036\n",
      "Minibatch step 239/96230: mean batch inertia: 0.34269610047340393, ewa inertia: 0.3428953260717295\n",
      "Minibatch step 240/96230: mean batch inertia: 0.3418252468109131, ewa inertia: 0.3428730863712378\n",
      "Minibatch step 241/96230: mean batch inertia: 0.3350119888782501, ewa inertia: 0.34270970739532286\n",
      "Minibatch step 242/96230: mean batch inertia: 0.34251126646995544, ewa inertia: 0.3427055831524681\n",
      "Minibatch step 243/96230: mean batch inertia: 0.336353600025177, ewa inertia: 0.3425735684434161\n",
      "Minibatch step 244/96230: mean batch inertia: 0.3461955189704895, ewa inertia: 0.34264884426443926\n",
      "Minibatch step 245/96230: mean batch inertia: 0.34628844261169434, ewa inertia: 0.3427244868641204\n",
      "Minibatch step 246/96230: mean batch inertia: 0.3393005132675171, ewa inertia: 0.34265332564264056\n",
      "Minibatch step 247/96230: mean batch inertia: 0.3477085828781128, ewa inertia: 0.34275839020275506\n",
      "Minibatch step 248/96230: mean batch inertia: 0.3420022428035736, ewa inertia: 0.3427426750194961\n",
      "Minibatch step 249/96230: mean batch inertia: 0.33346596360206604, ewa inertia: 0.34254987501764006\n",
      "Minibatch step 250/96230: mean batch inertia: 0.34475865960121155, ewa inertia: 0.3425957806896665\n",
      "Minibatch step 251/96230: mean batch inertia: 0.34361517429351807, ewa inertia: 0.3426169669786293\n",
      "Minibatch step 252/96230: mean batch inertia: 0.34446752071380615, ewa inertia: 0.34265542745751265\n",
      "Minibatch step 253/96230: mean batch inertia: 0.3337707817554474, ewa inertia: 0.34247077584653013\n",
      "Minibatch step 254/96230: mean batch inertia: 0.33840030431747437, ewa inertia: 0.34238617831158014\n",
      "Minibatch step 255/96230: mean batch inertia: 0.33773118257522583, ewa inertia: 0.34228943247717564\n",
      "Minibatch step 256/96230: mean batch inertia: 0.34695369005203247, ewa inertia: 0.3423863708024748\n",
      "Minibatch step 257/96230: mean batch inertia: 0.3404357433319092, ewa inertia: 0.34234583046840356\n",
      "Minibatch step 258/96230: mean batch inertia: 0.3387009799480438, ewa inertia: 0.3422700787116151\n",
      "Minibatch step 259/96230: mean batch inertia: 0.33525654673576355, ewa inertia: 0.34212431488248257\n",
      "Minibatch step 260/96230: mean batch inertia: 0.3469986915588379, ewa inertia: 0.34222562016082536\n",
      "Minibatch step 261/96230: mean batch inertia: 0.3483763337135315, ewa inertia: 0.34235345183856297\n",
      "Minibatch step 262/96230: mean batch inertia: 0.3366698622703552, ewa inertia: 0.34223532850476596\n",
      "Minibatch step 263/96230: mean batch inertia: 0.33886194229125977, ewa inertia: 0.3421652186523669\n",
      "Minibatch step 264/96230: mean batch inertia: 0.34537163376808167, ewa inertia: 0.3422318583064904\n",
      "Minibatch step 265/96230: mean batch inertia: 0.32333844900131226, ewa inertia: 0.34183919228669146\n",
      "Minibatch step 266/96230: mean batch inertia: 0.3418724834918976, ewa inertia: 0.3418398841853759\n",
      "Minibatch step 267/96230: mean batch inertia: 0.3393068015575409, ewa inertia: 0.34178723855338716\n",
      "Minibatch step 268/96230: mean batch inertia: 0.343143492937088, ewa inertia: 0.34181542589650143\n",
      "Minibatch step 269/96230: mean batch inertia: 0.3462767004966736, ewa inertia: 0.34190814558050253\n",
      "Minibatch step 270/96230: mean batch inertia: 0.3393716514110565, ewa inertia: 0.34185542904566907\n",
      "Minibatch step 271/96230: mean batch inertia: 0.33779293298721313, ewa inertia: 0.34177099726673726\n",
      "Minibatch step 272/96230: mean batch inertia: 0.3283291459083557, ewa inertia: 0.34149163221480994\n",
      "Minibatch step 273/96230: mean batch inertia: 0.33120226860046387, ewa inertia: 0.34127778603218356\n",
      "Minibatch step 274/96230: mean batch inertia: 0.34588295221328735, ewa inertia: 0.3413734962476157\n",
      "Minibatch step 275/96230: mean batch inertia: 0.32980990409851074, ewa inertia: 0.341133167483737\n",
      "Minibatch step 276/96230: mean batch inertia: 0.34808647632598877, ewa inertia: 0.341277679681796\n",
      "Minibatch step 277/96230: mean batch inertia: 0.33678215742111206, ewa inertia: 0.34118424822088245\n",
      "Minibatch step 278/96230: mean batch inertia: 0.33295756578445435, ewa inertia: 0.3410132712099956\n",
      "Minibatch step 279/96230: mean batch inertia: 0.3315834701061249, ewa inertia: 0.3408172895103911\n",
      "Minibatch step 280/96230: mean batch inertia: 0.32535243034362793, ewa inertia: 0.34049587982738067\n",
      "Minibatch step 281/96230: mean batch inertia: 0.3349514305591583, ewa inertia: 0.3403806482780629\n",
      "Minibatch step 282/96230: mean batch inertia: 0.3426322042942047, ewa inertia: 0.3404274428784938\n",
      "Minibatch step 283/96230: mean batch inertia: 0.33864274621009827, ewa inertia: 0.3403903511219978\n",
      "Minibatch step 284/96230: mean batch inertia: 0.3360879421234131, ewa inertia: 0.3403009331779024\n",
      "Minibatch step 285/96230: mean batch inertia: 0.3246476948261261, ewa inertia: 0.33997560836747387\n",
      "Minibatch step 286/96230: mean batch inertia: 0.3364228904247284, ewa inertia: 0.3399017714229864\n",
      "Minibatch step 287/96230: mean batch inertia: 0.3442634344100952, ewa inertia: 0.33999242085619286\n",
      "Minibatch step 288/96230: mean batch inertia: 0.3417399823665619, ewa inertia: 0.34002874082425927\n",
      "Minibatch step 289/96230: mean batch inertia: 0.3501914441585541, ewa inertia: 0.3402399545974971\n",
      "Minibatch step 290/96230: mean batch inertia: 0.3359110653400421, ewa inertia: 0.34014998630816307\n",
      "Minibatch step 291/96230: mean batch inertia: 0.3417103886604309, ewa inertia: 0.340182416504908\n",
      "Minibatch step 292/96230: mean batch inertia: 0.3396160900592804, ewa inertia: 0.3401706464136704\n",
      "Minibatch step 293/96230: mean batch inertia: 0.3461732268333435, ewa inertia: 0.34029539940683556\n",
      "Minibatch step 294/96230: mean batch inertia: 0.34671881794929504, ewa inertia: 0.3404288987743573\n",
      "Minibatch step 295/96230: mean batch inertia: 0.34391480684280396, ewa inertia: 0.3405013471940423\n",
      "Minibatch step 296/96230: mean batch inertia: 0.33925768733024597, ewa inertia: 0.3404754999284264\n",
      "Converged (lack of improvement in inertia) at step 296/96230\n",
      "Min cluster size: 15\n",
      "Max cluster size: 963\n",
      "Mean cluster size: 192.4609375\n",
      "Finding closest sentences to cluster centers\n",
      "................................Saved 512 samples to data/ddc_43_512.json\n"
     ]
    }
   ],
   "source": [
    "create_kmeans_subset_dataset(n_clusters, subset_samples, subset_embeds, name=f'atk_43_{n_clusters}')\n",
    "if n_clusters >= 8192:\n",
    "    create_kmeans_subset_dataset(2048, subset_samples, subset_embeds, name=f'atk_43_{2048}')\n",
    "if n_clusters >= 2048:\n",
    "    create_kmeans_subset_dataset(512, subset_samples, subset_embeds, name=f'atk_43_{512}')"
   ]
  },
  {
   "cell_type": "code",
   "execution_count": null,
   "metadata": {},
   "outputs": [],
   "source": []
  },
  {
   "cell_type": "code",
   "execution_count": null,
   "metadata": {},
   "outputs": [],
   "source": []
  },
  {
   "cell_type": "code",
   "execution_count": null,
   "metadata": {},
   "outputs": [],
   "source": []
  },
  {
   "cell_type": "code",
   "execution_count": null,
   "metadata": {},
   "outputs": [],
   "source": []
  },
  {
   "cell_type": "code",
   "execution_count": null,
   "metadata": {},
   "outputs": [],
   "source": []
  }
 ],
 "metadata": {
  "kernelspec": {
   "display_name": "Python 3",
   "language": "python",
   "name": "python3"
  },
  "language_info": {
   "codemirror_mode": {
    "name": "ipython",
    "version": 3
   },
   "file_extension": ".py",
   "mimetype": "text/x-python",
   "name": "python",
   "nbconvert_exporter": "python",
   "pygments_lexer": "ipython3",
   "version": "3.10.11"
  }
 },
 "nbformat": 4,
 "nbformat_minor": 2
}
